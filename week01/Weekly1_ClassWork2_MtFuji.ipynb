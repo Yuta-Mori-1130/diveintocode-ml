{
 "cells": [
  {
   "cell_type": "markdown",
   "metadata": {},
   "source": [
    "[課題のURL](https://diver.diveintocode.jp/curriculums/1399)"
   ]
  },
  {
   "cell_type": "markdown",
   "metadata": {},
   "source": [
    "# 【問題1】富士山を超える最小の折る回数"
   ]
  },
  {
   "cell_type": "markdown",
   "metadata": {},
   "source": [
    "厚さが「富士山(3776m)」を超えるのは何回紙を折った時か計算するプログラムを作成してください"
   ]
  },
  {
   "cell_type": "code",
   "execution_count": 34,
   "metadata": {
    "scrolled": true
   },
   "outputs": [
    {
     "name": "stdout",
     "output_type": "stream",
     "text": [
      "26\n"
     ]
    }
   ],
   "source": [
    "THICKNESS = 0.00008\n",
    "MT_FUJI_HIGH = 3776\n",
    "\n",
    "num_count = 0 #折った回数\n",
    "sum_folded_thickness = THICKNESS\n",
    "\n",
    "while sum_folded_thickness < MT_FUJI_HIGH:\n",
    "    num_count = num_count + 1\n",
    "    sum_folded_thickness = sum_folded_thickness + sum_folded_thickness\n",
    "#    print(num_count, sum_folded_thickness)\n",
    "\n",
    "print(num_count)"
   ]
  },
  {
   "cell_type": "markdown",
   "metadata": {},
   "source": [
    "# 【問題2】任意の厚さに対応した関数を作成"
   ]
  },
  {
   "cell_type": "markdown",
   "metadata": {},
   "source": [
    "距離を入力すると、何回折った時に超えるかを出力する関数を作成してください。引数として、折る前の厚さ \n",
    "t\n",
    "0\n",
    " も設定できるようにしましょう。\n",
    "\n",
    "この関数を利用して、「最も近い太陽以外の恒星」に到達するには紙を何回折る必要があるか計算してください。「最も近い太陽以外の恒星」の距離は調査してください。"
   ]
  },
  {
   "cell_type": "code",
   "execution_count": 35,
   "metadata": {},
   "outputs": [
    {
     "name": "stdout",
     "output_type": "stream",
     "text": [
      "69\n"
     ]
    }
   ],
   "source": [
    "# input:距離、折る前の厚さ t 0\n",
    "# output:折った回数\n",
    "# 最も近い太陽以外の恒星:プロキシマ・ケンタウリ, 4.243光年 = 4.01419e+16 = 4.01419 * 10^16\n",
    "\n",
    "KOUSE_DISTANCE = 4.01419e+16\n",
    "\n",
    "def func_fold_count(distance = 0, thickness = 0):\n",
    "    \n",
    "    num_count = 0 #折った回数\n",
    "    sum_folded_thickness = thickness\n",
    "\n",
    "    while sum_folded_thickness < distance:\n",
    "        num_count = num_count + 1\n",
    "        sum_folded_thickness = sum_folded_thickness + sum_folded_thickness\n",
    "    \n",
    "    return num_count\n",
    "\n",
    "print(func_fold_count(KOUSE_DISTANCE, THICKNESS))\n"
   ]
  },
  {
   "cell_type": "markdown",
   "metadata": {},
   "source": [
    "# 【問題3】必要な紙の長さ"
   ]
  },
  {
   "cell_type": "markdown",
   "metadata": {},
   "source": [
    "厚さ t0の紙をn回折るために必要な紙の長さLは以下の公式で求まります。\n",
    "\n",
    "$L = \\frac{\\pi t_{0}}{6}(2^n + 4)(2^n - 1)$\n",
    "\n",
    "この公式を利用して、実際に紙を折り任意の厚さに到達するために必要な紙の長さを求める関数を作成してください。\n",
    "\n",
    "そしてこれを使って「月」「富士山」「最も近い太陽以外の恒星」に届くために必要な紙の長さを求めてください。"
   ]
  },
  {
   "cell_type": "code",
   "execution_count": 36,
   "metadata": {},
   "outputs": [
    {
     "name": "stdout",
     "output_type": "stream",
     "text": [
      "月の場合の長さ： 324091944417078.12万キロメートル\n",
      "富士山の場合の長さ： 18864.63万キロメートル\n",
      "最も近い太陽以外の恒星の場合の長さ： 1459580360110034897459784712192.00万キロメートル\n"
     ]
    }
   ],
   "source": [
    "import math\n",
    "\n",
    "#print(math.pi)\n",
    "\n",
    "MOON_DISTANCE = 384400*1000\n",
    "\n",
    "def func_paper_length(thickeness=0 ,hold_count=0):\n",
    "\n",
    "    lenght = ((math.pi*thickeness)/6)*(2**hold_count + 4)*(2**hold_count - 1)\n",
    "\n",
    "    return lenght\n",
    "\n",
    "#　月の場合\n",
    "hold_count_moon = func_fold_count(MOON_DISTANCE, THICKNESS)\n",
    "length = func_paper_length(THICKNESS, hold_count_moon)\n",
    "\n",
    "print(\"月の場合の長さ： {:.2f}万キロメートル\".format(length/10000000))\n",
    "\n",
    "#　富士山の場合\n",
    "hold_count_mtfuji = func_fold_count(MT_FUJI_HIGH, THICKNESS)\n",
    "length = func_paper_length(THICKNESS, hold_count_mtfuji)\n",
    "\n",
    "print(\"富士山の場合の長さ： {:.2f}万キロメートル\".format(length/10000000))\n",
    "\n",
    "#  最も近い太陽以外の恒星\n",
    "hold_count_kouse = func_fold_count(KOUSE_DISTANCE, THICKNESS)\n",
    "length = func_paper_length(THICKNESS, hold_count_kouse)\n",
    "\n",
    "print(\"最も近い太陽以外の恒星の場合の長さ： {:.2f}万キロメートル\".format(length/10000000))\n"
   ]
  },
  {
   "cell_type": "code",
   "execution_count": null,
   "metadata": {},
   "outputs": [],
   "source": []
  }
 ],
 "metadata": {
  "kernelspec": {
   "display_name": "Python 3",
   "language": "python",
   "name": "python3"
  },
  "language_info": {
   "codemirror_mode": {
    "name": "ipython",
    "version": 3
   },
   "file_extension": ".py",
   "mimetype": "text/x-python",
   "name": "python",
   "nbconvert_exporter": "python",
   "pygments_lexer": "ipython3",
   "version": "3.7.0"
  }
 },
 "nbformat": 4,
 "nbformat_minor": 2
}
