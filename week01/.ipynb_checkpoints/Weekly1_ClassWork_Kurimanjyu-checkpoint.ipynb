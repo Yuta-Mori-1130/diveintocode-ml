{
 "cells": [
  {
   "cell_type": "markdown",
   "metadata": {},
   "source": [
    "[課題のURL](https://diver.diveintocode.jp/curriculums/1406)"
   ]
  },
  {
   "cell_type": "markdown",
   "metadata": {},
   "source": [
    "# 【問題】栗まんじゅうが太陽系を覆う日"
   ]
  },
  {
   "cell_type": "markdown",
   "metadata": {},
   "source": [
    "1個の栗まんじゅうにバイバインを振りかけた場合、太陽系が栗まんじゅうで覆われるのは何分後でしょうか。\n",
    "これを計算するプログラムを作成してください。\n",
    "栗まんじゅうや太陽系の体積を調査した上で仮定して計算してください。栗まんじゅうの隙間や重力などは考えず、問題を単純化して構いません。"
   ]
  },
  {
   "cell_type": "markdown",
   "metadata": {},
   "source": [
    "[参考情報のURL](https://www.sekkachi.com/entry/bibin_consideration)"
   ]
  },
  {
   "cell_type": "code",
   "execution_count": 8,
   "metadata": {
    "scrolled": true
   },
   "outputs": [
    {
     "name": "stdout",
     "output_type": "stream",
     "text": [
      " 1405分後に覆われる\n"
     ]
    },
    {
     "data": {
      "image/png": "[encoded data removed]",
      "text/plain": [
       "<Figure size 432x288 with 1 Axes>"
      ]
     },
     "metadata": {
      "needs_background": "light"
     },
     "output_type": "display_data"
    }
   ],
   "source": [
    "VOL_OBJECT = 10**(-4) # バイバインをふりかける対象物、ここでは栗饅頭(m^3)\n",
    "VOL_CAPACITY = 3*10**80 # 対象を保存する空間のキャパシティ、ここでは太陽系(m^3)\n",
    "\n",
    "#空間が一杯になる時間を求める関数\n",
    "#5分ごとに分裂する\n",
    "def func_complete_time( vol = 0, capa_space = 0):\n",
    "\n",
    "    time = 0\n",
    "    \n",
    "    # 分裂する前の値で初期化する\n",
    "    list_vol = [vol]\n",
    "    list_time = [time]\n",
    "    \n",
    "    # 1回目以降の分裂処理\n",
    "    while vol < capa_space:\n",
    "        vol = vol *2\n",
    "        list_vol.append(vol)\n",
    "        \n",
    "        time = time + 5\n",
    "        list_time.append(time)\n",
    "\n",
    "    return time, list_time, list_vol\n",
    "\n",
    "time, list_time, list_vol = func_complete_time(VOL_OBJECT, VOL_CAPACITY)\n",
    "\n",
    "print(\" {}分後に覆われる\".format(time))\n",
    "\n",
    "#print(list_time)\n",
    "#print(list_vol)\n",
    "\n",
    "\"\"\"\n",
    "グラフを表示する。タイトルと軸ラベル名付き。\n",
    "\"\"\"\n",
    "import matplotlib.pyplot as plt\n",
    "%matplotlib inline\n",
    "\n",
    "plt.title(\"volume of kurimanzyu\")\n",
    "plt.xlabel(\"minutes\")\n",
    "plt.ylabel(\"volume[m^3]\")\n",
    "plt.plot(list_time, list_vol) # 「リスト名」のところにリストの変数名を入れる\n",
    "plt.show()\n"
   ]
  },
  {
   "cell_type": "code",
   "execution_count": null,
   "metadata": {},
   "outputs": [],
   "source": []
  }
 ],
 "metadata": {
  "kernelspec": {
   "display_name": "Python 3",
   "language": "python",
   "name": "python3"
  },
  "language_info": {
   "codemirror_mode": {
    "name": "ipython",
    "version": 3
   },
   "file_extension": ".py",
   "mimetype": "text/x-python",
   "name": "python",
   "nbconvert_exporter": "python",
   "pygments_lexer": "ipython3",
   "version": "3.7.0"
  }
 },
 "nbformat": 4,
 "nbformat_minor": 2
}
