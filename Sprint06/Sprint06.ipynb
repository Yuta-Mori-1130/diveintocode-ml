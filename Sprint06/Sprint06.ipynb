{
 "cells": [
  {
   "cell_type": "markdown",
   "metadata": {},
   "source": [
    "[課題のURL](https://https://diver.diveintocode.jp/curriculums/1648)"
   ]
  },
  {
   "cell_type": "markdown",
   "metadata": {},
   "source": [
    "# Sprint 機械学習スクラッチ 決定木"
   ]
  },
  {
   "cell_type": "markdown",
   "metadata": {},
   "source": [
    "機械学習スクラッチ入門のSprintで用意したシンプルデータセット2の2値分類に対してスクラッチ実装の学習と推定を行なってください。"
   ]
  },
  {
   "cell_type": "code",
   "execution_count": 162,
   "metadata": {},
   "outputs": [],
   "source": [
    "import math\n",
    "import numpy as np\n",
    "import pandas as pd\n",
    "\n",
    "import matplotlib.pyplot as plt\n",
    "import matplotlib.animation as animation\n",
    "import statsmodels.api as sm\n",
    "\n",
    "from sklearn.model_selection import train_test_split\n",
    "from sklearn.metrics import accuracy_score, precision_score, recall_score, f1_score, confusion_matrix\n",
    "\n",
    "from collections import Counter"
   ]
  },
  {
   "cell_type": "code",
   "execution_count": 163,
   "metadata": {},
   "outputs": [],
   "source": [
    "X = np.array([[-0.44699 , -2.8073  ],[-1.4621  , -2.4586  ],\n",
    "       [ 0.10645 ,  1.9242  ],[-3.5944  , -4.0112  ],\n",
    "       [-0.9888  ,  4.5718  ],[-3.1625  , -3.9606  ],\n",
    "       [ 0.56421 ,  0.72888 ],[-0.60216 ,  8.4636  ],\n",
    "       [-0.61251 , -0.75345 ],[-0.73535 , -2.2718  ],\n",
    "       [-0.80647 , -2.2135  ],[ 0.86291 ,  2.3946  ],\n",
    "       [-3.1108  ,  0.15394 ],[-2.9362  ,  2.5462  ],\n",
    "       [-0.57242 , -2.9915  ],[ 1.4771  ,  3.4896  ],\n",
    "       [ 0.58619 ,  0.37158 ],[ 0.6017  ,  4.3439  ],\n",
    "       [-2.1086  ,  8.3428  ],[-4.1013  , -4.353   ],\n",
    "       [-1.9948  , -1.3927  ],[ 0.35084 , -0.031994],\n",
    "       [ 0.96765 ,  7.8929  ],[-1.281   , 15.6824  ],\n",
    "       [ 0.96765 , 10.083   ],[ 1.3763  ,  1.3347  ],\n",
    "       [-2.234   , -2.5323  ],[-2.9452  , -1.8219  ],\n",
    "       [ 0.14654 , -0.28733 ],[ 0.5461  ,  5.8245  ],\n",
    "       [-0.65259 ,  9.3444  ],[ 0.59912 ,  5.3524  ],\n",
    "       [ 0.50214 , -0.31818 ],[-3.0603  , -3.6461  ],\n",
    "       [-6.6797  ,  0.67661 ],[-2.353   , -0.72261 ],\n",
    "       [ 1.1319  ,  2.4023  ],[-0.12243 ,  9.0162  ],\n",
    "       [-2.5677  , 13.1779  ],[ 0.057313,  5.4681  ]])\n",
    "y = np.array([0, 0, 0, 0, 0, 0, 0, 0, 0, 0, 0, 0, 0, 0, 0, 0, 0, 0, 0, 0, 1, 1,\n",
    "       1, 1, 1, 1, 1, 1, 1, 1, 1, 1, 1, 1, 1, 1, 1, 1, 1, 1])"
   ]
  },
  {
   "cell_type": "code",
   "execution_count": 164,
   "metadata": {},
   "outputs": [],
   "source": [
    "X_train, X_test, y_train, y_test = train_test_split(X, y, test_size=0.25, random_state=0)"
   ]
  },
  {
   "cell_type": "markdown",
   "metadata": {},
   "source": [
    "# 【問題1】不純度を求める関数"
   ]
  },
  {
   "cell_type": "markdown",
   "metadata": {},
   "source": [
    "ノード の ジニ不純度 を計算する関数を作成してください。  \n",
    "ノード tに対するジニ不純度 I(t)は以下の数式で求まります。  \n",
    "クラスが混じり合っているほどジニ不純度は高くなります。  "
   ]
  },
  {
   "cell_type": "markdown",
   "metadata": {},
   "source": [
    "$I(t) = 1-\\sum_{i=1}^{K}P^2(C_i|t) = 1-\\sum_{i=1}^{K}(\\frac{N_{t,i}}{N_{t,all}})^{2}$"
   ]
  },
  {
   "cell_type": "code",
   "execution_count": 145,
   "metadata": {},
   "outputs": [],
   "source": [
    "def calc_gini(y):\n",
    "        \"\"\"\n",
    "        不純度を求める\n",
    "        Parameters\n",
    "        ----------\n",
    "        y : 次の形のndarray, shape (n_samples, )\n",
    "            訓練データの正解値\n",
    "        \"\"\"\n",
    "        \n",
    "        label = np.unique(y)\n",
    "        n_samples = y.shape[0]\n",
    "        sum_p = 0.0\n",
    "        \n",
    "        for c in label:\n",
    "            sum_p = sum_p + (len(y[y == c]) / n_samples) ** 2.0\n",
    "\n",
    "        i_t = 1 - sum_p\n",
    "        \n",
    "        return i_t\n"
   ]
  },
  {
   "cell_type": "code",
   "execution_count": 146,
   "metadata": {},
   "outputs": [
    {
     "name": "stdout",
     "output_type": "stream",
     "text": [
      "0.5\n"
     ]
    }
   ],
   "source": [
    "# クラス1:サンプル数15, クラス2:サンプル数15\n",
    "y_test = np.concatenate([np.zeros(15), np.ones(15)], 0)\n",
    "#print(y_test_1)\n",
    "print(calc_gini(y_test))"
   ]
  },
  {
   "cell_type": "code",
   "execution_count": 147,
   "metadata": {},
   "outputs": [
    {
     "name": "stdout",
     "output_type": "stream",
     "text": [
      "0.6666666666666667\n"
     ]
    }
   ],
   "source": [
    "# クラス1:サンプル数15, クラス2:サンプル数15, クラス3:サンプル数15 → ジニ不純度0.667\n",
    "y_test = np.concatenate([np.zeros(15), np.ones(15), np.full(15, 2)], 0)\n",
    "#print(y_test_2)\n",
    "print(calc_gini(y_test))"
   ]
  },
  {
   "cell_type": "code",
   "execution_count": 148,
   "metadata": {},
   "outputs": [
    {
     "name": "stdout",
     "output_type": "stream",
     "text": [
      "0.48\n"
     ]
    }
   ],
   "source": [
    "# クラス1:サンプル数18, クラス2:サンプル数12 → ジニ不純度0.480\n",
    "y_test = np.concatenate([np.zeros(18), np.ones(12)], 0)\n",
    "#y_test = np.concatenate([np.zeros(7), np.ones(1)], 0)\n",
    "#print(y_test_2)\n",
    "print(calc_gini(y_test))"
   ]
  },
  {
   "cell_type": "code",
   "execution_count": 149,
   "metadata": {},
   "outputs": [
    {
     "name": "stdout",
     "output_type": "stream",
     "text": [
      "0.0\n"
     ]
    }
   ],
   "source": [
    "# クラス1:サンプル数30, クラス2:サンプル数0 → ジニ不純度0.000\n",
    "y_test = np.concatenate([np.zeros(30)], 0)\n",
    "#print(y_test_2)\n",
    "print(calc_gini(y_test))"
   ]
  },
  {
   "cell_type": "markdown",
   "metadata": {},
   "source": [
    "# 【問題2】情報利得を求める関数"
   ]
  },
  {
   "cell_type": "markdown",
   "metadata": {},
   "source": [
    "次に、ノード間の 情報利得 を計算する関数を作成してください。  \n",
    "問題1で作成したジニ不純度 $I(t)$ を計算する関数を呼び出して使います。  \n",
    "情報利得$IG$は以下の数式で求まります。うまく分けられている時ほど情報利得は大きくなります。  \n",
    "  \n",
    "ここで分岐は2つのみであるため、分岐先を「左側のノード・右側のノード」と呼びます。\n"
   ]
  },
  {
   "cell_type": "markdown",
   "metadata": {},
   "source": [
    "$IG(p) = I(p)-\\frac{N_{left,all}}{N_{p,all}}I(left)-\\frac{N_{right,all}}{N_{p,all}}I(right)$"
   ]
  },
  {
   "cell_type": "code",
   "execution_count": 150,
   "metadata": {},
   "outputs": [],
   "source": [
    "def get_information_gain(y, y_node_left, y_node_right):\n",
    "        \"\"\"\n",
    "        情報利得を求める\n",
    "        Parameters\n",
    "        ----------\n",
    "        X : 次の形のndarray, shape (n_samples, n_features)\n",
    "            訓練データの特徴量\n",
    "        y_node_left : 次の形のndarray, *** (, )\n",
    "        y_node_right: 次の形のndarray, *** (, )\n",
    "        \"\"\"\n",
    "        y_node_main_p = calc_gini(y)\n",
    "        y_node_left_p = calc_gini(y_node_left)\n",
    "        y_node_right_p = calc_gini(y_node_right)\n",
    "        \n",
    "        information_gain = y_node_main_p - len(y_node_left)/len(y)*y_node_left_p - len(y_node_right)/len(y)*y_node_right_p\n",
    "        \n",
    "        return information_gain"
   ]
  },
  {
   "cell_type": "code",
   "execution_count": 151,
   "metadata": {},
   "outputs": [
    {
     "data": {
      "text/plain": [
       "0.125"
      ]
     },
     "execution_count": 151,
     "metadata": {},
     "output_type": "execute_result"
    }
   ],
   "source": [
    "# root クラス1:40, クラス2:40\n",
    "y_test = np.concatenate([np.zeros(40), np.ones(40)], 0)\n",
    "# 左ノード クラス1:30, クラス2:10\n",
    "y_test_left = np.concatenate([np.zeros(30), np.ones(10)], 0)\n",
    "# 右ノード クラス1:10, クラス2:30\n",
    "y_test_right = np.concatenate([np.zeros(10), np.ones(30)], 0)\n",
    "\n",
    "get_information_gain(y_test, y_test_left, y_test_right)"
   ]
  },
  {
   "cell_type": "code",
   "execution_count": 152,
   "metadata": {},
   "outputs": [
    {
     "data": {
      "text/plain": [
       "0.16666666666666669"
      ]
     },
     "execution_count": 152,
     "metadata": {},
     "output_type": "execute_result"
    }
   ],
   "source": [
    "# root クラス1:40, クラス2:40\n",
    "y_test = np.concatenate([np.zeros(40), np.ones(40)], 0)\n",
    "# 左ノード クラス1:30, クラス2:10\n",
    "y_test_left = np.concatenate([np.zeros(20), np.ones(40)], 0)\n",
    "# 右ノード クラス1:10, クラス2:30\n",
    "y_test_right = np.concatenate([np.zeros(20), np.ones(0)], 0)\n",
    "\n",
    "get_information_gain(y_test, y_test_left, y_test_right)"
   ]
  },
  {
   "cell_type": "markdown",
   "metadata": {},
   "source": [
    "# 【問題3】学習"
   ]
  },
  {
   "cell_type": "markdown",
   "metadata": {},
   "source": [
    "空間の分割を行い、決定木のグラフを生成するコードを作成してください。  \n",
    "今は深さ1の決定木なので、分割を1回だけ行います。  \n",
    "ここでグラフを生成するとは、1回の分割の際の条件としてどの特徴量がいくつ以上の時とするかを求めるということです。  \n",
    "\n",
    "訓練データに対して全ての組み合わせの分割を行い、その中でノード間の情報利得が最大となる分割をそのノードの分割基準として記録します。\n",
    "\n",
    "クラスが混ざらない不純度が0のノード、または指定された深さのノードが 葉ノード となります。  \n",
    "葉ノードにはクラスを記録しておき、これを推定時に分類するクラスとします。  \n",
    "クラスが混ざらない場合はそのままのクラスを記録し、混ざっている場合は多数決により決めます。 \n",
    " "
   ]
  },
  {
   "cell_type": "code",
   "execution_count": 213,
   "metadata": {},
   "outputs": [],
   "source": [
    "# 【問4】fitを参照"
   ]
  },
  {
   "cell_type": "markdown",
   "metadata": {},
   "source": [
    "# 【問題4】推定"
   ]
  },
  {
   "cell_type": "markdown",
   "metadata": {},
   "source": [
    "推定する仕組みを実装してください。  \n",
    "ScratchDecesionTreeClassifierDepth1クラスの雛形に含まれるpredictメソッドに書き加えてください。  \n",
    "\n",
    "入力されたデータの値を学習した条件で判定していき、どの葉ノードに到達するかを見ます。  \n",
    "葉ノードにはクラスが記録されているので、これが推定値となります。  "
   ]
  },
  {
   "cell_type": "code",
   "execution_count": 212,
   "metadata": {},
   "outputs": [],
   "source": [
    "# 【問5】predictを参照"
   ]
  },
  {
   "cell_type": "markdown",
   "metadata": {},
   "source": [
    "# 【問題5】学習と推定"
   ]
  },
  {
   "cell_type": "markdown",
   "metadata": {},
   "source": [
    "機械学習スクラッチ入門のSprintで用意したシンプルデータセット2の2値分類に対してスクラッチ実装の学習と推定を行なってください。  \n",
    "scikit-learnによる実装と比べ、正しく動いているかを確認してください。  \n",
    "AccuracyやPrecision、Recallなどの指標値はscikit-learnを使用してください。  \n",
    "\n",
    "→閾値は異なるが、分割後のgini不順度が一致することを確認した。   \n",
    "また、精度も同等であることを確認した。  "
   ]
  },
  {
   "cell_type": "code",
   "execution_count": 207,
   "metadata": {},
   "outputs": [],
   "source": [
    "class ScratchDecesionTreeClassifierDepth1():\n",
    "    \"\"\"\n",
    "    深さ1の決定木分類器のスクラッチ実装\n",
    "    Parameters\n",
    "    ----------\n",
    "    verbose : bool\n",
    "      学習過程を出力する場合はTrue\n",
    "    \"\"\"\n",
    "    def __init__(self, max_depth=1, verbose=False):\n",
    "        # ハイパーパラメータを属性として記録\n",
    "        \n",
    "        self.verbose = verbose\n",
    "        self.max_depth = max_depth\n",
    "        \n",
    "    def _calc_gini(self, y):\n",
    "        \"\"\"\n",
    "        不純度を求める\n",
    "        Parameters\n",
    "        ----------\n",
    "        y : 次の形のndarray, shape (n_samples, )\n",
    "            訓練データの正解値\n",
    "        \"\"\"\n",
    "        labels = np.unique(y)\n",
    "        n_samples = y.shape[0]\n",
    "        sum_p = 0.0\n",
    "        \n",
    "        for c in labels:\n",
    "            sum_p = sum_p + (len(y[y == c]) / n_samples) ** 2.0\n",
    "\n",
    "        i_t = 1 - sum_p\n",
    "        \n",
    "        return i_t\n",
    "    \n",
    "    def _get_information_gain(self, y, y_node_left, y_node_right):\n",
    "        \"\"\"\n",
    "        情報利得を求める\n",
    "        Parameters\n",
    "        ----------\n",
    "        y : 次の形のndarray, shape (n_samples, 1)\n",
    "            ラベル\n",
    "        y_node_left : 次の形のndarray, shape(任意の値, 1)\n",
    "            閾値より大きい値\n",
    "        y_node_right: 次の形のndarray, shape(任意の値, 1)\n",
    "            閾値より小さい値\n",
    "        \"\"\"\n",
    "        y_node_main_p = calc_gini(y)\n",
    "        y_node_left_p = calc_gini(y_node_left)\n",
    "        y_node_right_p = calc_gini(y_node_right)\n",
    "        \n",
    "        information_gain = y_node_main_p - len(y_node_left)/len(y)*y_node_left_p - len(y_node_right)/len(y)*y_node_right_p\n",
    "        \n",
    "        return information_gain\n",
    "    \n",
    "    def fit(self, X, y):\n",
    "        \"\"\"\n",
    "        決定木分類器を学習する\n",
    "        Parameters\n",
    "        ----------\n",
    "        X : 次の形のndarray, shape (n_samples, n_features)\n",
    "            訓練データの特徴量\n",
    "        y : 次の形のndarray, shape (n_samples, )\n",
    "            訓練データの正解値\n",
    "        \"\"\"\n",
    "        if self.verbose:\n",
    "            #verboseをTrueにした際は学習過程を出力\n",
    "            print()\n",
    "        \n",
    "        # ラベルの取得\n",
    "        n_classes = np.unique(y)\n",
    "        \n",
    "        # 初期化\n",
    "        information_gain_best = 0.0\n",
    "        information_gain = 0.0\n",
    "        t_clf = 0.0\n",
    "        \n",
    "        # クラスが混ざらない不純度が0のノード(葉ノード)\n",
    "        # ノードを記憶する\n",
    "        if (self._calc_gini(y) == 0.0):\n",
    "            self._best_i_left_node = []\n",
    "            self._best_i_right_node = []\n",
    "            self._best_i_classes = 0\n",
    "            self._best_information_gain = information_gain_best\n",
    "            self._best_t_clf = t_clf\n",
    "            self._label = np.unique(y_train)[0]\n",
    "            \n",
    "            return\n",
    "        \n",
    "        # 訓練データの分割を行い、ノード間の情報利得が最大となる条件を求める\n",
    "        for i_classes in range(len(n_classes)):\n",
    "    \n",
    "            # データ数の取得\n",
    "            n_data = X.shape[0]\n",
    "    \n",
    "            # 初期化\n",
    "            i_left_node = []\n",
    "            i_right_node = []\n",
    "    \n",
    "            for i in range(n_data):\n",
    "                # 各特徴量を分類する閾値の取得(初期化)\n",
    "                t_clf = X[i][i_classes]\n",
    "        \n",
    "                # 閾値を用いて2分割する\n",
    "                i_left_node = np.where(X[:, i_classes] >= t_clf)\n",
    "                i_right_node = np.where(X[:, i_classes] < t_clf)\n",
    "\n",
    "                # 分割したものに対し、ノード間の情報利得を求める\n",
    "                information_gain = get_information_gain(y, y[i_left_node], y[i_right_node])\n",
    "                \n",
    "                # 情報利得が最大となる分割をそのノードの分割基準として記録\n",
    "                # 1回の分割の際の条件としてどの特徴量がいくつ以上の時とするかを求める\n",
    "                if information_gain > information_gain_best:\n",
    "                    information_gain_best = information_gain\n",
    "            \n",
    "                    # ノードを記憶する\n",
    "                    self._best_i_left_node = i_left_node\n",
    "                    self._best_i_right_node = i_right_node\n",
    "                    self._best_i_classes = i_classes\n",
    "                    self._best_information_gain = information_gain_best\n",
    "                    self._best_t_clf = t_clf\n",
    "\n",
    "        return\n",
    "        \n",
    "    def predict(self, X):\n",
    "        \"\"\"\n",
    "        決定木分類器を使いラベルを推定する\n",
    "        \"\"\"\n",
    "        # 分割した葉ノードを確認\n",
    "        #print(self._best_i_classes, self._best_information_gain, self._best_t_clf)\n",
    "        i_left_node = self._best_i_left_node\n",
    "        i_right_node = self._best_i_right_node\n",
    "        t_clf = self._best_t_clf\n",
    "        i_classes = self._best_i_classes\n",
    "        \n",
    "        # ラベルの設定を行う\n",
    "        # 左右の不純度を確認\n",
    "        gini_left = self._calc_gini(y_train[i_left_node])\n",
    "        gini_right = self._calc_gini(y_train[i_right_node])\n",
    "                    \n",
    "        # 子ノードのラベル数を取得, 辞書型(ex ({1: 7, 0: 1})\n",
    "        # データが最も多いものをラベルとして設定\n",
    "        if gini_left < gini_right:\n",
    "            # 左側のラベルを設定\n",
    "            dic_label = Counter(y_train[clf_sc._best_i_left_node])\n",
    "            label = max(n_node)\n",
    "\n",
    "            # 閾値を用いて2分割する\n",
    "            i_left_node = np.where(X[:, i_classes] > t_clf)\n",
    "            i_right_node = np.where(X[:, i_classes]<= t_clf)\n",
    "        \n",
    "            y_pred = np.zeros(X.shape[0])\n",
    "            y_pred[i_left_node] = label\n",
    "            \n",
    "        else:\n",
    "            # 右側のラベルを設定\n",
    "            dic_label = Counter(y_train[clf_sc._best_i_right_node])\n",
    "            label = max(n_node)\n",
    "\n",
    "            # 閾値を用いて2分割する\n",
    "            i_left_node = np.where(X[:, i_classes] >= t_clf)\n",
    "            i_right_node = np.where(X[:, i_classes] < t_clf)\n",
    "\n",
    "            y_pred = np.zeros(X.shape[0])\n",
    "            y_pred[i_left_node] = label\n",
    "        \n",
    "        return y_pred"
   ]
  },
  {
   "cell_type": "code",
   "execution_count": 216,
   "metadata": {},
   "outputs": [
    {
     "name": "stdout",
     "output_type": "stream",
     "text": [
      "class: 1 thethold: 5.3524\n",
      "Gini_left 0.21875\n",
      "Gini_right 0.4628099173553719\n"
     ]
    }
   ],
   "source": [
    "clf_sc = ScratchDecesionTreeClassifierDepth1()\n",
    "clf_sc.fit(X_train, y_train)\n",
    "\n",
    "print(\"class:\", clf_sc._best_i_classes, \"thethold:\", clf_sc._best_t_clf)\n",
    "print(\"Gini_left\", clf_sc._calc_gini(y_train[clf_sc._best_i_left_node]))\n",
    "print(\"Gini_right\", clf_sc._calc_gini(y_train[clf_sc._best_i_right_node]))\n",
    "#print(y_train[clf_sc._best_i_left_node])\n",
    "#print(y_train[clf_sc._best_i_right_node])"
   ]
  },
  {
   "cell_type": "code",
   "execution_count": 197,
   "metadata": {},
   "outputs": [
    {
     "name": "stdout",
     "output_type": "stream",
     "text": [
      "[1. 0. 0. 0. 0. 0. 0. 0. 1. 1.]\n"
     ]
    }
   ],
   "source": [
    "y_pred_sc = clf_sc.predict(X_test)\n",
    "print(y_pred_sc)"
   ]
  },
  {
   "cell_type": "code",
   "execution_count": 198,
   "metadata": {},
   "outputs": [
    {
     "name": "stdout",
     "output_type": "stream",
     "text": [
      "Accuracy（正解率） 0.6\n",
      "Precision（適合率） 0.6666666666666666\n",
      "Recall（再現率） 0.4\n",
      "F値 0.5\n"
     ]
    }
   ],
   "source": [
    "print(\"Accuracy（正解率）\", accuracy_score(y_test, y_pred_sc))\n",
    "print(\"Precision（適合率）\", precision_score(y_test, y_pred_sc))\n",
    "print(\"Recall（再現率）\", recall_score(y_test, y_pred_sc))\n",
    "print(\"F値\",f1_score(y_test, y_pred_sc))"
   ]
  },
  {
   "cell_type": "code",
   "execution_count": null,
   "metadata": {},
   "outputs": [],
   "source": []
  },
  {
   "cell_type": "markdown",
   "metadata": {},
   "source": [
    "# scikit-learnによる実装"
   ]
  },
  {
   "cell_type": "code",
   "execution_count": 199,
   "metadata": {},
   "outputs": [
    {
     "name": "stdout",
     "output_type": "stream",
     "text": [
      "[1 0 0 0 0 0 0 0 1 1]\n",
      "Accuracy（正解率） 0.6\n",
      "Precision（適合率） 0.6666666666666666\n",
      "Recall（再現率） 0.4\n",
      "F値 0.5\n"
     ]
    }
   ],
   "source": [
    "from sklearn import tree\n",
    "clf = tree.DecisionTreeClassifier(max_depth=1)\n",
    "clf = clf.fit(X_train, y_train)\n",
    "\n",
    "y_pred = clf.predict(X_test)\n",
    "\n",
    "print(y_pred)\n",
    "\n",
    "print(\"Accuracy（正解率）\", accuracy_score(y_test, y_pred))\n",
    "print(\"Precision（適合率）\", precision_score(y_test, y_pred))\n",
    "print(\"Recall（再現率）\", recall_score(y_test, y_pred))\n",
    "print(\"F値\",f1_score(y_test, y_pred))"
   ]
  },
  {
   "cell_type": "code",
   "execution_count": 200,
   "metadata": {},
   "outputs": [
    {
     "data": {
      "text/plain": [
       "'tree.png'"
      ]
     },
     "execution_count": 200,
     "metadata": {},
     "output_type": "execute_result"
    }
   ],
   "source": [
    "import graphviz\n",
    "from sklearn.tree import export_graphviz\n",
    "dot_data = export_graphviz(\n",
    "                        clf,\n",
    "                        class_names=[\"0\",\"1\"],\n",
    "                        feature_names=[\"0\",\"1\"],\n",
    "                        filled=True,\n",
    "                        rounded=True,\n",
    "                        out_file=None\n",
    "                    )\n",
    "graph = graphviz.Source(dot_data)\n",
    "graph.render(\"tree\", format=\"png\")"
   ]
  },
  {
   "cell_type": "code",
   "execution_count": 205,
   "metadata": {},
   "outputs": [
    {
     "data": {
      "image/png": "[encoded data removed]",
      "text/plain": [
       "<IPython.core.display.Image object>"
      ]
     },
     "execution_count": 205,
     "metadata": {},
     "output_type": "execute_result"
    }
   ],
   "source": [
    "from IPython.display import Image\n",
    "\n",
    "file_name = \"tree.png\"\n",
    "Image(file_name)"
   ]
  },
  {
   "cell_type": "markdown",
   "metadata": {},
   "source": [
    "# 【問題6】決定領域の可視化"
   ]
  },
  {
   "cell_type": "markdown",
   "metadata": {},
   "source": [
    "決定領域を可視化してください。"
   ]
  },
  {
   "cell_type": "code",
   "execution_count": 174,
   "metadata": {},
   "outputs": [],
   "source": [
    "import matplotlib.pyplot as plt\n",
    "from matplotlib.colors import ListedColormap\n",
    "import matplotlib.patches as mpatches\n",
    "def decision_region(X, y, model, step=0.01, title='decision region', xlabel='xlabel', ylabel='ylabel', target_names=['versicolor', 'virginica']):\n",
    "    \"\"\"\n",
    "    2値分類を2次元の特徴量で学習したモデルの決定領域を描く。\n",
    "    背景の色が学習したモデルによる推定値から描画される。\n",
    "    散布図の点は訓練データまたは検証データである。\n",
    "\n",
    "    Parameters\n",
    "    ----------------\n",
    "    X : ndarray, shape(n_samples, 2)\n",
    "        特徴量\n",
    "    y : ndarray, shape(n_samples,)\n",
    "        ラベル\n",
    "    model : object\n",
    "        学習したモデルのインスンタスを入れる\n",
    "    step : float, (default : 0.1)\n",
    "        推定値を計算する間隔を設定する\n",
    "    title : str\n",
    "        グラフのタイトルの文章を与える\n",
    "    xlabel, ylabel : str\n",
    "        軸ラベルの文章を与える\n",
    "    target_names= : list of str\n",
    "        凡例の一覧を与える\n",
    "    \"\"\"\n",
    "    # setting\n",
    "    scatter_color = ['red', 'blue']\n",
    "    contourf_color = ['pink', 'skyblue']\n",
    "    n_class = 2\n",
    "    # pred\n",
    "    mesh_f0, mesh_f1  = np.meshgrid(np.arange(np.min(X[:,0])-0.5, np.max(X[:,0])+0.5, step), np.arange(np.min(X[:,1])-0.5, np.max(X[:,1])+0.5, step))\n",
    "    mesh = np.c_[np.ravel(mesh_f0),np.ravel(mesh_f1)]\n",
    "    y_pred = model.predict(mesh).reshape(mesh_f0.shape)\n",
    "    # plot\n",
    "    plt.title(title)\n",
    "    plt.xlabel(xlabel)\n",
    "    plt.ylabel(ylabel)\n",
    "    plt.contourf(mesh_f0, mesh_f1, y_pred, n_class-1, cmap=ListedColormap(contourf_color))\n",
    "    plt.contour(mesh_f0, mesh_f1, y_pred, n_class-1, colors='y', linewidths=3, alpha=0.5)\n",
    "    for i, target in enumerate(set(y)):\n",
    "        plt.scatter(X[y==target][:, 0], X[y==target][:, 1], s=80, color=scatter_color[i], label=target_names[i], marker='o')\n",
    "    patches = [mpatches.Patch(color=scatter_color[i], label=target_names[i]) for i in range(n_class)]\n",
    "    plt.legend(handles=patches)\n",
    "    plt.legend()\n",
    "    plt.show()"
   ]
  },
  {
   "cell_type": "markdown",
   "metadata": {},
   "source": [
    "# scikit-learnによる実装"
   ]
  },
  {
   "cell_type": "code",
   "execution_count": 175,
   "metadata": {},
   "outputs": [
    {
     "data": {
      "image/png": "[encoded data removed]",
      "text/plain": [
       "<Figure size 432x288 with 1 Axes>"
      ]
     },
     "metadata": {
      "needs_background": "light"
     },
     "output_type": "display_data"
    }
   ],
   "source": [
    "decision_region(X_train, y_train, clf, step=0.01, title='A decision tree classifier', xlabel='feature_0', ylabel='feature_1', target_names=['0', '1'])"
   ]
  },
  {
   "cell_type": "markdown",
   "metadata": {},
   "source": [
    "# スクラッチ"
   ]
  },
  {
   "cell_type": "code",
   "execution_count": 176,
   "metadata": {},
   "outputs": [
    {
     "data": {
      "image/png": "[encoded data removed]",
      "text/plain": [
       "<Figure size 432x288 with 1 Axes>"
      ]
     },
     "metadata": {
      "needs_background": "light"
     },
     "output_type": "display_data"
    }
   ],
   "source": [
    "decision_region(X_train, y_train, clf_sc, step=0.01, title='A decision tree classifier', xlabel='feature_0', ylabel='feature_1', target_names=['0', '1'])"
   ]
  },
  {
   "cell_type": "code",
   "execution_count": null,
   "metadata": {},
   "outputs": [],
   "source": []
  }
 ],
 "metadata": {
  "kernelspec": {
   "display_name": "Python 3",
   "language": "python",
   "name": "python3"
  },
  "language_info": {
   "codemirror_mode": {
    "name": "ipython",
    "version": 3
   },
   "file_extension": ".py",
   "mimetype": "text/x-python",
   "name": "python",
   "nbconvert_exporter": "python",
   "pygments_lexer": "ipython3",
   "version": "3.7.0"
  }
 },
 "nbformat": 4,
 "nbformat_minor": 4
}
