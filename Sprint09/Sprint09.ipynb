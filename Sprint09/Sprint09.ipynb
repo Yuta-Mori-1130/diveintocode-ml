{
 "cells": [
  {
   "cell_type": "markdown",
   "metadata": {},
   "source": [
    "[課題のURL](https://diver.diveintocode.jp/curriculums/1876)"
   ]
  },
  {
   "cell_type": "markdown",
   "metadata": {},
   "source": [
    "# Sprint 深層学習スクラッチ ニューラルネットワーク"
   ]
  },
  {
   "cell_type": "code",
   "execution_count": 331,
   "metadata": {},
   "outputs": [],
   "source": [
    "import numpy as np\n",
    "from sklearn.model_selection import train_test_split\n",
    "from sklearn.metrics import accuracy_score"
   ]
  },
  {
   "cell_type": "markdown",
   "metadata": {},
   "source": [
    "* データセットをダウンロード"
   ]
  },
  {
   "cell_type": "code",
   "execution_count": 118,
   "metadata": {},
   "outputs": [],
   "source": [
    "from keras.datasets import mnist\n",
    "\n",
    "(X_train, y_train), (X_test, y_test) = mnist.load_data()"
   ]
  },
  {
   "cell_type": "code",
   "execution_count": 119,
   "metadata": {},
   "outputs": [
    {
     "name": "stdout",
     "output_type": "stream",
     "text": [
      "(60000, 28, 28)\n",
      "(10000, 28, 28)\n"
     ]
    }
   ],
   "source": [
    "print(X_train.shape) # (60000, 28, 28)\n",
    "print(X_test.shape) # (10000, 28, 28)\n",
    "#print(X_train[0].dtype) # uint8\n",
    "#print(X_train[0])"
   ]
  },
  {
   "cell_type": "markdown",
   "metadata": {},
   "source": [
    "* 平滑化"
   ]
  },
  {
   "cell_type": "code",
   "execution_count": 120,
   "metadata": {},
   "outputs": [],
   "source": [
    "X_train = X_train.reshape(-1, 784)\n",
    "X_test = X_test.reshape(-1, 784)"
   ]
  },
  {
   "cell_type": "markdown",
   "metadata": {},
   "source": [
    "* 画像データの可視化"
   ]
  },
  {
   "cell_type": "code",
   "execution_count": 5,
   "metadata": {},
   "outputs": [
    {
     "data": {
      "image/png": "[encoded data removed]",
      "text/plain": [
       "<Figure size 432x288 with 1 Axes>"
      ]
     },
     "metadata": {
      "needs_background": "light"
     },
     "output_type": "display_data"
    }
   ],
   "source": [
    "import matplotlib.pyplot as plt\n",
    "%matplotlib inline\n",
    "index = 0\n",
    "image = X_train[index].reshape(28,28)\n",
    "# X_train[index]: (784,)\n",
    "# image: (28, 28)\n",
    "plt.imshow(image, 'gray')\n",
    "plt.title('label : {}'.format(y_train[index]))\n",
    "plt.show()"
   ]
  },
  {
   "cell_type": "code",
   "execution_count": 6,
   "metadata": {},
   "outputs": [
    {
     "data": {
      "image/png": "[encoded data removed]",
      "text/plain": [
       "<Figure size 432x288 with 1 Axes>"
      ]
     },
     "metadata": {
      "needs_background": "light"
     },
     "output_type": "display_data"
    }
   ],
   "source": [
    "index = 0\n",
    "image = X_train[index].reshape(28,28)\n",
    "image = image.astype(np.float) # float型に変換\n",
    "image -= 105.35 # 意図的に負の小数値を作り出してみる\n",
    "# plt.imshow(image, 'gray')\n",
    "plt.imshow(image, 'gray', vmin = 0, vmax = 255)\n",
    "plt.title('label : {}'.format(y_train[index]))\n",
    "plt.show()\n",
    "# print(image) # 値を確認"
   ]
  },
  {
   "cell_type": "markdown",
   "metadata": {},
   "source": [
    "* 前処理"
   ]
  },
  {
   "cell_type": "markdown",
   "metadata": {},
   "source": [
    "画像は0から255のuint8型で表されますが、機械学習をする上では0から1のfloat型で扱うことになります。"
   ]
  },
  {
   "cell_type": "code",
   "execution_count": 121,
   "metadata": {},
   "outputs": [
    {
     "name": "stdout",
     "output_type": "stream",
     "text": [
      "1.0\n",
      "0.0\n"
     ]
    }
   ],
   "source": [
    "X_train = X_train.astype(np.float)\n",
    "X_test = X_test.astype(np.float)\n",
    "X_train /= 255\n",
    "X_test /= 255\n",
    "print(X_train.max()) # 1.0\n",
    "print(X_train.min()) # 0.0"
   ]
  },
  {
   "cell_type": "markdown",
   "metadata": {},
   "source": [
    "正解ラベルは0から9の整数ですが、ニューラルネットワークで多クラス分類を行う際には one-hot表現 に変換します。  \n",
    "scikit-learnのOneHotEncoderを使用したコードが以下です。  \n",
    "このone-hot表現による値はそのラベルである確率を示していることになるため、float型で扱います。  "
   ]
  },
  {
   "cell_type": "code",
   "execution_count": 122,
   "metadata": {},
   "outputs": [
    {
     "name": "stdout",
     "output_type": "stream",
     "text": [
      "(60000,)\n",
      "(60000, 10)\n",
      "float64\n"
     ]
    }
   ],
   "source": [
    "from sklearn.preprocessing import OneHotEncoder\n",
    "enc = OneHotEncoder(handle_unknown='ignore', sparse=False)\n",
    "y_train_one_hot = enc.fit_transform(y_train[:, np.newaxis])\n",
    "y_test_one_hot = enc.transform(y_test[:, np.newaxis])\n",
    "print(y_train.shape) # (60000,)\n",
    "print(y_train_one_hot.shape) # (60000, 10)\n",
    "print(y_train_one_hot.dtype) # float64"
   ]
  },
  {
   "cell_type": "code",
   "execution_count": 9,
   "metadata": {},
   "outputs": [
    {
     "data": {
      "text/plain": [
       "(60000, 10)"
      ]
     },
     "execution_count": 9,
     "metadata": {},
     "output_type": "execute_result"
    }
   ],
   "source": [
    "y_train_one_hot.shape"
   ]
  },
  {
   "cell_type": "code",
   "execution_count": 10,
   "metadata": {},
   "outputs": [
    {
     "data": {
      "text/plain": [
       "array([0., 0., 0., 0., 0., 1., 0., 0., 0., 0.])"
      ]
     },
     "execution_count": 10,
     "metadata": {},
     "output_type": "execute_result"
    }
   ],
   "source": [
    "y_train_one_hot[0]"
   ]
  },
  {
   "cell_type": "markdown",
   "metadata": {},
   "source": [
    "さらに、訓練データ6万枚の内2割を検証データとして分割してください。  \n",
    "訓練データが48000枚、検証データが12000枚となります。  "
   ]
  },
  {
   "cell_type": "code",
   "execution_count": 123,
   "metadata": {},
   "outputs": [
    {
     "name": "stdout",
     "output_type": "stream",
     "text": [
      "(48000, 784)\n",
      "(12000, 784)\n"
     ]
    }
   ],
   "source": [
    "X_train, X_val, y_train, y_val = train_test_split(X_train, y_train, test_size=0.2)\n",
    "print(X_train.shape) # (48000, 784)\n",
    "print(X_val.shape) # (12000, 784)"
   ]
  },
  {
   "cell_type": "code",
   "execution_count": 126,
   "metadata": {},
   "outputs": [],
   "source": [
    "y_train_one_hot = enc.fit_transform(y_train[:, np.newaxis])\n",
    "y_test_one_hot = enc.transform(y_test[:, np.newaxis])"
   ]
  },
  {
   "cell_type": "code",
   "execution_count": 124,
   "metadata": {},
   "outputs": [
    {
     "data": {
      "text/plain": [
       "array([7, 6, 4, ..., 9, 1, 2], dtype=uint8)"
      ]
     },
     "execution_count": 124,
     "metadata": {},
     "output_type": "execute_result"
    }
   ],
   "source": [
    "y_train"
   ]
  },
  {
   "cell_type": "code",
   "execution_count": 125,
   "metadata": {},
   "outputs": [
    {
     "name": "stdout",
     "output_type": "stream",
     "text": [
      "[0. 0. 0. 0. 0. 1. 0. 0. 0. 0.]\n",
      "[1. 0. 0. 0. 0. 0. 0. 0. 0. 0.]\n"
     ]
    }
   ],
   "source": [
    "print(y_train_one_hot[0])\n",
    "print(y_train_one_hot[1])"
   ]
  },
  {
   "cell_type": "markdown",
   "metadata": {},
   "source": [
    "# ニューラルネットワークスクラッチ"
   ]
  },
  {
   "cell_type": "markdown",
   "metadata": {},
   "source": [
    "今回は多クラス分類を行う3層のニューラルネットワークを作成します。"
   ]
  },
  {
   "cell_type": "markdown",
   "metadata": {},
   "source": [
    "* ミニバッチ処理"
   ]
  },
  {
   "cell_type": "markdown",
   "metadata": {},
   "source": [
    "ニューラルネットワークではデータを分割して入力する 確率的勾配降下法 が一般的です。  \n",
    "分割した際のひとかたまりを ミニバッチ 、そのサンプル数を バッチサイズ と呼びます。  "
   ]
  },
  {
   "cell_type": "markdown",
   "metadata": {},
   "source": [
    "今回はバッチサイズを20とします。  \n",
    "今回使う訓練データは48000枚ですから、48000÷20で2400回の更新を繰り返すことになります。  \n",
    "ニューラルネットワークではこれを2400回 イテレーション（iteration） すると呼びます。  \n",
    "訓練データを一度全て見ると1回の エポック（epoch） が終わったことになります。  \n",
    "このエポックを複数回繰り返し、学習が完了します。  "
   ]
  },
  {
   "cell_type": "markdown",
   "metadata": {},
   "source": [
    "これを実現するための簡素なイテレータを用意しました。  \n",
    "for文で呼び出すと、ミニバッチを取得できます。  "
   ]
  },
  {
   "cell_type": "code",
   "execution_count": 15,
   "metadata": {},
   "outputs": [],
   "source": [
    "class GetMiniBatch:\n",
    "    \"\"\"\n",
    "    ミニバッチを取得するイテレータ\n",
    "\n",
    "    Parameters\n",
    "    ----------\n",
    "    X : 次の形のndarray, shape (n_samples, n_features)\n",
    "      訓練データ\n",
    "    y : 次の形のndarray, shape (n_samples, 1)\n",
    "      正解値\n",
    "    batch_size : int\n",
    "      バッチサイズ\n",
    "    seed : int\n",
    "      NumPyの乱数のシード\n",
    "    \"\"\"\n",
    "    def __init__(self, X, y, batch_size = 20, seed=0):\n",
    "        self.batch_size = batch_size\n",
    "        np.random.seed(seed)\n",
    "        shuffle_index = np.random.permutation(np.arange(X.shape[0]))\n",
    "        self._X = X[shuffle_index]\n",
    "        self._y = y[shuffle_index]\n",
    "        self._stop = np.ceil(X.shape[0]/self.batch_size).astype(np.int)\n",
    "    def __len__(self):\n",
    "        return self._stop\n",
    "    def __getitem__(self,item):\n",
    "        p0 = item*self.batch_size\n",
    "        p1 = item*self.batch_size + self.batch_size\n",
    "        return self._X[p0:p1], self._y[p0:p1]        \n",
    "    def __iter__(self):\n",
    "        self._counter = 0\n",
    "        return self\n",
    "    def __next__(self):\n",
    "        if self._counter >= self._stop:\n",
    "            raise StopIteration()\n",
    "        p0 = self._counter*self.batch_size\n",
    "        p1 = self._counter*self.batch_size + self.batch_size\n",
    "        self._counter += 1\n",
    "        return self._X[p0:p1], self._y[p0:p1]"
   ]
  },
  {
   "cell_type": "code",
   "execution_count": 16,
   "metadata": {},
   "outputs": [
    {
     "name": "stdout",
     "output_type": "stream",
     "text": [
      "2400\n",
      "(array([[0., 0., 0., ..., 0., 0., 0.],\n",
      "       [0., 0., 0., ..., 0., 0., 0.],\n",
      "       [0., 0., 0., ..., 0., 0., 0.],\n",
      "       ...,\n",
      "       [0., 0., 0., ..., 0., 0., 0.],\n",
      "       [0., 0., 0., ..., 0., 0., 0.],\n",
      "       [0., 0., 0., ..., 0., 0., 0.]]), array([1, 6, 0, 0, 1, 5, 4, 7, 3, 4, 7, 2, 3, 1, 6, 7, 6, 4, 6, 1],\n",
      "      dtype=uint8))\n"
     ]
    }
   ],
   "source": [
    "get_mini_batch = GetMiniBatch(X_train, y_train, batch_size=20)\n",
    "print(len(get_mini_batch)) # 2400\n",
    "print(get_mini_batch[5]) # 5番目のミニバッチが取得できる\n",
    "for mini_X_train, mini_y_train in get_mini_batch:\n",
    "    # このfor文内でミニバッチが使える\n",
    "    pass"
   ]
  },
  {
   "cell_type": "code",
   "execution_count": 397,
   "metadata": {},
   "outputs": [],
   "source": [
    "class ScratchSimpleNeuralNetrowkClassifier():\n",
    "    \"\"\"\n",
    "    シンプルな三層ニューラルネットワーク分類器\n",
    "\n",
    "    Parameters\n",
    "    ----------\n",
    "\n",
    "    Attributes\n",
    "    ----------\n",
    "    \"\"\"\n",
    "    def __init__(self, epoch = 5, alpha = 0.001, verbose = True):\n",
    "        self.verbose = verbose\n",
    "        \n",
    "        self._epoch = epoch\n",
    "        self._batch_size = 20 # バッチサイズ\n",
    "        \n",
    "        self._n_features = 784 # 特徴量の数\n",
    "        self._n_nodes1 = 400 # 1層目のノード数\n",
    "        self._n_nodes2 = 200 # 2層目のノード数\n",
    "        self._n_output = 10 # 出力のクラス数（3層目のノード数）\n",
    "        \n",
    "        self._sigm = 1 # ガウス分布の標準偏差\n",
    "        self._alpha = alpha\n",
    "        \n",
    "    def _get_init_w(self, n_nodes0, n_nodes1, sigma=0.01):\n",
    "        # sigma # ガウス分布の標準偏差\n",
    "        np.random.seed(1)\n",
    "        w = sigma * np.random.randn(n_nodes0, n_nodes1)\n",
    "    \n",
    "        return w\n",
    "        \n",
    "    def _get_init_b(self, n_nodes, sigma=0.01):\n",
    "        # sigma # ガウス分布の標準偏差\n",
    "        np.random.seed(1)\n",
    "        b = sigma * np.random.randn(n_nodes)\n",
    "\n",
    "        return b\n",
    "    \n",
    "    def _encode_10(self, data):\n",
    "    \n",
    "        t = np.zeros((data.size, 10))\n",
    "        for i in range(data.size):\n",
    "            t[i, data[i]] = 1\n",
    "\n",
    "        return t\n",
    "    \n",
    "    def _func_activation(self, x):\n",
    "        sigmoid_range = 34.538776394910684\n",
    "\n",
    "        x = np.clip(x, -sigmoid_range, sigmoid_range)\n",
    "        \n",
    "        return 1.0/(1.0+np.exp(-x))\n",
    "\n",
    "    def _softmax(self, x):\n",
    "        # データ数\n",
    "        n = x.shape[0]\n",
    "\n",
    "        for i in range(n):\n",
    "            exp_x = np.exp(x[i])\n",
    "            sum_exp_x = np.sum(exp_x)\n",
    "            x[i] = exp_x/sum_exp_x\n",
    "\n",
    "        return x\n",
    "    \n",
    "    def _forward(self, X, w1, w2, w3, b1, b2, b3):\n",
    "        # 学習データを0層目(入力層)に設定\n",
    "        l0 = X\n",
    "\n",
    "        # 1層目\n",
    "        l1 = self._func_activation(np.dot(l0,w1) + b1 )\n",
    "\n",
    "        # 2層目\n",
    "        l2 = self._func_activation(np.dot(l1,w2) + b2 )\n",
    "\n",
    "        # 3層目(出力層)\n",
    "        l3 = self._softmax(np.dot(l2,w3) + b3 )\n",
    "\n",
    "        return l1, l2, l3\n",
    "\n",
    "    def _func_object(self, y, z):\n",
    "        # 0割回避のため(z=0を防ぐため)\n",
    "        delta = 1e-7\n",
    "        n = y.shape[0]\n",
    "\n",
    "        l = -1/n*np.sum(y*np.log(z+delta))\n",
    "\n",
    "        return l\n",
    "\n",
    "    def _back(self, X, y, w1, w2, w3, b1, b2, b3, l1, l2, l3, alpha = 0.001):\n",
    "        # 3層目\n",
    "        l_A3 = l3 - y\n",
    "        l_w3 = np.dot(l2.T, l_A3)\n",
    "        l_B3 = np.sum(l_A3, axis=0)\n",
    "\n",
    "        w3 = w3 - alpha*l_w3\n",
    "        b3 = b3 - alpha*l_B3\n",
    "\n",
    "        # 2層目\n",
    "        l_z2 = np.dot(l_A3, w3.T) # (batch_size, n_nodes2) = (20, 200)\n",
    "\n",
    "        l_A2 =  l_z2*((1 - self._func_activation(l2))*(self._func_activation(l2))) # (batch_size, n_nodes2) = (20, 200)\n",
    "        l_w2 = np.dot(l1.T, l_A2) # (n_nodes1, n_nodes2) = (400, 200)\n",
    "        l_B2 = np.sum(l_A2, axis=0) # (n_nodes2,) = (200, )\n",
    "\n",
    "        w2 = w2 - alpha*l_w2\n",
    "        b2 = b2 - alpha*l_B2\n",
    "\n",
    "        # 1層目\n",
    "        l_z1 = np.dot(l_A2, w2.T) # (batch_size, n_nodes1) = (20, 400)\n",
    "        l_A1 = l_z1*((1 - self._func_activation(l1))*(self._func_activation(l1))) # (batch_size, n_nodes1) = (20, 400)\n",
    "        l_w1 = np.dot(X.T, l_A1) #  (n_features, n_nodes1) = (784, 400)\n",
    "\n",
    "        l_B1 = np.sum(l_A1, axis=0) # (n_output,) = (400, ), n_outputではなく、n_node1?\n",
    "\n",
    "        w1 = w1 - alpha*l_w1\n",
    "        b1 = b1 - alpha*l_B1\n",
    "\n",
    "        return w1, w2, w3, b1, b2, b3\n",
    "    \n",
    "    def fit(self, X, y, X_val=None, y_val=None):\n",
    "        \"\"\"\n",
    "        ニューラルネットワーク分類器を学習する。\n",
    "\n",
    "        Parameters\n",
    "        ----------\n",
    "        X : 次の形のndarray, shape (n_samples, n_features)\n",
    "            訓練データの特徴量\n",
    "        y : 次の形のndarray, shape (n_samples, )\n",
    "            訓練データの正解値\n",
    "        X_val : 次の形のndarray, shape (n_samples, n_features)\n",
    "            検証データの特徴量\n",
    "        y_val : 次の形のndarray, shape (n_samples, )\n",
    "            検証データの正解値\n",
    "        \"\"\"\n",
    "        # 検証データ(X_val, y_val)の有無を確認\n",
    "        flag_val = True\n",
    "        if (X_val is None) and (y_val is None):\n",
    "            # 検証データが入力されなかった場合、検証データの保存と学習過程を表示しない\n",
    "            flag_val = False\n",
    "        \n",
    "        # 内部変数の初期設定(アトリビュート関連)\n",
    "        batch_size = self._batch_size\n",
    "        n_features = self._n_features\n",
    "        n_nodes1 = self._n_nodes1\n",
    "        n_nodes2 = self._n_nodes2\n",
    "        n_output = self._n_output\n",
    "        sigma = self._sigm\n",
    "        alpha = self._alpha\n",
    "        epoch = self._epoch\n",
    "        \n",
    "        # w,bの初期設定\n",
    "        w1 = self._get_init_w(n_features, n_nodes1, sigma)\n",
    "        w2 = self._get_init_w(n_nodes1, n_nodes2, sigma)\n",
    "        w3 = self._get_init_w(n_nodes2, n_output, sigma)\n",
    "\n",
    "        b1 = self._get_init_b(n_nodes1, sigma)\n",
    "        b2 = self._get_init_b(n_nodes2, sigma)\n",
    "        b3 = self._get_init_b(n_output, sigma)\n",
    "        \n",
    "        # 初期化\n",
    "        score = np.zeros(epoch)\n",
    "        accuracy = np.zeros(epoch)\n",
    "\n",
    "        score_val = np.zeros(epoch)\n",
    "        accuracy_val = np.zeros(epoch)\n",
    "        \n",
    "        for count_epoch in range(epoch):\n",
    "            get_mini_batch = GetMiniBatch(X, y, batch_size, seed=epoch)\n",
    "            \n",
    "            # 1 epoch\n",
    "            for mini_X_train, mini_y_train in get_mini_batch:\n",
    "                l1, l2, l3 = self._forward(mini_X_train, w1, w2, w3, b1, b2, b3)\n",
    "\n",
    "                mini_y_train_one_hot = self._encode_10(mini_y_train)\n",
    "\n",
    "                w1, w2, w3, b1, b2, b3 = self._back(mini_X_train, mini_y_train_one_hot, w1, w2, w3, b1, b2, b3, l1, l2, l3, alpha)\n",
    "\n",
    "            # 学習データの更新\n",
    "            # predictで利用するので、学習後すぐにパラメータを更新\n",
    "            self.w = [w1, w2, w3]\n",
    "            self.b = [b1, b2, b3]\n",
    "\n",
    "            # エポックごとの損失（交差エントロピー誤差）を記録\n",
    "            y_pred, y_pred_portion = self.predict(X_train)\n",
    "            \n",
    "            # 交差エントロピー誤差\n",
    "            score[count_epoch] = self._func_object(encode_10(y_train), y_pred_portion)\n",
    "            \n",
    "            # 正解率\n",
    "            accuracy[count_epoch] = accuracy_score(y_pred, y)\n",
    "            \n",
    "            if flag_val == True:\n",
    "                y_pred_val, y_pred_val_portion = self.predict(X_val)\n",
    "                score_val[count_epoch] = self._func_object(encode_10(y_val), y_pred_val_portion)\n",
    "                accuracy_val[count_epoch] = accuracy_score(y_pred_val, y_val)\n",
    "\n",
    "            if self.verbose:\n",
    "                #verboseをTrueにした際は学習過程などを出力する\n",
    "                if flag_val == True:\n",
    "                    print(\"epoch:\",(count_epoch+1),\"accuracy:\",accuracy[count_epoch], \"loss:\", score[count_epoch])\n",
    "                    print(\"epoch:\",(count_epoch+1),\"accuracy_val:\",accuracy_val[count_epoch], \"loss_val:\", score_val[count_epoch])\n",
    "                else:\n",
    "                    print(\"epoch:\",(count_epoch+1),\"accuracy:\",accuracy[count_epoch], \"loss:\", score[count_epoch])\n",
    "        \n",
    "            # 学習データの保存\n",
    "            self._score = score\n",
    "            self._accuracy = accuracy\n",
    "            self._score_val = score_val\n",
    "            self._accuracy_val = accuracy_val\n",
    "            \n",
    "    def predict(self, X):\n",
    "        \"\"\"\n",
    "        ニューラルネットワーク分類器を使い推定する。\n",
    "\n",
    "        Parameters\n",
    "        ----------\n",
    "        X : 次の形のndarray, shape (n_samples, n_features)\n",
    "            サンプル\n",
    "\n",
    "        Returns\n",
    "        -------\n",
    "            次の形のndarray, shape (n_samples, 1)\n",
    "            推定結果\n",
    "        \"\"\"\n",
    "        # w,bの初期設定\n",
    "        w1 = self.w[0]\n",
    "        w2 = self.w[1]\n",
    "        w3 = self.w[2]\n",
    "\n",
    "        b1 = self.b[0]\n",
    "        b2 = self.b[1]\n",
    "        b3 = self.b[2]\n",
    "        \n",
    "        l1, l2, l3 = self._forward(X, w1, w2, w3, b1, b2, b3)\n",
    "\n",
    "        portion = l3\n",
    "        label = np.argmax(l3, axis = 1)\n",
    "        \n",
    "        return label, l3"
   ]
  },
  {
   "cell_type": "markdown",
   "metadata": {},
   "source": [
    "* 学習  \n",
    "ニューラルネットワークの学習はフォワードプロパゲーションとバックプロパゲションの繰り返しになります。  "
   ]
  },
  {
   "cell_type": "markdown",
   "metadata": {},
   "source": [
    "# 【問題1】重みの初期値を決めるコードの作成"
   ]
  },
  {
   "cell_type": "markdown",
   "metadata": {},
   "source": [
    "ニューラルネットワークの各層の重みの初期値を決めるコードを作成してください。　　\n",
    "\n",
    "重みの初期値は様々な方法が提案されていますが、今回はガウス分布による単純な初期化を行います。バイアスに関しても同様です。　　\n",
    "\n",
    "以下のコードを参考にしてください。標準偏差の値sigmaはハイパーパラメータです。発展的な重みの初期化方法については次のSprintで扱います。　　"
   ]
  },
  {
   "cell_type": "code",
   "execution_count": 368,
   "metadata": {},
   "outputs": [],
   "source": [
    "n_features = 784 # 入力層\n",
    "n_nodes1 = 400 # 2層(ノード数)\n",
    "sigma = 0.01 # ガウス分布の標準偏差\n",
    "W1 = sigma * np.random.randn(n_features, n_nodes1)\n",
    "# W1: (784, 400)"
   ]
  },
  {
   "cell_type": "code",
   "execution_count": 139,
   "metadata": {},
   "outputs": [],
   "source": [
    "def get_init_w(n_nodes0, n_nodes1, sigma=0.01):\n",
    "    \n",
    "    # sigma # ガウス分布の標準偏差\n",
    "    np.random.seed(1)\n",
    "    w = sigma * np.random.randn(n_nodes0, n_nodes1)\n",
    "    \n",
    "    return w"
   ]
  },
  {
   "cell_type": "code",
   "execution_count": 146,
   "metadata": {},
   "outputs": [],
   "source": [
    "def get_init_b(n_nodes, sigma=0.01):\n",
    "    \n",
    "    np.random.seed(1)\n",
    "    b = sigma * np.random.randn(n_nodes)\n",
    "    #b = np.zeros(n_nodes)\n",
    "    \n",
    "    return b"
   ]
  },
  {
   "cell_type": "code",
   "execution_count": null,
   "metadata": {},
   "outputs": [],
   "source": []
  },
  {
   "cell_type": "markdown",
   "metadata": {},
   "source": [
    "# 【問題2】フォワードプロパゲーションの実装"
   ]
  },
  {
   "cell_type": "markdown",
   "metadata": {},
   "source": [
    "三層のニューラルネットワークの フォワードプロパゲーション を作成してください。  \n",
    "以下の説明ではノード数は1層目は400、2層目は200としますが、変更しても構いません。  "
   ]
  },
  {
   "cell_type": "markdown",
   "metadata": {},
   "source": [
    "各層の数式を以下に示します。  \n",
    "今回はそれぞれの記号が表す配列が、実装上どのようなndarrayのshapeになるかを併記してあります。  "
   ]
  },
  {
   "cell_type": "code",
   "execution_count": 21,
   "metadata": {},
   "outputs": [],
   "source": [
    "batch_size = 20 # バッチサイズ\n",
    "n_features = 784 # 特徴量の数\n",
    "n_nodes1 = 400 # 1層目のノード数\n",
    "n_nodes2 = 200 # 2層目のノード数\n",
    "n_output = 10 # 出力のクラス数（3層目のノード数）\n",
    "sigma = 1"
   ]
  },
  {
   "cell_type": "code",
   "execution_count": 277,
   "metadata": {},
   "outputs": [],
   "source": [
    "# 初期値の設定\n",
    "w1 = get_init_w(n_features, n_nodes1, sigma)\n",
    "w2 = get_init_w(n_nodes1, n_nodes2, sigma)\n",
    "w3 = get_init_w(n_nodes2, n_output, sigma)\n",
    "\n",
    "b1 = get_init_b(n_nodes1, 0)\n",
    "b2 = get_init_b(n_nodes2, 0)\n",
    "b3 = get_init_b(n_output, 0)"
   ]
  },
  {
   "cell_type": "code",
   "execution_count": 278,
   "metadata": {},
   "outputs": [
    {
     "name": "stdout",
     "output_type": "stream",
     "text": [
      "(784, 400) (400, 200) (200, 10)\n",
      "(400,) (200,) (10,)\n"
     ]
    }
   ],
   "source": [
    "print(w1.shape, w2.shape, w3.shape) # (784, 400) (400, 200) (200, 10)\n",
    "print(b1.shape, b2.shape, b3.shape) # (400,) (200,) (10,)"
   ]
  },
  {
   "cell_type": "code",
   "execution_count": null,
   "metadata": {},
   "outputs": [],
   "source": []
  },
  {
   "cell_type": "code",
   "execution_count": 51,
   "metadata": {},
   "outputs": [],
   "source": [
    "def encode_10(data):\n",
    "    \n",
    "    t = np.zeros((data.size, 10))\n",
    "    for i in range(data.size):\n",
    "        t[i, data[i]] = 1\n",
    "\n",
    "    return t"
   ]
  },
  {
   "cell_type": "code",
   "execution_count": 395,
   "metadata": {},
   "outputs": [],
   "source": [
    "# 活性化関数\n",
    "def func_activation(x):\n",
    "\n",
    "    return 1/(1+np.exp(-x))"
   ]
  },
  {
   "cell_type": "code",
   "execution_count": 41,
   "metadata": {},
   "outputs": [],
   "source": [
    "def softmax(x):\n",
    "    \n",
    "    # データ数\n",
    "    n = x.shape[0]\n",
    "    \n",
    "    for i in range(n):\n",
    "        exp_x = np.exp(x[i])\n",
    "        sum_exp_x = np.sum(exp_x)\n",
    "        x[i] = exp_x/sum_exp_x\n",
    "    \n",
    "    return x"
   ]
  },
  {
   "cell_type": "code",
   "execution_count": 396,
   "metadata": {},
   "outputs": [],
   "source": [
    "def forward(X, w1, w2, w3, b1, b2, b3):\n",
    "    # 学習データを0層目(入力層)に設定\n",
    "    l0 = X\n",
    "    \n",
    "    # 1層目\n",
    "    l1 = func_activation(np.dot(l0,w1) + b1 )\n",
    "    \n",
    "    # 2層目\n",
    "    l2 = func_activation(np.dot(l1,w2) + b2 )\n",
    "    \n",
    "    # 3層目(出力層)\n",
    "    l3 = func_activation(np.dot(l2,w3) + b3 )\n",
    "    \n",
    "    return l1, l2, l3"
   ]
  },
  {
   "cell_type": "code",
   "execution_count": 84,
   "metadata": {},
   "outputs": [
    {
     "name": "stdout",
     "output_type": "stream",
     "text": [
      "[[0. 0. 0. ... 0. 0. 0.]\n",
      " [0. 0. 0. ... 0. 0. 0.]\n",
      " [0. 0. 0. ... 0. 0. 0.]\n",
      " ...\n",
      " [0. 0. 0. ... 0. 0. 0.]\n",
      " [0. 0. 0. ... 0. 0. 0.]\n",
      " [0. 0. 0. ... 0. 0. 0.]]\n",
      "[1 1 8 0 6 4 0 4 6 1 6 4 8 8 6 0 3 5 0 5]\n"
     ]
    }
   ],
   "source": [
    "get_mini_batch = GetMiniBatch(X_train, y_train, batch_size=20)\n",
    "#print(len(get_mini_batch)) # 2400\n",
    "#print(get_mini_batch[5]) # 5番目のミニバッチが取得できる\n",
    "\n",
    "i_count = 0\n",
    "\n",
    "for mini_X_train, mini_y_train in get_mini_batch:\n",
    "    print(mini_X_train)\n",
    "    print(mini_y_train)\n",
    "\n",
    "    forward(mini_X_train, w1, w2, w3, b1, b2, b3)\n",
    "    \n",
    "    if i_count == 0:\n",
    "        break\n",
    "\n",
    "    i_count = i_count + 1"
   ]
  },
  {
   "cell_type": "code",
   "execution_count": 85,
   "metadata": {},
   "outputs": [
    {
     "data": {
      "text/plain": [
       "((20, 784), (20, 400), (20, 200), (20, 10))"
      ]
     },
     "execution_count": 85,
     "metadata": {},
     "output_type": "execute_result"
    }
   ],
   "source": [
    "l0.shape, l1.shape, l2.shape, l3.shape"
   ]
  },
  {
   "cell_type": "markdown",
   "metadata": {},
   "source": [
    "# 【問題3】交差エントロピー誤差の実装"
   ]
  },
  {
   "cell_type": "markdown",
   "metadata": {},
   "source": [
    "目的関数（損失関数）を作成します。\n",
    "\n",
    "多クラス分類の目的関数である交差エントロピー誤差 Lは次の数式です。"
   ]
  },
  {
   "cell_type": "markdown",
   "metadata": {},
   "source": [
    "$L = - \\frac{1}{n_b}\\sum_{j}^{n_b}\\sum_{k}^{n_c}y_{jk} log(z_{3\\_jk})$"
   ]
  },
  {
   "cell_type": "code",
   "execution_count": 199,
   "metadata": {},
   "outputs": [],
   "source": [
    "def func_object(y, z):\n",
    "    \n",
    "    # 0割回避のため(z=0を防ぐため)\n",
    "    delta = 1e-7\n",
    "    \n",
    "    n = y.shape[0]\n",
    "    \n",
    "    l = -1/n*np.sum(y*np.log(z+delta))\n",
    "    \n",
    "    return l"
   ]
  },
  {
   "cell_type": "code",
   "execution_count": null,
   "metadata": {},
   "outputs": [],
   "source": []
  },
  {
   "cell_type": "markdown",
   "metadata": {},
   "source": [
    "# 【問題4】バックプロパゲーションの実装"
   ]
  },
  {
   "cell_type": "markdown",
   "metadata": {},
   "source": [
    "三層のニューラルネットワークのバックプロパゲーションを作成してください。  \n",
    "確率的勾配降下法を行う部分です。  "
   ]
  },
  {
   "cell_type": "code",
   "execution_count": 141,
   "metadata": {},
   "outputs": [],
   "source": [
    "def back(X, y, w1, w2, w3, b1, b2, b3, l1, l2, l3, alpha = 0.001):\n",
    "    # 3層目\n",
    "    l_A3 = l3 - y\n",
    "    l_w3 = np.dot(l2.T, l_A3)\n",
    "    l_B3 = np.sum(l_A3, axis=0)\n",
    "    \n",
    "    w3 = w3 - alpha*l_w3\n",
    "    b3 = b3 - alpha*l_B3\n",
    "\n",
    "    # 2層目\n",
    "    l_z2 = np.dot(l_A3, w3.T) # (batch_size, n_nodes2) = (20, 200)\n",
    "\n",
    "    l_A2 =  l_z2*((1 - func_activation(l2))*(func_activation(l2))) # (batch_size, n_nodes2) = (20, 200)\n",
    "    l_w2 = np.dot(l1.T, l_A2) # (n_nodes1, n_nodes2) = (400, 200)\n",
    "    l_B2 = np.sum(l_A2, axis=0) # (n_nodes2,) = (200, )\n",
    "\n",
    "    w2 = w2 - alpha*l_w2\n",
    "    b2 = b2 - alpha*l_B2\n",
    "\n",
    "    # 1層目\n",
    "    l_z1 = np.dot(l_A2, w2.T) # (batch_size, n_nodes1) = (20, 400)\n",
    "    l_A1 = l_z1*((1 - func_activation(l1))*(func_activation(l1))) # (batch_size, n_nodes1) = (20, 400)\n",
    "    l_w1 = np.dot(X.T, l_A1) #  (n_features, n_nodes1) = (784, 400)\n",
    "\n",
    "    l_B1 = np.sum(l_A1, axis=0) # (n_output,) = (400, ), n_outputではなく、n_node1?\n",
    "\n",
    "    w1 = w1 - alpha*l_w1\n",
    "    b1 = b1 - alpha*l_B1\n",
    "    \n",
    "    return w1, w2, w3, b1, b2, b3"
   ]
  },
  {
   "cell_type": "code",
   "execution_count": null,
   "metadata": {},
   "outputs": [],
   "source": []
  },
  {
   "cell_type": "markdown",
   "metadata": {},
   "source": [
    "# 【問題5】推定"
   ]
  },
  {
   "cell_type": "markdown",
   "metadata": {},
   "source": [
    "推定を行うメソッドを作成してください。  \n",
    "\n",
    "フォワードプロパゲーションによって出力された10個の確率の中で、最も高いものはどれかを判定します。  "
   ]
  },
  {
   "cell_type": "code",
   "execution_count": 203,
   "metadata": {},
   "outputs": [],
   "source": [
    "def predict(X, w1, w2, w3, b1, b2, b3):\n",
    "\n",
    "    l1, l2, l3 = forward(X, w1, w2, w3, b1, b2, b3)\n",
    "    \n",
    "    portion = l3\n",
    "    label = np.argmax(l3, axis = 1)\n",
    "\n",
    "    return label, l3"
   ]
  },
  {
   "cell_type": "markdown",
   "metadata": {},
   "source": [
    "# 【問題6】学習と推定"
   ]
  },
  {
   "cell_type": "markdown",
   "metadata": {},
   "source": [
    "MNISTのデータを学習・推定し、Accuracyを計算してください  "
   ]
  },
  {
   "cell_type": "code",
   "execution_count": 400,
   "metadata": {
    "collapsed": true,
    "jupyter": {
     "outputs_hidden": true
    }
   },
   "outputs": [
    {
     "name": "stdout",
     "output_type": "stream",
     "text": [
      "epoch: 1 accuracy: 0.8427291666666666 loss: 0.7904242189263262\n",
      "epoch: 1 accuracy_val: 0.84275 loss_val: 0.8102345997627595\n",
      "epoch: 2 accuracy: 0.8729791666666666 loss: 0.6524063267639377\n",
      "epoch: 2 accuracy_val: 0.8668333333333333 loss_val: 0.6697784553376345\n",
      "epoch: 3 accuracy: 0.884 loss: 0.5909660459363885\n",
      "epoch: 3 accuracy_val: 0.8816666666666667 loss_val: 0.6127439537775116\n",
      "epoch: 4 accuracy: 0.8925208333333333 loss: 0.5146228151884149\n",
      "epoch: 4 accuracy_val: 0.8889166666666667 loss_val: 0.5370754399193296\n",
      "epoch: 5 accuracy: 0.8984791666666667 loss: 0.4646309178711798\n",
      "epoch: 5 accuracy_val: 0.8938333333333334 loss_val: 0.48269209193007295\n",
      "epoch: 6 accuracy: 0.9040833333333333 loss: 0.44471400951821743\n",
      "epoch: 6 accuracy_val: 0.8975833333333333 loss_val: 0.4635369250790023\n",
      "epoch: 7 accuracy: 0.9076041666666667 loss: 0.41918883941422164\n",
      "epoch: 7 accuracy_val: 0.9019166666666667 loss_val: 0.43934057289384054\n",
      "epoch: 8 accuracy: 0.9094166666666667 loss: 0.4051314739954192\n",
      "epoch: 8 accuracy_val: 0.9050833333333334 loss_val: 0.4274886628161553\n",
      "epoch: 9 accuracy: 0.9119583333333333 loss: 0.4011258607645232\n",
      "epoch: 9 accuracy_val: 0.90675 loss_val: 0.42777733908395976\n",
      "epoch: 10 accuracy: 0.9140625 loss: 0.40099872416787985\n",
      "epoch: 10 accuracy_val: 0.9101666666666667 loss_val: 0.43301240645278094\n",
      "epoch: 11 accuracy: 0.9160208333333333 loss: 0.39891838259299744\n",
      "epoch: 11 accuracy_val: 0.91025 loss_val: 0.43596058392096193\n",
      "epoch: 12 accuracy: 0.9164791666666666 loss: 0.3970384733036707\n",
      "epoch: 12 accuracy_val: 0.9116666666666666 loss_val: 0.4353589091189932\n",
      "epoch: 13 accuracy: 0.9176041666666667 loss: 0.3876808860597615\n",
      "epoch: 13 accuracy_val: 0.9130833333333334 loss_val: 0.42746203302256625\n",
      "epoch: 14 accuracy: 0.9194166666666667 loss: 0.3741504799719552\n",
      "epoch: 14 accuracy_val: 0.91325 loss_val: 0.41575971333386796\n",
      "epoch: 15 accuracy: 0.9203958333333333 loss: 0.36443143453152227\n",
      "epoch: 15 accuracy_val: 0.9133333333333333 loss_val: 0.40666886399871294\n",
      "epoch: 16 accuracy: 0.9217916666666667 loss: 0.3564000330691748\n",
      "epoch: 16 accuracy_val: 0.9140833333333334 loss_val: 0.39824504403627276\n",
      "epoch: 17 accuracy: 0.9237291666666667 loss: 0.3517622499192292\n",
      "epoch: 17 accuracy_val: 0.91525 loss_val: 0.3919457714373343\n",
      "epoch: 18 accuracy: 0.9242291666666667 loss: 0.3494176207894193\n",
      "epoch: 18 accuracy_val: 0.917 loss_val: 0.38878627297283574\n",
      "epoch: 19 accuracy: 0.9247291666666667 loss: 0.3454849398714141\n",
      "epoch: 19 accuracy_val: 0.9185833333333333 loss_val: 0.3857589355418407\n",
      "epoch: 20 accuracy: 0.9256041666666667 loss: 0.3396250175335059\n",
      "epoch: 20 accuracy_val: 0.9200833333333334 loss_val: 0.38176031138073313\n",
      "epoch: 21 accuracy: 0.926625 loss: 0.333960875911192\n",
      "epoch: 21 accuracy_val: 0.9195 loss_val: 0.3778989651602995\n",
      "epoch: 22 accuracy: 0.9265208333333333 loss: 0.3296894792076396\n",
      "epoch: 22 accuracy_val: 0.9205 loss_val: 0.37405115015330365\n",
      "epoch: 23 accuracy: 0.927625 loss: 0.32457904611687866\n",
      "epoch: 23 accuracy_val: 0.9216666666666666 loss_val: 0.3682400422684018\n",
      "epoch: 24 accuracy: 0.9291041666666666 loss: 0.31685199796865976\n",
      "epoch: 24 accuracy_val: 0.9230833333333334 loss_val: 0.36062392811771843\n",
      "epoch: 25 accuracy: 0.9311458333333333 loss: 0.30729315487331865\n",
      "epoch: 25 accuracy_val: 0.9245833333333333 loss_val: 0.35107671298513815\n",
      "epoch: 26 accuracy: 0.9326666666666666 loss: 0.2982044495580252\n",
      "epoch: 26 accuracy_val: 0.9246666666666666 loss_val: 0.3411447254744847\n",
      "epoch: 27 accuracy: 0.9339791666666667 loss: 0.291971981288127\n",
      "epoch: 27 accuracy_val: 0.9256666666666666 loss_val: 0.33288632019226433\n",
      "epoch: 28 accuracy: 0.9354375 loss: 0.2877905800223478\n",
      "epoch: 28 accuracy_val: 0.9258333333333333 loss_val: 0.32807669823075863\n",
      "epoch: 29 accuracy: 0.9365416666666667 loss: 0.28438703344873745\n",
      "epoch: 29 accuracy_val: 0.9248333333333333 loss_val: 0.324240992739954\n",
      "epoch: 30 accuracy: 0.9365625 loss: 0.2818272256127079\n",
      "epoch: 30 accuracy_val: 0.925 loss_val: 0.32128092248434414\n",
      "epoch: 31 accuracy: 0.9367291666666666 loss: 0.2801043168579334\n",
      "epoch: 31 accuracy_val: 0.9255 loss_val: 0.3194041659579376\n",
      "epoch: 32 accuracy: 0.9375416666666667 loss: 0.2776983183504778\n",
      "epoch: 32 accuracy_val: 0.9255 loss_val: 0.3174153308105322\n",
      "epoch: 33 accuracy: 0.9371666666666667 loss: 0.2752820971398424\n",
      "epoch: 33 accuracy_val: 0.92575 loss_val: 0.3153898310888331\n",
      "epoch: 34 accuracy: 0.9374791666666666 loss: 0.27282258389181946\n",
      "epoch: 34 accuracy_val: 0.9261666666666667 loss_val: 0.313328362350981\n",
      "epoch: 35 accuracy: 0.9379791666666667 loss: 0.27083413537645407\n",
      "epoch: 35 accuracy_val: 0.92775 loss_val: 0.31200140112730823\n",
      "epoch: 36 accuracy: 0.9384583333333333 loss: 0.2690670636932802\n",
      "epoch: 36 accuracy_val: 0.9281666666666667 loss_val: 0.31092574394138717\n",
      "epoch: 37 accuracy: 0.93925 loss: 0.2668901492589692\n",
      "epoch: 37 accuracy_val: 0.9286666666666666 loss_val: 0.30936618368633173\n",
      "epoch: 38 accuracy: 0.939875 loss: 0.26431984626776195\n",
      "epoch: 38 accuracy_val: 0.9295833333333333 loss_val: 0.30751439156056626\n",
      "epoch: 39 accuracy: 0.9407708333333333 loss: 0.26127404627978995\n",
      "epoch: 39 accuracy_val: 0.93075 loss_val: 0.3047769949464611\n",
      "epoch: 40 accuracy: 0.941375 loss: 0.25786642435715756\n",
      "epoch: 40 accuracy_val: 0.9305833333333333 loss_val: 0.30134782618334593\n",
      "epoch: 41 accuracy: 0.9418541666666667 loss: 0.2548455586219818\n",
      "epoch: 41 accuracy_val: 0.9315833333333333 loss_val: 0.29864612415323166\n",
      "epoch: 42 accuracy: 0.9426041666666667 loss: 0.2521995235177999\n",
      "epoch: 42 accuracy_val: 0.9329166666666666 loss_val: 0.2966920209244018\n",
      "epoch: 43 accuracy: 0.943 loss: 0.24985531945079886\n",
      "epoch: 43 accuracy_val: 0.933 loss_val: 0.2948936056683756\n",
      "epoch: 44 accuracy: 0.9438125 loss: 0.24750474651580096\n",
      "epoch: 44 accuracy_val: 0.9333333333333333 loss_val: 0.2928633197661312\n",
      "epoch: 45 accuracy: 0.944375 loss: 0.24510576071505363\n",
      "epoch: 45 accuracy_val: 0.9346666666666666 loss_val: 0.2907468079178763\n",
      "epoch: 46 accuracy: 0.9446666666666667 loss: 0.24259379816362048\n",
      "epoch: 46 accuracy_val: 0.9345 loss_val: 0.2884884633850482\n",
      "epoch: 47 accuracy: 0.9451666666666667 loss: 0.23984198249666314\n",
      "epoch: 47 accuracy_val: 0.9348333333333333 loss_val: 0.2857989127546264\n",
      "epoch: 48 accuracy: 0.9456666666666667 loss: 0.23693921792605793\n",
      "epoch: 48 accuracy_val: 0.9354166666666667 loss_val: 0.28300837254296063\n",
      "epoch: 49 accuracy: 0.9462916666666666 loss: 0.23426433955958986\n",
      "epoch: 49 accuracy_val: 0.9355 loss_val: 0.28071522301734153\n",
      "epoch: 50 accuracy: 0.9466458333333333 loss: 0.23228547979942474\n",
      "epoch: 50 accuracy_val: 0.9354166666666667 loss_val: 0.2792249766332385\n",
      "epoch: 51 accuracy: 0.947 loss: 0.23094815936114105\n",
      "epoch: 51 accuracy_val: 0.9353333333333333 loss_val: 0.27838496783700645\n",
      "epoch: 52 accuracy: 0.9474583333333333 loss: 0.2298809698843656\n",
      "epoch: 52 accuracy_val: 0.9354166666666667 loss_val: 0.2777619309181721\n",
      "epoch: 53 accuracy: 0.9479583333333333 loss: 0.22841560699612926\n",
      "epoch: 53 accuracy_val: 0.9354166666666667 loss_val: 0.2766943369387569\n",
      "epoch: 54 accuracy: 0.9481875 loss: 0.22658823755190408\n",
      "epoch: 54 accuracy_val: 0.9356666666666666 loss_val: 0.2755184020925094\n",
      "epoch: 55 accuracy: 0.9486666666666667 loss: 0.22481940728726188\n",
      "epoch: 55 accuracy_val: 0.9356666666666666 loss_val: 0.27485741634625216\n",
      "epoch: 56 accuracy: 0.9492916666666666 loss: 0.2231562699072188\n",
      "epoch: 56 accuracy_val: 0.9356666666666666 loss_val: 0.27429424917379536\n",
      "epoch: 57 accuracy: 0.9495625 loss: 0.22169631148278388\n",
      "epoch: 57 accuracy_val: 0.9359166666666666 loss_val: 0.27363965343393243\n",
      "epoch: 58 accuracy: 0.9494166666666667 loss: 0.22086785798979333\n",
      "epoch: 58 accuracy_val: 0.93675 loss_val: 0.27341066607485337\n",
      "epoch: 59 accuracy: 0.9494583333333333 loss: 0.22043228499256043\n",
      "epoch: 59 accuracy_val: 0.9363333333333334 loss_val: 0.2731206968751168\n",
      "epoch: 60 accuracy: 0.9495625 loss: 0.22010134438193196\n",
      "epoch: 60 accuracy_val: 0.9366666666666666 loss_val: 0.27263521738415686\n",
      "epoch: 61 accuracy: 0.9500833333333333 loss: 0.2196763054882187\n",
      "epoch: 61 accuracy_val: 0.9370833333333334 loss_val: 0.2721700349465258\n",
      "epoch: 62 accuracy: 0.9500416666666667 loss: 0.2188946768446749\n",
      "epoch: 62 accuracy_val: 0.9369166666666666 loss_val: 0.2714456339719404\n",
      "epoch: 63 accuracy: 0.9502083333333333 loss: 0.21789315520667923\n",
      "epoch: 63 accuracy_val: 0.9360833333333334 loss_val: 0.27053337737646677\n",
      "epoch: 64 accuracy: 0.9503541666666667 loss: 0.21677524312633117\n",
      "epoch: 64 accuracy_val: 0.9356666666666666 loss_val: 0.2694094358618287\n",
      "epoch: 65 accuracy: 0.9502083333333333 loss: 0.2156134476773911\n",
      "epoch: 65 accuracy_val: 0.9365 loss_val: 0.2678131810163467\n",
      "epoch: 66 accuracy: 0.9505416666666666 loss: 0.21459990605221468\n",
      "epoch: 66 accuracy_val: 0.9369166666666666 loss_val: 0.26603878368537265\n",
      "epoch: 67 accuracy: 0.9509375 loss: 0.21367212314533965\n",
      "epoch: 67 accuracy_val: 0.9379166666666666 loss_val: 0.26455681902672046\n",
      "epoch: 68 accuracy: 0.9508958333333334 loss: 0.21283127090403375\n",
      "epoch: 68 accuracy_val: 0.9381666666666667 loss_val: 0.2637368037744845\n",
      "epoch: 69 accuracy: 0.951125 loss: 0.2120310941304901\n",
      "epoch: 69 accuracy_val: 0.9389166666666666 loss_val: 0.26317128407184487\n",
      "epoch: 70 accuracy: 0.9514166666666667 loss: 0.21112855134469272\n",
      "epoch: 70 accuracy_val: 0.9390833333333334 loss_val: 0.2624618210185551\n",
      "epoch: 71 accuracy: 0.951875 loss: 0.21016317782097146\n",
      "epoch: 71 accuracy_val: 0.94 loss_val: 0.2617086342893475\n",
      "epoch: 72 accuracy: 0.9517916666666667 loss: 0.20913665654677188\n",
      "epoch: 72 accuracy_val: 0.9399166666666666 loss_val: 0.260923420170317\n",
      "epoch: 73 accuracy: 0.9519166666666666 loss: 0.20806929844975044\n",
      "epoch: 73 accuracy_val: 0.9403333333333334 loss_val: 0.2600935858552841\n",
      "epoch: 74 accuracy: 0.9523541666666666 loss: 0.20707937397603962\n",
      "epoch: 74 accuracy_val: 0.9403333333333334 loss_val: 0.2594897778007641\n",
      "epoch: 75 accuracy: 0.9524166666666667 loss: 0.2062300438090494\n",
      "epoch: 75 accuracy_val: 0.9404166666666667 loss_val: 0.2591489649149088\n",
      "epoch: 76 accuracy: 0.95275 loss: 0.20552280720486887\n",
      "epoch: 76 accuracy_val: 0.9411666666666667 loss_val: 0.25896218761345685\n",
      "epoch: 77 accuracy: 0.953 loss: 0.20470675174825245\n",
      "epoch: 77 accuracy_val: 0.9416666666666667 loss_val: 0.25871238127637375\n",
      "epoch: 78 accuracy: 0.9532291666666667 loss: 0.2034581385236632\n",
      "epoch: 78 accuracy_val: 0.942 loss_val: 0.25814810664237753\n",
      "epoch: 79 accuracy: 0.9537083333333334 loss: 0.2019199722558507\n",
      "epoch: 79 accuracy_val: 0.9416666666666667 loss_val: 0.2573374436852449\n",
      "epoch: 80 accuracy: 0.9538541666666667 loss: 0.2002774899906031\n",
      "epoch: 80 accuracy_val: 0.94175 loss_val: 0.2562934309649033\n",
      "epoch: 81 accuracy: 0.9541666666666667 loss: 0.19862237937367447\n",
      "epoch: 81 accuracy_val: 0.9413333333333334 loss_val: 0.25502626730268396\n",
      "epoch: 82 accuracy: 0.9538958333333334 loss: 0.19705044807916086\n",
      "epoch: 82 accuracy_val: 0.94175 loss_val: 0.2537138776303781\n",
      "epoch: 83 accuracy: 0.95375 loss: 0.19569572685023523\n",
      "epoch: 83 accuracy_val: 0.9416666666666667 loss_val: 0.2526765413021908\n",
      "epoch: 84 accuracy: 0.9536875 loss: 0.19458014367733706\n",
      "epoch: 84 accuracy_val: 0.9410833333333334 loss_val: 0.2519864581010645\n",
      "epoch: 85 accuracy: 0.9538541666666667 loss: 0.19363935121002948\n",
      "epoch: 85 accuracy_val: 0.9405833333333333 loss_val: 0.25147040789693526\n",
      "epoch: 86 accuracy: 0.9539791666666667 loss: 0.1927763902098964\n",
      "epoch: 86 accuracy_val: 0.9411666666666667 loss_val: 0.25096195907590657\n",
      "epoch: 87 accuracy: 0.9540625 loss: 0.1919901786645037\n",
      "epoch: 87 accuracy_val: 0.9409166666666666 loss_val: 0.25047880417099594\n",
      "epoch: 88 accuracy: 0.9540625 loss: 0.1914481546972603\n",
      "epoch: 88 accuracy_val: 0.9405 loss_val: 0.25024080881172417\n",
      "epoch: 89 accuracy: 0.954375 loss: 0.19110505656695048\n",
      "epoch: 89 accuracy_val: 0.9409166666666666 loss_val: 0.2502020307349948\n",
      "epoch: 90 accuracy: 0.9547291666666666 loss: 0.19073941048692994\n",
      "epoch: 90 accuracy_val: 0.9405 loss_val: 0.25012713600168063\n",
      "epoch: 91 accuracy: 0.9550416666666667 loss: 0.19025089027565983\n",
      "epoch: 91 accuracy_val: 0.9405833333333333 loss_val: 0.24987960352473326\n",
      "epoch: 92 accuracy: 0.9552708333333333 loss: 0.18970673343156905\n",
      "epoch: 92 accuracy_val: 0.941 loss_val: 0.2494853160858926\n",
      "epoch: 93 accuracy: 0.9552708333333333 loss: 0.18921458254988688\n",
      "epoch: 93 accuracy_val: 0.94125 loss_val: 0.24912309933551594\n",
      "epoch: 94 accuracy: 0.9556458333333333 loss: 0.18886335288087128\n",
      "epoch: 94 accuracy_val: 0.9413333333333334 loss_val: 0.24895711175177748\n",
      "epoch: 95 accuracy: 0.9560625 loss: 0.18873716592974432\n",
      "epoch: 95 accuracy_val: 0.9414166666666667 loss_val: 0.24910029501270672\n",
      "epoch: 96 accuracy: 0.9558958333333333 loss: 0.18880653232199654\n",
      "epoch: 96 accuracy_val: 0.9409166666666666 loss_val: 0.24951926937399138\n",
      "epoch: 97 accuracy: 0.9557708333333333 loss: 0.1888803567678125\n",
      "epoch: 97 accuracy_val: 0.94125 loss_val: 0.25000833396086536\n",
      "epoch: 98 accuracy: 0.9561458333333334 loss: 0.1888103921501879\n",
      "epoch: 98 accuracy_val: 0.9420833333333334 loss_val: 0.25039648562814876\n",
      "epoch: 99 accuracy: 0.9563333333333334 loss: 0.1885317054541581\n",
      "epoch: 99 accuracy_val: 0.94275 loss_val: 0.250603961161181\n",
      "epoch: 100 accuracy: 0.9564791666666667 loss: 0.18799221663465607\n",
      "epoch: 100 accuracy_val: 0.9428333333333333 loss_val: 0.2506202995037127\n"
     ]
    }
   ],
   "source": [
    "clf_sc = ScratchSimpleNeuralNetrowkClassifier(epoch=100, alpha = 0.001, verbose = True)\n",
    "clf_sc.fit(X_train, y_train, X_val, y_val)"
   ]
  },
  {
   "cell_type": "code",
   "execution_count": 403,
   "metadata": {},
   "outputs": [
    {
     "name": "stdout",
     "output_type": "stream",
     "text": [
      "Accuracy（正解率） 0.9455\n"
     ]
    }
   ],
   "source": [
    "y_pred, y_pred_portion = clf_sc.predict(X_test)\n",
    "\n",
    "print(\"Accuracy（正解率）\", accuracy_score(y_test, y_pred))"
   ]
  },
  {
   "cell_type": "markdown",
   "metadata": {},
   "source": [
    "# 【問題7】学習曲線のプロット"
   ]
  },
  {
   "cell_type": "markdown",
   "metadata": {},
   "source": [
    "学習曲線をプロットしてください。  \n",
    "\n",
    "ニューラルネットワークは過学習が発生しやすいため、学習曲線の確認が重要です。  \n",
    "訓練データと検証データに対するエポックごとの損失（交差エントロピー誤差）を記録できるようにする必要があります。  "
   ]
  },
  {
   "cell_type": "code",
   "execution_count": 407,
   "metadata": {},
   "outputs": [
    {
     "name": "stdout",
     "output_type": "stream",
     "text": [
      "オレンジ:X_val, 青:X_train\n"
     ]
    },
    {
     "data": {
      "image/png": "[encoded data removed]",
      "text/plain": [
       "<Figure size 432x288 with 1 Axes>"
      ]
     },
     "metadata": {
      "needs_background": "light"
     },
     "output_type": "display_data"
    }
   ],
   "source": [
    "plt.plot(clf_sc._score)\n",
    "plt.plot(clf_sc._score_val)\n",
    "\n",
    "plt.xlabel(\"epoch\")\n",
    "plt.ylabel(\"Cross-entropy Loss\")\n",
    "\n",
    "# Visualize\n",
    "print(\"オレンジ:X_val, 青:X_train\")\n",
    "plt.show()"
   ]
  },
  {
   "cell_type": "code",
   "execution_count": 408,
   "metadata": {},
   "outputs": [
    {
     "name": "stdout",
     "output_type": "stream",
     "text": [
      "オレンジ:X_val, 青:X_train\n"
     ]
    },
    {
     "data": {
      "image/png": "[encoded data removed]",
      "text/plain": [
       "<Figure size 432x288 with 1 Axes>"
      ]
     },
     "metadata": {
      "needs_background": "light"
     },
     "output_type": "display_data"
    }
   ],
   "source": [
    "plt.plot(clf_sc._accuracy)\n",
    "plt.plot(clf_sc._accuracy_val)\n",
    "\n",
    "plt.xlabel(\"epoch\")\n",
    "plt.ylabel(\"Accuracy\")\n",
    "\n",
    "# Visualize\n",
    "print(\"オレンジ:X_val, 青:X_train\")\n",
    "plt.show()"
   ]
  },
  {
   "cell_type": "code",
   "execution_count": null,
   "metadata": {},
   "outputs": [],
   "source": []
  }
 ],
 "metadata": {
  "kernelspec": {
   "display_name": "Python 3",
   "language": "python",
   "name": "python3"
  },
  "language_info": {
   "codemirror_mode": {
    "name": "ipython",
    "version": 3
   },
   "file_extension": ".py",
   "mimetype": "text/x-python",
   "name": "python",
   "nbconvert_exporter": "python",
   "pygments_lexer": "ipython3",
   "version": "3.7.0"
  }
 },
 "nbformat": 4,
 "nbformat_minor": 4
}
