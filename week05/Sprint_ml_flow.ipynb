{
 "cells": [
  {
   "cell_type": "markdown",
   "metadata": {},
   "source": [
    "[課題のURL](https://diver.diveintocode.jp/curriculums/1642)"
   ]
  },
  {
   "cell_type": "markdown",
   "metadata": {},
   "source": [
    "# Sprint 機械学習フロー"
   ]
  },
  {
   "cell_type": "markdown",
   "metadata": {},
   "source": [
    "(Home Credit Default Risk)[https://www.kaggle.com/c/home-credit-default-risk/overview/evaluation]"
   ]
  },
  {
   "cell_type": "markdown",
   "metadata": {},
   "source": [
    "# 【問題1】クロスバリデーション\n",
    "事前学習期間の課題で作成したベースラインモデルに対してKFoldクラスによるクロスバリデーションを行うコードを作成し実行してください。"
   ]
  },
  {
   "cell_type": "code",
   "execution_count": 56,
   "metadata": {},
   "outputs": [],
   "source": [
    "import time\n",
    "\n",
    "import numpy as np\n",
    "import pandas as pd\n",
    "import seaborn as sns\n",
    "import missingno as msno\n",
    "import matplotlib\n",
    "import matplotlib.pyplot as plt\n",
    "\n",
    "from sklearn.model_selection import train_test_split\n",
    "from sklearn.model_selection import KFold\n",
    "from sklearn.ensemble import RandomForestClassifier\n",
    "from sklearn.metrics import roc_auc_score\n",
    "from sklearn.model_selection import GridSearchCV"
   ]
  },
  {
   "cell_type": "code",
   "execution_count": 16,
   "metadata": {},
   "outputs": [],
   "source": [
    "df_train = pd.read_csv('application_train.csv')\n",
    "df_test = pd.read_csv('application_test.csv')"
   ]
  },
  {
   "cell_type": "code",
   "execution_count": 17,
   "metadata": {},
   "outputs": [],
   "source": [
    "# 欠損値を0で補完\n",
    "df_train_fillna = df_train.fillna({\n",
    "                                \"EXT_SOURCE_1\":0,\n",
    "                                \"EXT_SOURCE_2\":0,\n",
    "                                \"EXT_SOURCE_3\":0,\n",
    "                                })\n",
    "\n",
    "df_test_fillna = df_test.fillna({\n",
    "                                \"EXT_SOURCE_1\":0,\n",
    "                                \"EXT_SOURCE_2\":0,\n",
    "                                \"EXT_SOURCE_3\":0,\n",
    "                                })"
   ]
  },
  {
   "cell_type": "code",
   "execution_count": 21,
   "metadata": {},
   "outputs": [
    {
     "name": "stdout",
     "output_type": "stream",
     "text": [
      "1 回目\n",
      "AUC_test: 0.6291967189725017\n",
      "2 回目\n",
      "AUC_test: 0.6306111722370967\n",
      "3 回目\n",
      "AUC_test: 0.6311108603079598\n",
      "4 回目\n",
      "AUC_test: 0.6284057005489749\n",
      "5 回目\n",
      "AUC_test: 0.6325145316697183\n"
     ]
    }
   ],
   "source": [
    "# 特徴量（説明変数）をX、正解（目的変数）をyというndarrayに格納\n",
    "X = df_train_fillna[[\"EXT_SOURCE_1\", \"EXT_SOURCE_2\", \"EXT_SOURCE_3\"]].values\n",
    "y = df_train_fillna[\"TARGET\"].values\n",
    "\n",
    "# データを分割\n",
    "kf = KFold(n_splits=5, shuffle=True, random_state=0 )\n",
    "# print(kf.split(X))\n",
    "\n",
    "# 学習\n",
    "n_count = 0\n",
    "list_score = []\n",
    "\n",
    "for train_index, valid_index in kf.split(X):\n",
    "    \n",
    "    X_train, X_valid = X[train_index], X[valid_index]\n",
    "    y_train, y_valid = y[train_index], y[valid_index]\n",
    "    \n",
    "    print(n_count+1,\"回目\")\n",
    "    \n",
    "    # 学習\n",
    "    clf = RandomForestClassifier().fit(X_train, y_train)\n",
    "    y_vaild_pred = clf.predict_proba(X_valid)\n",
    "    \n",
    "    # 評価\n",
    "    score_temp = roc_auc_score(y_valid, y_vaild_pred[:,1])\n",
    "    print(f'AUC_test: {score_temp}')\n",
    "    \n",
    "    list_score.append(score_temp)\n",
    "    n_count = n_count + 1"
   ]
  },
  {
   "cell_type": "markdown",
   "metadata": {},
   "source": [
    "# 【問題2】グリッドサーチ"
   ]
  },
  {
   "cell_type": "code",
   "execution_count": 59,
   "metadata": {},
   "outputs": [],
   "source": [
    "# 特徴量（説明変数）をX、正解（目的変数）をyというndarrayに格納\n",
    "X = df_train_fillna[[\"EXT_SOURCE_1\", \"EXT_SOURCE_2\", \"EXT_SOURCE_3\"]].values\n",
    "y = df_train_fillna[\"TARGET\"].values"
   ]
  },
  {
   "cell_type": "code",
   "execution_count": 60,
   "metadata": {},
   "outputs": [],
   "source": [
    "# X_train（学習用）とX_valid（検証用）に分割\n",
    "X_train, X_valid, y_train, y_valid = train_test_split(X, y, stratify=y, random_state=0)"
   ]
  },
  {
   "cell_type": "code",
   "execution_count": 61,
   "metadata": {},
   "outputs": [],
   "source": [
    "clf = RandomForestClassifier().fit(X_train, y_train)\n",
    "\n",
    "y_vaild_pred = clf.predict_proba(X_valid)"
   ]
  },
  {
   "cell_type": "code",
   "execution_count": 62,
   "metadata": {},
   "outputs": [
    {
     "name": "stdout",
     "output_type": "stream",
     "text": [
      "AUC_test: 0.6355082718721963\n"
     ]
    }
   ],
   "source": [
    "#評価の実行(グリットサーチを使用しない場合)\n",
    "\n",
    "score_temp = roc_auc_score(y_valid, y_vaild_pred[:,1])\n",
    "print(f'AUC_test: {score_temp}')"
   ]
  },
  {
   "cell_type": "code",
   "execution_count": 63,
   "metadata": {},
   "outputs": [],
   "source": [
    "# グリットサーチの実施\n",
    "clf = RandomForestClassifier()\n",
    "\n",
    "params = {\n",
    "    #\"n_estimators\": [5, 10, 20, 50, 100], # デフォルトは100\n",
    "    \"max_depth\":[1,2,3,4,5,6,7,8,9,10],\n",
    "    \"min_samples_leaf\" :[1,2,3,4],\n",
    "}\n",
    "\n",
    "grid_search = GridSearchCV(clf,  # 分類器を渡す\n",
    "                               param_grid=params,  # 試行してほしいパラメータを渡す\n",
    "                               cv=5,  # 5-Fold CV で汎化性能を調べる\n",
    "                               )"
   ]
  },
  {
   "cell_type": "code",
   "execution_count": 64,
   "metadata": {},
   "outputs": [
    {
     "name": "stdout",
     "output_type": "stream",
     "text": [
      "経過時間：2610.749603033066\n"
     ]
    }
   ],
   "source": [
    "# グリッドサーチで優れたハイパーパラメータを探す\n",
    "# 処理前の時刻\n",
    "t1 = time.time()\n",
    "\n",
    "grid_search.fit(X_train, y_train)\n",
    "\n",
    "# 処理後の時刻\n",
    "t2 = time.time()\n",
    "# 経過時間を表示\n",
    "elapsed_time = t2-t1\n",
    "print(f\"経過時間：{elapsed_time}\")"
   ]
  },
  {
   "cell_type": "code",
   "execution_count": 65,
   "metadata": {},
   "outputs": [
    {
     "data": {
      "text/plain": [
       "{'max_depth': 8, 'min_samples_leaf': 1}"
      ]
     },
     "execution_count": 65,
     "metadata": {},
     "output_type": "execute_result"
    }
   ],
   "source": [
    "grid_search.best_params_"
   ]
  },
  {
   "cell_type": "code",
   "execution_count": 66,
   "metadata": {},
   "outputs": [
    {
     "name": "stdout",
     "output_type": "stream",
     "text": [
      "経過時間：21.453105926513672\n"
     ]
    }
   ],
   "source": [
    "# 処理前の時刻\n",
    "t1 = time.time()\n",
    "\n",
    "clf = RandomForestClassifier(**grid_search.best_params_).fit(X_train, y_train)\n",
    "\n",
    "# 処理後の時刻\n",
    "t2 = time.time()\n",
    "# 経過時間を表示\n",
    "elapsed_time = t2-t1\n",
    "print(f\"経過時間：{elapsed_time}\")\n",
    "\n",
    "y_vaild_pred = clf.predict_proba(X_valid)"
   ]
  },
  {
   "cell_type": "code",
   "execution_count": 67,
   "metadata": {},
   "outputs": [
    {
     "name": "stdout",
     "output_type": "stream",
     "text": [
      "AUC_test: 0.7261191723854113\n"
     ]
    }
   ],
   "source": [
    "#評価の実行(グリットサーチを使用した場合)\n",
    "\n",
    "score_temp = roc_auc_score(y_valid, y_vaild_pred[:,1])\n",
    "print(f'AUC_test: {score_temp}')"
   ]
  },
  {
   "cell_type": "markdown",
   "metadata": {},
   "source": [
    "# 【問題3】Kaggle Notebooksからの調査"
   ]
  },
  {
   "cell_type": "markdown",
   "metadata": {},
   "source": [
    "KaggleのNotebooksから様々なアイデアを見つけ出して、列挙してください。\n",
    "\n",
    "・ハイパーパラメータを探索する際は、グリッドサーチではなくベイズ最適化で実施する。  \n",
    "→探索速度が速いので実施\n",
    "\n",
    "・異常値排除  \n",
    "→異常値はなかった"
   ]
  },
  {
   "cell_type": "markdown",
   "metadata": {},
   "source": [
    "# 【問題4】高い汎化性能のモデル作成"
   ]
  },
  {
   "cell_type": "markdown",
   "metadata": {},
   "source": [
    "# 【問題5】最終的なモデルの選定"
   ]
  },
  {
   "cell_type": "markdown",
   "metadata": {},
   "source": [
    "問題3で見つけたアイデアと、独自のアイデアを組み合わせ高い汎化性能のモデル作りを進めてください。\n",
    "\n",
    "その過程として、何を行うことで、クロスバリデーションの結果がどの程度変化したかを表にまとめてください。"
   ]
  },
  {
   "cell_type": "markdown",
   "metadata": {},
   "source": [
    "ランダムフォレストのハイパーパラメータを設定することで下記の様に結果が変化した。\n",
    "\n",
    "- ハイパーパラメータ：初期値 sScore 0.65456  \n",
    "- ハイパーパラメータ：\"max_depth\":[1,2,3,4,5,6,7,8,9,10], \"min_samples_leaf\" :[1,2,3,4],  Score 0.71183  "
   ]
  },
  {
   "cell_type": "markdown",
   "metadata": {},
   "source": [
    "また、処理速度について下記の様になった。また、精度もほぼ同等となった。\n",
    "- グリッドサーチ:  2610s, AUC_test: 0.726\n",
    "- ベイズ最適化: 549s, AUC_test: 0.725"
   ]
  },
  {
   "cell_type": "code",
   "execution_count": 107,
   "metadata": {},
   "outputs": [
    {
     "data": {
      "text/plain": [
       "((307511, 3), (307511,))"
      ]
     },
     "execution_count": 107,
     "metadata": {},
     "output_type": "execute_result"
    }
   ],
   "source": [
    "# 特徴量（説明変数）をX、正解（目的変数）をyというndarrayに格納\n",
    "X = df_train_fillna[[\"EXT_SOURCE_1\", \"EXT_SOURCE_2\", \"EXT_SOURCE_3\"]].values\n",
    "y = df_train_fillna[\"TARGET\"].values\n",
    "\n",
    "X.shape, y.shape"
   ]
  },
  {
   "cell_type": "code",
   "execution_count": 83,
   "metadata": {},
   "outputs": [],
   "source": [
    "upperbound, lowerbound = np.percentile(X, [1, 99])\n",
    "X = np.clip(X, upperbound, lowerbound)\n",
    "\n",
    "upperbound, lowerbound = np.percentile(y, [1, 99])\n",
    "y = np.clip(y, upperbound, lowerbound)\n",
    "\n",
    "# print(X.shape, y.shape) # ((307511, 3), (307511,)) 外れ値なし\n",
    "\n",
    "# X_train（学習用）とX_valid（検証用）に分割\n",
    "X_train, X_valid, y_train, y_valid = train_test_split(X, y, stratify=y, random_state=0)"
   ]
  },
  {
   "cell_type": "code",
   "execution_count": 96,
   "metadata": {},
   "outputs": [],
   "source": [
    "def randomforest_cv(max_depth, min_samples_leaf):\n",
    "    # クロスバリデーションを行う\n",
    "    val = cross_val_score(\n",
    "        RandomForestClassifier(\n",
    "            max_depth=int(max_depth),\n",
    "            min_samples_leaf=int(min_samples_leaf),\n",
    "        ),\n",
    "        X_train, y_train, # 学習データ\n",
    "        scoring='accuracy',\n",
    "        cv=5,\n",
    "        n_jobs=-1\n",
    "    ).mean() #平均値を返す\n",
    "    return val\n"
   ]
  },
  {
   "cell_type": "code",
   "execution_count": 97,
   "metadata": {},
   "outputs": [],
   "source": [
    "from bayes_opt import BayesianOptimization\n",
    "from sklearn.model_selection import cross_val_score\n",
    "\n",
    "# 探索範囲などの設定\n",
    "rf_cv_bo = BayesianOptimization(\n",
    "    randomforest_cv, # 上の関数を与える\n",
    "    {\n",
    "        'max_depth':(1,10),\n",
    "         \"min_samples_leaf\" :(1,4),\n",
    "    },\n",
    "     verbose=2, # 0だと学習過程を表示をしない、デフォルトの2なら全て表示する、1は最高値が更新されたら表示\n",
    "    random_state=0\n",
    ")"
   ]
  },
  {
   "cell_type": "code",
   "execution_count": 98,
   "metadata": {},
   "outputs": [
    {
     "name": "stdout",
     "output_type": "stream",
     "text": [
      "|   iter    |  target   | max_depth | min_sa... |\n",
      "-------------------------------------------------\n",
      "| \u001b[0m 1       \u001b[0m | \u001b[0m 0.9193  \u001b[0m | \u001b[0m 5.939   \u001b[0m | \u001b[0m 3.146   \u001b[0m |\n",
      "| \u001b[0m 2       \u001b[0m | \u001b[0m 0.9193  \u001b[0m | \u001b[0m 6.425   \u001b[0m | \u001b[0m 2.635   \u001b[0m |\n",
      "| \u001b[0m 3       \u001b[0m | \u001b[0m 0.9193  \u001b[0m | \u001b[0m 4.813   \u001b[0m | \u001b[0m 2.938   \u001b[0m |\n",
      "| \u001b[0m 4       \u001b[0m | \u001b[0m 0.9193  \u001b[0m | \u001b[0m 4.938   \u001b[0m | \u001b[0m 3.675   \u001b[0m |\n",
      "| \u001b[95m 5       \u001b[0m | \u001b[95m 0.9193  \u001b[0m | \u001b[95m 9.673   \u001b[0m | \u001b[95m 2.15    \u001b[0m |\n",
      "| \u001b[0m 6       \u001b[0m | \u001b[0m 0.9193  \u001b[0m | \u001b[0m 1.017   \u001b[0m | \u001b[0m 1.116   \u001b[0m |\n",
      "| \u001b[0m 7       \u001b[0m | \u001b[0m 0.9193  \u001b[0m | \u001b[0m 9.942   \u001b[0m | \u001b[0m 1.136   \u001b[0m |\n",
      "| \u001b[0m 8       \u001b[0m | \u001b[0m 0.9193  \u001b[0m | \u001b[0m 1.034   \u001b[0m | \u001b[0m 3.982   \u001b[0m |\n",
      "| \u001b[0m 9       \u001b[0m | \u001b[0m 0.9193  \u001b[0m | \u001b[0m 9.933   \u001b[0m | \u001b[0m 1.326   \u001b[0m |\n",
      "| \u001b[0m 10      \u001b[0m | \u001b[0m 0.9193  \u001b[0m | \u001b[0m 1.007   \u001b[0m | \u001b[0m 3.965   \u001b[0m |\n",
      "| \u001b[0m 11      \u001b[0m | \u001b[0m 0.9193  \u001b[0m | \u001b[0m 9.973   \u001b[0m | \u001b[0m 1.124   \u001b[0m |\n",
      "| \u001b[0m 12      \u001b[0m | \u001b[0m 0.9193  \u001b[0m | \u001b[0m 1.111   \u001b[0m | \u001b[0m 3.68    \u001b[0m |\n",
      "| \u001b[0m 13      \u001b[0m | \u001b[0m 0.9193  \u001b[0m | \u001b[0m 1.063   \u001b[0m | \u001b[0m 1.039   \u001b[0m |\n",
      "| \u001b[0m 14      \u001b[0m | \u001b[0m 0.9193  \u001b[0m | \u001b[0m 9.917   \u001b[0m | \u001b[0m 3.753   \u001b[0m |\n",
      "| \u001b[0m 15      \u001b[0m | \u001b[0m 0.9193  \u001b[0m | \u001b[0m 1.138   \u001b[0m | \u001b[0m 3.975   \u001b[0m |\n",
      "=================================================\n",
      "経過時間：549.7130920886993\n"
     ]
    }
   ],
   "source": [
    "# 処理前の時刻\n",
    "t1 = time.time()\n",
    "\n",
    "rf_cv_bo.maximize(init_points=5, n_iter=10, acq='ei')\n",
    "\n",
    "# 処理後の時刻\n",
    "t2 = time.time()\n",
    "# 経過時間を表示\n",
    "elapsed_time = t2-t1\n",
    "print(f\"経過時間：{elapsed_time}\")"
   ]
  },
  {
   "cell_type": "code",
   "execution_count": 99,
   "metadata": {},
   "outputs": [
    {
     "name": "stdout",
     "output_type": "stream",
     "text": [
      "0.9192786811020225\n",
      "max_depth: 9.672964844509263\n",
      "min_samples_leaf: 2.150324556477333\n"
     ]
    }
   ],
   "source": [
    "# 実行結果の内、最も精度の良かった評価値とパラメータの値をprint\n",
    "print(rf_cv_bo.max['target'])\n",
    "print('max_depth:', rf_cv_bo.max['params']['max_depth'])\n",
    "print('min_samples_leaf:', rf_cv_bo.max['params']['min_samples_leaf'])"
   ]
  },
  {
   "cell_type": "code",
   "execution_count": 102,
   "metadata": {},
   "outputs": [],
   "source": [
    "# 実行結果の内、最も精度の良かったパラメータで実施\n",
    "clf = RandomForestClassifier(\n",
    "    max_depth=int(rf_cv_bo.max['params']['max_depth']),\n",
    "    min_samples_leaf=int(rf_cv_bo.max['params']['min_samples_leaf']),\n",
    "    random_state=0\n",
    ")"
   ]
  },
  {
   "cell_type": "code",
   "execution_count": 103,
   "metadata": {},
   "outputs": [],
   "source": [
    "clf.fit(X_train, y_train)\n",
    "y_vaild_pred = clf.predict_proba(X_valid)"
   ]
  },
  {
   "cell_type": "code",
   "execution_count": 104,
   "metadata": {},
   "outputs": [
    {
     "name": "stdout",
     "output_type": "stream",
     "text": [
      "AUC_test: 0.7251435765475157\n"
     ]
    }
   ],
   "source": [
    "#評価の実行(グリットサーチを使用した場合)\n",
    "\n",
    "score_temp = roc_auc_score(y_valid, y_vaild_pred[:,1])\n",
    "print(f'AUC_test: {score_temp}')"
   ]
  },
  {
   "cell_type": "code",
   "execution_count": 105,
   "metadata": {},
   "outputs": [
    {
     "data": {
      "text/html": [
       "<div>\n",
       "<style scoped>\n",
       "    .dataframe tbody tr th:only-of-type {\n",
       "        vertical-align: middle;\n",
       "    }\n",
       "\n",
       "    .dataframe tbody tr th {\n",
       "        vertical-align: top;\n",
       "    }\n",
       "\n",
       "    .dataframe thead th {\n",
       "        text-align: right;\n",
       "    }\n",
       "</style>\n",
       "<table border=\"1\" class=\"dataframe\">\n",
       "  <thead>\n",
       "    <tr style=\"text-align: right;\">\n",
       "      <th></th>\n",
       "      <th>SK_ID_CURR</th>\n",
       "      <th>TARGET</th>\n",
       "    </tr>\n",
       "  </thead>\n",
       "  <tbody>\n",
       "    <tr>\n",
       "      <th>0</th>\n",
       "      <td>100001</td>\n",
       "      <td>0.036335</td>\n",
       "    </tr>\n",
       "    <tr>\n",
       "      <th>1</th>\n",
       "      <td>100005</td>\n",
       "      <td>0.065080</td>\n",
       "    </tr>\n",
       "    <tr>\n",
       "      <th>2</th>\n",
       "      <td>100013</td>\n",
       "      <td>0.034004</td>\n",
       "    </tr>\n",
       "    <tr>\n",
       "      <th>3</th>\n",
       "      <td>100028</td>\n",
       "      <td>0.048793</td>\n",
       "    </tr>\n",
       "    <tr>\n",
       "      <th>4</th>\n",
       "      <td>100038</td>\n",
       "      <td>0.138411</td>\n",
       "    </tr>\n",
       "    <tr>\n",
       "      <th>...</th>\n",
       "      <td>...</td>\n",
       "      <td>...</td>\n",
       "    </tr>\n",
       "    <tr>\n",
       "      <th>48739</th>\n",
       "      <td>456221</td>\n",
       "      <td>0.033772</td>\n",
       "    </tr>\n",
       "    <tr>\n",
       "      <th>48740</th>\n",
       "      <td>456222</td>\n",
       "      <td>0.054433</td>\n",
       "    </tr>\n",
       "    <tr>\n",
       "      <th>48741</th>\n",
       "      <td>456223</td>\n",
       "      <td>0.048815</td>\n",
       "    </tr>\n",
       "    <tr>\n",
       "      <th>48742</th>\n",
       "      <td>456224</td>\n",
       "      <td>0.064060</td>\n",
       "    </tr>\n",
       "    <tr>\n",
       "      <th>48743</th>\n",
       "      <td>456250</td>\n",
       "      <td>0.119044</td>\n",
       "    </tr>\n",
       "  </tbody>\n",
       "</table>\n",
       "<p>48744 rows × 2 columns</p>\n",
       "</div>"
      ],
      "text/plain": [
       "       SK_ID_CURR    TARGET\n",
       "0          100001  0.036335\n",
       "1          100005  0.065080\n",
       "2          100013  0.034004\n",
       "3          100028  0.048793\n",
       "4          100038  0.138411\n",
       "...           ...       ...\n",
       "48739      456221  0.033772\n",
       "48740      456222  0.054433\n",
       "48741      456223  0.048815\n",
       "48742      456224  0.064060\n",
       "48743      456250  0.119044\n",
       "\n",
       "[48744 rows x 2 columns]"
      ]
     },
     "metadata": {},
     "output_type": "display_data"
    }
   ],
   "source": [
    "# テストデータに対する推定\n",
    "# 型変換\n",
    "X_test = df_test_fillna[[\"EXT_SOURCE_1\", \"EXT_SOURCE_2\", \"EXT_SOURCE_3\"]].values\n",
    "\n",
    "# 予測\n",
    "y_test_pred = clf.predict_proba(X_test)\n",
    "\n",
    "# 提出用データの作成\n",
    "# NumPy配列ndarrayからpandasに型変換する\n",
    "df_score = pd.DataFrame(y_test_pred[:,1], columns=[\"TARGET\"])\n",
    "#print(df_score)\n",
    "\n",
    "# 提出フォーマットのデータフレームを作成する\n",
    "df_sk_id = df_test_fillna[\"SK_ID_CURR\"]\n",
    "#print(df_sk_id)\n",
    "\n",
    "df_submission = pd.concat([df_sk_id, df_score], axis=1)\n",
    "display(df_submission)\n",
    "\n",
    "# Score 0.71183\n",
    "df_submission.to_csv('submission.csv', index=False)"
   ]
  },
  {
   "cell_type": "code",
   "execution_count": null,
   "metadata": {},
   "outputs": [],
   "source": []
  }
 ],
 "metadata": {
  "kernelspec": {
   "display_name": "Python 3",
   "language": "python",
   "name": "python3"
  },
  "language_info": {
   "codemirror_mode": {
    "name": "ipython",
    "version": 3
   },
   "file_extension": ".py",
   "mimetype": "text/x-python",
   "name": "python",
   "nbconvert_exporter": "python",
   "pygments_lexer": "ipython3",
   "version": "3.7.0"
  }
 },
 "nbformat": 4,
 "nbformat_minor": 2
}
