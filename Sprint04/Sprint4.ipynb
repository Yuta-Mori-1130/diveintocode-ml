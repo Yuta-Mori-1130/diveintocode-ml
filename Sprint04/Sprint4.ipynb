{
 "cells": [
  {
   "cell_type": "markdown",
   "metadata": {},
   "source": [
    "[課題のURL](https://diver.diveintocode.jp/curriculums/1644)"
   ]
  },
  {
   "cell_type": "code",
   "execution_count": 4,
   "metadata": {},
   "outputs": [],
   "source": [
    "import math\n",
    "import numpy as np\n",
    "import pandas as pd\n",
    "\n",
    "import matplotlib.pyplot as plt\n",
    "import matplotlib.animation as animation\n",
    "import statsmodels.api as sm\n",
    "\n",
    "from sklearn.model_selection import train_test_split\n",
    "from sklearn.datasets import load_iris\n",
    "from sklearn.model_selection import train_test_split\n",
    "from sklearn.preprocessing import StandardScaler\n",
    "from sklearn import linear_model\n",
    "from sklearn.metrics import accuracy_score, precision_score, recall_score, f1_score, confusion_matrix"
   ]
  },
  {
   "cell_type": "markdown",
   "metadata": {},
   "source": [
    "# Sprint機械学習スクラッチ ロジスティック回帰"
   ]
  },
  {
   "cell_type": "markdown",
   "metadata": {},
   "source": [
    "# 【問題1】仮定関数"
   ]
  },
  {
   "cell_type": "markdown",
   "metadata": {},
   "source": [
    "ロジスティック回帰の仮定関数のメソッドをScratchLogisticRegressionクラスに実装してください。  "
   ]
  },
  {
   "cell_type": "markdown",
   "metadata": {},
   "source": [
    "$h_\\theta(x) = \\frac{1}{1+e^{−\\theta^T \\cdot x}}.$"
   ]
  },
  {
   "cell_type": "markdown",
   "metadata": {},
   "source": [
    "~~~\n",
    "def _hypothesis(self, X, theta):\n",
    "        \"\"\"\n",
    "        仮定関数を計算する\n",
    "\n",
    "        Parameters\n",
    "        ----------\n",
    "        X : 次の形のndarray, shape (n_samples, n_features) 訓練データ\n",
    "        \n",
    "        Returns\n",
    "        -------\n",
    "          次の形のndarray, shape (n_samples, 1) 線形の仮定関数による推定結果\n",
    "        \"\"\"\n",
    "        def g(z):\n",
    "            # シグモイド関数\n",
    "            return 1.0 / (1.0 + np.exp(-z))\n",
    "        \n",
    "        # シグモイド関数に適応する。\n",
    "        h = np.dot(X, theta)\n",
    "        \n",
    "        return g(h)\n",
    "~~~"
   ]
  },
  {
   "cell_type": "markdown",
   "metadata": {},
   "source": [
    "# 【問題2】最急降下法"
   ]
  },
  {
   "cell_type": "markdown",
   "metadata": {},
   "source": [
    "最急降下法により学習させる実装を行なってください。  \n",
    "以下の式で表されるパラメータの更新式のメソッド_gradient_descentを追加し、  \n",
    "fitメソッドから呼び出すようにしてください。  "
   ]
  },
  {
   "cell_type": "markdown",
   "metadata": {},
   "source": [
    "$\\theta_j := \\theta_j - \\alpha \\frac{\\partial J(\\theta)}{\\partial \\theta_j}\\\\<br/>\\frac{\\partial J(\\theta)}{\\partial \\theta_0} = \\frac{1}{m}  \\sum_{i=1}^{m}(h_θ(x^{(i)}) − y^{(i)})x_j^{(i)}  ,j = 0\\\\<br/>\\frac{\\partial J(\\theta)}{\\partial \\theta_j} = \\biggl(\\frac{1}{m}  \\sum_{i=1}^{m}(h_θ(x^{(i)}) − y^{(i)})x_j^{(i)} \\biggr) + \\frac{λ}{m}\\theta_j　 ,j\\geq 1$"
   ]
  },
  {
   "cell_type": "markdown",
   "metadata": {},
   "source": [
    "参考:線形回帰"
   ]
  },
  {
   "cell_type": "markdown",
   "metadata": {},
   "source": [
    "$\\theta_j := \\theta_j - \\alpha \\frac{1}{m} \\sum_{i=1}^{m}[(h_\\theta(x^{(i)}) - y^{(i)} )x_{j}^{(i)}]$"
   ]
  },
  {
   "cell_type": "markdown",
   "metadata": {},
   "source": [
    "~~~\n",
    "\n",
    "    def _gradient_descent(self, X, y, theta):\n",
    "        \"\"\"\n",
    "        最急降下法により、θの値を求める\n",
    "        X : 次の形のndarray, shape (n_samples, n_features) 訓練データの特徴量\n",
    "        y : 次の形のndarray, shape (n_samples, ) 訓練データの正解値\n",
    "        \"\"\"\n",
    "        m = X.shape[0] # データ数\n",
    "        j = X.shape[1] # 特徴量数(bを含む)\n",
    "        alpha = self.lr\n",
    "        lam = self.lam\n",
    "        h = self._hypothesis(X, theta)\n",
    "        error = h-y.reshape(m,)\n",
    "        \n",
    "        # J>=1の場合\n",
    "        theta = theta - alpha*(1/m)*np.dot(X.T,error) + (lam/m)*theta\n",
    "        \n",
    "        # j=0の場合,正則化項不要なので上書き\n",
    "        theta[0] = theta[0] - (lam/m)*theta[0]\n",
    "        \n",
    "        return  theta\n",
    "~~~"
   ]
  },
  {
   "cell_type": "markdown",
   "metadata": {},
   "source": [
    "# 【問題3】推定"
   ]
  },
  {
   "cell_type": "markdown",
   "metadata": {},
   "source": [
    "推定する仕組みを実装してください。  \n",
    "ScratchLogisticRegressionクラスの雛形に含まれるpredictメソッドとpredict_probaメソッドに書き加えてください。\n",
    "\n",
    "仮定関数 $h_\\theta(x)$ の出力がpredict_probaの返り値、さらにその値に閾値を設けて1と0のラベルとしたものがpredictの返り値となります。"
   ]
  },
  {
   "cell_type": "markdown",
   "metadata": {},
   "source": [
    "~~~\n",
    "def predict_proba(self, X):\n",
    "        \"\"\"\n",
    "        ロジスティック回帰を使い確率を推定する。\n",
    "\n",
    "        Parameters\n",
    "        ----------\n",
    "        X : 次の形のndarray, shape (n_samples, n_features)\n",
    "            サンプル\n",
    "\n",
    "        Returns\n",
    "        -------\n",
    "            次の形のndarray, shape (n_samples, 1)\n",
    "            ロジスティック回帰による推定結果\n",
    "        \"\"\"\n",
    "        X_test = sm.add_constant(X_test) #最初の列に1を加える\n",
    "        y_pred = self._linear_hypothesis(X_test, self.coef_)\n",
    "        \n",
    "        return y_pred\n",
    "\n",
    "    def predict(self, X_test):\n",
    "        \"\"\"\n",
    "        ロジスティック回帰を使いラベルを推定する。\n",
    "        →最終的なパラメータを利用し、検証データ(X_test)から予測データ(y_train)を求める\n",
    "\n",
    "        Parameters\n",
    "        ----------\n",
    "        X_test : 次の形のndarray, shape (n_samples, n_features) : 検証用データ\n",
    "       \n",
    "       Returns\n",
    "        -------\n",
    "            次の形のndarray, shape (n_samples, 1) : 線形回帰による推定結果\n",
    "        \"\"\"\n",
    "        X_test = sm.add_constant(X_test) #最初の列に1を加える\n",
    "        y_pred = self._hypothesis(X_test, self.coef_)\n",
    "        \n",
    "        return np.where(y_pred > 0.5, 1, 0)\n",
    "~~~"
   ]
  },
  {
   "cell_type": "markdown",
   "metadata": {},
   "source": [
    "# 【問題4】目的関数"
   ]
  },
  {
   "cell_type": "markdown",
   "metadata": {},
   "source": [
    "以下の数式で表されるロジスティック回帰の 目的関数（損失関数） を実装してください。  \n",
    "そして、これをself.loss, self.val_lossに記録するようにしてください。  \n",
    "  \n",
    "なお、この数式には正則化項が含まれています。  "
   ]
  },
  {
   "cell_type": "markdown",
   "metadata": {},
   "source": [
    "$J(\\theta)=  \\frac{1}{m}  \\sum_{i=1}^{m}[−y^{(i)} log(h_θ(x^{(i)})) − (1−y^{(i)}) log(1−h_θ(x^{(i)}))] +\n",
    "\\frac{λ}{2m}\\sum_{j=1}^nθ^2_j.$"
   ]
  },
  {
   "cell_type": "markdown",
   "metadata": {},
   "source": [
    "参考:線形回帰"
   ]
  },
  {
   "cell_type": "markdown",
   "metadata": {},
   "source": [
    "$J(\\theta)=  \\frac{1 }{ 2m}  \\sum_{i=1}^{m} (h_\\theta(x^{(i)})-y^{(i)})^2.$"
   ]
  },
  {
   "cell_type": "code",
   "execution_count": 1,
   "metadata": {},
   "outputs": [],
   "source": [
    "class ScratchLogisticRegression():\n",
    "    \"\"\"\n",
    "    ロジスティック回帰のスクラッチ実装\n",
    "\n",
    "    Parameters\n",
    "    ----------\n",
    "    num_iter : int イテレーション数\n",
    "    lr : float 学習率\n",
    "    no_bias : bool バイアス項を入れない場合はTrue\n",
    "    verbose : bool 学習過程を出力する場合はTrue\n",
    "\n",
    "    Attributes\n",
    "    ----------\n",
    "    self.coef_ : 次の形のndarray, shape (n_features,) パラメータ\n",
    "    self.loss : 次の形のndarray, shape (self.iter,) 訓練データに対する損失の記録\n",
    "    self.val_loss : 次の形のndarray, shape (self.iter,) 検証データに対する損失の記録\n",
    "\n",
    "    \"\"\"\n",
    "    def __init__(self, num_iter=10, lr=0.1, lam=0.1, no_bias=None, verbose=None):\n",
    "        # ハイパーパラメータを属性として記録\n",
    "        self.iter = num_iter # イテレーション数\n",
    "        self.lr = lr # 学習率(αのこと)\n",
    "        self.no_bias = no_bias # バイアス項、w0を入れるかどうか\n",
    "        self.verbose = verbose # 学習過程を出すかどうか\n",
    "        self.lam = lam\n",
    "        \n",
    "        # 損失を記録する配列を用意\n",
    "        self.loss = np.zeros(self.iter)\n",
    "        self.val_loss = np.zeros(self.iter)\n",
    "        \n",
    "    # 【問題1】仮定関数\n",
    "    def _hypothesis(self, X, theta):\n",
    "        \"\"\"\n",
    "        仮定関数を計算する\n",
    "\n",
    "        Parameters\n",
    "        ----------\n",
    "        X : 次の形のndarray, shape (n_samples, n_features) 訓練データ\n",
    "        \n",
    "        Returns\n",
    "        -------\n",
    "          次の形のndarray, shape (n_samples, 1) 線形の仮定関数による推定結果\n",
    "        \"\"\"\n",
    "        def g(z):\n",
    "            # シグモイド関数\n",
    "            return 1.0 / (1.0 + np.exp(-z))\n",
    "        \n",
    "        # シグモイド関数に適応する。\n",
    "        h = np.dot(X, theta)\n",
    "        \n",
    "        return g(h)\n",
    "\n",
    "    # 【問題2】最急降下法, fitメソッドから参照される\n",
    "    def _gradient_descent(self, X, y, theta):\n",
    "        \"\"\"\n",
    "        最急降下法により、θの値を求める\n",
    "        X : 次の形のndarray, shape (n_samples, n_features) 訓練データの特徴量\n",
    "        y : 次の形のndarray, shape (n_samples, ) 訓練データの正解値\n",
    "        \"\"\"\n",
    "        m = X.shape[0] # データ数\n",
    "        j = X.shape[1] # 特徴量数(bを含む)\n",
    "        alpha = self.lr\n",
    "        lam = self.lam\n",
    "        h = self._hypothesis(X, theta)\n",
    "        error = h-y.reshape(m,)\n",
    "        \n",
    "        # J>=1の場合\n",
    "        theta = theta - alpha*(1/m)*np.dot(X.T,error) + (lam/m)*theta\n",
    "        \n",
    "        # j=0の場合,正則化項不要なので上書き\n",
    "        theta[0] = theta[0] - (lam/m)*theta[0]\n",
    "        \n",
    "        return  theta\n",
    "    \n",
    "    # 【問題4】目的関数\n",
    "    def _object_function(self, h, y, theta):\n",
    "        \"\"\"\n",
    "        目的関数\n",
    "        \"\"\"\n",
    "        lam = self.lam\n",
    "        m = y.shape[0] # データ数\n",
    "        \n",
    "        # 0割対策\n",
    "        # np.log(1-y)で0割が発生した\n",
    "        # np.logに0を引数した場合、0割となるので、0以下の場合はクリップする\n",
    "        h_1 = 1-h\n",
    "        np.place(h_1, h_1 <= 0.0, 1e-15)\n",
    "        \n",
    "        loss = (np.mean((-1)*y*np.log(h) - (1-y)*np.log(h_1))) + (lam/(2*m))*np.sum(np.square(theta))\n",
    "        \n",
    "        return loss\n",
    "    \n",
    "    def fit(self, X, y, X_val=None, y_val=None):\n",
    "        \"\"\"\n",
    "        ロジスティック回帰を学習する。\n",
    "        検証データが入力された場合はそれに対する損失と精度もイテレーションごとに計算する。\n",
    "\n",
    "        Parameters\n",
    "        ----------\n",
    "        X : 次の形のndarray, shape (n_samples, n_features) 訓練データの特徴量\n",
    "        y : 次の形のndarray, shape (n_samples, ) 訓練データの正解値\n",
    "        X_val : 次の形のndarray, shape (n_samples, n_features) 検証データの特徴量\n",
    "        y_val : 次の形のndarray, shape (n_samples, ) 検証データの正解値\n",
    "        \"\"\"\n",
    "        # 検証データ(X_val, y_val)の有無を確認\n",
    "        flag_val = True\n",
    "        if (X_val is None) and (y_val is None):\n",
    "            # 検証データが入力されなかった場合、検証データの保存と学習過程を表示しない\n",
    "            flag_val = False\n",
    "        \n",
    "        X = sm.add_constant(X) #最初の列に1を加える\n",
    "        if flag_val == True:\n",
    "            X_val = sm.add_constant(X_val) #最初の列に1を加える\n",
    "        \n",
    "        # 初期化処理\n",
    "        # Xのデータサイズが確定したので再初期化\n",
    "        self.coef_ = np.zeros(X.shape[1]) # パラメータ\n",
    "        m = X.shape[0] # データ数\n",
    "        \n",
    "        # 内部変数の初期化\n",
    "        alpha = self.lr\n",
    "        itera = self.iter\n",
    "        lam = self.lam\n",
    "        \n",
    "        np.random.seed(1)\n",
    "        theta = np.random.rand(X.shape[1])\n",
    "        \n",
    "        for i in range(itera):\n",
    "            # (1)仮定関数を利用し予測値を求める。\n",
    "            h = self._hypothesis(X, theta)\n",
    "            \n",
    "            # (2)目的変数と予測値の誤差を求める\n",
    "            self.loss[i] = self._object_function(h, y, theta)\n",
    "            \n",
    "            if flag_val == True:\n",
    "                # 検証データが入力された場合\n",
    "                h_val = self._hypothesis(X_val, theta)\n",
    "                self.val_loss[i] = self._object_function(h_val, y_val, theta)\n",
    "            \n",
    "            if (self.verbose):\n",
    "                #verboseをTrueにした際は学習過程を出力                                                                                  \n",
    "                if flag_val:\n",
    "                    print(\"n=\", i, \"θ=\", theta, \"loss=\", self.loss[i], \"val_loss=\", self.val_loss[i])\n",
    "                else:\n",
    "                    print(\"n=\", i, \"θ=\", theta, \"loss=\", self.loss[i])\n",
    "            \n",
    "            # (3)目的関数の最適解を探索的に求める(最急降下法)\n",
    "            theta = self._gradient_descent(X, y, theta)\n",
    "            \n",
    "        # (4)最適解に至るとき、仮定関数の最適なパラメータが求まる\n",
    "        self.coef_ = theta               \n",
    "                \n",
    "        return\n",
    "    \n",
    "    def predict_proba(self, X):\n",
    "        \"\"\"\n",
    "        ロジスティック回帰を使い確率を推定する。\n",
    "\n",
    "        Parameters\n",
    "        ----------\n",
    "        X : 次の形のndarray, shape (n_samples, n_features)\n",
    "            サンプル\n",
    "\n",
    "        Returns\n",
    "        -------\n",
    "            次の形のndarray, shape (n_samples, 1)\n",
    "            ロジスティック回帰による推定結果\n",
    "        \"\"\"\n",
    "        X_test = sm.add_constant(X_test) #最初の列に1を加える\n",
    "        y_pred = self._linear_hypothesis(X_test, self.coef_)\n",
    "        \n",
    "        return y_pred\n",
    "\n",
    "    def predict(self, X_test):\n",
    "        \"\"\"\n",
    "        ロジスティック回帰を使いラベルを推定する。\n",
    "        →最終的なパラメータを利用し、検証データ(X_test)から予測データ(y_train)を求める\n",
    "\n",
    "        Parameters\n",
    "        ----------\n",
    "        X_test : 次の形のndarray, shape (n_samples, n_features) : 検証用データ\n",
    "       \n",
    "       Returns\n",
    "        -------\n",
    "            次の形のndarray, shape (n_samples, 1) : 線形回帰による推定結果\n",
    "        \"\"\"\n",
    "        X_test = sm.add_constant(X_test) #最初の列に1を加える\n",
    "        y_pred = self._hypothesis(X_test, self.coef_)\n",
    "        \n",
    "        return np.where(y_pred > 0.5, 1, 0)"
   ]
  },
  {
   "cell_type": "code",
   "execution_count": null,
   "metadata": {},
   "outputs": [],
   "source": []
  },
  {
   "cell_type": "markdown",
   "metadata": {},
   "source": [
    "# 【問題5】学習と推定"
   ]
  },
  {
   "cell_type": "markdown",
   "metadata": {},
   "source": [
    "機械学習スクラッチ入門のSprintで用意したirisデータセットの  \n",
    "virgicolorとvirginicaの2値分類に対してスクラッチ実装の学習と推定を行なってください。\n",
    "\n",
    "scikit-learnによる実装と比べ、正しく動いているかを確認してください。  \n",
    "→問6より、同等に分割できていることを確認  \n",
    "\n",
    "AccuracyやPrecision、Recallなどの指標値はscikit-learnを使用してください。 "
   ]
  },
  {
   "cell_type": "code",
   "execution_count": 2,
   "metadata": {},
   "outputs": [],
   "source": [
    "# データの読み込み\n",
    "from sklearn.datasets import load_iris\n",
    "data_iris = load_iris()\n",
    "\n",
    "X = pd.DataFrame(data_iris.data, columns=[\"sepal_length\",\"sepal_width\",\"petal_length\",\"petal_width\"])\n",
    "y = pd.DataFrame(data_iris.target, columns=[\"Species\"])\n",
    "\n",
    "df = pd.concat([X, y], axis=1)\n",
    "\n",
    "# データフレームから\"virgicolor\"と\"virginica\"を抜き出してください。\n",
    "# 参考情報:setosa:0, virgiclor:1, virginica:2\n",
    "# virgiclor → 0, virginica → 1に変更する\n",
    "\n",
    "df_temp1 = df[ df[\"Species\"] == 1 ]\n",
    "df_temp1 = df_temp1.replace({'Species': {1: 0}})\n",
    "\n",
    "df_temp2 = df[ df[\"Species\"] == 2 ]\n",
    "df_temp2 = df_temp2.replace({'Species': {2: 1}})\n",
    "df2 = pd.concat([df_temp1, df_temp2], axis=0)"
   ]
  },
  {
   "cell_type": "code",
   "execution_count": 5,
   "metadata": {},
   "outputs": [],
   "source": [
    "# 訓練データの分割\n",
    "# 特徴量（説明変数）をX、正解（目的変数）をyというndarrayに格納\n",
    "#X_ndarray = df2[[\"sepal_length\", \"sepal_width\", \"petal_length\", \"petal_width\"]].values\n",
    "X_ndarray = df2[[\"petal_length\", \"petal_width\"]].values\n",
    "y_ndarray = df2[[\"Species\"]].values\n",
    "\n",
    "X_train, X_test, y_train, y_test = train_test_split(X_ndarray, y_ndarray, test_size=0.25, random_state=0)"
   ]
  },
  {
   "cell_type": "code",
   "execution_count": 6,
   "metadata": {},
   "outputs": [],
   "source": [
    "# 前処理・標準化\n",
    "scaler = StandardScaler()\n",
    "scaler.fit(X_train)\n",
    "\n",
    "X_train_std = scaler.transform(X_train)\n",
    "X_test_std = scaler.transform(X_test)"
   ]
  },
  {
   "cell_type": "markdown",
   "metadata": {},
   "source": [
    "# scikit-learnによる実装"
   ]
  },
  {
   "cell_type": "code",
   "execution_count": 7,
   "metadata": {},
   "outputs": [
    {
     "name": "stdout",
     "output_type": "stream",
     "text": [
      "Accuracy（正解率） 0.96\n",
      "Precision（適合率） 0.9230769230769231\n",
      "Recall（再現率） 1.0\n",
      "F値 0.9600000000000001\n",
      "[[0.98730286 0.98416681]] [0.09706534]\n",
      "9\n"
     ]
    }
   ],
   "source": [
    "# ロジスティック回帰\n",
    "clf = linear_model.SGDClassifier(loss=\"log\", alpha=0.1, max_iter=1000, verbose=0)\n",
    "clf.fit(X_train_std, y_train.reshape(75,))\n",
    "y_pred = clf.predict(X_test_std)\n",
    "\n",
    "print(\"Accuracy（正解率）\", accuracy_score(y_test, y_pred))\n",
    "print(\"Precision（適合率）\", precision_score(y_test, y_pred))\n",
    "print(\"Recall（再現率）\", recall_score(y_test, y_pred))\n",
    "print(\"F値\",f1_score(y_test, y_pred))\n",
    "\n",
    "print(clf.coef_, clf.intercept_)\n",
    "print(clf.n_iter_)"
   ]
  },
  {
   "cell_type": "code",
   "execution_count": 8,
   "metadata": {},
   "outputs": [
    {
     "data": {
      "text/plain": [
       "<bound method BaseEstimator.get_params of SGDClassifier(alpha=0.1, average=False, class_weight=None, early_stopping=False,\n",
       "              epsilon=0.1, eta0=0.0, fit_intercept=True, l1_ratio=0.15,\n",
       "              learning_rate='optimal', loss='log', max_iter=1000,\n",
       "              n_iter_no_change=5, n_jobs=None, penalty='l2', power_t=0.5,\n",
       "              random_state=None, shuffle=True, tol=0.001,\n",
       "              validation_fraction=0.1, verbose=0, warm_start=False)>"
      ]
     },
     "execution_count": 8,
     "metadata": {},
     "output_type": "execute_result"
    }
   ],
   "source": [
    "clf.get_params"
   ]
  },
  {
   "cell_type": "markdown",
   "metadata": {},
   "source": [
    "# スクラッチによる実装"
   ]
  },
  {
   "cell_type": "code",
   "execution_count": 22,
   "metadata": {},
   "outputs": [
    {
     "name": "stdout",
     "output_type": "stream",
     "text": [
      "Accuracy（正解率） 0.96\n",
      "Precision（適合率） 0.9230769230769231\n",
      "Recall（再現率） 1.0\n",
      "F値 0.9600000000000001\n",
      "[0.5154151  3.637811   2.79449694]\n"
     ]
    }
   ],
   "source": [
    "clf_sc = ScratchLogisticRegression(num_iter=1000, lr=0.1, lam=0.01, verbose=0)\n",
    "clf_sc.fit(X_train_std, y_train.reshape(75,), X_test_std, y_test.reshape(25,))\n",
    "\n",
    "y_pred_sc = clf_sc.predict(X_test_std)\n",
    "\n",
    "print(\"Accuracy（正解率）\", accuracy_score(y_test, y_pred_sc))\n",
    "print(\"Precision（適合率）\", precision_score(y_test, y_pred_sc))\n",
    "print(\"Recall（再現率）\", recall_score(y_test, y_pred_sc))\n",
    "print(\"F値\",f1_score(y_test, y_pred_sc))\n",
    "\n",
    "print(clf_sc.coef_)"
   ]
  },
  {
   "cell_type": "code",
   "execution_count": null,
   "metadata": {},
   "outputs": [],
   "source": []
  },
  {
   "cell_type": "markdown",
   "metadata": {},
   "source": [
    "# 【問題6】学習曲線のプロット"
   ]
  },
  {
   "cell_type": "markdown",
   "metadata": {},
   "source": [
    "学習曲線を見て損失が適切に下がっているかどうか確認してください。  \n",
    "→損失が少なくなっていることを確認  "
   ]
  },
  {
   "cell_type": "code",
   "execution_count": 23,
   "metadata": {},
   "outputs": [],
   "source": [
    "def plot_learning_curve(loss, val_loss):\n",
    "\n",
    "    fig, (axL, axR) = plt.subplots(ncols=2, figsize=(10,4))\n",
    "\n",
    "    axL.plot(loss, c=\"b\")\n",
    "    axL.set_xlabel(\"Iteration\")\n",
    "    axL.set_ylabel(\"loss\")\n",
    "    axL.grid()\n",
    "\n",
    "    axR.plot(val_loss, c=\"r\")\n",
    "    axR.set_xlabel(\"Iteration\")\n",
    "    axR.set_ylabel(\"loss\")\n",
    "    axR.grid()\n",
    "    plt.show()\n"
   ]
  },
  {
   "cell_type": "code",
   "execution_count": 21,
   "metadata": {},
   "outputs": [
    {
     "data": {
      "image/png": "[encoded data removed]",
      "text/plain": [
       "<Figure size 720x288 with 2 Axes>"
      ]
     },
     "metadata": {
      "needs_background": "light"
     },
     "output_type": "display_data"
    }
   ],
   "source": [
    "plot_learning_curve(clf_sc.loss, clf_sc.val_loss)"
   ]
  },
  {
   "cell_type": "markdown",
   "metadata": {},
   "source": [
    "# 【問題7】決定領域の可視化"
   ]
  },
  {
   "cell_type": "markdown",
   "metadata": {},
   "source": [
    "* 決定領域を可視化してください。"
   ]
  },
  {
   "cell_type": "code",
   "execution_count": 12,
   "metadata": {},
   "outputs": [],
   "source": [
    "import matplotlib.pyplot as plt\n",
    "from matplotlib.colors import ListedColormap\n",
    "import matplotlib.patches as mpatches\n",
    "def decision_region(X, y, model, step=0.01, title='decision region', xlabel='xlabel', ylabel='ylabel', target_names=['versicolor', 'virginica']):\n",
    "    \"\"\"\n",
    "    2値分類を2次元の特徴量で学習したモデルの決定領域を描く。\n",
    "    背景の色が学習したモデルによる推定値から描画される。\n",
    "    散布図の点は訓練データまたは検証データである。\n",
    "\n",
    "    Parameters\n",
    "    ----------------\n",
    "    X : ndarray, shape(n_samples, 2)\n",
    "        特徴量\n",
    "    y : ndarray, shape(n_samples,)\n",
    "        ラベル\n",
    "    model : object\n",
    "        学習したモデルのインスンタスを入れる\n",
    "    step : float, (default : 0.1)\n",
    "        推定値を計算する間隔を設定する\n",
    "    title : str\n",
    "        グラフのタイトルの文章を与える\n",
    "    xlabel, ylabel : str\n",
    "        軸ラベルの文章を与える\n",
    "    target_names= : list of str\n",
    "        凡例の一覧を与える\n",
    "    \"\"\"\n",
    "    # setting\n",
    "    scatter_color = ['red', 'blue']\n",
    "    contourf_color = ['pink', 'skyblue']\n",
    "    n_class = 2\n",
    "    # pred\n",
    "    mesh_f0, mesh_f1  = np.meshgrid(np.arange(np.min(X[:,0])-0.5, np.max(X[:,0])+0.5, step), np.arange(np.min(X[:,1])-0.5, np.max(X[:,1])+0.5, step))\n",
    "    mesh = np.c_[np.ravel(mesh_f0),np.ravel(mesh_f1)]\n",
    "    y_pred = model.predict(mesh).reshape(mesh_f0.shape)\n",
    "    # plot\n",
    "    plt.title(title)\n",
    "    plt.xlabel(xlabel)\n",
    "    plt.ylabel(ylabel)\n",
    "    plt.contourf(mesh_f0, mesh_f1, y_pred, n_class-1, cmap=ListedColormap(contourf_color))\n",
    "    plt.contour(mesh_f0, mesh_f1, y_pred, n_class-1, colors='y', linewidths=3, alpha=0.5)\n",
    "    for i, target in enumerate(set(y)):\n",
    "        plt.scatter(X[y==target][:, 0], X[y==target][:, 1], s=80, color=scatter_color[i], label=target_names[i], marker='o')\n",
    "    patches = [mpatches.Patch(color=scatter_color[i], label=target_names[i]) for i in range(n_class)]\n",
    "    plt.legend(handles=patches)\n",
    "    plt.legend()\n",
    "    plt.show()"
   ]
  },
  {
   "cell_type": "code",
   "execution_count": 13,
   "metadata": {},
   "outputs": [],
   "source": [
    "import matplotlib.pyplot as plt\n",
    "from matplotlib.colors import ListedColormap\n",
    "import matplotlib.patches as mpatches\n",
    "def decision_region(X, y, model, step=0.01, title='decision region', xlabel='xlabel', ylabel='ylabel', target_names=['versicolor', 'virginica']):\n",
    "    \"\"\"\n",
    "    2値分類を2次元の特徴量で学習したモデルの決定領域を描く。\n",
    "    背景の色が学習したモデルによる推定値から描画される。\n",
    "    散布図の点は訓練データまたは検証データである。\n",
    "\n",
    "    Parameters\n",
    "    ----------------\n",
    "    X : ndarray, shape(n_samples, 2)\n",
    "        特徴量\n",
    "    y : ndarray, shape(n_samples,)\n",
    "        ラベル\n",
    "    model : object\n",
    "        学習したモデルのインスンタスを入れる\n",
    "    step : float, (default : 0.1)\n",
    "        推定値を計算する間隔を設定する\n",
    "    title : str\n",
    "        グラフのタイトルの文章を与える\n",
    "    xlabel, ylabel : str\n",
    "        軸ラベルの文章を与える\n",
    "    target_names= : list of str\n",
    "        凡例の一覧を与える\n",
    "    \"\"\"\n",
    "    # setting\n",
    "    scatter_color = ['red', 'blue']\n",
    "    contourf_color = ['pink', 'skyblue']\n",
    "    n_class = 2\n",
    "    # pred\n",
    "    mesh_f0, mesh_f1  = np.meshgrid(np.arange(np.min(X[:,0])-0.5, np.max(X[:,0])+0.5, step), np.arange(np.min(X[:,1])-0.5, np.max(X[:,1])+0.5, step))\n",
    "    mesh = np.c_[np.ravel(mesh_f0),np.ravel(mesh_f1)]\n",
    "    y_pred = model.predict(mesh).reshape(mesh_f0.shape)\n",
    "    # plot\n",
    "    plt.title(title)\n",
    "    plt.xlabel(xlabel)\n",
    "    plt.ylabel(ylabel)\n",
    "    plt.contourf(mesh_f0, mesh_f1, y_pred, n_class-1, cmap=ListedColormap(contourf_color))\n",
    "    plt.contour(mesh_f0, mesh_f1, y_pred, n_class-1, colors='y', linewidths=3, alpha=0.5)\n",
    "    for i, target in enumerate(set(y)):\n",
    "        plt.scatter(X[y==target][:, 0], X[y==target][:, 1], s=80, color=scatter_color[i], label=target_names[i], marker='o')\n",
    "    patches = [mpatches.Patch(color=scatter_color[i], label=target_names[i]) for i in range(n_class)]\n",
    "    plt.legend(handles=patches)\n",
    "    plt.legend()\n",
    "    plt.show()"
   ]
  },
  {
   "cell_type": "code",
   "execution_count": 14,
   "metadata": {},
   "outputs": [
    {
     "data": {
      "image/png": "[encoded data removed]",
      "text/plain": [
       "<Figure size 432x288 with 1 Axes>"
      ]
     },
     "metadata": {
      "needs_background": "light"
     },
     "output_type": "display_data"
    }
   ],
   "source": [
    "decision_region(X_train_std, y_train.reshape(75,), clf, step=0.01, title='decision region', xlabel='xlabel', ylabel='ylabel', target_names=['versicolor', 'virginica'])"
   ]
  },
  {
   "cell_type": "code",
   "execution_count": 15,
   "metadata": {},
   "outputs": [
    {
     "data": {
      "image/png": "[encoded data removed]",
      "text/plain": [
       "<Figure size 432x288 with 1 Axes>"
      ]
     },
     "metadata": {
      "needs_background": "light"
     },
     "output_type": "display_data"
    }
   ],
   "source": [
    "decision_region(X_train_std, y_train.reshape(75,), clf_sc, step=0.01, title='scratch region', xlabel='xlabel', ylabel='ylabel', target_names=['versicolor', 'virginica'])"
   ]
  },
  {
   "cell_type": "code",
   "execution_count": null,
   "metadata": {},
   "outputs": [],
   "source": []
  }
 ],
 "metadata": {
  "kernelspec": {
   "display_name": "Python 3",
   "language": "python",
   "name": "python3"
  },
  "language_info": {
   "codemirror_mode": {
    "name": "ipython",
    "version": 3
   },
   "file_extension": ".py",
   "mimetype": "text/x-python",
   "name": "python",
   "nbconvert_exporter": "python",
   "pygments_lexer": "ipython3",
   "version": "3.7.0"
  }
 },
 "nbformat": 4,
 "nbformat_minor": 4
}
