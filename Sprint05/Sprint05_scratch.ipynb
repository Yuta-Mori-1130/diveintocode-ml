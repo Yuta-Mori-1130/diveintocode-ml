{
 "cells": [
  {
   "cell_type": "markdown",
   "metadata": {},
   "source": [
    "[課題のURL](https://diver.diveintocode.jp/curriculums/1435)"
   ]
  },
  {
   "cell_type": "markdown",
   "metadata": {},
   "source": [
    "# Sprint 機械学習スクラッチSVM"
   ]
  },
  {
   "cell_type": "code",
   "execution_count": 237,
   "metadata": {},
   "outputs": [],
   "source": [
    "import math\n",
    "import numpy as np\n",
    "import pandas as pd\n",
    "\n",
    "import matplotlib.pyplot as plt\n",
    "import matplotlib.animation as animation\n",
    "import statsmodels.api as sm\n",
    "\n",
    "from sklearn.model_selection import train_test_split\n",
    "from sklearn.datasets import load_iris\n",
    "from sklearn.model_selection import train_test_split\n",
    "from sklearn.preprocessing import StandardScaler\n",
    "from sklearn import linear_model\n",
    "from sklearn.metrics import accuracy_score, precision_score, recall_score, f1_score, confusion_matrix"
   ]
  },
  {
   "cell_type": "markdown",
   "metadata": {},
   "source": [
    "# 【問題1】ラグランジュの未定乗数法による最急降下"
   ]
  },
  {
   "cell_type": "markdown",
   "metadata": {},
   "source": [
    "# 最急降下法"
   ]
  },
  {
   "cell_type": "markdown",
   "metadata": {},
   "source": [
    "SVMの最適化問題は、ラグランジュの未定乗数法により解くことができます。  \n",
    "サンプル数分のラグランジュ乗数 λを用意して、以下の式により更新していきます。  "
   ]
  },
  {
   "cell_type": "markdown",
   "metadata": {},
   "source": [
    "$\\lambda_i^{new} = \\lambda_i + \\alpha(1 - \\sum_{j=1}^{n}{\\lambda_j y_i y_j k(x_i, x_j)})$"
   ]
  },
  {
   "cell_type": "markdown",
   "metadata": {},
   "source": [
    "ここで k(xi, xj)はカーネル関数です。\n",
    "線形カーネルの場合は次のようになります。  \n",
    "他のカーネル関数にも対応できるように、この部分はメソッド化しておきましょう。  "
   ]
  },
  {
   "cell_type": "markdown",
   "metadata": {},
   "source": [
    "$k(x_i, x_j) = x_{i}^{T} x_j$"
   ]
  },
  {
   "cell_type": "markdown",
   "metadata": {},
   "source": [
    "~~~\n",
    "def _kernel(self, X1, X2):\n",
    "        \"\"\"\n",
    "        カーネル関数\n",
    "\n",
    "        Parameters\n",
    "        ----------\n",
    "        X1 : 次の形のndarray, shape (n_samples, n_features)\n",
    "            ****\n",
    "        X2 : 次の形のndarray, shape (n_samples, n_features)\n",
    "            ****\n",
    "            \n",
    "        Returns\n",
    "        -------\n",
    "            次の形のndarray, shape (n_samples, n_samples)\n",
    "            ****\n",
    "        \"\"\"\n",
    "        \n",
    "        return np.dot(X2, X1.T)\n",
    "    \n",
    "def _gradient_descent(self, k, yy, lam):\n",
    "        \"\"\"\n",
    "        最急降下法により、lambdaの値を求める\n",
    "        \n",
    "        Parameters\n",
    "        ----------\n",
    "        X1 : 次の形のndarray, k (n_samples, n_samples)\n",
    "            カーネル関数の値(Xi*Xj)\n",
    "        y1 : 次の形のndarray, yy (n_samples, n_samples)\n",
    "            Yi*Yj\n",
    "        \"\"\"\n",
    "        alpha = self.lr\n",
    "                \n",
    "        lam = lam + alpha*(1 - np.dot(lam, k*yy))\n",
    "        #lam = lam + alpha*(1 - y*(np.dot(k, lam*y)))\n",
    "        \n",
    "        # 更新毎に lambda_i >= 0 を満たす必要ある\n",
    "        # このため0でクリップする\n",
    "        lam[lam < 0.0] = 0.0\n",
    "        \n",
    "        return lam\n",
    "~~~"
   ]
  },
  {
   "cell_type": "markdown",
   "metadata": {},
   "source": [
    "# 【問題2】サポートベクターの決定"
   ]
  },
  {
   "cell_type": "markdown",
   "metadata": {},
   "source": [
    "計算したラグランジュ乗数 $\\lambda$ が設定した閾値より大きいサンプルをサポートベクターとして扱います。  \n",
    "推定時にサポートベクターが必要になります。サポートベクターを決定し、インスタンス変数として保持しておくコードを書いてください。  \n",
    "  \n",
    "閾値はハイパーパラメータですが、1e-5程度からはじめると良いでしょう。サポートベクターの数を出力させられるようにしておくと学習がうまく行えているかを確認できます。  "
   ]
  },
  {
   "cell_type": "markdown",
   "metadata": {},
   "source": [
    "~~~\n",
    "        for _itr in range(num_iter):\n",
    "            lam = self._gradient_descent(k, yy, lam)\n",
    "            \n",
    "            # サポートベクターの決定\n",
    "            index_sv = np.where(lam > threshold)\n",
    "            count_sv = len(index_sv[0])\n",
    "            \n",
    "            if self.verbose:\n",
    "            #verboseをTrueにした際は学習過程を出力\n",
    "                print(count_sv)\n",
    "        \n",
    "        # データ保存\n",
    "        self.n_support_vectors = count_sv\n",
    "        self.index_support_vectors = index_sv[0]\n",
    "        self.X_sv = X[index_sv[0]]\n",
    "        self.y_sv = y[index_sv[0]]\n",
    "        self.lam_sv = lam[index_sv[0]]\n",
    "~~~"
   ]
  },
  {
   "cell_type": "markdown",
   "metadata": {},
   "source": [
    "# 【問題3】推定"
   ]
  },
  {
   "cell_type": "markdown",
   "metadata": {},
   "source": [
    "推定時には、推定したいデータの特徴量とサポートベクターの特徴量をカーネル関数によって計算します。  \n",
    "求めた $f(x)$ の符号が分類結果です。  "
   ]
  },
  {
   "cell_type": "markdown",
   "metadata": {},
   "source": [
    "$f(x) = \\sum_{n=1}^{N}\\lambda_n y_{sv\\_n} k(x, s_n)$"
   ]
  },
  {
   "cell_type": "markdown",
   "metadata": {},
   "source": [
    "~~~\n",
    "    \n",
    "    def predict(self, X):\n",
    "        \"\"\"\n",
    "        SVM分類器を使いラベルを推定する。\n",
    "\n",
    "        Parameters\n",
    "        ----------\n",
    "        X : 次の形のndarray, shape (n_samples, n_features)\n",
    "            サンプル\n",
    "\n",
    "        Returns\n",
    "        -------\n",
    "            次の形のndarray, shape (n_samples, 1)\n",
    "            SVM分類器による推定結果\n",
    "        \"\"\"\n",
    "        X_sv = self.X_sv\n",
    "        y_sv = self.y_sv\n",
    "        lam_sv = self.lam_sv\n",
    "        \n",
    "        k = self._kernel(X, X_sv)\n",
    "        y_pred = np.dot(k.T*y_sv, lam_sv)\n",
    "        \n",
    "        return np.sign(y_pred)\n",
    "~~~"
   ]
  },
  {
   "cell_type": "markdown",
   "metadata": {},
   "source": [
    "# 【問題4】学習と推定"
   ]
  },
  {
   "cell_type": "markdown",
   "metadata": {},
   "source": [
    "機械学習スクラッチ入門のSprintで用意したシンプルデータセット1の2値分類に対してスクラッチ実装の学習と推定を行なってください。"
   ]
  },
  {
   "cell_type": "code",
   "execution_count": 172,
   "metadata": {},
   "outputs": [],
   "source": [
    "np.random.seed(seed=0)\n",
    "n_samples = 500\n",
    "f0 = [-1, 2]\n",
    "f1 = [2, -1]\n",
    "cov = [[1.0,0.8], [0.8, 1.0]]\n",
    "f0 = np.random.multivariate_normal(f0, cov, int(n_samples/2))\n",
    "f1 = np.random.multivariate_normal(f1, cov, int(n_samples/2))\n",
    "X = np.concatenate((f0, f1))\n",
    "y = np.concatenate((np.ones((int(n_samples/2))), np.ones((int(n_samples/2))) *(-1))).astype(np.int)\n",
    "random_index = np.random.permutation(np.arange(n_samples))\n",
    "X = X[random_index]\n",
    "y = y[random_index]"
   ]
  },
  {
   "cell_type": "code",
   "execution_count": 173,
   "metadata": {},
   "outputs": [],
   "source": [
    "X_train, X_test, y_train, y_test = train_test_split(X, y, test_size=0.25, random_state=0)"
   ]
  },
  {
   "cell_type": "markdown",
   "metadata": {},
   "source": [
    "scikit-learnによる実装と比べ、正しく動いているかを確認してください。    \n",
    "\n",
    "学習結果と【問題5】により正しく動作できていることを確認した。  \n",
    "サポートベクター数が異なるのは、  \n",
    "恐らく、スクラッチの方は\"tol:Tolerance for stopping criterion.\"  \n",
    "に対応していないからだと思われる。"
   ]
  },
  {
   "cell_type": "code",
   "execution_count": 160,
   "metadata": {},
   "outputs": [],
   "source": [
    "class ScratchSVMClassifier():\n",
    "    \"\"\"\n",
    "    SVM分類器のスクラッチ実装\n",
    "\n",
    "    Parameters\n",
    "    ----------\n",
    "    num_iter : int\n",
    "      イテレーション数\n",
    "    lr : float\n",
    "      学習率\n",
    "    kernel : str\n",
    "      カーネルの種類。線形カーネル（linear）か多項式カーネル（polly）\n",
    "    threshold : float\n",
    "      サポートベクターを選ぶための閾値\n",
    "    verbose : bool\n",
    "      学習過程を出力する場合はTrue\n",
    "\n",
    "    Attributes\n",
    "    ----------\n",
    "    self.n_support_vectors : int\n",
    "      サポートベクターの数\n",
    "    self.index_support_vectors : 次の形のndarray, shape (n_support_vectors,)\n",
    "      サポートベクターのインデックス\n",
    "    self.X_sv :  次の形のndarray, shape(n_support_vectors, n_features)\n",
    "      サポートベクターの特徴量\n",
    "    self.lam_sv :  次の形のndarray, shape(n_support_vectors, 1)\n",
    "      サポートベクターの未定乗数\n",
    "    self.y_sv :  次の形のndarray, shape(n_support_vectors, 1)\n",
    "      サポートベクターのラベル\n",
    "\n",
    "    \"\"\"\n",
    "    def __init__(self, num_iter, lr, kernel='linear', threshold=1e-5, verbose=False):\n",
    "        # ハイパーパラメータを属性として記録\n",
    "        self.iter = num_iter\n",
    "        self.lr = lr\n",
    "        self.kernel = kernel\n",
    "        self.threshold = threshold\n",
    "        self.verbose = verbose\n",
    "    \n",
    "    def _kernel(self, X1, X2):\n",
    "        \"\"\"\n",
    "        カーネル関数\n",
    "\n",
    "        Parameters\n",
    "        ----------\n",
    "        X1 : 次の形のndarray, shape (n_samples, n_features)\n",
    "            ****\n",
    "        X2 : 次の形のndarray, shape (n_samples, n_features)\n",
    "            ****\n",
    "            \n",
    "        Returns\n",
    "        -------\n",
    "            次の形のndarray, shape (n_samples, n_samples)\n",
    "            ****\n",
    "        \"\"\"\n",
    "        \n",
    "        return np.dot(X2, X1.T)\n",
    "    \n",
    "    def _gradient_descent(self, k, yy, lam):\n",
    "        \"\"\"\n",
    "        最急降下法により、lambdaの値を求める\n",
    "        \n",
    "        Parameters\n",
    "        ----------\n",
    "        X1 : 次の形のndarray, k (n_samples, n_samples)\n",
    "            カーネル関数の値(Xi*Xj)\n",
    "        y1 : 次の形のndarray, yy (n_samples, n_samples)\n",
    "            Yi*Yj\n",
    "        \"\"\"\n",
    "        alpha = self.lr\n",
    "                \n",
    "        lam = lam + alpha*(1 - np.dot(lam, k*yy))\n",
    "        #lam = lam + alpha*(1 - y*(np.dot(k, lam*y)))\n",
    "        \n",
    "        # 更新毎に lambda_i >= 0 を満たす必要ある\n",
    "        # このため0でクリップする\n",
    "        lam[lam < 0.0] = 0.0\n",
    "        \n",
    "        return lam\n",
    "    \n",
    "    def fit(self, X, y, X_val=None, y_val=None):\n",
    "        \"\"\"\n",
    "        SVM分類器を学習する。検証データが入力された場合はそれに対する精度もイテレーションごとに計算する。\n",
    "\n",
    "        Parameters\n",
    "        ----------\n",
    "        X : 次の形のndarray, shape (n_samples, n_features)\n",
    "            訓練データの特徴量\n",
    "        y : 次の形のndarray, shape (n_samples, )\n",
    "            訓練データの正解値\n",
    "        X_val : 次の形のndarray, shape (n_samples, n_features)\n",
    "            検証データの特徴量\n",
    "        y_val : 次の形のndarray, shape (n_samples, )\n",
    "            検証データの正解値\n",
    "        \"\"\"\n",
    "        \n",
    "        # 検証データ(X_val, y_val)の有無を確認\n",
    "        flag_val = True\n",
    "        if (X_val is None) and (y_val is None):\n",
    "            # 検証データが入力されなかった場合、検証データの保存と学習過程を表示しない\n",
    "            flag_val = False\n",
    "        \n",
    "        # 内部変数の初期化\n",
    "        alpha = self.lr\n",
    "        itera = self.iter\n",
    "        num_iter = self.iter\n",
    "        threshold = self.threshold\n",
    "        \n",
    "        np.random.seed(1)\n",
    "        lam = np.random.randn(X.shape[0])\n",
    "        \n",
    "        _debug_list_count_sv = np.zeros(num_iter)\n",
    "        _debug_list_count = np.zeros(num_iter)\n",
    "        \n",
    "        # @@@暫定\n",
    "        # 本来は、_gradient_descentの内部で実施したい\n",
    "        # グラム行列?をfor文のたびに実施すると処理が重いので、\n",
    "        # 事前(for文実施前)にyi*yjを求める。\n",
    "        \n",
    "        # yi*yj(グラム行列?)を作成\n",
    "        for i in range(y.shape[0]):\n",
    "            for j in range(y.shape[0]):\n",
    "                yy[i,j] = y[i]*y[j]\n",
    "        \n",
    "        # for文の外で実施する\n",
    "        k = self._kernel(X, X)\n",
    "        \n",
    "        for _itr in range(num_iter):\n",
    "            lam = self._gradient_descent(k, yy, lam)\n",
    "            \n",
    "            # サポートベクターの決定\n",
    "            index_sv = np.where(lam > threshold)\n",
    "            count_sv = len(index_sv[0])\n",
    "            \n",
    "            _debug_list_count[_itr] = _itr\n",
    "            _debug_list_count_sv[_itr] = count_sv\n",
    "            \n",
    "            if self.verbose:\n",
    "            #verboseをTrueにした際は学習過程を出力\n",
    "                print(count_sv)\n",
    "        \n",
    "        # データ保存\n",
    "        self.n_support_vectors = count_sv\n",
    "        self.index_support_vectors = index_sv[0]\n",
    "        self.X_sv = X[index_sv[0]]\n",
    "        self.y_sv = y[index_sv[0]]\n",
    "        self.lam_sv = lam[index_sv[0]]\n",
    "        \n",
    "        self._debug_list_count = _debug_list_count\n",
    "        self._debug_list_count_sv = _debug_list_count_sv\n",
    "        \n",
    "    def predict(self, X):\n",
    "        \"\"\"\n",
    "        SVM分類器を使いラベルを推定する。\n",
    "\n",
    "        Parameters\n",
    "        ----------\n",
    "        X : 次の形のndarray, shape (n_samples, n_features)\n",
    "            サンプル\n",
    "\n",
    "        Returns\n",
    "        -------\n",
    "            次の形のndarray, shape (n_samples, 1)\n",
    "            SVM分類器による推定結果\n",
    "        \"\"\"\n",
    "        X_sv = self.X_sv\n",
    "        y_sv = self.y_sv\n",
    "        lam_sv = self.lam_sv\n",
    "        \n",
    "        k = self._kernel(X, X_sv)\n",
    "        y_pred = np.dot(k.T*y_sv, lam_sv)\n",
    "        \n",
    "        return np.sign(y_pred)\n"
   ]
  },
  {
   "cell_type": "code",
   "execution_count": 232,
   "metadata": {},
   "outputs": [
    {
     "name": "stdout",
     "output_type": "stream",
     "text": [
      "[ 43 126 220 239 284 339]\n",
      "6\n"
     ]
    }
   ],
   "source": [
    "clf_sc = ScratchSVMClassifier(num_iter=1000, lr=0.001, threshold=1e-5, verbose=0)\n",
    "clf_sc.fit(X_train, y_train)\n",
    "\n",
    "print(clf_sc.index_support_vectors)\n",
    "print(clf_sc.n_support_vectors)"
   ]
  },
  {
   "cell_type": "code",
   "execution_count": 235,
   "metadata": {},
   "outputs": [
    {
     "data": {
      "text/plain": [
       "array([-1.,  1.,  1., -1., -1.,  1.,  1., -1., -1.,  1., -1.,  1., -1.,\n",
       "       -1., -1.,  1.,  1.,  1.,  1.,  1., -1., -1.,  1.,  1., -1.,  1.,\n",
       "        1.,  1.,  1., -1., -1.,  1.,  1., -1.,  1., -1.,  1., -1., -1.,\n",
       "        1., -1.,  1., -1.,  1., -1.,  1., -1.,  1., -1.,  1., -1., -1.,\n",
       "       -1.,  1.,  1.,  1.,  1.,  1.,  1.,  1.,  1.,  1.,  1., -1.,  1.,\n",
       "       -1., -1., -1., -1.,  1.,  1.,  1.,  1.,  1.,  1., -1.,  1., -1.,\n",
       "        1., -1.,  1.,  1.,  1.,  1.,  1., -1., -1.,  1.,  1.,  1., -1.,\n",
       "        1., -1.,  1., -1.,  1.,  1.,  1., -1.,  1., -1.,  1.,  1.,  1.,\n",
       "       -1.,  1., -1.,  1.,  1.,  1.,  1., -1.,  1., -1.,  1., -1.,  1.,\n",
       "        1., -1.,  1.,  1., -1., -1., -1., -1.])"
      ]
     },
     "execution_count": 235,
     "metadata": {},
     "output_type": "execute_result"
    }
   ],
   "source": [
    "y_pred = clf_sc.predict(X_test)\n",
    "y_pred"
   ]
  },
  {
   "cell_type": "code",
   "execution_count": 186,
   "metadata": {},
   "outputs": [
    {
     "name": "stdout",
     "output_type": "stream",
     "text": [
      "Accuracy（正解率） 1.0\n",
      "Precision（適合率） 1.0\n",
      "Recall（再現率） 1.0\n",
      "F値 1.0\n"
     ]
    }
   ],
   "source": [
    "print(\"Accuracy（正解率）\", accuracy_score(y_test, y_pred))\n",
    "print(\"Precision（適合率）\", precision_score(y_test, y_pred))\n",
    "print(\"Recall（再現率）\", recall_score(y_test, y_pred))\n",
    "print(\"F値\",f1_score(y_test, y_pred))"
   ]
  },
  {
   "cell_type": "code",
   "execution_count": 187,
   "metadata": {},
   "outputs": [
    {
     "data": {
      "image/png": "[encoded data removed]",
      "text/plain": [
       "<Figure size 432x288 with 1 Axes>"
      ]
     },
     "metadata": {
      "needs_background": "light"
     },
     "output_type": "display_data"
    }
   ],
   "source": [
    "plt.plot(clf_sc._debug_list_count, clf_sc._debug_list_count_sv, label='support vector')\n",
    "plt.legend()\n",
    "\n",
    "plt.xlabel(\"num_iter\")\n",
    "plt.ylabel(\"num_support_vectors\")\n",
    "\n",
    "# Visualize\n",
    "plt.show()\n"
   ]
  },
  {
   "cell_type": "markdown",
   "metadata": {},
   "source": [
    "# Scikit-learnによる実装"
   ]
  },
  {
   "cell_type": "code",
   "execution_count": 231,
   "metadata": {},
   "outputs": [
    {
     "name": "stdout",
     "output_type": "stream",
     "text": [
      "[LibSVM][-1  1  1 -1 -1  1  1 -1 -1  1 -1  1 -1 -1 -1  1  1  1  1  1 -1 -1  1  1\n",
      " -1  1  1  1  1 -1 -1  1  1 -1  1 -1  1 -1 -1  1 -1  1 -1  1 -1  1 -1  1\n",
      " -1  1 -1 -1 -1  1  1  1  1  1  1  1  1  1  1 -1  1 -1 -1 -1 -1  1  1  1\n",
      "  1  1  1 -1  1 -1  1 -1  1  1  1  1  1 -1 -1  1  1  1 -1  1 -1  1 -1  1\n",
      "  1  1 -1  1 -1  1  1  1 -1  1 -1  1  1  1  1 -1  1 -1  1 -1  1  1 -1  1\n",
      "  1 -1 -1 -1 -1]\n",
      "Accuracy（正解率） 1.0\n",
      "Precision（適合率） 1.0\n",
      "Recall（再現率） 1.0\n",
      "F値 1.0\n",
      "<bound method BaseEstimator.get_params of SVC(C=1, break_ties=False, cache_size=200, class_weight=None, coef0=0.0,\n",
      "    decision_function_shape='ovr', degree=3, gamma='scale', kernel='linear',\n",
      "    max_iter=-1, probability=False, random_state=1, shrinking=True, tol=0.001,\n",
      "    verbose=True)>\n",
      "[220 237 126]\n"
     ]
    }
   ],
   "source": [
    "# SVM\n",
    "from sklearn.svm import SVC\n",
    "\n",
    "# C=1e10\n",
    "clf = SVC(C=1, kernel=\"linear\", verbose=True, random_state=1)\n",
    "\n",
    "clf.fit(X_train, y_train.reshape(375,))\n",
    "y_pred = clf.predict(X_test)\n",
    "\n",
    "print(y_pred)\n",
    "\n",
    "print(\"Accuracy（正解率）\", accuracy_score(y_test, y_pred))\n",
    "print(\"Precision（適合率）\", precision_score(y_test, y_pred))\n",
    "print(\"Recall（再現率）\", recall_score(y_test, y_pred))\n",
    "print(\"F値\",f1_score(y_test, y_pred))\n",
    "\n",
    "#list_score_svc = [accuracy_score(y_test, y_pred), precision_score(y_test, y_pred), recall_score(y_test, y_pred), f1_score(y_test, y_pred) ]\n",
    "#print(list_score_svc)\n",
    "\n",
    "print(clf.get_params)\n",
    "print(clf.support_)\n",
    "#print(clf.support_vectors_)"
   ]
  },
  {
   "cell_type": "code",
   "execution_count": null,
   "metadata": {},
   "outputs": [],
   "source": []
  },
  {
   "cell_type": "markdown",
   "metadata": {},
   "source": [
    "# 【問題5】決定領域の可視化"
   ]
  },
  {
   "cell_type": "markdown",
   "metadata": {},
   "source": [
    "決定領域を可視化してください。\n",
    "\n",
    "以下の例のようにサポートベクターは異なる色で示してください。"
   ]
  },
  {
   "cell_type": "code",
   "execution_count": 210,
   "metadata": {},
   "outputs": [],
   "source": [
    "import matplotlib.pyplot as plt\n",
    "from matplotlib.colors import ListedColormap\n",
    "import matplotlib.patches as mpatches\n",
    "def decision_region(X, y, model, step=0.01, title='decision region', xlabel='xlabel', ylabel='ylabel', target_names=['versicolor', 'virginica']):\n",
    "    \"\"\"\n",
    "    2値分類を2次元の特徴量で学習したモデルの決定領域を描く。\n",
    "    背景の色が学習したモデルによる推定値から描画される。\n",
    "    散布図の点は訓練データまたは検証データである。\n",
    "\n",
    "    Parameters\n",
    "    ----------------\n",
    "    X : ndarray, shape(n_samples, 2)\n",
    "        特徴量\n",
    "    y : ndarray, shape(n_samples,)\n",
    "        ラベル\n",
    "    model : object\n",
    "        学習したモデルのインスンタスを入れる\n",
    "    step : float, (default : 0.1)\n",
    "        推定値を計算する間隔を設定する\n",
    "    title : str\n",
    "        グラフのタイトルの文章を与える\n",
    "    xlabel, ylabel : str\n",
    "        軸ラベルの文章を与える\n",
    "    target_names= : list of str\n",
    "        凡例の一覧を与える\n",
    "    \"\"\"\n",
    "    # setting\n",
    "    scatter_color = ['red', 'blue']\n",
    "    contourf_color = ['pink', 'skyblue']\n",
    "    n_class = 2\n",
    "    # pred\n",
    "    mesh_f0, mesh_f1  = np.meshgrid(np.arange(np.min(X[:,0])-0.5, np.max(X[:,0])+0.5, step), np.arange(np.min(X[:,1])-0.5, np.max(X[:,1])+0.5, step))\n",
    "    mesh = np.c_[np.ravel(mesh_f0),np.ravel(mesh_f1)]\n",
    "    y_pred = model.predict(mesh).reshape(mesh_f0.shape)\n",
    "    # plot\n",
    "    plt.title(title)\n",
    "    plt.xlabel(xlabel)\n",
    "    plt.ylabel(ylabel)\n",
    "    \n",
    "    plt.contourf(mesh_f0, mesh_f1, y_pred, n_class-1, cmap=ListedColormap(contourf_color))\n",
    "    plt.contour(mesh_f0, mesh_f1, y_pred, n_class-1, colors='y', linewidths=3, alpha=0.5)\n",
    "    for i, target in enumerate(set(y)):\n",
    "        plt.scatter(X[y==target][:, 0], X[y==target][:, 1], s=80, color=scatter_color[i], label=target_names[i], marker='o')\n",
    "    patches = [mpatches.Patch(color=scatter_color[i], label=target_names[i]) for i in range(n_class)]\n",
    "    \n",
    "    # サポートベクター\n",
    "    XX = X[:,0]\n",
    "    YY = X[:,1]\n",
    "    \n",
    "    x_sv = XX[model.index_support_vectors]\n",
    "    y_sv = YY[model.index_support_vectors]\n",
    "\n",
    "    # 散布図を描画\n",
    "    plt.scatter(x_sv, y_sv, c=\"y\", marker='o')\n",
    "    \n",
    "    plt.legend(handles=patches)\n",
    "    plt.legend()\n",
    "    plt.show()"
   ]
  },
  {
   "cell_type": "code",
   "execution_count": 211,
   "metadata": {},
   "outputs": [
    {
     "data": {
      "image/png": "[encoded data removed]",
      "text/plain": [
       "<Figure size 432x288 with 1 Axes>"
      ]
     },
     "metadata": {
      "needs_background": "light"
     },
     "output_type": "display_data"
    }
   ],
   "source": [
    "decision_region(X_train, y_train, clf_sc, step=0.01, title='decision region', xlabel='xlabel', ylabel='ylabel', target_names=['versicolor', 'virginica'])"
   ]
  },
  {
   "cell_type": "markdown",
   "metadata": {},
   "source": [
    "# Scikit-learnによる実装"
   ]
  },
  {
   "cell_type": "code",
   "execution_count": 228,
   "metadata": {},
   "outputs": [],
   "source": [
    "def decision_region2(X, y, model, step=0.01, title='decision region', xlabel='xlabel', ylabel='ylabel', target_names=['versicolor', 'virginica']):\n",
    "    \"\"\"\n",
    "    2値分類を2次元の特徴量で学習したモデルの決定領域を描く。\n",
    "    背景の色が学習したモデルによる推定値から描画される。\n",
    "    散布図の点は訓練データまたは検証データである。\n",
    "\n",
    "    Parameters\n",
    "    ----------------\n",
    "    X : ndarray, shape(n_samples, 2)\n",
    "        特徴量\n",
    "    y : ndarray, shape(n_samples,)\n",
    "        ラベル\n",
    "    model : object\n",
    "        学習したモデルのインスンタスを入れる\n",
    "    step : float, (default : 0.1)\n",
    "        推定値を計算する間隔を設定する\n",
    "    title : str\n",
    "        グラフのタイトルの文章を与える\n",
    "    xlabel, ylabel : str\n",
    "        軸ラベルの文章を与える\n",
    "    target_names= : list of str\n",
    "        凡例の一覧を与える\n",
    "    \"\"\"\n",
    "    # setting\n",
    "    scatter_color = ['red', 'blue']\n",
    "    contourf_color = ['pink', 'skyblue']\n",
    "    n_class = 2\n",
    "    # pred\n",
    "    mesh_f0, mesh_f1  = np.meshgrid(np.arange(np.min(X[:,0])-0.5, np.max(X[:,0])+0.5, step), np.arange(np.min(X[:,1])-0.5, np.max(X[:,1])+0.5, step))\n",
    "    mesh = np.c_[np.ravel(mesh_f0),np.ravel(mesh_f1)]\n",
    "    y_pred = model.predict(mesh).reshape(mesh_f0.shape)\n",
    "    # plot\n",
    "    plt.title(title)\n",
    "    plt.xlabel(xlabel)\n",
    "    plt.ylabel(ylabel)\n",
    "    \n",
    "    plt.contourf(mesh_f0, mesh_f1, y_pred, n_class-1, cmap=ListedColormap(contourf_color))\n",
    "    plt.contour(mesh_f0, mesh_f1, y_pred, n_class-1, colors='y', linewidths=3, alpha=0.5)\n",
    "    for i, target in enumerate(set(y)):\n",
    "        plt.scatter(X[y==target][:, 0], X[y==target][:, 1], s=80, color=scatter_color[i], label=target_names[i], marker='o')\n",
    "    patches = [mpatches.Patch(color=scatter_color[i], label=target_names[i]) for i in range(n_class)]\n",
    "    \n",
    "    # サポートベクター\n",
    "    XX = X[:,0]\n",
    "    YY = X[:,1]\n",
    "    \n",
    "    x_sv = XX[model.support_]\n",
    "    y_sv = YY[model.support_]\n",
    "\n",
    "    # 散布図を描画\n",
    "    plt.scatter(x_sv, y_sv, c=\"y\", marker='o')\n",
    "    \n",
    "    plt.legend(handles=patches)\n",
    "    plt.legend()\n",
    "    plt.show()"
   ]
  },
  {
   "cell_type": "code",
   "execution_count": 230,
   "metadata": {},
   "outputs": [
    {
     "data": {
      "image/png": "[encoded data removed]",
      "text/plain": [
       "<Figure size 432x288 with 1 Axes>"
      ]
     },
     "metadata": {
      "needs_background": "light"
     },
     "output_type": "display_data"
    }
   ],
   "source": [
    "decision_region2(X_train, y_train, clf, step=0.01, title='decision region', xlabel='xlabel', ylabel='ylabel', target_names=['versicolor', 'virginica'])"
   ]
  },
  {
   "cell_type": "code",
   "execution_count": null,
   "metadata": {},
   "outputs": [],
   "source": []
  }
 ],
 "metadata": {
  "kernelspec": {
   "display_name": "Python 3",
   "language": "python",
   "name": "python3"
  },
  "language_info": {
   "codemirror_mode": {
    "name": "ipython",
    "version": 3
   },
   "file_extension": ".py",
   "mimetype": "text/x-python",
   "name": "python",
   "nbconvert_exporter": "python",
   "pygments_lexer": "ipython3",
   "version": "3.7.0"
  }
 },
 "nbformat": 4,
 "nbformat_minor": 4
}
