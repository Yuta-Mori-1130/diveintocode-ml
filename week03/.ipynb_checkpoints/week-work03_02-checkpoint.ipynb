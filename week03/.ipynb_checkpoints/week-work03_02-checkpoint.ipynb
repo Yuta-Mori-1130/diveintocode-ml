{
 "cells": [
  {
   "cell_type": "markdown",
   "metadata": {},
   "source": [
    "[課題のURL](https://diver.diveintocode.jp/curriculums/1626)"
   ]
  },
  {
   "cell_type": "markdown",
   "metadata": {},
   "source": [
    "# Week**"
   ]
  },
  {
   "cell_type": "code",
   "execution_count": 3,
   "metadata": {},
   "outputs": [
    {
     "ename": "NameError",
     "evalue": "name 'seaborn' is not defined",
     "output_type": "error",
     "traceback": [
      "\u001b[0;31m---------------------------------------------------------------------------\u001b[0m",
      "\u001b[0;31mNameError\u001b[0m                                 Traceback (most recent call last)",
      "\u001b[0;32m<ipython-input-3-6addc90a70dd>\u001b[0m in \u001b[0;36m<module>\u001b[0;34m()\u001b[0m\n\u001b[1;32m      5\u001b[0m \u001b[0;34m\u001b[0m\u001b[0m\n\u001b[1;32m      6\u001b[0m \u001b[0;31m#df = pd.read_csv('data/src/iris.csv', index_col=0)\u001b[0m\u001b[0;34m\u001b[0m\u001b[0;34m\u001b[0m\u001b[0m\n\u001b[0;32m----> 7\u001b[0;31m \u001b[0mdf\u001b[0m \u001b[0;34m=\u001b[0m \u001b[0mseaborn\u001b[0m\u001b[0;34m.\u001b[0m\u001b[0mload_dataset\u001b[0m\u001b[0;34m(\u001b[0m \u001b[0;34m\"iris\"\u001b[0m \u001b[0;34m)\u001b[0m\u001b[0;34m\u001b[0m\u001b[0m\n\u001b[0m\u001b[1;32m      8\u001b[0m \u001b[0;31m# df = sns.load_dataset(\"iris\")\u001b[0m\u001b[0;34m\u001b[0m\u001b[0;34m\u001b[0m\u001b[0m\n\u001b[1;32m      9\u001b[0m \u001b[0;34m\u001b[0m\u001b[0m\n",
      "\u001b[0;31mNameError\u001b[0m: name 'seaborn' is not defined"
     ]
    }
   ],
   "source": [
    "# %matplotlib inline\n",
    "\n",
    "import pandas as pd\n",
    "import seaborn as sns\n",
    "\n",
    "#df = pd.read_csv('data/src/iris.csv', index_col=0)\n",
    "df = seaborn.load_dataset( \"iris\" )\n",
    "# df = sns.load_dataset(\"iris\")\n",
    "\n",
    "print(df.head())\n",
    "#    sepal_length  sepal_width  petal_length  petal_width species\n",
    "# 0           5.1          3.5           1.4          0.2  setosa\n",
    "# 1           4.9          3.0           1.4          0.2  setosa\n",
    "# 2           4.7          3.2           1.3          0.2  setosa\n",
    "# 3           4.6          3.1           1.5          0.2  setosa\n",
    "# 4           5.0          3.6           1.4          0.2  setosa\n",
    "\n",
    "print(df.dtypes)\n",
    "# sepal_length    float64\n",
    "# sepal_width     float64\n",
    "# petal_length    float64\n",
    "# petal_width     float64\n",
    "# species          object\n",
    "# dtype: object\n",
    "\n",
    "print(df['species'].value_counts())\n",
    "# versicolor    50\n",
    "# setosa        50\n",
    "# virginica     50\n",
    "# Name: species, dtype: int64\n",
    "\n",
    "pg = sns.pairplot(df)\n",
    "print(type(pg))\n",
    "# <class 'seaborn.axisgrid.PairGrid'>\n",
    "\n",
    "pg.savefig('data/dst/seaborn_pairplot_default.png')\n",
    "\n",
    "sns.pairplot(df).savefig('data/dst/seaborn_pairplot_default.png')\n",
    "\n",
    "sns.pairplot(df, hue='species').savefig('data/dst/seaborn_pairplot_hue.png')\n",
    "\n",
    "sns.pairplot(df, hue='species',\n",
    "             hue_order=['virginica', 'versicolor', 'setosa']).savefig('data/dst/seaborn_pairplot_hue_order.png')\n",
    "\n",
    "sns.pairplot(df, hue='species', palette='Blues').savefig('data/dst/seaborn_pairplot_palette.png')\n",
    "\n",
    "sns.pairplot(df, hue='species',\n",
    "             palette={'setosa': 'red',\n",
    "                      'versicolor': '#00ff00',\n",
    "                      'virginica': 'blue'}).savefig('data/dst/seaborn_pairplot_palette_dict.png')\n",
    "\n",
    "sns.pairplot(df, hue='species',\n",
    "             vars=['sepal_length', 'sepal_width']).savefig('data/dst/seaborn_pairplot_vars.png')\n",
    "\n",
    "sns.pairplot(df, hue='species',\n",
    "             x_vars=['sepal_length', 'sepal_width'],\n",
    "             y_vars=['petal_length', 'petal_width']).savefig('data/dst/seaborn_pairplot_xy_vars.png')\n",
    "\n",
    "sns.pairplot(df, hue='species', markers='+').savefig('data/dst/seaborn_pairplot_markers.png')\n",
    "\n",
    "sns.pairplot(df, hue='species', markers=['+', 's', 'd']).savefig('data/dst/seaborn_pairplot_markers_multi.png')\n",
    "\n",
    "sns.pairplot(df, hue='species', kind='reg').savefig('data/dst/seaborn_pairplot_kind_reg.png')\n",
    "\n",
    "sns.pairplot(df, hue='species', diag_kind='kde').savefig('data/dst/seaborn_pairplot_diag_kind_kde.png')\n",
    "\n",
    "sns.pairplot(df, hue='species', size=2).savefig('data/dst/seaborn_pairplot_size.png')\n",
    "\n",
    "sns.pairplot(df, hue='species',\n",
    "             plot_kws={'alpha': 0.2},\n",
    "             diag_kws={'bins': 20, 'histtype': 'step'}).savefig('data/dst/seaborn_pairplot_kws.png')\n",
    "\n",
    "sns.pairplot(df, hue='species', kind='reg',\n",
    "             plot_kws={'ci': None,\n",
    "                       'marker': '+',\n",
    "                       'scatter_kws': {'alpha': 0.4},\n",
    "                       'line_kws': {'linestyle': '--'}}).savefig('data/dst/seaborn_pairplot_kind_reg_kws.png')"
   ]
  },
  {
   "cell_type": "code",
   "execution_count": null,
   "metadata": {},
   "outputs": [],
   "source": []
  }
 ],
 "metadata": {
  "kernelspec": {
   "display_name": "Python 3",
   "language": "python",
   "name": "python3"
  },
  "language_info": {
   "codemirror_mode": {
    "name": "ipython",
    "version": 3
   },
   "file_extension": ".py",
   "mimetype": "text/x-python",
   "name": "python",
   "nbconvert_exporter": "python",
   "pygments_lexer": "ipython3",
   "version": "3.7.0"
  }
 },
 "nbformat": 4,
 "nbformat_minor": 2
}
