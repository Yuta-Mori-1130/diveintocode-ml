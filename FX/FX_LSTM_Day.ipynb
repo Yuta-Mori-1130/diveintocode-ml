{
 "cells": [
  {
   "cell_type": "markdown",
   "metadata": {},
   "source": [
    "# FX_LSTM_為替の予測"
   ]
  },
  {
   "cell_type": "markdown",
   "metadata": {},
   "source": [
    "# 参考\n",
    "http://cedro3.com/ai/keras-lstm/"
   ]
  },
  {
   "cell_type": "markdown",
   "metadata": {},
   "source": [
    "https://blog.aidemy.net/entry/2019/02/02/182210"
   ]
  },
  {
   "cell_type": "code",
   "execution_count": 9,
   "metadata": {},
   "outputs": [
    {
     "name": "stdout",
     "output_type": "stream",
     "text": [
      "Collecting git+https://github.com/oanda/oandapy.git\n",
      "  Cloning https://github.com/oanda/oandapy.git to /private/var/folders/dq/tzw5ww3s6vscblghgqvn33mm0000gn/T/pip-req-build-097zra08\n",
      "  Running command git clone -q https://github.com/oanda/oandapy.git /private/var/folders/dq/tzw5ww3s6vscblghgqvn33mm0000gn/T/pip-req-build-097zra08\n",
      "Requirement already satisfied: requests in /Users/mori/.local/lib/python3.7/site-packages (from oandapy==0.1) (2.23.0)\n",
      "Requirement already satisfied: certifi>=2017.4.17 in /Users/mori/.local/lib/python3.7/site-packages (from requests->oandapy==0.1) (2020.4.5.1)\n",
      "Requirement already satisfied: chardet<4,>=3.0.2 in /Users/mori/.local/lib/python3.7/site-packages (from requests->oandapy==0.1) (3.0.4)\n",
      "Requirement already satisfied: idna<3,>=2.5 in /Users/mori/.local/lib/python3.7/site-packages (from requests->oandapy==0.1) (2.9)\n",
      "Requirement already satisfied: urllib3!=1.25.0,!=1.25.1,<1.26,>=1.21.1 in /Users/mori/.local/lib/python3.7/site-packages (from requests->oandapy==0.1) (1.25.9)\n",
      "Building wheels for collected packages: oandapy\n",
      "  Building wheel for oandapy (setup.py) ... \u001b[?25ldone\n",
      "\u001b[?25h  Created wheel for oandapy: filename=oandapy-0.1-py3-none-any.whl size=6851 sha256=8cd6635c0397bc370748f302422c5e928db66903ebb7626891704bfabc9eefb5\n",
      "  Stored in directory: /private/var/folders/dq/tzw5ww3s6vscblghgqvn33mm0000gn/T/pip-ephem-wheel-cache-lv1oavgu/wheels/5d/dd/4e/e20f1fa85c906989eaf532ffa083ad25dc01bd0be693542a64\n",
      "Successfully built oandapy\n",
      "Installing collected packages: oandapy\n",
      "Successfully installed oandapy-0.1\n"
     ]
    }
   ],
   "source": [
    "#!pip install git+https://github.com/oanda/oandapy.git"
   ]
  },
  {
   "cell_type": "code",
   "execution_count": 3,
   "metadata": {},
   "outputs": [
    {
     "name": "stderr",
     "output_type": "stream",
     "text": [
      "Using TensorFlow backend.\n"
     ]
    }
   ],
   "source": [
    "import oandapy\n",
    "import pandas as pd\n",
    "import numpy as np\n",
    "import seaborn as sns\n",
    "import matplotlib.pyplot as plt\n",
    "import oandapy\n",
    "import configparser\n",
    "import pytz\n",
    "import datetime\n",
    "from datetime import datetime, timedelta\n",
    "\n",
    "from sklearn.model_selection import TimeSeriesSplit\n",
    "\n",
    "from keras.models import Sequential\n",
    "from keras.layers import Activation, Dense\n",
    "from keras.layers import LSTM\n",
    "from keras.layers import Dropout\n",
    "from keras.optimizers import Adam"
   ]
  },
  {
   "cell_type": "markdown",
   "metadata": {},
   "source": [
    "# 初期設定"
   ]
  },
  {
   "cell_type": "code",
   "execution_count": 4,
   "metadata": {},
   "outputs": [],
   "source": [
    "#自分のアカウント、トークンをセット\n",
    "ACCOUNT_ID = \"101-009-15667066-001\"\n",
    "ACCESS_TOKEN = '26fbb8f41df5b09cd48fcbb0dcc527a6-73157f5cb17a2fbc5ea91255e87c5c73'"
   ]
  },
  {
   "cell_type": "code",
   "execution_count": 5,
   "metadata": {},
   "outputs": [],
   "source": [
    "# デモアカウントでAPI呼び出し \n",
    "oanda = oandapy.API(environment=\"practice\", access_token= ACCESS_TOKEN )"
   ]
  },
  {
   "cell_type": "code",
   "execution_count": 14,
   "metadata": {},
   "outputs": [],
   "source": []
  },
  {
   "cell_type": "markdown",
   "metadata": {},
   "source": [
    "# データ習得"
   ]
  },
  {
   "cell_type": "markdown",
   "metadata": {},
   "source": [
    "為替を取得する。"
   ]
  },
  {
   "cell_type": "code",
   "execution_count": 6,
   "metadata": {},
   "outputs": [],
   "source": [
    "# 標準時間から日本時間UTC+9に変更\n",
    "#文字列 -> datetime\n",
    "def iso_jp(iso):\n",
    "    date = None\n",
    "    try:\n",
    "        date = datetime.strptime(iso, '%Y-%m-%dT%H:%M:%S.%fZ')\n",
    "        date = pytz.utc.localize(date).astimezone(pytz.timezone(\"Asia/Tokyo\"))\n",
    "    except ValueError:\n",
    "        try:\n",
    "            date = datetime.strptime(iso, '%Y-%m-%dT%H:%M:%S.%f%z')\n",
    "            date = dt.astimezone(pytz.timezone(\"Asia/Tokyo\"))\n",
    "        except ValueError:\n",
    "            pass\n",
    "    return date"
   ]
  },
  {
   "cell_type": "code",
   "execution_count": 7,
   "metadata": {},
   "outputs": [],
   "source": [
    "response = oanda.get_history(instrument=\"USD_JPY\", granularity=\"D\", count=1000)\n",
    "res = pd.DataFrame(response[\"candles\"])\n",
    "\n",
    "# 日本時間に変更\n",
    "res[\"time\"] = res[\"time\"].apply(lambda x: iso_jp(x))"
   ]
  },
  {
   "cell_type": "code",
   "execution_count": 8,
   "metadata": {},
   "outputs": [],
   "source": [
    "#df = res[['time', 'openAsk']]\n",
    "df = res[['time', 'openAsk']]\n",
    "df.columns = ['time', 'open']"
   ]
  },
  {
   "cell_type": "code",
   "execution_count": 9,
   "metadata": {},
   "outputs": [
    {
     "name": "stdout",
     "output_type": "stream",
     "text": [
      "(1000, 2)\n"
     ]
    },
    {
     "data": {
      "text/html": [
       "<div>\n",
       "<style scoped>\n",
       "    .dataframe tbody tr th:only-of-type {\n",
       "        vertical-align: middle;\n",
       "    }\n",
       "\n",
       "    .dataframe tbody tr th {\n",
       "        vertical-align: top;\n",
       "    }\n",
       "\n",
       "    .dataframe thead th {\n",
       "        text-align: right;\n",
       "    }\n",
       "</style>\n",
       "<table border=\"1\" class=\"dataframe\">\n",
       "  <thead>\n",
       "    <tr style=\"text-align: right;\">\n",
       "      <th></th>\n",
       "      <th>time</th>\n",
       "      <th>open</th>\n",
       "    </tr>\n",
       "  </thead>\n",
       "  <tbody>\n",
       "    <tr>\n",
       "      <th>990</th>\n",
       "      <td>2020-07-17 06:00:00+09:00</td>\n",
       "      <td>107.336</td>\n",
       "    </tr>\n",
       "    <tr>\n",
       "      <th>991</th>\n",
       "      <td>2020-07-20 06:00:00+09:00</td>\n",
       "      <td>107.186</td>\n",
       "    </tr>\n",
       "    <tr>\n",
       "      <th>992</th>\n",
       "      <td>2020-07-21 06:00:00+09:00</td>\n",
       "      <td>107.284</td>\n",
       "    </tr>\n",
       "    <tr>\n",
       "      <th>993</th>\n",
       "      <td>2020-07-22 06:00:00+09:00</td>\n",
       "      <td>106.860</td>\n",
       "    </tr>\n",
       "    <tr>\n",
       "      <th>994</th>\n",
       "      <td>2020-07-23 06:00:00+09:00</td>\n",
       "      <td>107.215</td>\n",
       "    </tr>\n",
       "    <tr>\n",
       "      <th>995</th>\n",
       "      <td>2020-07-24 06:00:00+09:00</td>\n",
       "      <td>106.907</td>\n",
       "    </tr>\n",
       "    <tr>\n",
       "      <th>996</th>\n",
       "      <td>2020-07-27 06:00:00+09:00</td>\n",
       "      <td>106.160</td>\n",
       "    </tr>\n",
       "    <tr>\n",
       "      <th>997</th>\n",
       "      <td>2020-07-28 06:00:00+09:00</td>\n",
       "      <td>105.448</td>\n",
       "    </tr>\n",
       "    <tr>\n",
       "      <th>998</th>\n",
       "      <td>2020-07-29 06:00:00+09:00</td>\n",
       "      <td>105.138</td>\n",
       "    </tr>\n",
       "    <tr>\n",
       "      <th>999</th>\n",
       "      <td>2020-07-30 06:00:00+09:00</td>\n",
       "      <td>104.976</td>\n",
       "    </tr>\n",
       "  </tbody>\n",
       "</table>\n",
       "</div>"
      ],
      "text/plain": [
       "                         time     open\n",
       "990 2020-07-17 06:00:00+09:00  107.336\n",
       "991 2020-07-20 06:00:00+09:00  107.186\n",
       "992 2020-07-21 06:00:00+09:00  107.284\n",
       "993 2020-07-22 06:00:00+09:00  106.860\n",
       "994 2020-07-23 06:00:00+09:00  107.215\n",
       "995 2020-07-24 06:00:00+09:00  106.907\n",
       "996 2020-07-27 06:00:00+09:00  106.160\n",
       "997 2020-07-28 06:00:00+09:00  105.448\n",
       "998 2020-07-29 06:00:00+09:00  105.138\n",
       "999 2020-07-30 06:00:00+09:00  104.976"
      ]
     },
     "execution_count": 9,
     "metadata": {},
     "output_type": "execute_result"
    }
   ],
   "source": [
    "print(df.shape)\n",
    "df.tail(10)"
   ]
  },
  {
   "cell_type": "markdown",
   "metadata": {},
   "source": [
    "# 訓練データとテストデータを分割"
   ]
  },
  {
   "cell_type": "code",
   "execution_count": 10,
   "metadata": {},
   "outputs": [
    {
     "data": {
      "text/plain": [
       "'2020/07/03 06:00:00'"
      ]
     },
     "execution_count": 10,
     "metadata": {},
     "output_type": "execute_result"
    }
   ],
   "source": [
    "t_test = df.iloc[980][\"time\"]\n",
    "\n",
    "tdatetime = t_test\n",
    "tstr = tdatetime.strftime('%Y/%m/%d %H:%M:%S')\n",
    "tstr"
   ]
  },
  {
   "cell_type": "code",
   "execution_count": 11,
   "metadata": {},
   "outputs": [],
   "source": [
    "# windowを設定\n",
    "window_len = 10\n",
    "\n",
    "# 訓練データ、テストデータに分割\n",
    "split_date = tstr\n",
    "train, test = df[df['time'] < split_date], df[df['time']>=split_date]\n",
    "all_data = df.copy()\n",
    "\n",
    "# 最新データ(窓サイズ分)\n",
    "latest = df.tail(window_len)\n",
    "\n",
    "# \"time\"の列を削除\n",
    "del all_data['time']\n",
    "\n",
    "del train['time'] # 訓練データ\n",
    "del test['time'] # テストデータ\n",
    "del latest['time'] # 予測\n",
    "\n",
    "length = len(test)- window_len"
   ]
  },
  {
   "cell_type": "code",
   "execution_count": 12,
   "metadata": {},
   "outputs": [
    {
     "data": {
      "text/plain": [
       "((1000, 1), (980, 1), (20, 1), (10, 1), 10)"
      ]
     },
     "execution_count": 12,
     "metadata": {},
     "output_type": "execute_result"
    }
   ],
   "source": [
    "all_data.shape, train.shape, test.shape, latest.shape, length"
   ]
  },
  {
   "cell_type": "code",
   "execution_count": 13,
   "metadata": {},
   "outputs": [
    {
     "data": {
      "text/html": [
       "<div>\n",
       "<style scoped>\n",
       "    .dataframe tbody tr th:only-of-type {\n",
       "        vertical-align: middle;\n",
       "    }\n",
       "\n",
       "    .dataframe tbody tr th {\n",
       "        vertical-align: top;\n",
       "    }\n",
       "\n",
       "    .dataframe thead th {\n",
       "        text-align: right;\n",
       "    }\n",
       "</style>\n",
       "<table border=\"1\" class=\"dataframe\">\n",
       "  <thead>\n",
       "    <tr style=\"text-align: right;\">\n",
       "      <th></th>\n",
       "      <th>open</th>\n",
       "    </tr>\n",
       "  </thead>\n",
       "  <tbody>\n",
       "    <tr>\n",
       "      <th>990</th>\n",
       "      <td>107.336</td>\n",
       "    </tr>\n",
       "    <tr>\n",
       "      <th>991</th>\n",
       "      <td>107.186</td>\n",
       "    </tr>\n",
       "    <tr>\n",
       "      <th>992</th>\n",
       "      <td>107.284</td>\n",
       "    </tr>\n",
       "    <tr>\n",
       "      <th>993</th>\n",
       "      <td>106.860</td>\n",
       "    </tr>\n",
       "    <tr>\n",
       "      <th>994</th>\n",
       "      <td>107.215</td>\n",
       "    </tr>\n",
       "    <tr>\n",
       "      <th>995</th>\n",
       "      <td>106.907</td>\n",
       "    </tr>\n",
       "    <tr>\n",
       "      <th>996</th>\n",
       "      <td>106.160</td>\n",
       "    </tr>\n",
       "    <tr>\n",
       "      <th>997</th>\n",
       "      <td>105.448</td>\n",
       "    </tr>\n",
       "    <tr>\n",
       "      <th>998</th>\n",
       "      <td>105.138</td>\n",
       "    </tr>\n",
       "    <tr>\n",
       "      <th>999</th>\n",
       "      <td>104.976</td>\n",
       "    </tr>\n",
       "  </tbody>\n",
       "</table>\n",
       "</div>"
      ],
      "text/plain": [
       "        open\n",
       "990  107.336\n",
       "991  107.186\n",
       "992  107.284\n",
       "993  106.860\n",
       "994  107.215\n",
       "995  106.907\n",
       "996  106.160\n",
       "997  105.448\n",
       "998  105.138\n",
       "999  104.976"
      ]
     },
     "execution_count": 13,
     "metadata": {},
     "output_type": "execute_result"
    }
   ],
   "source": [
    "latest"
   ]
  },
  {
   "cell_type": "markdown",
   "metadata": {},
   "source": [
    "# 前処理"
   ]
  },
  {
   "cell_type": "code",
   "execution_count": 14,
   "metadata": {},
   "outputs": [],
   "source": [
    "# LSTMへの入力用に処理の関数\n",
    "def data_maker(data):\n",
    "    data_lstm_in=[]\n",
    "    if len(data)==window_len:\n",
    "        temp = data[:window_len].copy()\n",
    "        temp = temp / temp.iloc[0] - 1\n",
    "        data_lstm_in.append(temp)\n",
    "    for i in range(len(data) - window_len):\n",
    "        temp = data[i:(i + window_len)].copy()\n",
    "        temp = temp / temp.iloc[0] - 1\n",
    "        data_lstm_in.append(temp)\n",
    "    return data_lstm_in\n",
    "\n",
    "# 相対的な変化率を求める\n",
    "X_train = data_maker(train) # X_train\n",
    "y_train = (train['open'][window_len:].values / train['open'][:-window_len].values)-1 # y_train\n",
    "\n",
    "X_test = data_maker(test) # X_test 利用しない\n",
    "y_test = (test['open'][window_len:].values / test['open'][:-window_len].values)-1 # y_test 利用しない\n",
    "\n",
    "# 予測に利用する\n",
    "latest_lstm_in = data_maker(latest)\n",
    "\n",
    "all_data_lstm_in = data_maker(all_data)"
   ]
  },
  {
   "cell_type": "code",
   "execution_count": 15,
   "metadata": {},
   "outputs": [],
   "source": [
    "# PandasのデータフレームからNumpy配列へ変換\n",
    "def pd_to_np(data_lstm_in):\n",
    "    data_lstm_in = [np.array(data_lstm_input) for data_lstm_input in data_lstm_in]  #array のリスト\n",
    "    data_lstm_in = np.array(data_lstm_in) #np.array\n",
    "    return data_lstm_in\n",
    "\n",
    "X_train = pd_to_np(X_train)\n",
    "X_test = pd_to_np(X_test)\n",
    "latest_lstm_in = pd_to_np(latest_lstm_in)\n",
    "all_data_lstm_in = pd_to_np(all_data_lstm_in)"
   ]
  },
  {
   "cell_type": "code",
   "execution_count": 16,
   "metadata": {},
   "outputs": [
    {
     "data": {
      "text/plain": [
       "((970, 10, 1), (970,))"
      ]
     },
     "execution_count": 16,
     "metadata": {},
     "output_type": "execute_result"
    }
   ],
   "source": [
    "X_train.shape, y_train.shape"
   ]
  },
  {
   "cell_type": "code",
   "execution_count": 17,
   "metadata": {},
   "outputs": [
    {
     "data": {
      "text/plain": [
       "((10, 10, 1), (10,), (1, 10, 1), (990, 10, 1))"
      ]
     },
     "execution_count": 17,
     "metadata": {},
     "output_type": "execute_result"
    }
   ],
   "source": [
    "X_test.shape, y_test.shape, latest_lstm_in.shape, all_data_lstm_in.shape"
   ]
  },
  {
   "cell_type": "markdown",
   "metadata": {},
   "source": [
    "# 学習"
   ]
  },
  {
   "cell_type": "code",
   "execution_count": 18,
   "metadata": {},
   "outputs": [],
   "source": [
    "# LSTMのモデルを設定\n",
    "def build_model(inputs, output_size, neurons, activ_func=\"linear\",\n",
    "                dropout=0.25, loss=\"mae\", optimizer=\"adam\"):\n",
    "    model = Sequential()\n",
    " \n",
    "    model.add(LSTM(neurons, input_shape=(inputs.shape[1], inputs.shape[2])))\n",
    "    model.add(Dropout(dropout))\n",
    "    model.add(Dense(units=output_size))\n",
    "    model.add(Activation(activ_func))\n",
    " \n",
    "    model.compile(loss=loss, optimizer=optimizer)\n",
    "    return model"
   ]
  },
  {
   "cell_type": "code",
   "execution_count": 19,
   "metadata": {},
   "outputs": [
    {
     "name": "stdout",
     "output_type": "stream",
     "text": [
      "WARNING:tensorflow:From /Users/mori/.pyenv/versions/anaconda3-5.3.1/lib/python3.7/site-packages/tensorflow_core/python/ops/resource_variable_ops.py:1630: calling BaseResourceVariable.__init__ (from tensorflow.python.ops.resource_variable_ops) with constraint is deprecated and will be removed in a future version.\n",
      "Instructions for updating:\n",
      "If using Keras pass *_constraint arguments to layers.\n",
      "WARNING:tensorflow:From /Users/mori/.pyenv/versions/anaconda3-5.3.1/lib/python3.7/site-packages/keras/backend/tensorflow_backend.py:422: The name tf.global_variables is deprecated. Please use tf.compat.v1.global_variables instead.\n",
      "\n",
      "Epoch 1/100\n",
      " - 9s - loss: 0.0117\n",
      "Epoch 2/100\n",
      " - 7s - loss: 0.0092\n",
      "Epoch 3/100\n",
      " - 7s - loss: 0.0074\n",
      "Epoch 4/100\n",
      " - 7s - loss: 0.0071\n",
      "Epoch 5/100\n",
      " - 7s - loss: 0.0067\n",
      "Epoch 6/100\n",
      " - 7s - loss: 0.0068\n",
      "Epoch 7/100\n",
      " - 8s - loss: 0.0065\n",
      "Epoch 8/100\n",
      " - 7s - loss: 0.0065\n",
      "Epoch 9/100\n",
      " - 7s - loss: 0.0061\n",
      "Epoch 10/100\n",
      " - 7s - loss: 0.0063\n",
      "Epoch 11/100\n",
      " - 7s - loss: 0.0063\n",
      "Epoch 12/100\n",
      " - 7s - loss: 0.0057\n",
      "Epoch 13/100\n",
      " - 7s - loss: 0.0062\n",
      "Epoch 14/100\n",
      " - 8s - loss: 0.0060\n",
      "Epoch 15/100\n",
      " - 8s - loss: 0.0060\n",
      "Epoch 16/100\n",
      " - 9s - loss: 0.0060\n",
      "Epoch 17/100\n",
      " - 8s - loss: 0.0058\n",
      "Epoch 18/100\n",
      " - 7s - loss: 0.0061\n",
      "Epoch 19/100\n",
      " - 8s - loss: 0.0060\n",
      "Epoch 20/100\n",
      " - 7s - loss: 0.0056\n",
      "Epoch 21/100\n",
      " - 10s - loss: 0.0055\n",
      "Epoch 22/100\n",
      " - 8s - loss: 0.0059\n",
      "Epoch 23/100\n",
      " - 7s - loss: 0.0059\n",
      "Epoch 24/100\n",
      " - 8s - loss: 0.0057\n",
      "Epoch 25/100\n",
      " - 9s - loss: 0.0061\n",
      "Epoch 26/100\n",
      " - 7s - loss: 0.0057\n",
      "Epoch 27/100\n",
      " - 6s - loss: 0.0058\n",
      "Epoch 28/100\n",
      " - 7s - loss: 0.0058\n",
      "Epoch 29/100\n",
      " - 7s - loss: 0.0060\n",
      "Epoch 30/100\n",
      " - 7s - loss: 0.0056\n",
      "Epoch 31/100\n",
      " - 7s - loss: 0.0056\n",
      "Epoch 32/100\n",
      " - 7s - loss: 0.0060\n",
      "Epoch 33/100\n",
      " - 7s - loss: 0.0062\n",
      "Epoch 34/100\n",
      " - 10s - loss: 0.0053\n",
      "Epoch 35/100\n",
      " - 8s - loss: 0.0058\n",
      "Epoch 36/100\n",
      " - 7s - loss: 0.0057\n",
      "Epoch 37/100\n",
      " - 7s - loss: 0.0057\n",
      "Epoch 38/100\n",
      " - 8s - loss: 0.0057\n",
      "Epoch 39/100\n",
      " - 7s - loss: 0.0059\n",
      "Epoch 40/100\n",
      " - 8s - loss: 0.0056\n",
      "Epoch 41/100\n",
      " - 10s - loss: 0.0059\n",
      "Epoch 42/100\n",
      " - 8s - loss: 0.0059\n",
      "Epoch 43/100\n",
      " - 8s - loss: 0.0058\n",
      "Epoch 44/100\n",
      " - 10s - loss: 0.0058\n",
      "Epoch 45/100\n",
      " - 8s - loss: 0.0059\n",
      "Epoch 46/100\n",
      " - 8s - loss: 0.0055\n",
      "Epoch 47/100\n",
      " - 7s - loss: 0.0058\n",
      "Epoch 48/100\n",
      " - 8s - loss: 0.0062\n",
      "Epoch 49/100\n",
      " - 8s - loss: 0.0058\n",
      "Epoch 50/100\n",
      " - 8s - loss: 0.0055\n",
      "Epoch 51/100\n",
      " - 7s - loss: 0.0055\n",
      "Epoch 52/100\n",
      " - 7s - loss: 0.0060\n",
      "Epoch 53/100\n",
      " - 6s - loss: 0.0057\n",
      "Epoch 54/100\n",
      " - 6s - loss: 0.0059\n",
      "Epoch 55/100\n",
      " - 6s - loss: 0.0057\n",
      "Epoch 56/100\n",
      " - 6s - loss: 0.0058\n",
      "Epoch 57/100\n",
      " - 6s - loss: 0.0057\n",
      "Epoch 58/100\n",
      " - 6s - loss: 0.0060\n",
      "Epoch 59/100\n",
      " - 6s - loss: 0.0055\n",
      "Epoch 60/100\n",
      " - 6s - loss: 0.0057\n",
      "Epoch 61/100\n",
      " - 6s - loss: 0.0057\n",
      "Epoch 62/100\n",
      " - 6s - loss: 0.0059\n",
      "Epoch 63/100\n",
      " - 6s - loss: 0.0058\n",
      "Epoch 64/100\n",
      " - 6s - loss: 0.0058\n",
      "Epoch 65/100\n",
      " - 6s - loss: 0.0059\n",
      "Epoch 66/100\n",
      " - 6s - loss: 0.0057\n",
      "Epoch 67/100\n",
      " - 6s - loss: 0.0057\n",
      "Epoch 68/100\n",
      " - 6s - loss: 0.0057\n",
      "Epoch 69/100\n",
      " - 6s - loss: 0.0058\n",
      "Epoch 70/100\n",
      " - 6s - loss: 0.0057\n",
      "Epoch 71/100\n",
      " - 6s - loss: 0.0059\n",
      "Epoch 72/100\n",
      " - 6s - loss: 0.0058\n",
      "Epoch 73/100\n",
      " - 8s - loss: 0.0057\n",
      "Epoch 74/100\n",
      " - 6s - loss: 0.0057\n",
      "Epoch 75/100\n",
      " - 8s - loss: 0.0058\n",
      "Epoch 76/100\n",
      " - 6s - loss: 0.0060\n",
      "Epoch 77/100\n",
      " - 7s - loss: 0.0060\n",
      "Epoch 78/100\n",
      " - 6s - loss: 0.0054\n",
      "Epoch 79/100\n",
      " - 6s - loss: 0.0057\n",
      "Epoch 80/100\n",
      " - 6s - loss: 0.0061\n",
      "Epoch 81/100\n",
      " - 6s - loss: 0.0058\n",
      "Epoch 82/100\n",
      " - 6s - loss: 0.0058\n",
      "Epoch 83/100\n",
      " - 6s - loss: 0.0059\n",
      "Epoch 84/100\n",
      " - 6s - loss: 0.0058\n",
      "Epoch 85/100\n",
      " - 6s - loss: 0.0058\n",
      "Epoch 86/100\n",
      " - 6s - loss: 0.0055\n",
      "Epoch 87/100\n",
      " - 6s - loss: 0.0061\n",
      "Epoch 88/100\n",
      " - 6s - loss: 0.0059\n",
      "Epoch 89/100\n",
      " - 6s - loss: 0.0058\n",
      "Epoch 90/100\n",
      " - 6s - loss: 0.0059\n",
      "Epoch 91/100\n",
      " - 6s - loss: 0.0056\n",
      "Epoch 92/100\n",
      " - 6s - loss: 0.0059\n",
      "Epoch 93/100\n",
      " - 6s - loss: 0.0058\n",
      "Epoch 94/100\n",
      " - 6s - loss: 0.0060\n",
      "Epoch 95/100\n",
      " - 6s - loss: 0.0059\n",
      "Epoch 96/100\n",
      " - 6s - loss: 0.0062\n",
      "Epoch 97/100\n",
      " - 6s - loss: 0.0058\n",
      "Epoch 98/100\n",
      " - 6s - loss: 0.0057\n",
      "Epoch 99/100\n",
      " - 6s - loss: 0.0057\n",
      "Epoch 100/100\n",
      " - 6s - loss: 0.0058\n"
     ]
    }
   ],
   "source": [
    "# ランダムシードの設定\n",
    "np.random.seed(202)\n",
    " \n",
    "# 初期モデルの構築\n",
    "yen_model = build_model(X_train, output_size=1, neurons = 1)\n",
    " \n",
    "# 学習\n",
    "yen_history = yen_model.fit(X_train, y_train, epochs=100, batch_size=1, verbose=2, shuffle=True)"
   ]
  },
  {
   "cell_type": "markdown",
   "metadata": {},
   "source": [
    "# 予測"
   ]
  },
  {
   "cell_type": "code",
   "execution_count": 20,
   "metadata": {},
   "outputs": [
    {
     "data": {
      "text/plain": [
       "\"\\nempty = []\\nfuture_array = np.array(empty)\\n\\nfor i in range(length):\\n    pred = (((np.transpose(yen_model.predict(latest_lstm_in))+1) * latest['open'].values[0])[0])[0]\\n    future_array= np.append(future_array,pred)\\n    data ={'open':[pred]}\\n    df1 = pd.DataFrame(data)\\n    latest =pd.concat([latest,df1],axis=0)\\n    latest.index = range(0,window_len+1)\\n    latest = latest.drop(0,axis=0)\\n    latest_lstm_in =pd_to_np(latest_lstm_in)\\n\""
      ]
     },
     "execution_count": 20,
     "metadata": {},
     "output_type": "execute_result"
    }
   ],
   "source": [
    "# 未来の値\n",
    "\"\"\"\n",
    "empty = []\n",
    "future_array = np.array(empty)\n",
    "\n",
    "for i in range(length):\n",
    "    pred = (((np.transpose(yen_model.predict(latest_lstm_in))+1) * latest['open'].values[0])[0])[0]\n",
    "    future_array= np.append(future_array,pred)\n",
    "    data ={'open':[pred]}\n",
    "    df1 = pd.DataFrame(data)\n",
    "    latest =pd.concat([latest,df1],axis=0)\n",
    "    latest.index = range(0,window_len+1)\n",
    "    latest = latest.drop(0,axis=0)\n",
    "    latest_lstm_in =pd_to_np(latest_lstm_in)\n",
    "\"\"\""
   ]
  },
  {
   "cell_type": "markdown",
   "metadata": {},
   "source": [
    "## 訓練データの期間"
   ]
  },
  {
   "cell_type": "code",
   "execution_count": 21,
   "metadata": {},
   "outputs": [
    {
     "name": "stdout",
     "output_type": "stream",
     "text": [
      "970\n"
     ]
    },
    {
     "data": {
      "text/plain": [
       "977   2020-06-30 06:00:00+09:00\n",
       "978   2020-07-01 06:00:00+09:00\n",
       "979   2020-07-02 06:00:00+09:00\n",
       "Name: time, dtype: datetime64[ns, Asia/Tokyo]"
      ]
     },
     "execution_count": 21,
     "metadata": {},
     "output_type": "execute_result"
    }
   ],
   "source": [
    "# 訓練データの時刻を抽出\n",
    "df_train_duration = df[df['time']< split_date]['time'][window_len:]\n",
    "print(len(df_train_duration))\n",
    "df_train_duration.tail(3)"
   ]
  },
  {
   "cell_type": "code",
   "execution_count": 22,
   "metadata": {},
   "outputs": [
    {
     "data": {
      "image/png": "[encoded data removed]",
      "text/plain": [
       "<Figure size 720x576 with 1 Axes>"
      ]
     },
     "metadata": {
      "needs_background": "light"
     },
     "output_type": "display_data"
    }
   ],
   "source": [
    "plt.figure(figsize=(10,8))\n",
    "plt.plot(df_train_duration, train['open'][window_len:], label='Actual', color='blue')\n",
    "plt.plot(df_train_duration,\n",
    "         ((np.transpose(yen_model.predict(X_train))+1) * train['open'].values[:-window_len])[0], label='Predicted', color='red')\n",
    "plt.show()"
   ]
  },
  {
   "cell_type": "markdown",
   "metadata": {},
   "source": [
    "## 訓練データの期間 + テストデータの期間"
   ]
  },
  {
   "cell_type": "code",
   "execution_count": 23,
   "metadata": {},
   "outputs": [
    {
     "name": "stdout",
     "output_type": "stream",
     "text": [
      "990\n"
     ]
    },
    {
     "data": {
      "image/png": "[encoded data removed]",
      "text/plain": [
       "<Figure size 720x576 with 1 Axes>"
      ]
     },
     "metadata": {
      "needs_background": "light"
     },
     "output_type": "display_data"
    }
   ],
   "source": [
    "df_train_duration = df[\"time\"][window_len:]\n",
    "print(len(df_train_duration))\n",
    "\n",
    "plt.figure(figsize=(10,8))\n",
    "plt.plot(df_train_duration, all_data['open'][window_len:], label='Actual', color='blue')\n",
    "plt.plot(df_train_duration,\n",
    "         ((np.transpose(yen_model.predict(all_data_lstm_in))+1) * all_data['open'].values[:-window_len])[0], label='Predicted', color='red')\n",
    "\n",
    "plt.grid()\n",
    "plt.show()"
   ]
  },
  {
   "cell_type": "markdown",
   "metadata": {},
   "source": [
    "## テストデータの区間"
   ]
  },
  {
   "cell_type": "code",
   "execution_count": 24,
   "metadata": {
    "scrolled": false
   },
   "outputs": [
    {
     "name": "stdout",
     "output_type": "stream",
     "text": [
      "20\n"
     ]
    },
    {
     "data": {
      "image/png": "[encoded data removed]",
      "text/plain": [
       "<Figure size 720x576 with 1 Axes>"
      ]
     },
     "metadata": {
      "needs_background": "light"
     },
     "output_type": "display_data"
    }
   ],
   "source": [
    "df_train_duration = df[\"time\"].tail(len(test))\n",
    "print(len(df_train_duration))\n",
    "\n",
    "plt.figure(figsize=(10,8))\n",
    "plt.plot(df_train_duration, all_data['open'].tail(len(df_train_duration)), label='Actual', color='blue')\n",
    "\n",
    "_temp_pred = ((np.transpose(yen_model.predict(all_data_lstm_in))+1) * all_data['open'].values[:-window_len])[0]\n",
    "plt.plot(df_train_duration, _temp_pred[970:], label='Predicted', color='red')\n",
    "\n",
    "plt.grid()\n",
    "plt.show()"
   ]
  },
  {
   "cell_type": "code",
   "execution_count": null,
   "metadata": {},
   "outputs": [],
   "source": []
  },
  {
   "cell_type": "markdown",
   "metadata": {},
   "source": [
    "## テストデータ + 予測結果"
   ]
  },
  {
   "cell_type": "code",
   "execution_count": 25,
   "metadata": {},
   "outputs": [
    {
     "name": "stdout",
     "output_type": "stream",
     "text": [
      "105.75925\n"
     ]
    }
   ],
   "source": [
    "# 予測結果\n",
    "pred = (((np.transpose(yen_model.predict(latest_lstm_in))+1) * latest['open'].values[0])[0])[0]\n",
    "print(pred)"
   ]
  },
  {
   "cell_type": "code",
   "execution_count": 26,
   "metadata": {},
   "outputs": [
    {
     "data": {
      "text/plain": [
       "'\\nt_test = df.iloc[980][\"time\"]\\n\\ntdatetime = t_test\\ntstr = tdatetime.strftime(\\'%Y/%m/%d %H:%M:%S\\')\\n'"
      ]
     },
     "execution_count": 26,
     "metadata": {},
     "output_type": "execute_result"
    }
   ],
   "source": [
    "\"\"\"\n",
    "t_test = df.iloc[980][\"time\"]\n",
    "\n",
    "tdatetime = t_test\n",
    "tstr = tdatetime.strftime('%Y/%m/%d %H:%M:%S')\n",
    "\"\"\""
   ]
  },
  {
   "cell_type": "code",
   "execution_count": 495,
   "metadata": {},
   "outputs": [],
   "source": [
    "#df_train_duration_future = df_train_duration.append(tdatetime)\n",
    "#print(df_train_duration_future)"
   ]
  },
  {
   "cell_type": "code",
   "execution_count": 27,
   "metadata": {},
   "outputs": [
    {
     "name": "stdout",
     "output_type": "stream",
     "text": [
      "20\n"
     ]
    },
    {
     "data": {
      "image/png": "[encoded data removed]",
      "text/plain": [
       "<Figure size 720x576 with 1 Axes>"
      ]
     },
     "metadata": {
      "needs_background": "light"
     },
     "output_type": "display_data"
    }
   ],
   "source": [
    "df_train_duration = df[\"time\"].tail(len(test))\n",
    "print(len(df_train_duration))\n",
    "\n",
    "plt.figure(figsize=(10,8))\n",
    "#plt.plot(df_train_duration, all_data['open'].tail(len(df_train_duration)), label='Actual', color='blue')\n",
    "plt.plot(np.arange(len(df_train_duration)), all_data['open'].tail(len(df_train_duration)), label='Actual', color='blue')\n",
    "\n",
    "# 推測\n",
    "_temp_pred = ((np.transpose(yen_model.predict(all_data_lstm_in))+1) * all_data['open'].values[:-window_len])[0]\n",
    "_temp_pred_future = np.append(_temp_pred, pred)\n",
    "\n",
    "plt.plot(np.arange(len(df_train_duration)+1), _temp_pred_future[970:], label='Predicted', color='red')\n",
    "\n",
    "plt.grid()\n",
    "plt.show()"
   ]
  },
  {
   "cell_type": "code",
   "execution_count": null,
   "metadata": {},
   "outputs": [],
   "source": []
  },
  {
   "cell_type": "code",
   "execution_count": null,
   "metadata": {},
   "outputs": [],
   "source": []
  },
  {
   "cell_type": "code",
   "execution_count": null,
   "metadata": {},
   "outputs": [],
   "source": []
  }
 ],
 "metadata": {
  "kernelspec": {
   "display_name": "Python 3",
   "language": "python",
   "name": "python3"
  },
  "language_info": {
   "codemirror_mode": {
    "name": "ipython",
    "version": 3
   },
   "file_extension": ".py",
   "mimetype": "text/x-python",
   "name": "python",
   "nbconvert_exporter": "python",
   "pygments_lexer": "ipython3",
   "version": "3.7.0"
  }
 },
 "nbformat": 4,
 "nbformat_minor": 2
}
