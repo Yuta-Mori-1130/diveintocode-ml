{
 "cells": [
  {
   "cell_type": "markdown",
   "metadata": {},
   "source": [
    "[課題のURL](https://diver.diveintocode.jp/curriculums/1868)"
   ]
  },
  {
   "cell_type": "markdown",
   "metadata": {},
   "source": [
    "# Sprintアンサンブル学習"
   ]
  },
  {
   "cell_type": "code",
   "execution_count": 1,
   "metadata": {},
   "outputs": [],
   "source": [
    "import numpy as np\n",
    "import pandas as pd\n",
    "import seaborn as sns\n",
    "import missingno as msno\n",
    "import scipy\n",
    "import matplotlib\n",
    "import matplotlib.pyplot as plt\n",
    "\n",
    "from sklearn.model_selection import train_test_split\n",
    "from sklearn.metrics import mean_squared_error\n",
    "\n",
    "%matplotlib inline"
   ]
  },
  {
   "cell_type": "markdown",
   "metadata": {},
   "source": [
    "# 小さなデータセットの用意"
   ]
  },
  {
   "cell_type": "code",
   "execution_count": 2,
   "metadata": {},
   "outputs": [],
   "source": [
    "df = pd.read_csv('train.csv', index_col=0)"
   ]
  },
  {
   "cell_type": "code",
   "execution_count": 3,
   "metadata": {},
   "outputs": [],
   "source": [
    "# GrLivAreaとYearBuiltを抜き出す。\n",
    "X = df[[\"GrLivArea\", \"YearBuilt\"]]\n",
    "y = df[\"SalePrice\"]"
   ]
  },
  {
   "cell_type": "code",
   "execution_count": 4,
   "metadata": {},
   "outputs": [
    {
     "data": {
      "text/html": [
       "<div>\n",
       "<style scoped>\n",
       "    .dataframe tbody tr th:only-of-type {\n",
       "        vertical-align: middle;\n",
       "    }\n",
       "\n",
       "    .dataframe tbody tr th {\n",
       "        vertical-align: top;\n",
       "    }\n",
       "\n",
       "    .dataframe thead th {\n",
       "        text-align: right;\n",
       "    }\n",
       "</style>\n",
       "<table border=\"1\" class=\"dataframe\">\n",
       "  <thead>\n",
       "    <tr style=\"text-align: right;\">\n",
       "      <th></th>\n",
       "      <th>GrLivArea</th>\n",
       "      <th>YearBuilt</th>\n",
       "      <th>SalePrice</th>\n",
       "    </tr>\n",
       "    <tr>\n",
       "      <th>Id</th>\n",
       "      <th></th>\n",
       "      <th></th>\n",
       "      <th></th>\n",
       "    </tr>\n",
       "  </thead>\n",
       "  <tbody>\n",
       "    <tr>\n",
       "      <th>1</th>\n",
       "      <td>1710</td>\n",
       "      <td>2003</td>\n",
       "      <td>208500</td>\n",
       "    </tr>\n",
       "    <tr>\n",
       "      <th>2</th>\n",
       "      <td>1262</td>\n",
       "      <td>1976</td>\n",
       "      <td>181500</td>\n",
       "    </tr>\n",
       "    <tr>\n",
       "      <th>3</th>\n",
       "      <td>1786</td>\n",
       "      <td>2001</td>\n",
       "      <td>223500</td>\n",
       "    </tr>\n",
       "  </tbody>\n",
       "</table>\n",
       "</div>"
      ],
      "text/plain": [
       "    GrLivArea  YearBuilt  SalePrice\n",
       "Id                                 \n",
       "1        1710       2003     208500\n",
       "2        1262       1976     181500\n",
       "3        1786       2001     223500"
      ]
     },
     "execution_count": 4,
     "metadata": {},
     "output_type": "execute_result"
    }
   ],
   "source": [
    "df = pd.concat([X, y], axis=1)\n",
    "df.head(3)"
   ]
  },
  {
   "cell_type": "code",
   "execution_count": 5,
   "metadata": {},
   "outputs": [
    {
     "name": "stdout",
     "output_type": "stream",
     "text": [
      "missing_ration\n"
     ]
    },
    {
     "data": {
      "text/plain": [
       "Series([], dtype: float64)"
      ]
     },
     "execution_count": 5,
     "metadata": {},
     "output_type": "execute_result"
    }
   ],
   "source": [
    "print(\"missing_ration\")\n",
    "na_columns = (df.isnull().sum()[df.isnull().sum()>0].sort_values(ascending=False)) / 1460\n",
    "na_columns"
   ]
  },
  {
   "cell_type": "code",
   "execution_count": 6,
   "metadata": {},
   "outputs": [
    {
     "data": {
      "text/html": [
       "<div>\n",
       "<style scoped>\n",
       "    .dataframe tbody tr th:only-of-type {\n",
       "        vertical-align: middle;\n",
       "    }\n",
       "\n",
       "    .dataframe tbody tr th {\n",
       "        vertical-align: top;\n",
       "    }\n",
       "\n",
       "    .dataframe thead th {\n",
       "        text-align: right;\n",
       "    }\n",
       "</style>\n",
       "<table border=\"1\" class=\"dataframe\">\n",
       "  <thead>\n",
       "    <tr style=\"text-align: right;\">\n",
       "      <th></th>\n",
       "      <th>GrLivArea</th>\n",
       "      <th>YearBuilt</th>\n",
       "      <th>SalePrice</th>\n",
       "    </tr>\n",
       "  </thead>\n",
       "  <tbody>\n",
       "    <tr>\n",
       "      <th>0</th>\n",
       "      <td>7.444249</td>\n",
       "      <td>7.602401</td>\n",
       "      <td>12.247694</td>\n",
       "    </tr>\n",
       "    <tr>\n",
       "      <th>1</th>\n",
       "      <td>7.140453</td>\n",
       "      <td>7.588830</td>\n",
       "      <td>12.109011</td>\n",
       "    </tr>\n",
       "  </tbody>\n",
       "</table>\n",
       "</div>"
      ],
      "text/plain": [
       "   GrLivArea  YearBuilt  SalePrice\n",
       "0   7.444249   7.602401  12.247694\n",
       "1   7.140453   7.588830  12.109011"
      ]
     },
     "execution_count": 6,
     "metadata": {},
     "output_type": "execute_result"
    }
   ],
   "source": [
    "# 対数変換\n",
    "df[\"SalePrice\"] = np.log(df[\"SalePrice\"])\n",
    "df[\"GrLivArea\"] = np.log(df[\"GrLivArea\"])\n",
    "df[\"YearBuilt\"] = np.log(df[\"YearBuilt\"])\n",
    "\n",
    "# 外れ値の除去\n",
    "df.drop(df[(df[\"GrLivArea\"]>4500) & (df['SalePrice']<300000)].index, inplace=True)\n",
    "df.reset_index(drop=True, inplace=True)\n",
    "\n",
    "X = df[[\"GrLivArea\", \"YearBuilt\"]]\n",
    "#X = df[[\"GrLivArea\"]]\n",
    "y = df[\"SalePrice\"]\n",
    "df = pd.concat([X, y], axis=1)\n",
    "\n",
    "df.head(2)"
   ]
  },
  {
   "cell_type": "code",
   "execution_count": 7,
   "metadata": {},
   "outputs": [
    {
     "data": {
      "image/png": "[encoded data removed]",
      "text/plain": [
       "<Figure size 432x288 with 1 Axes>"
      ]
     },
     "metadata": {
      "needs_background": "light"
     },
     "output_type": "display_data"
    },
    {
     "data": {
      "image/png": "[encoded data removed]",
      "text/plain": [
       "<Figure size 432x288 with 1 Axes>"
      ]
     },
     "metadata": {
      "needs_background": "light"
     },
     "output_type": "display_data"
    }
   ],
   "source": [
    "# グラフの描画\n",
    "plt.title(\"scatter\") # (5)タイトル\n",
    "plt.xlabel(\"GrLivArea\") # (6)x軸ラベル\n",
    "plt.ylabel(\"SalePrice\") # (7)y軸ラベル\n",
    "\n",
    "plt.scatter(df[[\"GrLivArea\"]], df[\"SalePrice\"], s=10, c = 'blue')\n",
    "plt.grid() # グリッド線を表示\n",
    "plt.show()\n",
    "\n",
    "plt.title(\"scatter\") # (5)タイトル\n",
    "plt.xlabel(\"YearBuilt\") # (6)x軸ラベル\n",
    "plt.ylabel(\"SalePrice\") # (7)y軸ラベル\n",
    "\n",
    "plt.scatter(df[[\"YearBuilt\"]], df[\"SalePrice\"], s=10, c = 'blue')\n",
    "plt.grid() # グリッド線を表示\n",
    "plt.show()"
   ]
  },
  {
   "cell_type": "code",
   "execution_count": 8,
   "metadata": {},
   "outputs": [],
   "source": [
    "X_train, X_test, y_train, y_test = train_test_split(X, y, test_size=0.2, random_state=0)"
   ]
  },
  {
   "cell_type": "markdown",
   "metadata": {},
   "source": [
    "# 【問題1】ブレンディングのスクラッチ実装"
   ]
  },
  {
   "cell_type": "markdown",
   "metadata": {},
   "source": [
    "ブレンディング をスクラッチ実装し、単一モデルより精度があがる例を 最低3つ 示してください。  \n",
    "精度があがるとは、検証用データに対する平均二乗誤差（MSE）が小さくなることを指します。  "
   ]
  },
  {
   "cell_type": "markdown",
   "metadata": {},
   "source": [
    "モデル単体  \n",
    "・線形回帰 0.04590550537802955  \n",
    "・SVR 0.04395091582650826  \n",
    "・決定木 0.07245932849558485  \n",
    "・ランダムフォレスト 0.04063562350007295  "
   ]
  },
  {
   "cell_type": "markdown",
   "metadata": {},
   "source": [
    "* 参考:モデル単体\n",
    "\n",
    "1. 決定木(0.5)+SVR(0.5) 0.044379297297467146  \n",
    "→決定木、SVR単体と比べ精度が向上  \n",
    "\n",
    "2. 決定木(0.3)+SVR(0.4)+線系回帰(0.3) 0.041218949244985495  \n",
    "→決定木, SVR, 線形回帰単体と比べ精度が向上  \n",
    "\n",
    "3. 決定木(0.25)+SVR(0.25)+線系回帰(0.25)+ランダムフォレスト(0.25) 0.04007051443922988  \n",
    "→決定木, SVR, 線形回帰単体, ランダムフォレストと比べ精度が向上 "
   ]
  },
  {
   "cell_type": "markdown",
   "metadata": {},
   "source": [
    "* 参考:単体モデル"
   ]
  },
  {
   "cell_type": "code",
   "execution_count": 9,
   "metadata": {},
   "outputs": [
    {
     "name": "stdout",
     "output_type": "stream",
     "text": [
      "平均二乗誤差（標準偏差、ばらつき、MSE） 0.04590550537802955\n"
     ]
    }
   ],
   "source": [
    "from sklearn.linear_model import LinearRegression\n",
    "\n",
    "lr_init = LinearRegression()\n",
    "lr_init.fit(X_train, y_train)\n",
    "\n",
    "y_pred = lr_init.predict(X_test)\n",
    "\n",
    "score_lr_init = mean_squared_error(y_test, y_pred)\n",
    "\n",
    "print(\"平均二乗誤差（標準偏差、ばらつき、MSE）\", score_lr_init)\n"
   ]
  },
  {
   "cell_type": "code",
   "execution_count": 10,
   "metadata": {},
   "outputs": [
    {
     "name": "stdout",
     "output_type": "stream",
     "text": [
      "平均二乗誤差（標準偏差、ばらつき、MSE） 0.04395091582650826\n"
     ]
    }
   ],
   "source": [
    "from sklearn.svm import SVR\n",
    "\n",
    "svr_init = SVR()\n",
    "svr_init.fit(X_train, y_train)\n",
    "\n",
    "y_pred = svr_init.predict(X_test)\n",
    "\n",
    "score_svr_init = mean_squared_error(y_test, y_pred)\n",
    "\n",
    "print(\"平均二乗誤差（標準偏差、ばらつき、MSE）\", score_svr_init)"
   ]
  },
  {
   "cell_type": "code",
   "execution_count": 11,
   "metadata": {},
   "outputs": [
    {
     "name": "stdout",
     "output_type": "stream",
     "text": [
      "平均二乗誤差（標準偏差、ばらつき、MSE） 0.07433195314483924\n"
     ]
    }
   ],
   "source": [
    "from sklearn.tree import DecisionTreeRegressor\n",
    "\n",
    "dt_init = DecisionTreeRegressor()\n",
    "dt_init.fit(X_train, y_train)\n",
    "\n",
    "y_pred = dt_init.predict(X_test)\n",
    "\n",
    "score_dt_init = mean_squared_error(y_test, y_pred)\n",
    "\n",
    "print(\"平均二乗誤差（標準偏差、ばらつき、MSE）\", score_dt_init)"
   ]
  },
  {
   "cell_type": "code",
   "execution_count": 12,
   "metadata": {},
   "outputs": [
    {
     "name": "stdout",
     "output_type": "stream",
     "text": [
      "平均二乗誤差（標準偏差、ばらつき、MSE） 0.042598247965260544\n"
     ]
    }
   ],
   "source": [
    "from sklearn.ensemble import RandomForestRegressor\n",
    "\n",
    "df_init = RandomForestRegressor()\n",
    "df_init.fit(X_train, y_train)\n",
    "\n",
    "y_pred = df_init.predict(X_test)\n",
    "\n",
    "score_df_init = mean_squared_error(y_test, y_pred)\n",
    "\n",
    "print(\"平均二乗誤差（標準偏差、ばらつき、MSE）\", score_df_init)"
   ]
  },
  {
   "cell_type": "markdown",
   "metadata": {},
   "source": [
    "* ブレンディング01(決定木 + SVR)"
   ]
  },
  {
   "cell_type": "code",
   "execution_count": 13,
   "metadata": {},
   "outputs": [],
   "source": [
    "def blend_models_predict_01(X):\n",
    "    return ((0.5 * dt_init.predict(X)) + \\\n",
    "            (0.5 * svr_init.predict((X))))"
   ]
  },
  {
   "cell_type": "code",
   "execution_count": 14,
   "metadata": {},
   "outputs": [
    {
     "name": "stdout",
     "output_type": "stream",
     "text": [
      "平均二乗誤差（標準偏差、ばらつき、MSE） 0.045636116320075956\n"
     ]
    }
   ],
   "source": [
    "y_pred = blend_models_predict_01(X_test)\n",
    "\n",
    "score_blend_01 = mean_squared_error(y_test, y_pred)\n",
    "print(\"平均二乗誤差（標準偏差、ばらつき、MSE）\", score_blend_01)"
   ]
  },
  {
   "cell_type": "markdown",
   "metadata": {},
   "source": [
    "* ブレンディング02(決定木 + SVR + 線形回帰)"
   ]
  },
  {
   "cell_type": "code",
   "execution_count": 15,
   "metadata": {},
   "outputs": [],
   "source": [
    "def blend_models_predict_02(X):\n",
    "    return ((0.3 * dt_init.predict(X)) + \\\n",
    "            (0.3 * lr_init.predict(X)) + \\\n",
    "            (0.4 * svr_init.predict((X))))"
   ]
  },
  {
   "cell_type": "code",
   "execution_count": 16,
   "metadata": {},
   "outputs": [
    {
     "name": "stdout",
     "output_type": "stream",
     "text": [
      "平均二乗誤差（標準偏差、ばらつき、MSE） 0.04195428460412758\n"
     ]
    }
   ],
   "source": [
    "y_pred = blend_models_predict_02(X_test)\n",
    "\n",
    "score_blend_02 = mean_squared_error(y_test, y_pred)\n",
    "print(\"平均二乗誤差（標準偏差、ばらつき、MSE）\", score_blend_02)"
   ]
  },
  {
   "cell_type": "markdown",
   "metadata": {},
   "source": [
    "* ブレンディング03(決定木 + SVR + 線形回帰 + ランダムフォレスト)"
   ]
  },
  {
   "cell_type": "code",
   "execution_count": 17,
   "metadata": {},
   "outputs": [],
   "source": [
    "def blend_models_predict_03(X):\n",
    "    return ((0.25 * dt_init.predict(X)) + \\\n",
    "            (0.25 * lr_init.predict(X)) + \\\n",
    "            (0.25 * df_init.predict(X)) + \\\n",
    "            (0.25 * svr_init.predict((X))))"
   ]
  },
  {
   "cell_type": "code",
   "execution_count": 18,
   "metadata": {},
   "outputs": [
    {
     "name": "stdout",
     "output_type": "stream",
     "text": [
      "平均二乗誤差（標準偏差、ばらつき、MSE） 0.04103567429799736\n"
     ]
    }
   ],
   "source": [
    "y_pred = blend_models_predict_03(X_test)\n",
    "\n",
    "score_blend_03 = mean_squared_error(y_test, y_pred)\n",
    "print(\"平均二乗誤差（標準偏差、ばらつき、MSE）\", score_blend_03)"
   ]
  },
  {
   "cell_type": "code",
   "execution_count": null,
   "metadata": {},
   "outputs": [],
   "source": []
  },
  {
   "cell_type": "markdown",
   "metadata": {},
   "source": [
    "# 【問題2】バギングのスクラッチ実装"
   ]
  },
  {
   "cell_type": "markdown",
   "metadata": {},
   "source": [
    "バギング をスクラッチ実装し、単一モデルより精度があがる例を 最低1つ 示してください。  \n",
    "\n",
    "モデル単体  \n",
    "・決定木 0.07245932849558485  \n",
    "\n",
    "バギング  \n",
    "・決定木 0.05908729877882455  \n",
    "\n",
    "参考 sklearn  \n",
    "・決定木 0.045146755942696716  "
   ]
  },
  {
   "cell_type": "markdown",
   "metadata": {},
   "source": [
    "* 参考:sklearn"
   ]
  },
  {
   "cell_type": "code",
   "execution_count": 165,
   "metadata": {},
   "outputs": [
    {
     "name": "stdout",
     "output_type": "stream",
     "text": [
      "Building estimator 1 of 10 for this parallel run (total 10)...\n",
      "Building estimator 2 of 10 for this parallel run (total 10)...\n",
      "Building estimator 3 of 10 for this parallel run (total 10)...\n",
      "Building estimator 4 of 10 for this parallel run (total 10)...\n",
      "Building estimator 5 of 10 for this parallel run (total 10)...\n",
      "Building estimator 6 of 10 for this parallel run (total 10)...\n",
      "Building estimator 7 of 10 for this parallel run (total 10)...\n",
      "Building estimator 8 of 10 for this parallel run (total 10)...\n",
      "Building estimator 9 of 10 for this parallel run (total 10)...\n",
      "Building estimator 10 of 10 for this parallel run (total 10)...\n",
      "平均二乗誤差（標準偏差、ばらつき、MSE） 0.045146755942696716\n"
     ]
    },
    {
     "name": "stderr",
     "output_type": "stream",
     "text": [
      "[Parallel(n_jobs=1)]: Using backend SequentialBackend with 1 concurrent workers.\n",
      "[Parallel(n_jobs=1)]: Done   1 out of   1 | elapsed:    0.1s remaining:    0.0s\n",
      "[Parallel(n_jobs=1)]: Done   1 out of   1 | elapsed:    0.1s finished\n",
      "[Parallel(n_jobs=1)]: Using backend SequentialBackend with 1 concurrent workers.\n",
      "[Parallel(n_jobs=1)]: Done   1 out of   1 | elapsed:    0.0s remaining:    0.0s\n",
      "[Parallel(n_jobs=1)]: Done   1 out of   1 | elapsed:    0.0s finished\n"
     ]
    }
   ],
   "source": [
    "from sklearn.ensemble import BaggingRegressor\n",
    "\n",
    "X_train, X_test, y_train, y_test = train_test_split(X, y, test_size=0.2, shuffle=True,random_state=0)\n",
    "\n",
    "dt_init_bagging = BaggingRegressor(base_estimator=DecisionTreeRegressor(), n_estimators=10, verbose=3, random_state=0)\n",
    "dt_init_bagging.fit(X_train, y_train)\n",
    "\n",
    "y_pred = dt_init_bagging.predict(X_test)\n",
    "\n",
    "score_dt_init_bagging = mean_squared_error(y_test, y_pred)\n",
    "print(\"平均二乗誤差（標準偏差、ばらつき、MSE）\", score_dt_init_bagging)"
   ]
  },
  {
   "cell_type": "code",
   "execution_count": 166,
   "metadata": {},
   "outputs": [
    {
     "data": {
      "text/plain": [
       "[DecisionTreeRegressor(ccp_alpha=0.0, criterion='mse', max_depth=None,\n",
       "                       max_features=None, max_leaf_nodes=None,\n",
       "                       min_impurity_decrease=0.0, min_impurity_split=None,\n",
       "                       min_samples_leaf=1, min_samples_split=2,\n",
       "                       min_weight_fraction_leaf=0.0, presort='deprecated',\n",
       "                       random_state=2087557356, splitter='best'),\n",
       " DecisionTreeRegressor(ccp_alpha=0.0, criterion='mse', max_depth=None,\n",
       "                       max_features=None, max_leaf_nodes=None,\n",
       "                       min_impurity_decrease=0.0, min_impurity_split=None,\n",
       "                       min_samples_leaf=1, min_samples_split=2,\n",
       "                       min_weight_fraction_leaf=0.0, presort='deprecated',\n",
       "                       random_state=132990059, splitter='best'),\n",
       " DecisionTreeRegressor(ccp_alpha=0.0, criterion='mse', max_depth=None,\n",
       "                       max_features=None, max_leaf_nodes=None,\n",
       "                       min_impurity_decrease=0.0, min_impurity_split=None,\n",
       "                       min_samples_leaf=1, min_samples_split=2,\n",
       "                       min_weight_fraction_leaf=0.0, presort='deprecated',\n",
       "                       random_state=1109697837, splitter='best'),\n",
       " DecisionTreeRegressor(ccp_alpha=0.0, criterion='mse', max_depth=None,\n",
       "                       max_features=None, max_leaf_nodes=None,\n",
       "                       min_impurity_decrease=0.0, min_impurity_split=None,\n",
       "                       min_samples_leaf=1, min_samples_split=2,\n",
       "                       min_weight_fraction_leaf=0.0, presort='deprecated',\n",
       "                       random_state=123230084, splitter='best'),\n",
       " DecisionTreeRegressor(ccp_alpha=0.0, criterion='mse', max_depth=None,\n",
       "                       max_features=None, max_leaf_nodes=None,\n",
       "                       min_impurity_decrease=0.0, min_impurity_split=None,\n",
       "                       min_samples_leaf=1, min_samples_split=2,\n",
       "                       min_weight_fraction_leaf=0.0, presort='deprecated',\n",
       "                       random_state=633163265, splitter='best'),\n",
       " DecisionTreeRegressor(ccp_alpha=0.0, criterion='mse', max_depth=None,\n",
       "                       max_features=None, max_leaf_nodes=None,\n",
       "                       min_impurity_decrease=0.0, min_impurity_split=None,\n",
       "                       min_samples_leaf=1, min_samples_split=2,\n",
       "                       min_weight_fraction_leaf=0.0, presort='deprecated',\n",
       "                       random_state=998640145, splitter='best'),\n",
       " DecisionTreeRegressor(ccp_alpha=0.0, criterion='mse', max_depth=None,\n",
       "                       max_features=None, max_leaf_nodes=None,\n",
       "                       min_impurity_decrease=0.0, min_impurity_split=None,\n",
       "                       min_samples_leaf=1, min_samples_split=2,\n",
       "                       min_weight_fraction_leaf=0.0, presort='deprecated',\n",
       "                       random_state=1452413565, splitter='best'),\n",
       " DecisionTreeRegressor(ccp_alpha=0.0, criterion='mse', max_depth=None,\n",
       "                       max_features=None, max_leaf_nodes=None,\n",
       "                       min_impurity_decrease=0.0, min_impurity_split=None,\n",
       "                       min_samples_leaf=1, min_samples_split=2,\n",
       "                       min_weight_fraction_leaf=0.0, presort='deprecated',\n",
       "                       random_state=2006313316, splitter='best'),\n",
       " DecisionTreeRegressor(ccp_alpha=0.0, criterion='mse', max_depth=None,\n",
       "                       max_features=None, max_leaf_nodes=None,\n",
       "                       min_impurity_decrease=0.0, min_impurity_split=None,\n",
       "                       min_samples_leaf=1, min_samples_split=2,\n",
       "                       min_weight_fraction_leaf=0.0, presort='deprecated',\n",
       "                       random_state=45050103, splitter='best'),\n",
       " DecisionTreeRegressor(ccp_alpha=0.0, criterion='mse', max_depth=None,\n",
       "                       max_features=None, max_leaf_nodes=None,\n",
       "                       min_impurity_decrease=0.0, min_impurity_split=None,\n",
       "                       min_samples_leaf=1, min_samples_split=2,\n",
       "                       min_weight_fraction_leaf=0.0, presort='deprecated',\n",
       "                       random_state=395371042, splitter='best')]"
      ]
     },
     "execution_count": 166,
     "metadata": {},
     "output_type": "execute_result"
    }
   ],
   "source": [
    "dt_init_bagging.estimators_"
   ]
  },
  {
   "cell_type": "markdown",
   "metadata": {},
   "source": [
    "* スクラッチ"
   ]
  },
  {
   "cell_type": "code",
   "execution_count": 183,
   "metadata": {},
   "outputs": [],
   "source": [
    "def scratch_bagging(X, y, model, n_estimators=10):\n",
    "    \n",
    "    clf = [i for i in range(n_estimators)]\n",
    "    \n",
    "    # BaggingRegressorの初期値(n_estimators=10)\n",
    "    for i in range(n_estimators):\n",
    "        \n",
    "        clf[i] = model()\n",
    "        \n",
    "        X_train, X_test, y_train, y_test = train_test_split(X, y, test_size=0.2, shuffle=True)\n",
    "        \n",
    "        clf[i].fit(X_train, y_train)\n",
    "\n",
    "        y_pred = clf[i].predict(X_test)\n",
    "        \n",
    "        score = mean_squared_error(y_test, y_pred)\n",
    "        print(\"平均二乗誤差（標準偏差、ばらつき、MSE）\", score)\n",
    "    \n",
    "    return clf\n",
    "\n",
    "def scratch_bagging_predict(clf, X_test, y_test):\n",
    "    \n",
    "    n_estimators = len(clf)\n",
    "    \n",
    "    for i in range(n_estimators):\n",
    "        \n",
    "        if i == 0:\n",
    "            y_pred_sum = clf[i].predict(X_test)\n",
    "        else:\n",
    "            y_pred = clf[i].predict(X_test)\n",
    "            y_pred_sum = 0.5*y_pred + 0.5*y_pred_sum\n",
    "    \n",
    "    score = mean_squared_error(y_test, y_pred_sum)\n",
    "    print(\"bagging 平均二乗誤差（標準偏差、ばらつき、MSE）\", score)\n",
    "    \n",
    "    return"
   ]
  },
  {
   "cell_type": "code",
   "execution_count": 186,
   "metadata": {},
   "outputs": [
    {
     "name": "stdout",
     "output_type": "stream",
     "text": [
      "平均二乗誤差（標準偏差、ばらつき、MSE） 0.05617614630712429\n",
      "平均二乗誤差（標準偏差、ばらつき、MSE） 0.08146840841379732\n",
      "平均二乗誤差（標準偏差、ばらつき、MSE） 0.06440809803212749\n",
      "平均二乗誤差（標準偏差、ばらつき、MSE） 0.054070483335672\n",
      "平均二乗誤差（標準偏差、ばらつき、MSE） 0.07086546741260655\n",
      "平均二乗誤差（標準偏差、ばらつき、MSE） 0.06910077305222734\n",
      "平均二乗誤差（標準偏差、ばらつき、MSE） 0.07143657741810569\n",
      "平均二乗誤差（標準偏差、ばらつき、MSE） 0.0877238201106474\n",
      "平均二乗誤差（標準偏差、ばらつき、MSE） 0.07718322357276418\n",
      "平均二乗誤差（標準偏差、ばらつき、MSE） 0.06898673442591895\n",
      "bagging 平均二乗誤差（標準偏差、ばらつき、MSE） 0.05908729877882455\n"
     ]
    }
   ],
   "source": [
    "clf = scratch_bagging(X_train, y_train, DecisionTreeRegressor, n_estimators=10)\n",
    "scratch_bagging_predict(clf, X_test, y_test)"
   ]
  },
  {
   "cell_type": "code",
   "execution_count": null,
   "metadata": {},
   "outputs": [],
   "source": []
  },
  {
   "cell_type": "markdown",
   "metadata": {},
   "source": [
    "# 【問題3】スタッキングのスクラッチ実装"
   ]
  },
  {
   "cell_type": "markdown",
   "metadata": {},
   "source": [
    "スタッキング をスクラッチ実装し、単一モデルより精度があがる例を 最低1つ 示してください。\n",
    "\n",
    "線形回帰モデル単体  \n",
    "0.04590550537802955  \n",
    "\n",
    "決定木とSVRを利用し、最終的に線形回帰を利用したモデル    \n",
    "0.04008880857911466  \n",
    "\n",
    "参考 sklearn  \n",
    "0.0419192785251291  \n"
   ]
  },
  {
   "cell_type": "markdown",
   "metadata": {},
   "source": [
    "* 参考:sklearn"
   ]
  },
  {
   "cell_type": "code",
   "execution_count": 170,
   "metadata": {},
   "outputs": [
    {
     "name": "stdout",
     "output_type": "stream",
     "text": [
      "平均二乗誤差（標準偏差、ばらつき、MSE） 0.0419192785251291\n"
     ]
    }
   ],
   "source": [
    "from sklearn.ensemble import StackingRegressor\n",
    "\n",
    "estimators = [\n",
    "    ('dt', DecisionTreeRegressor()),\n",
    "    ('svr', SVR())\n",
    "]\n",
    "\n",
    "reg = StackingRegressor(\n",
    "    estimators=estimators,\n",
    "    final_estimator=LinearRegression(),\n",
    "    cv=3\n",
    ")\n",
    "\n",
    "reg.fit(X_train, y_train)\n",
    "\n",
    "y_pred = reg.predict(X_test)\n",
    "score_stack = mean_squared_error(y_test, y_pred)\n",
    "\n",
    "print(\"平均二乗誤差（標準偏差、ばらつき、MSE）\", score_stack)"
   ]
  },
  {
   "cell_type": "markdown",
   "metadata": {},
   "source": [
    "* スクラッチ"
   ]
  },
  {
   "cell_type": "code",
   "execution_count": 172,
   "metadata": {},
   "outputs": [
    {
     "name": "stdout",
     "output_type": "stream",
     "text": [
      "(1168, 2) (1168,)\n",
      "(389, 2) (389, 2) (390, 2)\n",
      "(389,) (389,) (390,)\n"
     ]
    }
   ],
   "source": [
    "# K=3, M=2\n",
    "# ステージ0\n",
    "# データを分割\n",
    "X_train, X_test, y_train, y_test = train_test_split(X, y, test_size=0.2, random_state=0)\n",
    "\n",
    "# 学習データを3個に分割\n",
    "X_train_k, X_k0, y_train_k, y_k0 = train_test_split(X_train, y_train, test_size=0.333, random_state=0)\n",
    "\n",
    "# 2/3のデータを1/2する\n",
    "X_k1, X_k2, y_k1, y_k2 = train_test_split(X_train_k, y_train_k, test_size=0.5, random_state=1)\n",
    "\n",
    "print(X_train.shape, y_train.shape)\n",
    "print(X_k0.shape, X_k1.shape, X_k2.shape)\n",
    "print(y_k0.shape, y_k1.shape, y_k2.shape)"
   ]
  },
  {
   "cell_type": "code",
   "execution_count": 173,
   "metadata": {},
   "outputs": [
    {
     "name": "stdout",
     "output_type": "stream",
     "text": [
      "モデル1\n",
      "平均二乗誤差（標準偏差、ばらつき、MSE） 0.08654267590867973\n",
      "平均二乗誤差（標準偏差、ばらつき、MSE） 0.06195637493964244\n",
      "平均二乗誤差（標準偏差、ばらつき、MSE） 0.07983589091049167\n"
     ]
    }
   ],
   "source": [
    "# あるモデルのインスタンスを3個用意し、異なる学習用データを使い学習する。\n",
    "# それぞれの学習済みモデルに対して、使っていない残り 1個の推定用データを入力し、\n",
    "# 推定値を得る。（これをブレンドデータと呼ぶ）\n",
    "k = 3\n",
    "\n",
    "# データの用意\n",
    "X_k0_k1 = np.concatenate([X_k0, X_k1], 0)\n",
    "y_k0_k1 = np.concatenate([y_k0, y_k1], 0)\n",
    "\n",
    "X_k0_k2 = np.concatenate([X_k0, X_k2], 0)\n",
    "y_k0_k2 = np.concatenate([y_k0, y_k2], 0)\n",
    "\n",
    "X_k1_k2 = np.concatenate([X_k1, X_k2], 0)\n",
    "y_k1_k2 = np.concatenate([y_k1, y_k2], 0)\n",
    "\n",
    "# M0\n",
    "lr_0 = DecisionTreeRegressor()\n",
    "lr_1 = DecisionTreeRegressor()\n",
    "lr_2 = DecisionTreeRegressor()\n",
    "print(\"モデル1\")\n",
    "\n",
    "# 学習データ K0+K1, 推定用データ K2\n",
    "lr_0.fit(X_k0_k1, y_k0_k1)\n",
    "\n",
    "y_pred_lr0 = lr_0.predict(X_k2)\n",
    "score_lr0 = mean_squared_error(y_k2, y_pred_lr0)\n",
    "print(\"平均二乗誤差（標準偏差、ばらつき、MSE）\", score_lr0)\n",
    "\n",
    "# 学習データ K0+K2, 推定用データ K1\n",
    "lr_1.fit(X_k0_k2, y_k0_k2)\n",
    "\n",
    "y_pred_lr1 = lr_1.predict(X_k1)\n",
    "score_lr1 = mean_squared_error(y_k1, y_pred_lr1)\n",
    "print(\"平均二乗誤差（標準偏差、ばらつき、MSE）\", score_lr1)\n",
    "\n",
    "# 学習データ K1+K2, 推定用データ K0\n",
    "lr_2.fit(X_k1_k2, y_k1_k2)\n",
    "\n",
    "y_pred_lr2 = lr_2.predict(X_k0)\n",
    "score_lr2 = mean_squared_error(y_k0, y_pred_lr2)\n",
    "print(\"平均二乗誤差（標準偏差、ばらつき、MSE）\", score_lr2)\n"
   ]
  },
  {
   "cell_type": "code",
   "execution_count": 174,
   "metadata": {},
   "outputs": [
    {
     "name": "stdout",
     "output_type": "stream",
     "text": [
      "モデル2\n",
      "平均二乗誤差（標準偏差、ばらつき、MSE） 0.05958120014864558\n",
      "平均二乗誤差（標準偏差、ばらつき、MSE） 0.047931509395830844\n",
      "平均二乗誤差（標準偏差、ばらつき、MSE） 0.0470748156587504\n"
     ]
    }
   ],
   "source": [
    "# さらに、異なるモデルのインスタンスも 3個用意し、同様のことを行う。\n",
    "# モデルが 2個あれば、 2個のブレンドデータが得られる。\n",
    "\n",
    "# M1\n",
    "sr_0 = SVR()\n",
    "sr_1 = SVR()\n",
    "sr_2 = SVR()\n",
    "print(\"モデル2\")\n",
    "\n",
    "# 学習データ K0+K1, 推定用データ K2\n",
    "sr_0.fit(X_k0_k1, y_k0_k1)\n",
    "\n",
    "y_pred_sr0 = sr_0.predict(X_k2)\n",
    "score_sr0 = mean_squared_error(y_k2, y_pred_sr0)\n",
    "print(\"平均二乗誤差（標準偏差、ばらつき、MSE）\", score_sr0)\n",
    "\n",
    "# 学習データ K0+K2, 推定用データ K1\n",
    "sr_1.fit(X_k0_k2, y_k0_k2)\n",
    "\n",
    "y_pred_sr1 = sr_1.predict(X_k1)\n",
    "score_sr1 = mean_squared_error(y_k1, y_pred_sr1)\n",
    "print(\"平均二乗誤差（標準偏差、ばらつき、MSE）\", score_sr1)\n",
    "\n",
    "# 学習データ K1+K2, 推定用データ K0\n",
    "sr_2.fit(X_k1_k2, y_k1_k2)\n",
    "\n",
    "y_pred_sr2 = sr_2.predict(X_k0)\n",
    "score_sr2 = mean_squared_error(y_k0, y_pred_sr2)\n",
    "print(\"平均二乗誤差（標準偏差、ばらつき、MSE）\", score_sr2)\n"
   ]
  },
  {
   "cell_type": "code",
   "execution_count": 175,
   "metadata": {},
   "outputs": [],
   "source": [
    "# ブレンドデータの結合\n",
    "# \n",
    "blend_data0 = np.concatenate([y_pred_lr2, y_pred_lr1, y_pred_lr0], 0)\n",
    "blend_data1 = np.concatenate([y_pred_sr2, y_pred_sr1, y_pred_sr0], 0)\n",
    "\n",
    "blend_data = np.concatenate([blend_data0.reshape(blend_data0.shape[0],1), blend_data1.reshape(blend_data0.shape[0],1)], 1)\n"
   ]
  },
  {
   "cell_type": "code",
   "execution_count": 176,
   "metadata": {},
   "outputs": [
    {
     "data": {
      "text/plain": [
       "LinearRegression(copy_X=True, fit_intercept=True, n_jobs=None, normalize=False)"
      ]
     },
     "execution_count": 176,
     "metadata": {},
     "output_type": "execute_result"
    }
   ],
   "source": [
    "# ステージn 最終ステージ\n",
    "# 1種類のモデルの学習を行う。これが最終的な推定を行うモデルとなる。\n",
    "\n",
    "# train_test_splitでランダムに分割されているため、y_trainは利用できない。\n",
    "y_k0_k1_k2 = np.concatenate([y_k0, y_k1, y_k2], 0)\n",
    "\n",
    "meta_model = LinearRegression()\n",
    "meta_model.fit(blend_data, y_k0_k1_k2)\n",
    "#meta_model.fit(stacked_predictions, y_k0)"
   ]
  },
  {
   "cell_type": "code",
   "execution_count": 177,
   "metadata": {},
   "outputs": [],
   "source": [
    "# 推定時\n",
    "# ステージ0\n",
    "# テストデータを 3×2個の学習済みモデルに入力し、\n",
    "# 3×2個の推定値を得る。\n",
    "\n",
    "blend_test_lr0 = lr_0.predict(X_test)\n",
    "blend_test_lr1 = lr_1.predict(X_test)\n",
    "blend_test_lr2 = lr_2.predict(X_test)\n",
    "\n",
    "blend_test_sr0 = sr_0.predict(X_test)\n",
    "blend_test_sr1 = sr_1.predict(X_test)\n",
    "blend_test_sr2 = sr_2.predict(X_test)\n",
    "\n",
    "# @@@暫定\n",
    "blend_test_lr = lr.predict(X_test)\n",
    "brend_test_sr = sr.predict(X_test)\n",
    "\n",
    "# これを K0の軸で平均値を求め M0次元の特徴量を持つデータを得る。\n",
    "# （ブレンドテストと呼ぶ）\n",
    "temp0 = (blend_test_lr0 + blend_test_lr1 + blend_test_lr2)/3\n",
    "temp1 = (blend_test_sr0 + blend_test_sr1 + blend_test_sr2)/3\n",
    "\n",
    "# @@@暫定\n",
    "#temp0 = blend_test_lr\n",
    "#temp1 = brend_test_sr\n",
    "\n",
    "blend_test = np.concatenate([temp0.reshape(temp0.shape[0],1), temp1.reshape(temp1.shape[0],1)], 1)"
   ]
  },
  {
   "cell_type": "code",
   "execution_count": 178,
   "metadata": {},
   "outputs": [
    {
     "name": "stdout",
     "output_type": "stream",
     "text": [
      "平均二乗誤差（標準偏差、ばらつき、MSE） 0.04008880857911466\n"
     ]
    }
   ],
   "source": [
    "metal_predict = meta_model.predict(blend_test)\n",
    "\n",
    "score_blend = mean_squared_error(y_test, metal_predict)\n",
    "print(\"平均二乗誤差（標準偏差、ばらつき、MSE）\", score_blend)"
   ]
  },
  {
   "cell_type": "code",
   "execution_count": null,
   "metadata": {},
   "outputs": [],
   "source": []
  },
  {
   "cell_type": "code",
   "execution_count": null,
   "metadata": {},
   "outputs": [],
   "source": []
  }
 ],
 "metadata": {
  "kernelspec": {
   "display_name": "Python 3",
   "language": "python",
   "name": "python3"
  },
  "language_info": {
   "codemirror_mode": {
    "name": "ipython",
    "version": 3
   },
   "file_extension": ".py",
   "mimetype": "text/x-python",
   "name": "python",
   "nbconvert_exporter": "python",
   "pygments_lexer": "ipython3",
   "version": "3.7.0"
  },
  "toc-autonumbering": true
 },
 "nbformat": 4,
 "nbformat_minor": 4
}
