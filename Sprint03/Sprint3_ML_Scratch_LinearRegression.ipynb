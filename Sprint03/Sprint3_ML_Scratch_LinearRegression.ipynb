{
 "cells": [
  {
   "cell_type": "markdown",
   "metadata": {},
   "source": [
    "[課題のURL](https://diver.diveintocode.jp/curriculums/1644)"
   ]
  },
  {
   "cell_type": "code",
   "execution_count": 2,
   "metadata": {},
   "outputs": [],
   "source": [
    "import numpy as np\n",
    "import pandas as pd\n",
    "import matplotlib.pyplot as plt\n",
    "import statsmodels.api as sm\n",
    "from sklearn.datasets import load_boston\n",
    "% matplotlib inline\n",
    "\n",
    "# データの前処理\n",
    "from sklearn.model_selection import train_test_split\n",
    "from sklearn.linear_model import LinearRegression\n",
    "from sklearn.metrics import mean_squared_error"
   ]
  },
  {
   "cell_type": "markdown",
   "metadata": {},
   "source": [
    "# Sprint機械学習スクラッチ 線形回帰"
   ]
  },
  {
   "cell_type": "markdown",
   "metadata": {},
   "source": [
    "# 【問題1】仮定関数"
   ]
  },
  {
   "cell_type": "markdown",
   "metadata": {},
   "source": [
    "以下の数式で表される線形回帰の仮定関数を実装してください。メソッドの雛形を用意してあります。"
   ]
  },
  {
   "cell_type": "markdown",
   "metadata": {},
   "source": [
    "$h_\\theta(x) =  \\theta_0 x_0 + \\theta_1 x_1 + ... + \\theta_j x_j + ... +\\theta_n x_n.   (x_0 = 1)$"
   ]
  },
  {
   "cell_type": "markdown",
   "metadata": {},
   "source": [
    "なお、ベクトル形式で表すと以下のようになります。"
   ]
  },
  {
   "cell_type": "markdown",
   "metadata": {},
   "source": [
    "$h_\\theta(x) = \\theta^T \\cdot x.$"
   ]
  },
  {
   "cell_type": "code",
   "execution_count": 15,
   "metadata": {},
   "outputs": [],
   "source": [
    "# 【問題1】仮定関数\n",
    "#def _linear_hypothesis(self, X, theta): 説明用のダミー、本物は\"問5\"に記述\n",
    "def _def_linear_hypothesis(self, X, theta):\n",
    "    \"\"\"\n",
    "    線形の仮定関数を計算する\n",
    "    Parameters\n",
    "    ----------\n",
    "    X : 次の形のndarray, shape (n_samples, n_features) 訓練データ\n",
    "\n",
    "    Returns\n",
    "    -------\n",
    "    次の形のndarray, shape (n_samples, 1) 線形の仮定関数による推定結果\n",
    "    \"\"\"\n",
    "    return np.dot(X, theta)"
   ]
  },
  {
   "cell_type": "markdown",
   "metadata": {},
   "source": [
    "# 【問題2】最急降下法"
   ]
  },
  {
   "cell_type": "markdown",
   "metadata": {},
   "source": [
    "最急降下法により学習させる実装を行なってください。  \n",
    "以下の式で表されるパラメータの更新式のメソッド_gradient_descentを追加し、  \n",
    "fitメソッドから呼び出すようにしてください。  "
   ]
  },
  {
   "cell_type": "markdown",
   "metadata": {},
   "source": [
    "$\\theta_j := \\theta_j - \\alpha \\frac{1}{m} \\sum_{i=1}^{m}[(h_\\theta(x^{(i)}) - y^{(i)} )x_{j}^{(i)}]$"
   ]
  },
  {
   "cell_type": "code",
   "execution_count": 171,
   "metadata": {},
   "outputs": [],
   "source": [
    "# 【問題2】最急降下法, fitメソッドから参照される\n",
    "#def _gradient_descent(self, X, y, theta):\n",
    "def _dummy_gradient_descent(self, X, y, theta):\n",
    "    \"\"\"\n",
    "    最急降下法により、θの値を求める\n",
    "    具体的には、目的関数(最小2乗誤差)を微分した関数を利用する\n",
    "    \"\"\"\n",
    "    m = X.shape[0] # データ数\n",
    "    alpha = self.lr\n",
    "    h = self._linear_hypothesis(X, theta)\n",
    "    \n",
    "    theta = theta - alpha*(1/m)*np.dot(X.T,(h-y))\n",
    "\n",
    "    return  theta"
   ]
  },
  {
   "cell_type": "markdown",
   "metadata": {},
   "source": [
    "# 【問題3】推定"
   ]
  },
  {
   "cell_type": "markdown",
   "metadata": {},
   "source": [
    "推定する仕組みを実装してください。  \n",
    "ScratchLinearRegressionクラスの雛形に含まれるpredictメソッドに書き加えてください。  "
   ]
  },
  {
   "cell_type": "code",
   "execution_count": 17,
   "metadata": {},
   "outputs": [],
   "source": [
    "# def predict(self, X_test):\n",
    "def _dummy_predict(self, X_test):\n",
    "        \"\"\"\n",
    "        線形回帰を使い推定する。\n",
    "        →最終的なパラメータを利用し、検証データ(X_test)から予測データ(y_train)を求める\n",
    "\n",
    "        Parameters\n",
    "        ----------\n",
    "        X_test : 次の形のndarray, shape (n_samples, n_features) : 検証用データ\n",
    "       \n",
    "       Returns\n",
    "        -------\n",
    "            次の形のndarray, shape (n_samples, 1) : 線形回帰による推定結果\n",
    "        \"\"\"\n",
    "        y_pred = _linear_hypothesis(X_test, self.coef_)\n",
    "        \n",
    "        return y_pred"
   ]
  },
  {
   "cell_type": "markdown",
   "metadata": {},
   "source": [
    "# 【問題4】平均二乗誤差"
   ]
  },
  {
   "cell_type": "markdown",
   "metadata": {},
   "source": [
    "* 線形回帰の指標値として用いられる平均二乗誤差（mean square error, MSE）の関数を作成してください。"
   ]
  },
  {
   "cell_type": "markdown",
   "metadata": {},
   "source": [
    "$L(\\theta)=  \\frac{1 }{ m}  \\sum_{i=1}^{m} (h_\\theta(x^{(i)})-y^{(i)})^2.$"
   ]
  },
  {
   "cell_type": "code",
   "execution_count": 3,
   "metadata": {},
   "outputs": [],
   "source": [
    "def MSE(y_pred, y):\n",
    "    \"\"\"\n",
    "    平均二乗誤差の計算\n",
    "\n",
    "    Parameters\n",
    "    ----------\n",
    "    y_pred : 次の形のndarray, shape (n_samples,) 推定した値(hの値)\n",
    "    y : 次の形のndarray, shape (n_samples,) 正解値(y_testの値)\n",
    "\n",
    "    Returns\n",
    "    ----------\n",
    "    mse : numpy.float 平均二乗誤差\n",
    "    \"\"\"\n",
    "    m = y.shape[0]\n",
    "    mse = (1/m)*np.sum(np.square(y_pred-y))\n",
    "    \n",
    "    return mse"
   ]
  },
  {
   "cell_type": "markdown",
   "metadata": {},
   "source": [
    "# 【問題5】目的関数"
   ]
  },
  {
   "cell_type": "markdown",
   "metadata": {},
   "source": [
    "以下の数式で表される線形回帰の 目的関数（損失関数） を実装してください。  \n",
    "そして、これをself.loss, self.val_lossに記録するようにしてください。  \n",
    "\n",
    "目的関数（損失関数） J(θ)は次の式です。"
   ]
  },
  {
   "cell_type": "markdown",
   "metadata": {},
   "source": [
    "$J(\\theta)=  \\frac{1 }{ 2m}  \\sum_{i=1}^{m} (h_\\theta(x^{(i)})-y^{(i)})^2.$"
   ]
  },
  {
   "cell_type": "code",
   "execution_count": 125,
   "metadata": {},
   "outputs": [],
   "source": [
    "class ScratchLinearRegression():\n",
    "    \"\"\"\n",
    "    線形回帰のスクラッチ実装\n",
    "\n",
    "    Parameters\n",
    "    ----------\n",
    "    num_iter : int イテレーション数\n",
    "    lr : float 学習率\n",
    "    no_bias : bool バイアス項を入れない場合はTrue\n",
    "    verbose : bool 学習過程を出力する場合はTrue\n",
    "\n",
    "    Attributes\n",
    "    ----------\n",
    "    self.coef_ : 次の形のndarray, shape (n_features,) パラメータ\n",
    "    self.loss : 次の形のndarray, shape (self.iter,) 訓練データに対する損失の記録\n",
    "    self.val_loss : 次の形のndarray, shape (self.iter,) 検証データに対する損失の記録\n",
    "\n",
    "    \"\"\"\n",
    "    def __init__(self, num_iter=10, lr=0.1, no_bias=None, verbose=None):\n",
    "        # ハイパーパラメータを属性として記録\n",
    "        self.iter = num_iter # イテレーション数\n",
    "        self.lr = lr # 学習率(αのこと)\n",
    "        self.no_bias = no_bias # バイアス項、w0を入れるかどうか\n",
    "        self.verbose = verbose # 学習過程を出すかどうか\n",
    "        \n",
    "        # 損失を記録する配列を用意\n",
    "        self.loss = np.zeros(self.iter)\n",
    "        self.val_loss = np.zeros(self.iter)\n",
    "        \n",
    "        # 下記のアトリビュートはXのデータサイズに依存するのでfit内で確定する。\n",
    "        # 一旦、0初期化\n",
    "        self.coef_ = np.zeros(1)\n",
    "        \n",
    "    # 【問題1】仮定関数\n",
    "    def _linear_hypothesis(self, X, theta):\n",
    "        \"\"\"\n",
    "        線形の仮定関数を計算する\n",
    "\n",
    "        Parameters\n",
    "        ----------\n",
    "        X : 次の形のndarray, shape (n_samples, n_features) 訓練データ\n",
    "        \n",
    "        Returns\n",
    "        -------\n",
    "          次の形のndarray, shape (n_samples, 1) 線形の仮定関数による推定結果\n",
    "        \"\"\"\n",
    "        return np.dot(X, theta)\n",
    "\n",
    "    # 【問題2】最急降下法, fitメソッドから参照される\n",
    "    def _gradient_descent(self, X, y, theta):\n",
    "        \"\"\"\n",
    "        最急降下法により、θの値を求める\n",
    "        具体的には、目的関数(最小2乗誤差)を微分した関数を利用する\n",
    "        \"\"\"\n",
    "        m = X.shape[0] # データ数\n",
    "        alpha = self.lr\n",
    "        h = self._linear_hypothesis(X, theta)\n",
    "        \n",
    "        theta = theta - alpha*(1/m)*np.dot(X.T,(h-y))\n",
    "\n",
    "        return  theta\n",
    "    \n",
    "    def fit(self, X, y, X_val=None, y_val=None):\n",
    "        \"\"\"\n",
    "        線形回帰を学習する。検証データが入力された場合はそれに対する損失と精度もイテレーションごとに計算する。\n",
    "\n",
    "        Parameters\n",
    "        ----------\n",
    "        X : 次の形のndarray, shape (n_samples, n_features) 訓練データの特徴量\n",
    "        y : 次の形のndarray, shape (n_samples, ) 訓練データの正解値\n",
    "        X_val : 次の形のndarray, shape (n_samples, n_features) 検証データの特徴量\n",
    "        y_val : 次の形のndarray, shape (n_samples, ) 検証データの正解値\n",
    "        \"\"\"\n",
    "        # 検証データ(X_val, y_val)の有無を確認\n",
    "        flag_val = True\n",
    "        if (X_val is None) and (y_val is None):\n",
    "            # 検証データが入力されなかった場合、検証データの保存と学習過程を表示しない\n",
    "            flag_val = False\n",
    "        \n",
    "        X = sm.add_constant(X) #最初の列に1を加える\n",
    "        if flag_val == True:\n",
    "            X_val = sm.add_constant(X_val) #最初の列に1を加える\n",
    "        \n",
    "        # Xのデータサイズが確定したので再初期化\n",
    "        self.coef_ = np.zeros(X.shape[1]) # パラメータ\n",
    "\n",
    "        # 内部変数の初期化\n",
    "        alpha = self.lr\n",
    "        itera = self.iter\n",
    "        \n",
    "        np.random.seed(1)\n",
    "        theta = np.random.rand(X.shape[1])\n",
    "        \n",
    "        m = X.shape[0] # データ数\n",
    "        \n",
    "        for i in range(itera):\n",
    "            # (1)仮定関数を利用し予測値を求める。\n",
    "            h = self._linear_hypothesis(X, theta)\n",
    "            \n",
    "            # (2)目的変数と予測値の誤差を求める\n",
    "            self.loss[i] = (1/2)*MSE(h, y)\n",
    "            \n",
    "            if flag_val == True:\n",
    "                # 検証データが入力された場合\n",
    "                h_val = self._linear_hypothesis(X_val, theta)\n",
    "                self.val_loss[i] = (1/2)*MSE(h_val, y_val)\n",
    "            \n",
    "            if self.verbose:\n",
    "                #verboseをTrueにした際は学習過程を出力\n",
    "                if flag_val == True:\n",
    "                    print(\"n=\", i, \"θ=\", theta, \"loss=\", self.loss[i], \"val_loss=\", self.val_loss[i])\n",
    "                else:\n",
    "                    #print(i, theta, self.loss[i])\n",
    "                    print(\"n=\", i, \"θ=\", theta, \"loss=\", self.loss[i])\n",
    "            \n",
    "            # (3)目的関数の最適解を探索的に求める(最急降下法)\n",
    "            #theta = theta - alpha*(1/m)*np.dot(X.T,(h-y))\n",
    "            theta = self._gradient_descent(X, y, theta)\n",
    "\n",
    "        # (4)最適解に至るとき、仮定関数の最適なパラメータが求まる\n",
    "        # 最終的なパラメータθをアトリビュートに設定\n",
    "        self.coef_ = theta               \n",
    "                \n",
    "        return\n",
    "\n",
    "    def predict(self, X_test):\n",
    "        \"\"\"\n",
    "        線形回帰を使い推定する。\n",
    "        →最終的なパラメータを利用し、検証データ(X_test)から予測データ(y_train)を求める\n",
    "\n",
    "        Parameters\n",
    "        ----------\n",
    "        X_test : 次の形のndarray, shape (n_samples, n_features) : 検証用データ\n",
    "       \n",
    "       Returns\n",
    "        -------\n",
    "            次の形のndarray, shape (n_samples, 1) : 線形回帰による推定結果\n",
    "        \"\"\"\n",
    "        X_test = sm.add_constant(X_test) #最初の列に1を加える\n",
    "        y_pred = self._linear_hypothesis(X_test, self.coef_)\n",
    "        \n",
    "        return y_pred"
   ]
  },
  {
   "cell_type": "code",
   "execution_count": null,
   "metadata": {},
   "outputs": [],
   "source": []
  },
  {
   "cell_type": "markdown",
   "metadata": {},
   "source": [
    "# 【問題6】学習と推定"
   ]
  },
  {
   "cell_type": "markdown",
   "metadata": {},
   "source": [
    "機械学習スクラッチ入門のSprintで用意したHouse Pricesコンペティションのデータに対してスクラッチ実装の学習と推定を行なってください。\n",
    "\n",
    "scikit-learnによる実装と比べ、正しく動いているかを確認してください。  \n",
    "→scikit-learnのθ(パラメータ)と一致はしていないが、  \n",
    "予測結果(y_pred_sc)と検証データ(y_test)のプロットを確認したところ、  \n",
    "右肩上がりにデータが集まっており、予測できていることを確認した。  "
   ]
  },
  {
   "cell_type": "code",
   "execution_count": 196,
   "metadata": {},
   "outputs": [
    {
     "data": {
      "text/html": [
       "<div>\n",
       "<style scoped>\n",
       "    .dataframe tbody tr th:only-of-type {\n",
       "        vertical-align: middle;\n",
       "    }\n",
       "\n",
       "    .dataframe tbody tr th {\n",
       "        vertical-align: top;\n",
       "    }\n",
       "\n",
       "    .dataframe thead th {\n",
       "        text-align: right;\n",
       "    }\n",
       "</style>\n",
       "<table border=\"1\" class=\"dataframe\">\n",
       "  <thead>\n",
       "    <tr style=\"text-align: right;\">\n",
       "      <th></th>\n",
       "      <th>GrLivArea</th>\n",
       "      <th>YearBuilt</th>\n",
       "      <th>SalePrice</th>\n",
       "    </tr>\n",
       "  </thead>\n",
       "  <tbody>\n",
       "    <tr>\n",
       "      <th>0</th>\n",
       "      <td>7.444249</td>\n",
       "      <td>7.602401</td>\n",
       "      <td>12.247694</td>\n",
       "    </tr>\n",
       "    <tr>\n",
       "      <th>1</th>\n",
       "      <td>7.140453</td>\n",
       "      <td>7.588830</td>\n",
       "      <td>12.109011</td>\n",
       "    </tr>\n",
       "  </tbody>\n",
       "</table>\n",
       "</div>"
      ],
      "text/plain": [
       "   GrLivArea  YearBuilt  SalePrice\n",
       "0   7.444249   7.602401  12.247694\n",
       "1   7.140453   7.588830  12.109011"
      ]
     },
     "execution_count": 196,
     "metadata": {},
     "output_type": "execute_result"
    }
   ],
   "source": [
    "# House Pricesコンペティションのデータ\n",
    "df = pd.read_csv('train.csv', index_col=0)\n",
    "\n",
    "# 対数変換\n",
    "df[\"SalePrice\"] = np.log(df[\"SalePrice\"])\n",
    "df[\"GrLivArea\"] = np.log(df[\"GrLivArea\"])\n",
    "df[\"YearBuilt\"] = np.log(df[\"YearBuilt\"])\n",
    "\n",
    "# 外れ値の除去\n",
    "df.drop(df[(df[\"GrLivArea\"]>4500) & (df['SalePrice']<300000)].index, inplace=True)\n",
    "df.reset_index(drop=True, inplace=True)\n",
    "\n",
    "X = df[[\"GrLivArea\", \"YearBuilt\"]]\n",
    "# X = df[[\"GrLivArea\"]]\n",
    "y = df[\"SalePrice\"]\n",
    "df = pd.concat([X, y], axis=1)\n",
    "\n",
    "df.head(2)"
   ]
  },
  {
   "cell_type": "code",
   "execution_count": 17,
   "metadata": {},
   "outputs": [],
   "source": [
    "#plt.hist(df[\"SalePrice\"])\n",
    "#plt.hist( df[\"GrLivArea\"])\n",
    "#plt.hist( df[\"YearBuilt\"])"
   ]
  },
  {
   "cell_type": "code",
   "execution_count": 197,
   "metadata": {},
   "outputs": [
    {
     "data": {
      "image/png": "[encoded data removed]",
      "text/plain": [
       "<Figure size 432x288 with 1 Axes>"
      ]
     },
     "metadata": {
      "needs_background": "light"
     },
     "output_type": "display_data"
    },
    {
     "data": {
      "image/png": "[encoded data removed]",
      "text/plain": [
       "<Figure size 432x288 with 1 Axes>"
      ]
     },
     "metadata": {
      "needs_background": "light"
     },
     "output_type": "display_data"
    }
   ],
   "source": [
    "# グラフの描画\n",
    "plt.title(\"scatter\") # (5)タイトル\n",
    "plt.xlabel(\"GrLivArea\") # (6)x軸ラベル\n",
    "plt.ylabel(\"SalePrice\") # (7)y軸ラベル\n",
    "\n",
    "plt.scatter(df[[\"GrLivArea\"]], df[\"SalePrice\"], s=10, c = 'blue')\n",
    "plt.grid() # グリッド線を表示\n",
    "plt.show()\n",
    "\n",
    "plt.title(\"scatter\") # (5)タイトル\n",
    "plt.xlabel(\"YearBuilt\") # (6)x軸ラベル\n",
    "plt.ylabel(\"SalePrice\") # (7)y軸ラベル\n",
    "\n",
    "plt.scatter(df[[\"YearBuilt\"]], df[\"SalePrice\"], s=10, c = 'blue')\n",
    "plt.grid() # グリッド線を表示\n",
    "plt.show()"
   ]
  },
  {
   "cell_type": "code",
   "execution_count": 198,
   "metadata": {},
   "outputs": [],
   "source": [
    "# データを分割\n",
    "#X_train, X_test, y_train, y_test = train_test_split(df[\"GrLivArea\"].values, df['SalePrice'].values, test_size=0.25, random_state=0)\n",
    "X_train, X_test, y_train, y_test = train_test_split(X, y, test_size=0.25, random_state=0)"
   ]
  },
  {
   "cell_type": "code",
   "execution_count": null,
   "metadata": {},
   "outputs": [],
   "source": []
  },
  {
   "cell_type": "markdown",
   "metadata": {},
   "source": [
    "# scikit-learnによる実装"
   ]
  },
  {
   "cell_type": "code",
   "execution_count": 199,
   "metadata": {},
   "outputs": [
    {
     "name": "stdout",
     "output_type": "stream",
     "text": [
      "平均二乗誤差（標準偏差、ばらつき、MSE）sklearn 0.044409203310754805\n",
      "平均二乗誤差（標準偏差、ばらつき、MSE）scratch 0.044409203310754805\n",
      "[ 0.76659451 11.47940462] -80.63741401514265\n"
     ]
    }
   ],
   "source": [
    "# 学習\n",
    "clf =  LinearRegression()\n",
    "clf.fit(X_train, y_train)\n",
    "        \n",
    "# 推定\n",
    "y_pred = clf.predict(X_test)\n",
    "\n",
    "# 評価（平均二乗誤差（標準偏差、ばらつき、MSE））\n",
    "print(\"平均二乗誤差（標準偏差、ばらつき、MSE）sklearn\", mean_squared_error(y_test, y_pred))\n",
    "print(\"平均二乗誤差（標準偏差、ばらつき、MSE）scratch\", MSE(y_test, y_pred))\n",
    "\n",
    "#y_pred = clf.predict(X_train)\n",
    "#print(\"平均二乗誤差（標準偏差、ばらつき、MSE）sklearn\", mean_squared_error(y_train, y_pred))\n",
    "\n",
    "print(clf.coef_, clf.intercept_)"
   ]
  },
  {
   "cell_type": "code",
   "execution_count": 200,
   "metadata": {},
   "outputs": [
    {
     "data": {
      "text/plain": [
       "<matplotlib.collections.PathCollection at 0x12b26e940>"
      ]
     },
     "execution_count": 200,
     "metadata": {},
     "output_type": "execute_result"
    },
    {
     "data": {
      "image/png": "[encoded data removed]",
      "text/plain": [
       "<Figure size 432x288 with 1 Axes>"
      ]
     },
     "metadata": {
      "needs_background": "light"
     },
     "output_type": "display_data"
    }
   ],
   "source": [
    "plt.scatter(y_test, y_pred)"
   ]
  },
  {
   "cell_type": "markdown",
   "metadata": {},
   "source": [
    "# スクラッチによる実装"
   ]
  },
  {
   "cell_type": "code",
   "execution_count": 201,
   "metadata": {},
   "outputs": [
    {
     "name": "stdout",
     "output_type": "stream",
     "text": [
      "平均二乗誤差（標準偏差、ばらつき、MSE） 0.07950085253252978\n",
      "[1.13273773 0.43614472] 0.47444061596298587\n"
     ]
    }
   ],
   "source": [
    "# 学習\n",
    "clf_sc =  ScratchLinearRegression(num_iter=200, lr=0.001, verbose=0)\n",
    "clf_sc.fit(X_train, y_train)\n",
    "\n",
    "# 推定\n",
    "y_pred_sc = clf_sc.predict(X_test)\n",
    "\n",
    "# 評価（平均二乗誤差（標準偏差、ばらつき、MSE））\n",
    "print(\"平均二乗誤差（標準偏差、ばらつき、MSE）\", MSE(y_test, y_pred_sc))\n",
    "print(clf_sc.coef_[1:], clf_sc.coef_[0])"
   ]
  },
  {
   "cell_type": "code",
   "execution_count": 202,
   "metadata": {},
   "outputs": [
    {
     "data": {
      "text/plain": [
       "<matplotlib.collections.PathCollection at 0x11c284e48>"
      ]
     },
     "execution_count": 202,
     "metadata": {},
     "output_type": "execute_result"
    },
    {
     "data": {
      "image/png": "[encoded data removed]",
      "text/plain": [
       "<Figure size 432x288 with 1 Axes>"
      ]
     },
     "metadata": {
      "needs_background": "light"
     },
     "output_type": "display_data"
    }
   ],
   "source": [
    "plt.scatter(y_test, y_pred_sc)"
   ]
  },
  {
   "cell_type": "markdown",
   "metadata": {},
   "source": [
    "# 【問題7】学習曲線のプロット"
   ]
  },
  {
   "cell_type": "markdown",
   "metadata": {},
   "source": [
    "学習曲線を表示する関数を作成し、実行してください。  \n",
    "グラフを見て損失が適切に下がっているかどうか確認してください。  \n",
    "→0に収束していることを確認した。"
   ]
  },
  {
   "cell_type": "code",
   "execution_count": 203,
   "metadata": {},
   "outputs": [],
   "source": [
    "clf_sc.fit(X_train, y_train, X_test, y_test)"
   ]
  },
  {
   "cell_type": "code",
   "execution_count": 204,
   "metadata": {},
   "outputs": [],
   "source": [
    "def plot_learning_curve(loss, val_loss):\n",
    "\n",
    "    fig, (axL, axR) = plt.subplots(ncols=2, figsize=(10,4))\n",
    "\n",
    "    axL.plot(loss, c=\"b\")\n",
    "    axL.set_xlabel(\"Iteration\")\n",
    "    axL.set_ylabel(\"loss\")\n",
    "    axL.grid()\n",
    "\n",
    "    axR.plot(val_loss, c=\"r\")\n",
    "    axR.set_xlabel(\"Iteration\")\n",
    "    axR.set_ylabel(\"loss\")\n",
    "    axR.grid()\n",
    "    plt.show()"
   ]
  },
  {
   "cell_type": "code",
   "execution_count": 205,
   "metadata": {},
   "outputs": [
    {
     "data": {
      "image/png": "[encoded data removed]",
      "text/plain": [
       "<Figure size 720x288 with 2 Axes>"
      ]
     },
     "metadata": {
      "needs_background": "light"
     },
     "output_type": "display_data"
    }
   ],
   "source": [
    "plot_learning_curve(clf_sc.loss, clf_sc.val_loss)"
   ]
  },
  {
   "cell_type": "code",
   "execution_count": 195,
   "metadata": {},
   "outputs": [
    {
     "data": {
      "text/plain": [
       "(array([20.43173314, 18.30305258, 16.3974386 , 14.69148544, 13.16424489,\n",
       "        11.79696817, 10.57287491,  9.4769464 ,  8.49574059,  7.61722648,\n",
       "         6.83063595,  6.12633112,  5.49568567,  4.93097859,  4.42529916,\n",
       "         3.9724618 ,  3.56693   ,  3.2037481 ,  2.87848037,  2.58715638,\n",
       "         2.32622215,  2.09249647,  1.88313173,  1.69557892,  1.52755628,\n",
       "         1.37702126,  1.24214541,  1.12129191,  1.01299547,  0.91594432,\n",
       "         0.82896411,  0.75100349,  0.68112121,  0.61847458,  0.5623091 ,\n",
       "         0.51194926,  0.46679022,  0.4262904 ,  0.38996489,  0.35737946,\n",
       "         0.32814528,  0.30191413,  0.27837419,  0.2572462 ,  0.23828005,\n",
       "         0.22125171,  0.20596056,  0.19222688,  0.17988966,  0.16880469,\n",
       "         0.15884279,  0.14988818,  0.14183717,  0.13459681,  0.12808385,\n",
       "         0.12222364,  0.11694931,  0.11220091,  0.10792471,  0.10407253,\n",
       "         0.10060118,  0.09747195,  0.0946501 ,  0.09210449,  0.08980719,\n",
       "         0.08773315,  0.08585988,  0.08416722,  0.08263706,  0.08125315,\n",
       "         0.08000092,  0.07886726,  0.07784043,  0.07690986,  0.07606605,\n",
       "         0.0753005 ,  0.07460554,  0.07397428,  0.07340053,  0.07287872,\n",
       "         0.07240385,  0.07197141,  0.07157735,  0.07121801,  0.0708901 ,\n",
       "         0.07059066,  0.07031703,  0.07006679,  0.06983778,  0.06962804,\n",
       "         0.06943581,  0.06925948,  0.06909762,  0.06894892,  0.06881221,\n",
       "         0.06868643,  0.06857061,  0.06846388,  0.06836545,  0.06827461,\n",
       "         0.0681907 ,  0.06811314,  0.0680414 ,  0.06797498,  0.06791345,\n",
       "         0.06785641,  0.06780348,  0.06775435,  0.0677087 ,  0.06766625,\n",
       "         0.06762677,  0.06759001,  0.06755577,  0.06752385,  0.06749407,\n",
       "         0.06746629,  0.06744034,  0.0674161 ,  0.06739344,  0.06737224,\n",
       "         0.0673524 ,  0.06733382,  0.06731642,  0.06730011,  0.06728481,\n",
       "         0.06727046,  0.06725699,  0.06724435,  0.06723247,  0.06722131,\n",
       "         0.06721082,  0.06720095,  0.06719167,  0.06718294,  0.06717471,\n",
       "         0.06716697,  0.06715968,  0.0671528 ,  0.06714632,  0.06714022,\n",
       "         0.06713446,  0.06712902,  0.06712389,  0.06711905,  0.06711448,\n",
       "         0.06711016,  0.06710609,  0.06710223,  0.06709859,  0.06709515,\n",
       "         0.06709189,  0.06708882,  0.0670859 ,  0.06708315,  0.06708054,\n",
       "         0.06707807,  0.06707573,  0.06707352,  0.06707142,  0.06706943,\n",
       "         0.06706754,  0.06706575,  0.06706406,  0.06706245,  0.06706092,\n",
       "         0.06705947,  0.0670581 ,  0.06705679,  0.06705555,  0.06705437,\n",
       "         0.06705325,  0.06705218,  0.06705117,  0.0670502 ,  0.06704928,\n",
       "         0.0670484 ,  0.06704757,  0.06704677,  0.06704601,  0.06704529,\n",
       "         0.0670446 ,  0.06704394,  0.06704331,  0.0670427 ,  0.06704213,\n",
       "         0.06704158,  0.06704105,  0.06704054,  0.06704006,  0.06703959,\n",
       "         0.06703915,  0.06703872,  0.0670383 ,  0.06703791,  0.06703753,\n",
       "         0.06703716,  0.06703681,  0.06703647,  0.06703614,  0.06703582]),\n",
       " array([20.30797586, 18.18092357, 16.2773648 , 14.57381666, 13.04926363,\n",
       "        11.68489834, 10.46388957,  9.37117456,  8.39327323,  7.5181219 ,\n",
       "         6.7349244 ,  6.03401899,  5.40675906,  4.84540655,  4.34303643,\n",
       "         3.8934513 ,  3.49110495,  3.1310339 ,  2.80879621,  2.52041665,\n",
       "         2.26233769,  2.03137557,  1.82468108,  1.63970437,  1.47416351,\n",
       "         1.32601634,  1.19343528,  1.07478475,  0.96860105,  0.87357428,\n",
       "         0.78853213,  0.71242552,  0.64431557,  0.58336206,  0.52881303,\n",
       "         0.47999557,  0.43630744,  0.3972097 ,  0.36222002,  0.33090676,\n",
       "         0.30288364,  0.27780495,  0.25536132,  0.23527587,  0.21730083,\n",
       "         0.20121444,  0.18681828,  0.17393473,  0.16240488,  0.15208647,\n",
       "         0.14285223,  0.13458824,  0.12719255,  0.12057393,  0.11465073,\n",
       "         0.10934988,  0.10460599,  0.10036054,  0.09656115,  0.09316096,\n",
       "         0.09011802,  0.0873948 ,  0.08495771,  0.08277667,  0.08082479,\n",
       "         0.07907798,  0.0775147 ,  0.07611567,  0.07486362,  0.07374312,\n",
       "         0.07274034,  0.07184291,  0.07103977,  0.070321  ,  0.06967775,\n",
       "         0.06910207,  0.06858686,  0.06812578,  0.06771313,  0.06734383,\n",
       "         0.06701333,  0.06671753,  0.06645281,  0.06621589,  0.06600385,\n",
       "         0.06581408,  0.06564424,  0.06549223,  0.06535618,  0.06523442,\n",
       "         0.06512543,  0.06502789,  0.06494059,  0.06486244,  0.0647925 ,\n",
       "         0.06472989,  0.06467385,  0.06462369,  0.06457879,  0.06453859,\n",
       "         0.06450261,  0.06447039,  0.06444155,  0.06441573,  0.06439261,\n",
       "         0.0643719 ,  0.06435336,  0.06433676,  0.06432189,  0.06430857,\n",
       "         0.06429664,  0.06428596,  0.06427638,  0.0642678 ,  0.06426011,\n",
       "         0.06425321,  0.06424703,  0.06424148,  0.06423651,  0.06423205,\n",
       "         0.06422805,  0.06422445,  0.06422122,  0.06421832,  0.06421571,\n",
       "         0.06421337,  0.06421126,  0.06420936,  0.06420765,  0.06420611,\n",
       "         0.06420471,  0.06420346,  0.06420232,  0.06420129,  0.06420036,\n",
       "         0.06419951,  0.06419874,  0.06419804,  0.06419741,  0.06419683,\n",
       "         0.06419629,  0.06419581,  0.06419536,  0.06419495,  0.06419457,\n",
       "         0.06419422,  0.06419389,  0.06419359,  0.0641933 ,  0.06419304,\n",
       "         0.06419279,  0.06419256,  0.06419234,  0.06419213,  0.06419193,\n",
       "         0.06419174,  0.06419156,  0.06419139,  0.06419122,  0.06419106,\n",
       "         0.06419091,  0.06419076,  0.06419061,  0.06419047,  0.06419033,\n",
       "         0.0641902 ,  0.06419007,  0.06418994,  0.06418981,  0.06418968,\n",
       "         0.06418956,  0.06418944,  0.06418932,  0.0641892 ,  0.06418908,\n",
       "         0.06418896,  0.06418884,  0.06418873,  0.06418861,  0.0641885 ,\n",
       "         0.06418839,  0.06418827,  0.06418816,  0.06418805,  0.06418794,\n",
       "         0.06418782,  0.06418771,  0.0641876 ,  0.06418749,  0.06418738,\n",
       "         0.06418727,  0.06418716,  0.06418705,  0.06418694,  0.06418683,\n",
       "         0.06418672,  0.06418661,  0.0641865 ,  0.06418639,  0.06418628]))"
      ]
     },
     "execution_count": 195,
     "metadata": {},
     "output_type": "execute_result"
    }
   ],
   "source": [
    "clf_sc.val_loss, clf_sc.loss"
   ]
  },
  {
   "cell_type": "code",
   "execution_count": null,
   "metadata": {},
   "outputs": [],
   "source": []
  }
 ],
 "metadata": {
  "kernelspec": {
   "display_name": "Python 3",
   "language": "python",
   "name": "python3"
  },
  "language_info": {
   "codemirror_mode": {
    "name": "ipython",
    "version": 3
   },
   "file_extension": ".py",
   "mimetype": "text/x-python",
   "name": "python",
   "nbconvert_exporter": "python",
   "pygments_lexer": "ipython3",
   "version": "3.7.0"
  }
 },
 "nbformat": 4,
 "nbformat_minor": 2
}
