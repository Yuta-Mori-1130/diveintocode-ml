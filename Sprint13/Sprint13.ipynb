{
 "cells": [
  {
   "cell_type": "markdown",
   "metadata": {},
   "source": [
    "[課題のURL](https://diver.diveintocode.jp/curriculums/1626)"
   ]
  },
  {
   "cell_type": "markdown",
   "metadata": {},
   "source": [
    "# Sprint ディープラーニングフレームワーク1"
   ]
  },
  {
   "cell_type": "code",
   "execution_count": null,
   "metadata": {},
   "outputs": [],
   "source": []
  },
  {
   "cell_type": "markdown",
   "metadata": {},
   "source": [
    "## 【問題1】スクラッチを振り返る"
   ]
  },
  {
   "cell_type": "markdown",
   "metadata": {},
   "source": [
    "ディープラーニングを実装するためにはどのようなものが必要だったかを列挙してください。"
   ]
  },
  {
   "cell_type": "markdown",
   "metadata": {},
   "source": [
    "・ハイパーパラメータの設定  \n",
    "・ノード設定  \n",
    "・forwardの処理  \n",
    "・backwardの処理  \n",
    "・バッチ処理  \n",
    "・推定の処理  "
   ]
  },
  {
   "cell_type": "code",
   "execution_count": null,
   "metadata": {},
   "outputs": [],
   "source": []
  },
  {
   "cell_type": "markdown",
   "metadata": {},
   "source": [
    "## 【問題2】スクラッチとTensorFlowの対応を考える"
   ]
  },
  {
   "cell_type": "markdown",
   "metadata": {},
   "source": [
    "以下のサンプルコードを見て、先ほど列挙した「ディープラーニングを実装するために必要なもの」が  \n",
    "TensorFlowではどう実装されているかを確認してください。  \n",
    "  \n",
    "・計算グラフの定義  \n",
    "・ノード設定  \n",
    "・ネットワーク構造の読み込み  \n",
    "・目的関数の設定  \n",
    "・最適化手法の設定  \n",
    "・推定結果の設定  \n",
    "・学習  "
   ]
  },
  {
   "cell_type": "code",
   "execution_count": 1,
   "metadata": {},
   "outputs": [],
   "source": [
    "# X_train.shape, y_train.shape, X_val.shape, y_val.shape, X_test.shape, y_test.shape\n",
    "# ((64, 4), (64, 1), (16, 4), (16, 1), (20, 4), (20, 1))"
   ]
  },
  {
   "cell_type": "code",
   "execution_count": 4,
   "metadata": {},
   "outputs": [],
   "source": [
    "import numpy as np\n",
    "import pandas as pd\n",
    "from sklearn.model_selection import train_test_split\n",
    "import tensorflow as ft"
   ]
  },
  {
   "cell_type": "code",
   "execution_count": 14,
   "metadata": {},
   "outputs": [
    {
     "name": "stdout",
     "output_type": "stream",
     "text": [
      "WARNING:tensorflow:From /Users/mori/.pyenv/versions/anaconda3-5.3.1/lib/python3.7/site-packages/tensorflow_core/python/ops/nn_impl.py:183: where (from tensorflow.python.ops.array_ops) is deprecated and will be removed in a future version.\n",
      "Instructions for updating:\n",
      "Use tf.where in 2.0, which has the same broadcast rule as np.where\n",
      "Epoch 0, loss : 17.3896, val_loss : 33.9632, acc : 0.750, val_acc : 0.375\n",
      "Epoch 1, loss : 0.1424, val_loss : 1.3803, acc : 1.000, val_acc : 0.812\n",
      "Epoch 2, loss : 4.0698, val_loss : 7.3069, acc : 0.750, val_acc : 0.625\n",
      "Epoch 3, loss : 0.7163, val_loss : 2.6266, acc : 0.750, val_acc : 0.688\n",
      "Epoch 4, loss : 1.2964, val_loss : 5.8085, acc : 0.750, val_acc : 0.688\n",
      "Epoch 5, loss : 0.0000, val_loss : 0.4036, acc : 1.000, val_acc : 0.938\n",
      "Epoch 6, loss : 0.0001, val_loss : 3.4165, acc : 1.000, val_acc : 0.812\n",
      "Epoch 7, loss : 0.0000, val_loss : 0.9855, acc : 1.000, val_acc : 0.875\n",
      "Epoch 8, loss : 0.0000, val_loss : 2.5873, acc : 1.000, val_acc : 0.875\n",
      "Epoch 9, loss : 0.0000, val_loss : 1.4164, acc : 1.000, val_acc : 0.875\n",
      "test_acc : 0.800\n"
     ]
    }
   ],
   "source": [
    "# データセットの読み込み\n",
    "dataset_path =\"Iris.csv\"\n",
    "df = pd.read_csv(dataset_path)\n",
    "# データフレームから条件抽出\n",
    "df = df[(df[\"Species\"] == \"Iris-versicolor\")|(df[\"Species\"] == \"Iris-virginica\")]\n",
    "y = df[\"Species\"]\n",
    "X = df.loc[:, [\"SepalLengthCm\", \"SepalWidthCm\", \"PetalLengthCm\", \"PetalWidthCm\"]]\n",
    "y = np.array(y)\n",
    "X = np.array(X)\n",
    "# ラベルを数値に変換\n",
    "y[y=='Iris-versicolor'] = 0\n",
    "y[y=='Iris-virginica'] = 1\n",
    "y = y.astype(np.int)[:, np.newaxis]\n",
    "# trainとtestに分割\n",
    "X_train, X_test, y_train, y_test = train_test_split(X, y, test_size=0.2, random_state=0)\n",
    "# さらにtrainとvalに分割\n",
    "X_train, X_val, y_train, y_val = train_test_split(X_train, y_train, test_size=0.2, random_state=0)\n",
    "class GetMiniBatch:\n",
    "    \"\"\"\n",
    "    ミニバッチを取得するイテレータ\n",
    "\n",
    "    Parameters\n",
    "    ----------\n",
    "    X : 次の形のndarray, shape (n_samples, n_features)\n",
    "      訓練データ\n",
    "    y : 次の形のndarray, shape (n_samples, 1)\n",
    "      正解値\n",
    "    batch_size : int\n",
    "      バッチサイズ\n",
    "    seed : int\n",
    "      NumPyの乱数のシード\n",
    "    \"\"\"\n",
    "    def __init__(self, X, y, batch_size = 10, seed=0):\n",
    "        self.batch_size = batch_size\n",
    "        np.random.seed(seed)\n",
    "        shuffle_index = np.random.permutation(np.arange(X.shape[0]))\n",
    "        self.X = X[shuffle_index]\n",
    "        self.y = y[shuffle_index]\n",
    "        self._stop = np.ceil(X.shape[0]/self.batch_size).astype(np.int)\n",
    "    def __len__(self):\n",
    "        return self._stop\n",
    "    def __getitem__(self,item):\n",
    "        p0 = item*self.batch_size\n",
    "        p1 = item*self.batch_size + self.batch_size\n",
    "        return self.X[p0:p1], self.y[p0:p1]        \n",
    "    def __iter__(self):\n",
    "        self._counter = 0\n",
    "        return self\n",
    "    def __next__(self):\n",
    "        if self._counter >= self._stop:\n",
    "            raise StopIteration()\n",
    "        p0 = self._counter*self.batch_size\n",
    "        p1 = self._counter*self.batch_size + self.batch_size\n",
    "        self._counter += 1\n",
    "        return self.X[p0:p1], self.y[p0:p1]\n",
    "# ハイパーパラメータの設定\n",
    "learning_rate = 0.01\n",
    "batch_size = 10\n",
    "num_epochs = 10\n",
    "n_hidden1 = 50\n",
    "n_hidden2 = 100\n",
    "n_input = X_train.shape[1]\n",
    "n_samples = X_train.shape[0]\n",
    "n_classes = 1\n",
    "# 計算グラフに渡す引数の形を決める\n",
    "X = tf.placeholder(\"float\", [None, n_input])\n",
    "Y = tf.placeholder(\"float\", [None, n_classes])\n",
    "# trainのミニバッチイテレータ\n",
    "get_mini_batch_train = GetMiniBatch(X_train, y_train, batch_size=batch_size)\n",
    "def example_net(x):\n",
    "    \"\"\"\n",
    "    単純な3層ニューラルネットワーク\n",
    "    \"\"\"\n",
    "    # 重みとバイアスの宣言\n",
    "    weights = {\n",
    "        'w1': tf.Variable(tf.random_normal([n_input, n_hidden1])),\n",
    "        'w2': tf.Variable(tf.random_normal([n_hidden1, n_hidden2])),\n",
    "        'w3': tf.Variable(tf.random_normal([n_hidden2, n_classes]))\n",
    "    }\n",
    "    biases = {\n",
    "        'b1': tf.Variable(tf.random_normal([n_hidden1])),\n",
    "        'b2': tf.Variable(tf.random_normal([n_hidden2])),\n",
    "        'b3': tf.Variable(tf.random_normal([n_classes]))\n",
    "    }\n",
    "    layer_1 = tf.add(tf.matmul(x, weights['w1']), biases['b1'])\n",
    "    layer_1 = tf.nn.relu(layer_1)\n",
    "    layer_2 = tf.add(tf.matmul(layer_1, weights['w2']), biases['b2'])\n",
    "    layer_2 = tf.nn.relu(layer_2)\n",
    "    layer_output = tf.matmul(layer_2, weights['w3']) + biases['b3'] # tf.addと+は等価である\n",
    "    return layer_output\n",
    "# ネットワーク構造の読み込み                               \n",
    "logits = example_net(X)\n",
    "# 目的関数\n",
    "loss_op = tf.reduce_mean(tf.nn.sigmoid_cross_entropy_with_logits(labels=Y, logits=logits))\n",
    "# 最適化手法\n",
    "optimizer = tf.train.AdamOptimizer(learning_rate=learning_rate)\n",
    "train_op = optimizer.minimize(loss_op)\n",
    "# 推定結果\n",
    "correct_pred = tf.equal(tf.sign(Y - 0.5), tf.sign(tf.sigmoid(logits) - 0.5))\n",
    "# 指標値計算\n",
    "accuracy = tf.reduce_mean(tf.cast(correct_pred, tf.float32))\n",
    "# variableの初期化\n",
    "init = tf.global_variables_initializer()\n",
    "\n",
    "# 計算グラフの実行\n",
    "with tf.Session() as sess:\n",
    "    sess.run(init)\n",
    "    for epoch in range(num_epochs):\n",
    "        # エポックごとにループ\n",
    "        total_batch = np.ceil(X_train.shape[0]/batch_size).astype(np.int)\n",
    "        total_loss = 0\n",
    "        total_acc = 0\n",
    "        for i, (mini_batch_x, mini_batch_y) in enumerate(get_mini_batch_train):\n",
    "            # ミニバッチごとにループ\n",
    "            sess.run(train_op, feed_dict={X: mini_batch_x, Y: mini_batch_y})\n",
    "            loss, acc = sess.run([loss_op, accuracy], feed_dict={X: mini_batch_x, Y: mini_batch_y})\n",
    "            total_loss += loss\n",
    "            total_acc += acc\n",
    "        total_loss /= n_samples\n",
    "        total_acc /= n_samples\n",
    "        val_loss, val_acc = sess.run([loss_op, accuracy], feed_dict={X: X_val, Y: y_val})\n",
    "        print(\"Epoch {}, loss : {:.4f}, val_loss : {:.4f}, acc : {:.3f}, val_acc : {:.3f}\".format(epoch, loss, val_loss, acc, val_acc))\n",
    "    test_acc = sess.run(accuracy, feed_dict={X: X_test, Y: y_test})\n",
    "    print(\"test_acc : {:.3f}\".format(test_acc))"
   ]
  },
  {
   "cell_type": "markdown",
   "metadata": {},
   "source": [
    "## 【問題3】3種類全ての目的変数を使用したIrisのモデルを作成"
   ]
  },
  {
   "cell_type": "markdown",
   "metadata": {},
   "source": [
    "問題2のサンプルコードを書き換え、これらに対して学習・推定を行うニューラルネットワークを作成してください。\n",
    "\n",
    "1, Iris（3種類全ての目的変数を使用）  \n",
    "2, House Prices  \n",
    "\n",
    "どのデータセットもtrain, val, testの3種類に分けて使用してください。"
   ]
  },
  {
   "cell_type": "code",
   "execution_count": 25,
   "metadata": {},
   "outputs": [],
   "source": [
    "def encode_3(data):\n",
    "    t = np.zeros((data.size, 3))\n",
    "    for i in range(data.size):\n",
    "        t[i, data[i]] = 1\n",
    "    return t"
   ]
  },
  {
   "cell_type": "code",
   "execution_count": 27,
   "metadata": {},
   "outputs": [],
   "source": [
    "# データセットの読み込み\n",
    "dataset_path =\"Iris.csv\"\n",
    "df = pd.read_csv(dataset_path)\n",
    "# データフレームから条件抽出\n",
    "#df = df[(df[\"Species\"] == \"Iris-versicolor\")|(df[\"Species\"] == \"Iris-virginica\")]\n",
    "df = df[(df[\"Species\"] == \"Iris-versicolor\")|(df[\"Species\"] == \"Iris-virginica\")|(df[\"Species\"] == \"Iris-setosa\")]\n",
    "y = df[\"Species\"]\n",
    "X = df.loc[:, [\"SepalLengthCm\", \"SepalWidthCm\", \"PetalLengthCm\", \"PetalWidthCm\"]]\n",
    "y = np.array(y)\n",
    "X = np.array(X)\n",
    "# ラベルを数値に変換\n",
    "y[y=='Iris-versicolor'] = 0\n",
    "y[y=='Iris-virginica'] = 1\n",
    "y[y=='Iris-setosa'] = 2\n",
    "y = y.astype(np.int)[:, np.newaxis]\n",
    "y = encode_3(y)\n",
    "# trainとtestに分割\n",
    "X_train, X_test, y_train, y_test = train_test_split(X, y, test_size=0.2, random_state=0)\n",
    "# さらにtrainとvalに分割\n",
    "X_train, X_val, y_train, y_val = train_test_split(X_train, y_train, test_size=0.2, random_state=0)"
   ]
  },
  {
   "cell_type": "code",
   "execution_count": 28,
   "metadata": {},
   "outputs": [
    {
     "name": "stdout",
     "output_type": "stream",
     "text": [
      "Epoch 0, loss : 5.7263, val_loss : 5.7893, acc : 0.365, val_acc : 0.375\n",
      "Epoch 1, loss : 0.6192, val_loss : 0.5786, acc : 0.677, val_acc : 0.708\n",
      "Epoch 2, loss : 1.0641, val_loss : 1.0634, acc : 0.323, val_acc : 0.333\n",
      "Epoch 3, loss : 0.6006, val_loss : 0.5726, acc : 0.688, val_acc : 0.708\n",
      "Epoch 4, loss : 0.5914, val_loss : 0.5697, acc : 0.688, val_acc : 0.708\n",
      "Epoch 5, loss : 0.5193, val_loss : 0.5284, acc : 0.885, val_acc : 0.792\n",
      "Epoch 6, loss : 0.4024, val_loss : 0.4670, acc : 0.854, val_acc : 0.708\n",
      "Epoch 7, loss : 0.3503, val_loss : 0.4157, acc : 0.979, val_acc : 0.958\n",
      "Epoch 8, loss : 0.2850, val_loss : 0.3875, acc : 0.948, val_acc : 0.917\n",
      "Epoch 9, loss : 0.2472, val_loss : 0.3431, acc : 0.990, val_acc : 0.917\n",
      "test_acc : 1.000\n"
     ]
    }
   ],
   "source": [
    "\"\"\"\n",
    "TensorFlowで実装したニューラルネットワークを使いIrisデータセットを3値分類する\n",
    "\"\"\"\n",
    "# ハイパーパラメータの設定\n",
    "learning_rate = 0.02\n",
    "batch_size = 10\n",
    "num_epochs = 10\n",
    "n_hidden1 = 5\n",
    "n_hidden2 = 10\n",
    "n_input = X_train.shape[1]\n",
    "n_samples = X_train.shape[0]\n",
    "n_samples_test = X_test.shape[0]\n",
    "n_samples_val = X_val.shape[0]\n",
    "n_classes = 3\n",
    "\n",
    "# 計算グラフに渡す引数の形を決める\n",
    "X = tf.placeholder(\"float\", [None, n_input]) # X_train.shape(96, 4)\n",
    "Y = tf.placeholder(\"float\", [None, n_classes]) # 3\n",
    "\n",
    "# trainのミニバッチイテレータ\n",
    "get_mini_batch_train = GetMiniBatch(X_train, y_train, batch_size=batch_size)\n",
    "def example_net(x):\n",
    "    \"\"\"\n",
    "    単純な3層ニューラルネットワーク\n",
    "    \"\"\"\n",
    "    # 重みとバイアスの宣言\n",
    "    weights = {\n",
    "        'w1': tf.Variable(tf.random_normal([n_input, n_hidden1])),\n",
    "        'w2': tf.Variable(tf.random_normal([n_hidden1, n_hidden2])),\n",
    "        'w3': tf.Variable(tf.random_normal([n_hidden2, n_classes]))\n",
    "    }\n",
    "    biases = {\n",
    "        'b1': tf.Variable(tf.random_normal([n_hidden1])),\n",
    "        'b2': tf.Variable(tf.random_normal([n_hidden2])),\n",
    "        'b3': tf.Variable(tf.random_normal([n_classes]))\n",
    "    }\n",
    "    layer_1 = tf.add(tf.matmul(x, weights['w1']), biases['b1'])\n",
    "    layer_1 = tf.nn.relu(layer_1)\n",
    "    layer_2 = tf.add(tf.matmul(layer_1, weights['w2']), biases['b2'])\n",
    "    layer_2 = tf.nn.relu(layer_2)\n",
    "    #layer_output = tf.matmul(layer_2, weights['w3']), biases['b3'] # tf.addと+は等価である\n",
    "    layer_output = tf.nn.softmax(tf.matmul(layer_2, weights['w3']) + biases['b3'])\n",
    "    \n",
    "    return layer_output\n",
    "# ネットワーク構造の読み込み                               \n",
    "logits = example_net(X)\n",
    "\n",
    "# 目的関数\n",
    "# loss_op = tf.reduce_mean(tf.nn.sigmoid_cross_entropy_with_logits(labels=Y, logits=logits))\n",
    "loss_op = -tf.reduce_sum(Y * tf.log(logits + 1e-7))\n",
    "\n",
    "# 最適化手法\n",
    "optimizer = tf.train.AdamOptimizer(learning_rate=learning_rate)\n",
    "train_op = optimizer.minimize(loss_op)\n",
    "\n",
    "# 推定結果\n",
    "#correct_pred = tf.equal(tf.sign(Y - 0.5), tf.sign(tf.sigmoid(logits) - 0.5))\n",
    "correct_pred = tf.equal(tf.argmax(Y, 1), tf.argmax(logits, 1))\n",
    "\n",
    "# 指標値計算\n",
    "accuracy = tf.reduce_mean(tf.cast(correct_pred, tf.float32))\n",
    "\n",
    "# variableの初期化\n",
    "init = tf.global_variables_initializer()\n",
    "\n",
    "# 計算グラフの実行\n",
    "with tf.Session() as sess:\n",
    "    sess.run(init)\n",
    "    for epoch in range(num_epochs):\n",
    "        # エポックごとにループ\n",
    "        total_batch = np.ceil(X_train.shape[0]/batch_size).astype(np.int)\n",
    "        total_loss = 0\n",
    "        total_acc = 0\n",
    "        for i, (mini_batch_x, mini_batch_y) in enumerate(get_mini_batch_train):\n",
    "            sess.run(train_op, feed_dict={X: mini_batch_x, Y: mini_batch_y})\n",
    "            loss, acc = sess.run([loss_op, accuracy], feed_dict={X: mini_batch_x, Y: mini_batch_y})\n",
    "        \n",
    "        train_loss, train_acc = sess.run([loss_op, accuracy], feed_dict={X: X_train, Y: y_train})\n",
    "        val_loss, val_acc = sess.run([loss_op, accuracy], feed_dict={X: X_val, Y: y_val})\n",
    "        print(\"Epoch {}, loss : {:.4f}, val_loss : {:.4f}, acc : {:.3f}, val_acc : {:.3f}\".format(epoch, train_loss/n_samples, val_loss/n_samples_val, train_acc, val_acc))\n",
    "    test_acc = sess.run(accuracy, feed_dict={X: X_test, Y: y_test})\n",
    "    print(\"test_acc : {:.3f}\".format(test_acc))\n"
   ]
  },
  {
   "cell_type": "code",
   "execution_count": null,
   "metadata": {},
   "outputs": [],
   "source": []
  },
  {
   "cell_type": "markdown",
   "metadata": {},
   "source": [
    "## 【問題4】House Pricesのモデルを作成"
   ]
  },
  {
   "cell_type": "markdown",
   "metadata": {},
   "source": [
    "回帰問題のデータセットであるHouse Pricesを使用したモデルを作成してください。"
   ]
  },
  {
   "cell_type": "markdown",
   "metadata": {},
   "source": [
    "目的変数としてSalePrice、説明変数として、GrLivAreaとYearBuiltを使ってください。  \n",
    "説明変数はさらに増やしても構いません。  "
   ]
  },
  {
   "cell_type": "code",
   "execution_count": 178,
   "metadata": {},
   "outputs": [],
   "source": [
    "df = pd.read_csv('train.csv', index_col=0)"
   ]
  },
  {
   "cell_type": "code",
   "execution_count": 179,
   "metadata": {},
   "outputs": [],
   "source": [
    "# GrLivAreaとYearBuiltを抜き出す。\n",
    "X = df[[\"GrLivArea\", \"YearBuilt\"]]\n",
    "y = df[\"SalePrice\"]"
   ]
  },
  {
   "cell_type": "code",
   "execution_count": 180,
   "metadata": {},
   "outputs": [
    {
     "data": {
      "text/html": [
       "<div>\n",
       "<style scoped>\n",
       "    .dataframe tbody tr th:only-of-type {\n",
       "        vertical-align: middle;\n",
       "    }\n",
       "\n",
       "    .dataframe tbody tr th {\n",
       "        vertical-align: top;\n",
       "    }\n",
       "\n",
       "    .dataframe thead th {\n",
       "        text-align: right;\n",
       "    }\n",
       "</style>\n",
       "<table border=\"1\" class=\"dataframe\">\n",
       "  <thead>\n",
       "    <tr style=\"text-align: right;\">\n",
       "      <th></th>\n",
       "      <th>GrLivArea</th>\n",
       "      <th>YearBuilt</th>\n",
       "      <th>SalePrice</th>\n",
       "    </tr>\n",
       "    <tr>\n",
       "      <th>Id</th>\n",
       "      <th></th>\n",
       "      <th></th>\n",
       "      <th></th>\n",
       "    </tr>\n",
       "  </thead>\n",
       "  <tbody>\n",
       "    <tr>\n",
       "      <th>1</th>\n",
       "      <td>1710</td>\n",
       "      <td>2003</td>\n",
       "      <td>208500</td>\n",
       "    </tr>\n",
       "    <tr>\n",
       "      <th>2</th>\n",
       "      <td>1262</td>\n",
       "      <td>1976</td>\n",
       "      <td>181500</td>\n",
       "    </tr>\n",
       "    <tr>\n",
       "      <th>3</th>\n",
       "      <td>1786</td>\n",
       "      <td>2001</td>\n",
       "      <td>223500</td>\n",
       "    </tr>\n",
       "  </tbody>\n",
       "</table>\n",
       "</div>"
      ],
      "text/plain": [
       "    GrLivArea  YearBuilt  SalePrice\n",
       "Id                                 \n",
       "1        1710       2003     208500\n",
       "2        1262       1976     181500\n",
       "3        1786       2001     223500"
      ]
     },
     "execution_count": 180,
     "metadata": {},
     "output_type": "execute_result"
    }
   ],
   "source": [
    "df = pd.concat([X, y], axis=1)\n",
    "df.head(3)"
   ]
  },
  {
   "cell_type": "code",
   "execution_count": 183,
   "metadata": {},
   "outputs": [],
   "source": [
    "# 対数変換\n",
    "df[\"SalePrice\"] = np.log(df[\"SalePrice\"])\n",
    "df[\"GrLivArea\"] = np.log(df[\"GrLivArea\"])\n",
    "df[\"YearBuilt\"] = np.log(df[\"YearBuilt\"])\n",
    "\n",
    "# 外れ値の除去\n",
    "df.drop(df[(df[\"GrLivArea\"]>4500) & (df['SalePrice']<300000)].index, inplace=True)\n",
    "df.reset_index(drop=True, inplace=True)\n",
    "\n",
    "X = df[[\"GrLivArea\", \"YearBuilt\"]]\n",
    "#X = df[[\"GrLivArea\"]]\n",
    "y = df[\"SalePrice\"]\n",
    "# df = pd.concat([X, y], axis=1)\n",
    "#df.head(2)\n",
    "\n",
    "X = np.array(X)\n",
    "y = np.array(y)"
   ]
  },
  {
   "cell_type": "code",
   "execution_count": 184,
   "metadata": {},
   "outputs": [
    {
     "data": {
      "text/plain": [
       "((934, 2), (934,), (292, 2), (292,), (234, 2), (234,))"
      ]
     },
     "execution_count": 184,
     "metadata": {},
     "output_type": "execute_result"
    }
   ],
   "source": [
    "X_train, X_test, y_train, y_test = train_test_split(X, y, test_size=0.2, random_state=0)\n",
    "X_train, X_val, y_train, y_val = train_test_split(X_train, y_train, test_size=0.2, random_state=0)\n",
    "\n",
    "X_train.shape, y_train.shape, X_test.shape, y_test.shape, X_val.shape, y_val.shape"
   ]
  },
  {
   "cell_type": "code",
   "execution_count": 187,
   "metadata": {},
   "outputs": [],
   "source": [
    "y_train = y_train.reshape(934,1)\n",
    "y_test = y_test.reshape(292,1)\n",
    "y_val = y_val.reshape(234,1)\n"
   ]
  },
  {
   "cell_type": "code",
   "execution_count": 188,
   "metadata": {},
   "outputs": [
    {
     "name": "stdout",
     "output_type": "stream",
     "text": [
      "epoch: 0 loss 1.255467 loss_val 1.2605872\n",
      "epoch: 1 loss 0.37204647 loss_val 0.37486854\n",
      "epoch: 2 loss 0.10994452 loss_val 0.11146738\n",
      "epoch: 3 loss 0.03274781 loss_val 0.0335496\n",
      "epoch: 4 loss 0.0102099925 loss_val 0.01061587\n",
      "epoch: 5 loss 0.00370763 loss_val 0.0038974285\n",
      "epoch: 6 loss 0.0018681029 loss_val 0.0019403688\n",
      "epoch: 7 loss 0.0013668236 loss_val 0.0013752786\n",
      "epoch: 8 loss 0.0012408034 loss_val 0.0012146477\n",
      "epoch: 9 loss 0.0012152763 loss_val 0.0011703578\n",
      "平均二乗誤差（標準偏差、ばらつき、MSE） 0.0011273986\n"
     ]
    }
   ],
   "source": [
    "# TensorFlow\n",
    "# [X] \n",
    "# ハイパーパラメータの設定\n",
    "lr = 0.001\n",
    "batch_size = 200\n",
    "num_epochs = 10\n",
    "n_hidden1 = 50\n",
    "n_hidden2 = 10 # 利用しない\n",
    "n_input = X_train.shape[1]\n",
    "n_samples = X_train.shape[0]\n",
    "n_classes = 1\n",
    "\n",
    "X = tf.placeholder(\"float\", [None, n_input])\n",
    "Y = tf.placeholder(\"float\", [None, n_classes])\n",
    "\n",
    "get_mini_batch_train = GetMiniBatch(X_train, y_train, batch_size=batch_size)\n",
    "\n",
    "def example_net(x):\n",
    "    \"\"\"\n",
    "    単純な2層ニューラルネットワーク\n",
    "    \"\"\"\n",
    "    # 重みとバイアスの宣言\n",
    "    w1 = tf.Variable(tf.truncated_normal([n_input, n_hidden1], stddev=0.1))\n",
    "    b1 = tf.Variable(tf.constant(1.0, shape=[n_hidden1]))\n",
    "    \n",
    "    w2 = tf.Variable(tf.truncated_normal([n_hidden1, n_classes], stddev=0.1))\n",
    "    b2 = tf.Variable(tf.constant(1.0, shape=[n_classes]))\n",
    "    \n",
    "    layer_1 = tf.add(tf.matmul(x, w1), b1)\n",
    "    layer_1 = tf.nn.relu(layer_1)\n",
    "    layer_output = tf.add(tf.matmul(layer_1, w2), b2)\n",
    "    layer_output = tf.nn.relu(layer_output)\n",
    "    \n",
    "    return layer_output\n",
    "\n",
    "# 線形回帰\n",
    "# y_model = tf.add(tf.matmul(X, W), b)\n",
    "y_model = example_net(X)\n",
    "\n",
    "#cost = tf.reduce_mean(tf.square(Y - y_model))\n",
    "cost = tf.losses.mean_squared_error(labels = y_model, predictions = Y)\n",
    "\n",
    "train_op = tf.train.GradientDescentOptimizer(lr).minimize(cost)\n",
    "\n",
    "with tf.Session() as sess:\n",
    "    # you need to initialize variables (in this case just variable W)\n",
    "    tf.global_variables_initializer().run()\n",
    "\n",
    "    for epoch in range(num_epochs):\n",
    "        # エポックごとにループ\n",
    "        total_batch = np.ceil(X_train.shape[0]/batch_size).astype(np.int)\n",
    "        total_loss = 0\n",
    "        for i, (mini_batch_x, mini_batch_y) in enumerate(get_mini_batch_train):\n",
    "            sess.run(train_op, feed_dict={X:mini_batch_x, Y:mini_batch_y})\n",
    "\n",
    "            loss = sess.run(cost, feed_dict={X:mini_batch_x, Y:mini_batch_y})\n",
    "            total_loss += loss\n",
    "        total_loss /= n_samples\n",
    "        loss_val = sess.run(cost, feed_dict={X:X_val, Y:y_val})\n",
    "        print(\"epoch:\", epoch, \"loss\",loss, \"loss_val\",loss_val)\n",
    "                \n",
    "    mse_test = sess.run(cost, feed_dict={X:X_test, Y:y_test})\n",
    "    print(\"平均二乗誤差（標準偏差、ばらつき、MSE）\", mse_test)"
   ]
  },
  {
   "cell_type": "code",
   "execution_count": 137,
   "metadata": {},
   "outputs": [
    {
     "data": {
      "text/plain": [
       "(0.0, array([0.], dtype=float32))"
      ]
     },
     "execution_count": 137,
     "metadata": {},
     "output_type": "execute_result"
    }
   ],
   "source": [
    "final_w, final_b"
   ]
  },
  {
   "cell_type": "code",
   "execution_count": null,
   "metadata": {},
   "outputs": [],
   "source": []
  },
  {
   "cell_type": "markdown",
   "metadata": {},
   "source": [
    "## 【問題5】MNISTのモデルを作成"
   ]
  },
  {
   "cell_type": "markdown",
   "metadata": {},
   "source": [
    "ニューラルネットワークのスクラッチで使用したMNISTを分類するモデルを作成してください。  \n",
    "\n",
    "3クラス以上の分類という点ではひとつ前のIrisと同様です。入力が画像であるという点で異なります。  \n",
    "\n",
    "スクラッチで実装したモデルの再現を目指してください。  "
   ]
  },
  {
   "cell_type": "code",
   "execution_count": 26,
   "metadata": {},
   "outputs": [
    {
     "name": "stdout",
     "output_type": "stream",
     "text": [
      "(60000, 28, 28)\n",
      "(10000, 28, 28)\n"
     ]
    }
   ],
   "source": [
    "from keras.datasets import mnist\n",
    "\n",
    "(X_train, y_train), (X_test, y_test) = mnist.load_data()\n",
    "\n",
    "# print(X_train.shape) # (60000, 28, 28)\n",
    "# print(X_test.shape) # (10000, 28, 28)\n",
    "\n",
    "X_train = X_train.astype(np.float)\n",
    "X_test = X_test.astype(np.float)\n",
    "X_train /= 255\n",
    "X_test /= 255\n",
    "# print(X_train.max()) # 1.0\n",
    "# print(X_train.min()) # 0.0\n",
    "\n",
    "print(X_train.shape)\n",
    "print(X_test.shape)"
   ]
  },
  {
   "cell_type": "code",
   "execution_count": 27,
   "metadata": {},
   "outputs": [
    {
     "name": "stdout",
     "output_type": "stream",
     "text": [
      "(48000, 28, 28)\n",
      "(12000, 28, 28)\n"
     ]
    }
   ],
   "source": [
    "#X_train = X_train.reshape(-1, 784)\n",
    "#X_test = X_test.reshape(-1, 784)\n",
    "\n",
    "X_train, X_val, y_train, y_val = train_test_split(X_train, y_train, test_size=0.2)\n",
    "print(X_train.shape) # (48000, 784)\n",
    "print(X_val.shape) # (12000, 784)\n"
   ]
  },
  {
   "cell_type": "code",
   "execution_count": 28,
   "metadata": {},
   "outputs": [
    {
     "data": {
      "text/plain": [
       "((48000, 28, 28),\n",
       " (48000, 1),\n",
       " (10000, 28, 28),\n",
       " (10000, 1),\n",
       " (12000, 28, 28),\n",
       " (12000, 1))"
      ]
     },
     "execution_count": 28,
     "metadata": {},
     "output_type": "execute_result"
    }
   ],
   "source": [
    "\"\"\"\n",
    "X_train = X_train.reshape(48000, 28, 28, 1)\n",
    "y_train = y_train.reshape(48000, 1)\n",
    "X_test = X_test.reshape(10000, 28, 28, 1)\n",
    "y_test = y_test.reshape(10000, 1)\n",
    "X_val = X_val.reshape(12000, 28, 28, 1)\n",
    "y_val = y_val.reshape(12000, 1)\n",
    "\"\"\"\n",
    "y_train = y_train.reshape(48000, 1)\n",
    "y_test = y_test.reshape(10000, 1)\n",
    "y_val = y_val.reshape(12000, 1)\n",
    "\n",
    "X_train.shape, y_train.shape, X_test.shape, y_test.shape, X_val.shape, y_val.shape"
   ]
  },
  {
   "cell_type": "code",
   "execution_count": 29,
   "metadata": {},
   "outputs": [],
   "source": [
    "def _encode_10(data):\n",
    "        t = np.zeros((data.size, 10))\n",
    "        for i in range(data.size):\n",
    "            t[i, data[i]] = 1\n",
    "        return t"
   ]
  },
  {
   "cell_type": "code",
   "execution_count": 35,
   "metadata": {},
   "outputs": [
    {
     "name": "stdout",
     "output_type": "stream",
     "text": [
      "Epoch 0, loss : 0.8479, val_loss : 0.8376, acc : 0.756, val_acc : 0.759\n",
      "Epoch 1, loss : 0.3952, val_loss : 0.4028, acc : 0.897, val_acc : 0.894\n",
      "Epoch 2, loss : 0.2644, val_loss : 0.2777, acc : 0.928, val_acc : 0.924\n",
      "Epoch 3, loss : 0.2042, val_loss : 0.2197, acc : 0.943, val_acc : 0.938\n",
      "Epoch 4, loss : 0.1625, val_loss : 0.1821, acc : 0.955, val_acc : 0.950\n",
      "Epoch 5, loss : 0.1353, val_loss : 0.1569, acc : 0.961, val_acc : 0.956\n",
      "Epoch 6, loss : 0.1217, val_loss : 0.1437, acc : 0.965, val_acc : 0.960\n",
      "Epoch 7, loss : 0.1058, val_loss : 0.1307, acc : 0.970, val_acc : 0.965\n",
      "Epoch 8, loss : 0.0944, val_loss : 0.1223, acc : 0.973, val_acc : 0.966\n",
      "Epoch 9, loss : 0.0900, val_loss : 0.1269, acc : 0.974, val_acc : 0.967\n",
      "test_loss : 0.118\n",
      "test_acc : 0.968\n"
     ]
    }
   ],
   "source": [
    "\"\"\"\n",
    "TensorFlowで実装したニューラルネットワークを使いMINSTを分類する\n",
    "\"\"\"\n",
    "# ハイパーパラメータの設定\n",
    "learning_rate = 0.001\n",
    "batch_size = 20\n",
    "num_epochs = 10\n",
    "n_hidden1 = 40\n",
    "n_hidden2 = 20\n",
    "n_input = X_train.shape[1]\n",
    "n_samples = X_train.shape[0]\n",
    "n_samples_test = X_test.shape[0]\n",
    "n_samples_val = X_val.shape[0]\n",
    "n_classes = 10\n",
    "# 計算グラフに渡す引数の形を決める\n",
    "tf.reset_default_graph()\n",
    "\n",
    "X = tf.placeholder(\"float\", [None, 28, 28, 1])\n",
    "Y = tf.placeholder(\"float\", [None, n_classes])\n",
    "\n",
    "#プレースホルダー作成\n",
    "#X = tf.placeholder(tf.float32, shape=[None, 784])\n",
    "#Y = tf.placeholder(tf.float32, shape=[None, 10])\n",
    "\n",
    "# trainのミニバッチイテレータ\n",
    "get_mini_batch_train = GetMiniBatch(X_train, y_train, batch_size=batch_size)\n",
    "\n",
    "def example_net(x):\n",
    "    \"\"\"\n",
    "    単純な3層ニューラルネットワーク\n",
    "    \"\"\"\n",
    "    # ノード設定\n",
    "    # [Conv - ReLU - Pool]:4320 - 400:[afine - ReLU]:100 - 100:[afine - ReLU]:10\n",
    "    # 畳み込み層1\n",
    "    filter_num = 30\n",
    "    filter_size = 5\n",
    "    filter_pad = 0\n",
    "    filter_stride = 1\n",
    "    hidden_size = 100\n",
    "    input_size = 28\n",
    "    output_size = 10\n",
    "    max_pool_size1 = 2\n",
    "    \n",
    "    conv_output_size = (input_size - filter_size + 2*filter_pad) / filter_stride + 1\n",
    "    pool_output_size = int(filter_num * (conv_output_size/2) * (conv_output_size/2))\n",
    "    \n",
    "    w1 = tf.Variable(tf.truncated_normal([filter_size, filter_size, 1, filter_num], stddev=0.1), dtype=tf.float32)\n",
    "    b1 = tf.Variable(tf.constant(0.1, shape=[filter_num]), dtype=tf.float32)\n",
    "    layer_1 = tf.nn.conv2d(x, w1, strides=[1, filter_stride, filter_stride, 1], padding=\"SAME\", data_format='NHWC')\n",
    "    layer_1 = tf.nn.relu(layer_1 + b1)\n",
    "    layer_1 = tf.nn.max_pool(layer_1, ksize=[1, max_pool_size1, max_pool_size1, 1], strides=[1, max_pool_size1, max_pool_size1, 1], padding=\"SAME\")    \n",
    "    \n",
    "    layer_1 = tf.reshape(layer_1, (-1, layer_1.shape[1]*layer_1.shape[2]*layer_1.shape[3]))\n",
    "    \n",
    "    # 784:[afine - ReLU]:40\n",
    "    #w1 = tf.Variable(tf.random_normal([784, n_hidden1]))\n",
    "    #b1 = tf.Variable(tf.random_normal([n_hidden1]))\n",
    "    #layer_1 = tf.add(tf.matmul(x, w1), b1)\n",
    "    #layer_1 = tf.nn.relu(layer_1)\n",
    "    \n",
    "    # 40:[afine - ReLU]:20\n",
    "    w2 = tf.Variable(tf.random_normal([5880, n_hidden2]))\n",
    "    b2 = tf.Variable(tf.random_normal([n_hidden2]))\n",
    "    layer_2 = tf.add(tf.matmul(layer_1, w2), b2)\n",
    "    layer_2 = tf.nn.relu(layer_2)\n",
    "    \n",
    "    # 20:[afine - ReLU]:10\n",
    "    w3 = tf.Variable(tf.random_normal([n_hidden2, n_classes]))\n",
    "    b3 = tf.Variable(tf.random_normal([n_classes]))\n",
    "    layer_output = tf.nn.softmax(tf.matmul(layer_2, w3) + b3)\n",
    "    \n",
    "    return layer_output\n",
    "\n",
    "# ネットワーク構造の読み込み\n",
    "logits = example_net(X)\n",
    "\n",
    "# 目的関数\n",
    "loss_op = -tf.reduce_sum(Y * tf.log(logits + 1e-7))\n",
    "\n",
    "# 最適化手法\n",
    "optimizer = tf.train.AdamOptimizer(learning_rate=learning_rate)\n",
    "train_op = optimizer.minimize(loss_op)\n",
    "\n",
    "# 推定結果\n",
    "correct_pred = tf.equal(tf.argmax(Y, 1), tf.argmax(logits, 1))\n",
    "accuracy = tf.reduce_mean(tf.cast(correct_pred, tf.float32))\n",
    "\n",
    "# variableの初期化\n",
    "init = tf.global_variables_initializer()\n",
    "\n",
    "count = 0\n",
    "\n",
    "# 計算グラフの実行\n",
    "with tf.Session() as sess:\n",
    "    sess.run(init)\n",
    "    for epoch in range(num_epochs):\n",
    "        # エポックごとにループ\n",
    "        total_batch = np.ceil(X_train.shape[0]/batch_size).astype(np.int)\n",
    "        total_loss = 0\n",
    "        total_acc = 0\n",
    "        for i, (mini_batch_x, mini_batch_y) in enumerate(get_mini_batch_train):\n",
    "            # IFを合わせるため、chを追加\n",
    "            mini_batch_x = mini_batch_x.reshape(mini_batch_x.shape[0], mini_batch_x.shape[1], mini_batch_x.shape[2], 1)\n",
    "            mini_batch_y = _encode_10(mini_batch_y)\n",
    "            \n",
    "            sess.run(train_op, feed_dict={X: mini_batch_x, Y: mini_batch_y})\n",
    "            loss, acc = sess.run([loss_op, accuracy], feed_dict={X: mini_batch_x, Y: mini_batch_y})\n",
    "            \n",
    "            # count = count + 1\n",
    "            # if count % 100 == 0:\n",
    "                # print(loss, acc)\n",
    "            \n",
    "            #total_loss += loss\n",
    "            #total_acc += acc\n",
    "        #total_loss /= n_samples\n",
    "        #total_acc /= n_samples\n",
    "        # 1エポックごとに結果を表示\n",
    "        X_train_4d = X_train.reshape(X_train.shape[0], X_train.shape[1], X_train.shape[2], 1)\n",
    "        y_train_one_hot = _encode_10(y_train)\n",
    "        train_loss, train_acc = sess.run([loss_op, accuracy], feed_dict={X: X_train_4d, Y: y_train_one_hot})\n",
    "        \n",
    "        X_val_4d = X_val.reshape(X_val.shape[0], X_val.shape[1], X_val.shape[2], 1)\n",
    "        y_val_one_hot = _encode_10(y_val)\n",
    "        val_loss, val_acc = sess.run([loss_op, accuracy], feed_dict={X: X_val_4d, Y: y_val_one_hot})\n",
    "        print(\"Epoch {}, loss : {:.4f}, val_loss : {:.4f}, acc : {:.3f}, val_acc : {:.3f}\".format(epoch, train_loss/n_samples, val_loss/n_samples_val, train_acc, val_acc))\n",
    "        #print(\"Epoch {}, loss : {:.4f}, acc : {:.3f}\".format(epoch, loss, acc))\n",
    "        \n",
    "    y_test_one_hot = _encode_10(y_test)\n",
    "    X_test_4d = X_test.reshape(X_test.shape[0], X_test.shape[1], X_test.shape[2], 1)\n",
    "    test_loss, test_acc = sess.run([loss_op, accuracy], feed_dict={X: X_test_4d, Y: y_test_one_hot})\n",
    "    \n",
    "    print(\"test_loss : {:.3f}\".format(test_loss/n_samples_test))\n",
    "    print(\"test_acc : {:.3f}\".format(test_acc))"
   ]
  },
  {
   "cell_type": "code",
   "execution_count": null,
   "metadata": {},
   "outputs": [],
   "source": []
  },
  {
   "cell_type": "code",
   "execution_count": null,
   "metadata": {},
   "outputs": [],
   "source": []
  }
 ],
 "metadata": {
  "kernelspec": {
   "display_name": "Python 3",
   "language": "python",
   "name": "python3"
  },
  "language_info": {
   "codemirror_mode": {
    "name": "ipython",
    "version": 3
   },
   "file_extension": ".py",
   "mimetype": "text/x-python",
   "name": "python",
   "nbconvert_exporter": "python",
   "pygments_lexer": "ipython3",
   "version": "3.7.0"
  }
 },
 "nbformat": 4,
 "nbformat_minor": 4
}
