{
 "cells": [
  {
   "cell_type": "markdown",
   "metadata": {},
   "source": [
    "[課題のURL](https://diver.diveintocode.jp/curriculums/1626)"
   ]
  },
  {
   "cell_type": "markdown",
   "metadata": {},
   "source": [
    "# Sprint 深層学習スクラッチ リカレントニューラルネットワーク"
   ]
  },
  {
   "cell_type": "markdown",
   "metadata": {},
   "source": [
    "リカレントニューラルネットワーク（RNN） のクラスをスクラッチで作成していきます。  \n",
    "NumPyなど最低限のライブラリのみを使いアルゴリズムを実装していきます。  \n",
    "\n",
    "クラスの名前はScratchSimpleRNNClassifierとしてください。  "
   ]
  },
  {
   "cell_type": "code",
   "execution_count": 3,
   "metadata": {},
   "outputs": [],
   "source": [
    "import numpy as np"
   ]
  },
  {
   "cell_type": "markdown",
   "metadata": {},
   "source": [
    "# 【問題1】SimpleRNNのフォワードプロパゲーション実装"
   ]
  },
  {
   "cell_type": "code",
   "execution_count": null,
   "metadata": {},
   "outputs": [],
   "source": []
  },
  {
   "cell_type": "code",
   "execution_count": 145,
   "metadata": {},
   "outputs": [],
   "source": [
    "# sprint10参照\n",
    "class ScratchSimpleRNNClassifier():\n",
    "\n",
    "    def __init__(self, epoch = 5, alpha = 0.01, verbose = True):\n",
    "        self.verbose = verbose\n",
    "        \n",
    "        self.epoch = epoch\n",
    "        self.batch_size = 1 # バッチサイズ\n",
    "        \n",
    "        self.n_features = 2 # 特徴量の数\n",
    "        self.n_nodes1 = 4 # 1層目のノード数\n",
    "        self.n_nodes2 = 200 # 2層目のノード数\n",
    "        self.n_nodes3 = 100\n",
    "        self.n_output = 2 # 出力のクラス数\n",
    "        \n",
    "        #self.init_type = init # 初期化方法\n",
    "        #self.activation_type = activation # 活性化関数\n",
    "        #self.optimizer_type = optimizer # 最適化方法\n",
    "        \n",
    "        #self.sigma = 1 # ガウス分布の標準偏差\n",
    "        #self.lr = alpha\n",
    "\n",
    "    def tanh(x):\n",
    "        return (np.exp(x) - np.exp(-x)) / (np.exp(x) + np.exp(-x))\n",
    "        \n",
    "    class FC:\n",
    "        def __init__(self, n_nodes1):\n",
    "            self.W_x = np.array([[1, 3, 5, 7], [3, 5, 7, 8]])/100 # (n_features, n_nodes) = (2, 4)\n",
    "            self.W_h = np.array([[1, 3, 5, 7], [2, 4, 6, 8], [3, 5, 7, 8], [4, 6, 8, 10]])/100 # (n_nodes, n_nodes) = (4, 4)\n",
    "            self.B = np.array([1, 1, 1, 1]) # (n_nodes,)\n",
    "            self.x = None\n",
    "            self.h = np.zeros((batch_size, n_nodes)) # (batch_size, n_nodes) = (1, 4)\n",
    "            self.dw = None\n",
    "            self.db = None\n",
    "            \n",
    "        def forward(self, x):\n",
    "            self.x = x\n",
    "\n",
    "            w_x = self.W_x\n",
    "            w_h = self.W_h\n",
    "            b = self.B\n",
    "            h = self.h\n",
    "            \n",
    "            at = np.dot(x, w_x) + np.dot(h, w_h) + b\n",
    "            self.h = tanh(at) # 暫定\n",
    "            \n",
    "            return self.h\n",
    "\n",
    "        def backward(self, dout):\n",
    "            return 0\n",
    "\n",
    "    def fit(self, X, y, X_val=None, y_val=None):\n",
    "        n_sequences = X.shape[1]\n",
    "        \n",
    "        # ノード設定\n",
    "        self.FC1 = self.FC(self.n_nodes1)\n",
    "        \n",
    "        for i in range(n_sequences):\n",
    "            X_seq = X[0][i]\n",
    "            h = self.FC1.forward(X_seq)\n",
    "        \n",
    "        # 暫定\n",
    "        return h\n",
    "\n",
    "    def predict(self, X):\n",
    "        return 0"
   ]
  },
  {
   "cell_type": "markdown",
   "metadata": {},
   "source": [
    "# 【問題2】小さな配列でのフォワードプロパゲーションの実験"
   ]
  },
  {
   "cell_type": "code",
   "execution_count": 139,
   "metadata": {},
   "outputs": [],
   "source": [
    "x = np.array([[[1, 2], [2, 3], [3, 4]]])/100 # (batch_size, n_sequences, n_features) = (1, 3, 2)\n",
    "w_x = np.array([[1, 3, 5, 7], [3, 5, 7, 8]])/100 # (n_features, n_nodes) = (2, 4)\n",
    "w_h = np.array([[1, 3, 5, 7], [2, 4, 6, 8], [3, 5, 7, 8], [4, 6, 8, 10]])/100 # (n_nodes, n_nodes) = (4, 4)\n",
    "batch_size = x.shape[0] # 1\n",
    "n_sequences = x.shape[1] # 3\n",
    "n_features = x.shape[2] # 2\n",
    "n_nodes = w_x.shape[1] # 4\n",
    "h = np.zeros((batch_size, n_nodes)) # (batch_size, n_nodes) = (1, 4)\n",
    "b = np.array([1, 1, 1, 1]) # (n_nodes,)"
   ]
  },
  {
   "cell_type": "code",
   "execution_count": 136,
   "metadata": {},
   "outputs": [
    {
     "data": {
      "text/plain": [
       "array([[[0.01, 0.02],\n",
       "        [0.02, 0.03],\n",
       "        [0.03, 0.04]]])"
      ]
     },
     "execution_count": 136,
     "metadata": {},
     "output_type": "execute_result"
    }
   ],
   "source": [
    "x"
   ]
  },
  {
   "cell_type": "code",
   "execution_count": 148,
   "metadata": {},
   "outputs": [],
   "source": [
    "# h = np.array([[0.79494228, 0.81839002, 0.83939649, 0.85584174]]) # (batch_size, n_nodes)"
   ]
  },
  {
   "cell_type": "code",
   "execution_count": 147,
   "metadata": {},
   "outputs": [
    {
     "name": "stdout",
     "output_type": "stream",
     "text": [
      "[[0.79494228 0.81839002 0.83939649 0.85584174]]\n"
     ]
    }
   ],
   "source": [
    "y =[0]\n",
    "\n",
    "model = ScratchSimpleRNNClassifier()\n",
    "h = model.fit(x, y)\n",
    "print(h)"
   ]
  },
  {
   "cell_type": "markdown",
   "metadata": {},
   "source": [
    "# 【問題3】（アドバンス課題）バックプロパゲーションの実装"
   ]
  },
  {
   "cell_type": "code",
   "execution_count": null,
   "metadata": {},
   "outputs": [],
   "source": []
  }
 ],
 "metadata": {
  "kernelspec": {
   "display_name": "Python 3",
   "language": "python",
   "name": "python3"
  },
  "language_info": {
   "codemirror_mode": {
    "name": "ipython",
    "version": 3
   },
   "file_extension": ".py",
   "mimetype": "text/x-python",
   "name": "python",
   "nbconvert_exporter": "python",
   "pygments_lexer": "ipython3",
   "version": "3.7.0"
  }
 },
 "nbformat": 4,
 "nbformat_minor": 4
}
