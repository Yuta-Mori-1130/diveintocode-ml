{
 "cells": [
  {
   "cell_type": "markdown",
   "metadata": {},
   "source": [
    "[課題のURL](https://diver.diveintocode.jp/curriculums/1639)"
   ]
  },
  {
   "cell_type": "markdown",
   "metadata": {},
   "source": [
    "# Week4授業前課題3 オブジェクト指向の活用"
   ]
  },
  {
   "cell_type": "markdown",
   "metadata": {},
   "source": [
    "* 【問題1】これまで利用してきたクラスの列挙"
   ]
  },
  {
   "cell_type": "markdown",
   "metadata": {},
   "source": [
    "Pandas:DataFrameなど\n",
    "matplotlib:figureなど\n",
    "scikit-learn:LogisticRegressionなど"
   ]
  },
  {
   "cell_type": "markdown",
   "metadata": {},
   "source": [
    "# 【問題2】これまで利用してきたメソッドやインスタンス変数の列挙"
   ]
  },
  {
   "cell_type": "markdown",
   "metadata": {},
   "source": [
    "* これまでの課題で利用してきたコードの中でどのようなメソッドやインスタンス変数があったかを答えてください。\n",
    "\n",
    "最低でもそれぞれ5つ以上答えてください。"
   ]
  },
  {
   "cell_type": "markdown",
   "metadata": {},
   "source": [
    "メソッド  \n",
    "*numpyのreshape,    \n",
    "*pandasのsort, read_csv, head, info\n",
    "  \n",
    "インスタンス変数  \n",
    "*numpyのshape, dtype, size  \n",
    "*pandasのcolumns, index, "
   ]
  },
  {
   "cell_type": "markdown",
   "metadata": {},
   "source": [
    "# 【問題3】標準化クラスをスクラッチで作成"
   ]
  },
  {
   "cell_type": "code",
   "execution_count": 26,
   "metadata": {},
   "outputs": [],
   "source": [
    "import numpy as np\n",
    "\n",
    "class ScratchStandardScaler( ):\n",
    "    \"\"\"\n",
    "    標準化のためのクラス\n",
    "\n",
    "    Attributes\n",
    "    ----------\n",
    "    mean_ : 次の形のndarray, shape(n_features,)\n",
    "        平均\n",
    "    var_ : 次の形のndarray, shape(n_features,)\n",
    "        分散\n",
    "    \"\"\"\n",
    "    def fit(self, X):\n",
    "        # 標準化のために平均と標準偏差を計算して、記憶する\n",
    "        # 引数:X : 次の形のndarray, shape (n_samples, n_features)\n",
    "    \n",
    "        self.mean_ = np.mean(X, axis = 0)\n",
    "        self.var_ = np.var(X, axis = 0) # 分散\n",
    "        self.std_ = np.std(X, axis = 0) # 標準偏差\n",
    "        \n",
    "        pass\n",
    "    def transform(self, X):\n",
    "        # fitで求めた平均と標準偏差を利用し標準化を行う。\n",
    "        # 引数:X : 次の形のndarray, shape (n_samples, n_features)\n",
    "        # 戻り値:次の形のndarray, shape (n_samples, n_features)  標準化された特緒量\n",
    "        \n",
    "        X_scaled = (X - self.mean_)/self.std_\n",
    "        \n",
    "        pass\n",
    "        return X_scaled"
   ]
  },
  {
   "cell_type": "code",
   "execution_count": 27,
   "metadata": {},
   "outputs": [
    {
     "name": "stdout",
     "output_type": "stream",
     "text": [
      "平均 : [4.86 3.31 1.45 0.22]\n",
      "標準化\n",
      "[[ 0.86828953  0.65207831 -0.48795004 -0.26726124]\n",
      " [ 0.14471492 -1.06391725 -0.48795004 -0.26726124]\n",
      " [-0.57885968 -0.37751902 -1.46385011 -0.26726124]\n",
      " [-0.94064699 -0.72071813  0.48795004 -0.26726124]\n",
      " [ 0.50650222  0.99527742 -0.48795004 -0.26726124]\n",
      " [ 1.95365143  2.02487476  2.43975018  2.40535118]\n",
      " [-0.94064699  0.3088792  -0.48795004  1.06904497]\n",
      " [ 0.50650222  0.3088792   0.48795004 -0.26726124]\n",
      " [-1.66422159 -1.40711636 -0.48795004 -0.26726124]\n",
      " [ 0.14471492 -0.72071813  0.48795004 -1.60356745]]\n"
     ]
    }
   ],
   "source": [
    "import numpy as np\n",
    "from sklearn.datasets import load_iris\n",
    "data = load_iris()\n",
    "X = data.data[:10]\n",
    "scratch_scaler = ScratchStandardScaler()\n",
    "scratch_scaler.fit(X)\n",
    "print(\"平均 : {}\".format(scratch_scaler.mean_))\n",
    "#print(\"分散 : {}\".format(scratch_scaler.var_))\n",
    "#print(\"標準偏差 : {}\".format(scratch_scaler.std_))\n",
    "X_std = scratch_scaler.transform(X)\n",
    "print(\"標準化\")\n",
    "print(X_std)"
   ]
  },
  {
   "cell_type": "code",
   "execution_count": 28,
   "metadata": {},
   "outputs": [
    {
     "name": "stdout",
     "output_type": "stream",
     "text": [
      "平均 : [4.86 3.31 1.45 0.22]\n",
      "標準化\n",
      "[[ 0.86828953  0.65207831 -0.48795004 -0.26726124]\n",
      " [ 0.14471492 -1.06391725 -0.48795004 -0.26726124]\n",
      " [-0.57885968 -0.37751902 -1.46385011 -0.26726124]\n",
      " [-0.94064699 -0.72071813  0.48795004 -0.26726124]\n",
      " [ 0.50650222  0.99527742 -0.48795004 -0.26726124]\n",
      " [ 1.95365143  2.02487476  2.43975018  2.40535118]\n",
      " [-0.94064699  0.3088792  -0.48795004  1.06904497]\n",
      " [ 0.50650222  0.3088792   0.48795004 -0.26726124]\n",
      " [-1.66422159 -1.40711636 -0.48795004 -0.26726124]\n",
      " [ 0.14471492 -0.72071813  0.48795004 -1.60356745]]\n"
     ]
    }
   ],
   "source": [
    "# 確認用\n",
    "from sklearn.preprocessing import StandardScaler\n",
    "\n",
    "scaler = StandardScaler()\n",
    "scaler.fit(X)\n",
    "\n",
    "print(\"平均 : {}\".format(scaler.mean_))\n",
    "#print(\"分散 : {}\".format(scaler.std_))\n",
    "X_test = scratch_scaler.transform(X)\n",
    "print(\"標準化\")\n",
    "print(X_test)"
   ]
  },
  {
   "cell_type": "markdown",
   "metadata": {},
   "source": [
    "# 【問題4】 四則演算を行うクラスの作成"
   ]
  },
  {
   "cell_type": "markdown",
   "metadata": {},
   "source": [
    "引き算、掛け算、割り算のメソッドを加えてください  \n",
    "コンストラクタに入力されたvalueが文字列や配列など数値以外だった場合にはエラーを出すようにしてください。  \n",
    "クラス名や説明文も適切に書き換えてください。"
   ]
  },
  {
   "cell_type": "code",
   "execution_count": 55,
   "metadata": {},
   "outputs": [],
   "source": [
    "class CalcClass():\n",
    "    \"\"\"\n",
    "    四則演算を行うクラス\n",
    "\n",
    "    Parameters\n",
    "    ----------\n",
    "    value : float or int\n",
    "        初期値\n",
    "\n",
    "    Attributes\n",
    "    ----------\n",
    "    value : float or int\n",
    "        計算結果\n",
    "    \"\"\"\n",
    "    def _judge(self, value):\n",
    "        if (type(value) is int) or (type(value) is float):\n",
    "            self.value = value\n",
    "            print(\"初期値{}が設定されました\".format(self.value))\n",
    "            result = 1 # TRUE\n",
    "        else:\n",
    "            print(\"引数の型が違います。\")\n",
    "            print(\"int型かfloat型に変更してください\")\n",
    "            result = 0 # FALSE\n",
    "\n",
    "        return result\n",
    "    \n",
    "    def __init__(self, value):        \n",
    "        # 型の確認\n",
    "        self._judge(value)\n",
    "            \n",
    "    def add(self, value):\n",
    "        # 型の確認\n",
    "        result = self._judge(value)\n",
    "        if result == 1:\n",
    "            # self.valueと引数を加算\n",
    "            self.value = self.value + value\n",
    "\n",
    "    def sub(self, value):\n",
    "        # 型の確認\n",
    "        result = self._judge(value)\n",
    "        if result == 1:        \n",
    "            # self.valueと引数を減算\n",
    "            self.value = self.value - value\n",
    "\n",
    "    def multi(self, value):\n",
    "        # 型の確認\n",
    "        result = self._judge(value)\n",
    "        if result == 1:\n",
    "            # self.valueと引数を乗数\n",
    "            self.value = self.value * value\n",
    "        \n",
    "    def divi(self, value):\n",
    "        # 型の確認\n",
    "        result = self._judge(value)\n",
    "        if result == 1:\n",
    "            # self.valueと引数を除算\n",
    "            self.value = self.value / value"
   ]
  },
  {
   "cell_type": "code",
   "execution_count": 56,
   "metadata": {},
   "outputs": [
    {
     "name": "stdout",
     "output_type": "stream",
     "text": [
      "引数の型が違います。\n",
      "int型かfloat型に変更してください\n",
      "引数の型が違います。\n",
      "int型かfloat型に変更してください\n",
      "初期値0.1が設定されました\n",
      "初期値5が設定されました\n",
      "初期値3が設定されました\n",
      "value : 6\n",
      "初期値1が設定されました\n",
      "value : 0\n",
      "初期値2が設定されました\n",
      "value : 4\n",
      "初期値7が設定されました\n",
      "value : 1.0\n",
      "引数の型が違います。\n",
      "int型かfloat型に変更してください\n",
      "引数の型が違います。\n",
      "int型かfloat型に変更してください\n",
      "引数の型が違います。\n",
      "int型かfloat型に変更してください\n",
      "引数の型が違います。\n",
      "int型かfloat型に変更してください\n"
     ]
    }
   ],
   "source": [
    "example = CalcClass([1,1])\n",
    "example = CalcClass(\"str\")\n",
    "example = CalcClass(0.1)\n",
    "example = CalcClass(5)\n",
    "\n",
    "example.add(3)\n",
    "print(\"value : {}\".format(example.value))\n",
    "\n",
    "example.sub(1)\n",
    "print(\"value : {}\".format(example.value))\n",
    "\n",
    "example.multi(2)\n",
    "print(\"value : {}\".format(example.value))\n",
    "\n",
    "example.divi(7)\n",
    "print(\"value : {}\".format(example.value))\n",
    "\n",
    "example.add(\"a\")\n",
    "example.sub(\"a\")\n",
    "example.multi(\"a\")\n",
    "example.divi(\"a\")"
   ]
  },
  {
   "cell_type": "code",
   "execution_count": null,
   "metadata": {},
   "outputs": [],
   "source": []
  }
 ],
 "metadata": {
  "kernelspec": {
   "display_name": "Python 3",
   "language": "python",
   "name": "python3"
  },
  "language_info": {
   "codemirror_mode": {
    "name": "ipython",
    "version": 3
   },
   "file_extension": ".py",
   "mimetype": "text/x-python",
   "name": "python",
   "nbconvert_exporter": "python",
   "pygments_lexer": "ipython3",
   "version": "3.7.0"
  }
 },
 "nbformat": 4,
 "nbformat_minor": 2
}
