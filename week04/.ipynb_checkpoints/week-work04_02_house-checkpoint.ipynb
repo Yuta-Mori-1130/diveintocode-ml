{
 "cells": [
  {
   "cell_type": "markdown",
   "metadata": {},
   "source": [
    "[課題のURL](https://diver.diveintocode.jp/curriculums/1634)"
   ]
  },
  {
   "cell_type": "markdown",
   "metadata": {},
   "source": [
    "# Week4授業前課題2　住宅価格の予想"
   ]
  },
  {
   "cell_type": "markdown",
   "metadata": {},
   "source": [
    "# 【問題1】データセットの取得"
   ]
  },
  {
   "cell_type": "markdown",
   "metadata": {},
   "source": [
    "* データセットを読み込んだ後、GrLivAreaとYearBuiltを抜き出してください。"
   ]
  },
  {
   "cell_type": "code",
   "execution_count": 1,
   "metadata": {},
   "outputs": [],
   "source": [
    "import numpy as np\n",
    "import pandas as pd\n",
    "import seaborn as sns\n",
    "import missingno as msno\n",
    "import scipy\n",
    "import matplotlib\n",
    "import matplotlib.pyplot as plt\n",
    "%matplotlib inline"
   ]
  },
  {
   "cell_type": "code",
   "execution_count": 2,
   "metadata": {},
   "outputs": [],
   "source": [
    "#df = pd.read_csv('train.csv')\n",
    "df = pd.read_csv('train.csv', index_col=0)"
   ]
  },
  {
   "cell_type": "code",
   "execution_count": 3,
   "metadata": {},
   "outputs": [
    {
     "data": {
      "text/plain": [
       "(1460, 80)"
      ]
     },
     "execution_count": 3,
     "metadata": {},
     "output_type": "execute_result"
    }
   ],
   "source": [
    "df.shape"
   ]
  },
  {
   "cell_type": "code",
   "execution_count": 4,
   "metadata": {},
   "outputs": [
    {
     "data": {
      "text/html": [
       "<div>\n",
       "<style scoped>\n",
       "    .dataframe tbody tr th:only-of-type {\n",
       "        vertical-align: middle;\n",
       "    }\n",
       "\n",
       "    .dataframe tbody tr th {\n",
       "        vertical-align: top;\n",
       "    }\n",
       "\n",
       "    .dataframe thead th {\n",
       "        text-align: right;\n",
       "    }\n",
       "</style>\n",
       "<table border=\"1\" class=\"dataframe\">\n",
       "  <thead>\n",
       "    <tr style=\"text-align: right;\">\n",
       "      <th></th>\n",
       "      <th>MSSubClass</th>\n",
       "      <th>MSZoning</th>\n",
       "      <th>LotFrontage</th>\n",
       "      <th>LotArea</th>\n",
       "      <th>Street</th>\n",
       "      <th>Alley</th>\n",
       "      <th>LotShape</th>\n",
       "      <th>LandContour</th>\n",
       "      <th>Utilities</th>\n",
       "      <th>LotConfig</th>\n",
       "      <th>...</th>\n",
       "      <th>PoolArea</th>\n",
       "      <th>PoolQC</th>\n",
       "      <th>Fence</th>\n",
       "      <th>MiscFeature</th>\n",
       "      <th>MiscVal</th>\n",
       "      <th>MoSold</th>\n",
       "      <th>YrSold</th>\n",
       "      <th>SaleType</th>\n",
       "      <th>SaleCondition</th>\n",
       "      <th>SalePrice</th>\n",
       "    </tr>\n",
       "    <tr>\n",
       "      <th>Id</th>\n",
       "      <th></th>\n",
       "      <th></th>\n",
       "      <th></th>\n",
       "      <th></th>\n",
       "      <th></th>\n",
       "      <th></th>\n",
       "      <th></th>\n",
       "      <th></th>\n",
       "      <th></th>\n",
       "      <th></th>\n",
       "      <th></th>\n",
       "      <th></th>\n",
       "      <th></th>\n",
       "      <th></th>\n",
       "      <th></th>\n",
       "      <th></th>\n",
       "      <th></th>\n",
       "      <th></th>\n",
       "      <th></th>\n",
       "      <th></th>\n",
       "      <th></th>\n",
       "    </tr>\n",
       "  </thead>\n",
       "  <tbody>\n",
       "    <tr>\n",
       "      <th>1</th>\n",
       "      <td>60</td>\n",
       "      <td>RL</td>\n",
       "      <td>65.0</td>\n",
       "      <td>8450</td>\n",
       "      <td>Pave</td>\n",
       "      <td>NaN</td>\n",
       "      <td>Reg</td>\n",
       "      <td>Lvl</td>\n",
       "      <td>AllPub</td>\n",
       "      <td>Inside</td>\n",
       "      <td>...</td>\n",
       "      <td>0</td>\n",
       "      <td>NaN</td>\n",
       "      <td>NaN</td>\n",
       "      <td>NaN</td>\n",
       "      <td>0</td>\n",
       "      <td>2</td>\n",
       "      <td>2008</td>\n",
       "      <td>WD</td>\n",
       "      <td>Normal</td>\n",
       "      <td>208500</td>\n",
       "    </tr>\n",
       "    <tr>\n",
       "      <th>2</th>\n",
       "      <td>20</td>\n",
       "      <td>RL</td>\n",
       "      <td>80.0</td>\n",
       "      <td>9600</td>\n",
       "      <td>Pave</td>\n",
       "      <td>NaN</td>\n",
       "      <td>Reg</td>\n",
       "      <td>Lvl</td>\n",
       "      <td>AllPub</td>\n",
       "      <td>FR2</td>\n",
       "      <td>...</td>\n",
       "      <td>0</td>\n",
       "      <td>NaN</td>\n",
       "      <td>NaN</td>\n",
       "      <td>NaN</td>\n",
       "      <td>0</td>\n",
       "      <td>5</td>\n",
       "      <td>2007</td>\n",
       "      <td>WD</td>\n",
       "      <td>Normal</td>\n",
       "      <td>181500</td>\n",
       "    </tr>\n",
       "    <tr>\n",
       "      <th>3</th>\n",
       "      <td>60</td>\n",
       "      <td>RL</td>\n",
       "      <td>68.0</td>\n",
       "      <td>11250</td>\n",
       "      <td>Pave</td>\n",
       "      <td>NaN</td>\n",
       "      <td>IR1</td>\n",
       "      <td>Lvl</td>\n",
       "      <td>AllPub</td>\n",
       "      <td>Inside</td>\n",
       "      <td>...</td>\n",
       "      <td>0</td>\n",
       "      <td>NaN</td>\n",
       "      <td>NaN</td>\n",
       "      <td>NaN</td>\n",
       "      <td>0</td>\n",
       "      <td>9</td>\n",
       "      <td>2008</td>\n",
       "      <td>WD</td>\n",
       "      <td>Normal</td>\n",
       "      <td>223500</td>\n",
       "    </tr>\n",
       "    <tr>\n",
       "      <th>4</th>\n",
       "      <td>70</td>\n",
       "      <td>RL</td>\n",
       "      <td>60.0</td>\n",
       "      <td>9550</td>\n",
       "      <td>Pave</td>\n",
       "      <td>NaN</td>\n",
       "      <td>IR1</td>\n",
       "      <td>Lvl</td>\n",
       "      <td>AllPub</td>\n",
       "      <td>Corner</td>\n",
       "      <td>...</td>\n",
       "      <td>0</td>\n",
       "      <td>NaN</td>\n",
       "      <td>NaN</td>\n",
       "      <td>NaN</td>\n",
       "      <td>0</td>\n",
       "      <td>2</td>\n",
       "      <td>2006</td>\n",
       "      <td>WD</td>\n",
       "      <td>Abnorml</td>\n",
       "      <td>140000</td>\n",
       "    </tr>\n",
       "    <tr>\n",
       "      <th>5</th>\n",
       "      <td>60</td>\n",
       "      <td>RL</td>\n",
       "      <td>84.0</td>\n",
       "      <td>14260</td>\n",
       "      <td>Pave</td>\n",
       "      <td>NaN</td>\n",
       "      <td>IR1</td>\n",
       "      <td>Lvl</td>\n",
       "      <td>AllPub</td>\n",
       "      <td>FR2</td>\n",
       "      <td>...</td>\n",
       "      <td>0</td>\n",
       "      <td>NaN</td>\n",
       "      <td>NaN</td>\n",
       "      <td>NaN</td>\n",
       "      <td>0</td>\n",
       "      <td>12</td>\n",
       "      <td>2008</td>\n",
       "      <td>WD</td>\n",
       "      <td>Normal</td>\n",
       "      <td>250000</td>\n",
       "    </tr>\n",
       "  </tbody>\n",
       "</table>\n",
       "<p>5 rows × 80 columns</p>\n",
       "</div>"
      ],
      "text/plain": [
       "    MSSubClass MSZoning  LotFrontage  LotArea Street Alley LotShape  \\\n",
       "Id                                                                    \n",
       "1           60       RL         65.0     8450   Pave   NaN      Reg   \n",
       "2           20       RL         80.0     9600   Pave   NaN      Reg   \n",
       "3           60       RL         68.0    11250   Pave   NaN      IR1   \n",
       "4           70       RL         60.0     9550   Pave   NaN      IR1   \n",
       "5           60       RL         84.0    14260   Pave   NaN      IR1   \n",
       "\n",
       "   LandContour Utilities LotConfig    ...     PoolArea PoolQC Fence  \\\n",
       "Id                                    ...                             \n",
       "1          Lvl    AllPub    Inside    ...            0    NaN   NaN   \n",
       "2          Lvl    AllPub       FR2    ...            0    NaN   NaN   \n",
       "3          Lvl    AllPub    Inside    ...            0    NaN   NaN   \n",
       "4          Lvl    AllPub    Corner    ...            0    NaN   NaN   \n",
       "5          Lvl    AllPub       FR2    ...            0    NaN   NaN   \n",
       "\n",
       "   MiscFeature MiscVal MoSold  YrSold  SaleType  SaleCondition  SalePrice  \n",
       "Id                                                                         \n",
       "1          NaN       0      2    2008        WD         Normal     208500  \n",
       "2          NaN       0      5    2007        WD         Normal     181500  \n",
       "3          NaN       0      9    2008        WD         Normal     223500  \n",
       "4          NaN       0      2    2006        WD        Abnorml     140000  \n",
       "5          NaN       0     12    2008        WD         Normal     250000  \n",
       "\n",
       "[5 rows x 80 columns]"
      ]
     },
     "execution_count": 4,
     "metadata": {},
     "output_type": "execute_result"
    }
   ],
   "source": [
    "df.head(5)"
   ]
  },
  {
   "cell_type": "code",
   "execution_count": 5,
   "metadata": {},
   "outputs": [],
   "source": [
    "# GrLivAreaとYearBuiltを抜き出す。\n",
    "X = df[[\"GrLivArea\", \"YearBuilt\"]]\n",
    "y = df[\"SalePrice\"]"
   ]
  },
  {
   "cell_type": "code",
   "execution_count": 6,
   "metadata": {},
   "outputs": [
    {
     "data": {
      "text/html": [
       "<div>\n",
       "<style scoped>\n",
       "    .dataframe tbody tr th:only-of-type {\n",
       "        vertical-align: middle;\n",
       "    }\n",
       "\n",
       "    .dataframe tbody tr th {\n",
       "        vertical-align: top;\n",
       "    }\n",
       "\n",
       "    .dataframe thead th {\n",
       "        text-align: right;\n",
       "    }\n",
       "</style>\n",
       "<table border=\"1\" class=\"dataframe\">\n",
       "  <thead>\n",
       "    <tr style=\"text-align: right;\">\n",
       "      <th></th>\n",
       "      <th>GrLivArea</th>\n",
       "      <th>YearBuilt</th>\n",
       "      <th>SalePrice</th>\n",
       "    </tr>\n",
       "    <tr>\n",
       "      <th>Id</th>\n",
       "      <th></th>\n",
       "      <th></th>\n",
       "      <th></th>\n",
       "    </tr>\n",
       "  </thead>\n",
       "  <tbody>\n",
       "    <tr>\n",
       "      <th>1</th>\n",
       "      <td>1710</td>\n",
       "      <td>2003</td>\n",
       "      <td>208500</td>\n",
       "    </tr>\n",
       "    <tr>\n",
       "      <th>2</th>\n",
       "      <td>1262</td>\n",
       "      <td>1976</td>\n",
       "      <td>181500</td>\n",
       "    </tr>\n",
       "    <tr>\n",
       "      <th>3</th>\n",
       "      <td>1786</td>\n",
       "      <td>2001</td>\n",
       "      <td>223500</td>\n",
       "    </tr>\n",
       "    <tr>\n",
       "      <th>4</th>\n",
       "      <td>1717</td>\n",
       "      <td>1915</td>\n",
       "      <td>140000</td>\n",
       "    </tr>\n",
       "    <tr>\n",
       "      <th>5</th>\n",
       "      <td>2198</td>\n",
       "      <td>2000</td>\n",
       "      <td>250000</td>\n",
       "    </tr>\n",
       "  </tbody>\n",
       "</table>\n",
       "</div>"
      ],
      "text/plain": [
       "    GrLivArea  YearBuilt  SalePrice\n",
       "Id                                 \n",
       "1        1710       2003     208500\n",
       "2        1262       1976     181500\n",
       "3        1786       2001     223500\n",
       "4        1717       1915     140000\n",
       "5        2198       2000     250000"
      ]
     },
     "execution_count": 6,
     "metadata": {},
     "output_type": "execute_result"
    }
   ],
   "source": [
    "df = pd.concat([X, y], axis=1)\n",
    "df.head(5)"
   ]
  },
  {
   "cell_type": "markdown",
   "metadata": {},
   "source": [
    "# 【問題2】線形回帰による推定と評価"
   ]
  },
  {
   "cell_type": "markdown",
   "metadata": {},
   "source": [
    "* データを簡単に分析、前処理し、 線形回帰 による学習、推定、評価、可視化までの一連の流れを作成・実行してください。"
   ]
  },
  {
   "cell_type": "markdown",
   "metadata": {},
   "source": [
    "* データ分析"
   ]
  },
  {
   "cell_type": "markdown",
   "metadata": {},
   "source": [
    "GrLivArea: Above grade (ground) living area square feet  \n",
    "YearBuilt: Original construction date"
   ]
  },
  {
   "cell_type": "code",
   "execution_count": 7,
   "metadata": {},
   "outputs": [
    {
     "data": {
      "image/png": "[encoded data removed]",
      "text/plain": [
       "<Figure size 432x288 with 1 Axes>"
      ]
     },
     "metadata": {
      "needs_background": "light"
     },
     "output_type": "display_data"
    }
   ],
   "source": [
    "# 散布図の描画\n",
    "\n",
    "# グラフの描画\n",
    "plt.title(\"scatter\", fontsize=20) # (5)タイトル\n",
    "plt.xlabel(\"GrLivArea\", fontsize=20) # (6)x軸ラベル\n",
    "plt.ylabel(\"SalePrice\", fontsize=20) # (7)y軸ラベル\n",
    "\n",
    "plt.scatter(X[\"GrLivArea\"], y, s=10, c=\"g\", marker=\"D\", label=\"virgiclor(1)\") #(10)散布図の描画\n",
    "plt.show()"
   ]
  },
  {
   "cell_type": "code",
   "execution_count": 8,
   "metadata": {},
   "outputs": [
    {
     "data": {
      "text/html": [
       "<div>\n",
       "<style scoped>\n",
       "    .dataframe tbody tr th:only-of-type {\n",
       "        vertical-align: middle;\n",
       "    }\n",
       "\n",
       "    .dataframe tbody tr th {\n",
       "        vertical-align: top;\n",
       "    }\n",
       "\n",
       "    .dataframe thead th {\n",
       "        text-align: right;\n",
       "    }\n",
       "</style>\n",
       "<table border=\"1\" class=\"dataframe\">\n",
       "  <thead>\n",
       "    <tr style=\"text-align: right;\">\n",
       "      <th></th>\n",
       "      <th>GrLivArea</th>\n",
       "      <th>SalePrice</th>\n",
       "    </tr>\n",
       "  </thead>\n",
       "  <tbody>\n",
       "    <tr>\n",
       "      <th>GrLivArea</th>\n",
       "      <td>1.000000</td>\n",
       "      <td>0.708624</td>\n",
       "    </tr>\n",
       "    <tr>\n",
       "      <th>SalePrice</th>\n",
       "      <td>0.708624</td>\n",
       "      <td>1.000000</td>\n",
       "    </tr>\n",
       "  </tbody>\n",
       "</table>\n",
       "</div>"
      ],
      "text/plain": [
       "           GrLivArea  SalePrice\n",
       "GrLivArea   1.000000   0.708624\n",
       "SalePrice   0.708624   1.000000"
      ]
     },
     "execution_count": 8,
     "metadata": {},
     "output_type": "execute_result"
    }
   ],
   "source": [
    "df[[\"GrLivArea\",\"SalePrice\"]].corr()"
   ]
  },
  {
   "cell_type": "code",
   "execution_count": 9,
   "metadata": {},
   "outputs": [
    {
     "data": {
      "image/png": "[encoded data removed]",
      "text/plain": [
       "<Figure size 432x288 with 1 Axes>"
      ]
     },
     "metadata": {
      "needs_background": "light"
     },
     "output_type": "display_data"
    }
   ],
   "source": [
    "# グラフの描画\n",
    "plt.title(\"scatter\", fontsize=20) # (5)タイトル\n",
    "plt.xlabel(\"YearBuilt\", fontsize=20) # (6)x軸ラベル\n",
    "plt.ylabel(\"SalePrice\", fontsize=20) # (7)y軸ラベル\n",
    "\n",
    "plt.scatter(X[\"YearBuilt\"], y, s=10, c=\"b\", marker=\"D\", label=\"virgiclor(1)\") #(10)散布図の描画\n",
    "plt.show()"
   ]
  },
  {
   "cell_type": "code",
   "execution_count": 10,
   "metadata": {},
   "outputs": [
    {
     "data": {
      "text/html": [
       "<div>\n",
       "<style scoped>\n",
       "    .dataframe tbody tr th:only-of-type {\n",
       "        vertical-align: middle;\n",
       "    }\n",
       "\n",
       "    .dataframe tbody tr th {\n",
       "        vertical-align: top;\n",
       "    }\n",
       "\n",
       "    .dataframe thead th {\n",
       "        text-align: right;\n",
       "    }\n",
       "</style>\n",
       "<table border=\"1\" class=\"dataframe\">\n",
       "  <thead>\n",
       "    <tr style=\"text-align: right;\">\n",
       "      <th></th>\n",
       "      <th>YearBuilt</th>\n",
       "      <th>SalePrice</th>\n",
       "    </tr>\n",
       "  </thead>\n",
       "  <tbody>\n",
       "    <tr>\n",
       "      <th>YearBuilt</th>\n",
       "      <td>1.000000</td>\n",
       "      <td>0.522897</td>\n",
       "    </tr>\n",
       "    <tr>\n",
       "      <th>SalePrice</th>\n",
       "      <td>0.522897</td>\n",
       "      <td>1.000000</td>\n",
       "    </tr>\n",
       "  </tbody>\n",
       "</table>\n",
       "</div>"
      ],
      "text/plain": [
       "           YearBuilt  SalePrice\n",
       "YearBuilt   1.000000   0.522897\n",
       "SalePrice   0.522897   1.000000"
      ]
     },
     "execution_count": 10,
     "metadata": {},
     "output_type": "execute_result"
    }
   ],
   "source": [
    "df[[\"YearBuilt\",\"SalePrice\"]].corr()"
   ]
  },
  {
   "cell_type": "markdown",
   "metadata": {},
   "source": [
    "* 前処・訓練データと検証データの分割"
   ]
  },
  {
   "cell_type": "code",
   "execution_count": 11,
   "metadata": {},
   "outputs": [],
   "source": [
    "# 訓練データと検証データの分割を行います。\n",
    "# 訓練データ75%、検証データ25%として分割する。\n",
    "\n",
    "from sklearn.model_selection import train_test_split\n",
    "\n",
    "# 特徴量（説明変数）をX、正解（目的変数）をyというndarrayに格納\n",
    "\n",
    "#print(type(X)) # <class 'pandas.core.frame.DataFrame'>\n",
    "#print(type(y)) # <class 'pandas.core.series.Series'>\n",
    "\n",
    "X_ndarray = X.values\n",
    "y_ndarray = y.values\n",
    "\n",
    "#print(type(X_ndarray)) # <class 'numpy.ndarray'>\n",
    "#print(type(y_ndarray)) # <class 'numpy.ndarray'>\n",
    "\n",
    "X_train, X_test, Y_train, Y_test = train_test_split(X_ndarray, y_ndarray, train_size = 0.75 , test_size = 0.25, random_state = 0)\n",
    "\n",
    "#print(type(X_train)) # <class 'pandas.core.frame.DataFrame'>\n",
    "#print(X_train)"
   ]
  },
  {
   "cell_type": "code",
   "execution_count": 12,
   "metadata": {},
   "outputs": [],
   "source": [
    "# 前処理\n",
    "# 標準化を行う\n",
    "\n",
    "from sklearn.preprocessing import StandardScaler\n",
    "\n",
    "# print(X_train.dtype) int64\n",
    "\n",
    "# 説明変数の標準化を実施\n",
    "scaler = StandardScaler()\n",
    "scaler.fit(X_train.astype(float)) # int型の場合Warnigが出るのでキャスト\n",
    "\n",
    "X_train_std = scaler.transform(X_train.astype(float))\n",
    "X_test_std = scaler.transform(X_test.astype(float))\n",
    "\n",
    "#print(X_train_std.shape)\n",
    "#print(X_test_std.shape)\n",
    "\n",
    "# 目的変数の標準化を実施\n",
    "scaler2 = StandardScaler()\n",
    "scaler2.fit(Y_train.reshape(-1, 1).astype(float)) # int型の場合Warnigが出るのでキャスト\n",
    "\n",
    "Y_train_std = scaler2.transform(Y_train.reshape(-1, 1).astype(float))\n",
    "#print(Y_train_std.shape)\n",
    "#print(Y_train_std)\n",
    "\n",
    "Y_test_std = scaler2.transform(Y_test.reshape(-1, 1).astype(float) ) \n",
    "#print(Y_temp.shape)\n",
    "#print(Y_test_std)"
   ]
  },
  {
   "cell_type": "code",
   "execution_count": 13,
   "metadata": {},
   "outputs": [
    {
     "data": {
      "image/png": "[encoded data removed]",
      "text/plain": [
       "<Figure size 432x288 with 1 Axes>"
      ]
     },
     "metadata": {
      "needs_background": "light"
     },
     "output_type": "display_data"
    }
   ],
   "source": [
    "# グラフの描画(標準化後)\n",
    "\n",
    "plt.title(\"scatter\", fontsize=20) # (5)タイトル\n",
    "plt.xlabel(\"GrLivArea\", fontsize=20) # (6)x軸ラベル\n",
    "plt.ylabel(\"SalePrice\", fontsize=20) # (7)y軸ラベル\n",
    "\n",
    "plt.scatter(X_train_std[:,0], Y_train_std, s=10, c=\"g\", marker=\"D\", label=\"virgiclor(1)\") #(10)散布図の描画\n",
    "plt.show()"
   ]
  },
  {
   "cell_type": "code",
   "execution_count": 14,
   "metadata": {},
   "outputs": [
    {
     "data": {
      "image/png": "[encoded data removed]",
      "text/plain": [
       "<Figure size 432x288 with 1 Axes>"
      ]
     },
     "metadata": {
      "needs_background": "light"
     },
     "output_type": "display_data"
    }
   ],
   "source": [
    "plt.title(\"scatter\", fontsize=20) # (5)タイトル\n",
    "plt.xlabel(\"YearBuilt\", fontsize=20) # (6)x軸ラベル\n",
    "plt.ylabel(\"SalePrice\", fontsize=20) # (7)y軸ラベル\n",
    "\n",
    "plt.scatter(X_train_std[:,1], Y_train_std, s=10, c=\"b\", marker=\"D\", label=\"virgiclor(1)\") #(10)散布図の描画\n",
    "plt.show()"
   ]
  },
  {
   "cell_type": "markdown",
   "metadata": {},
   "source": [
    "* 学習と推定  \n",
    "GrLivAreaの相関係数は0.708624で、YearBuiltの相関係数は0.522897である。  \n",
    "このため、GrLivAreaについて学習する。\n",
    "(調査:相関係数が低い場合もした方が良い？)"
   ]
  },
  {
   "cell_type": "markdown",
   "metadata": {},
   "source": [
    "* 線形回帰 "
   ]
  },
  {
   "cell_type": "code",
   "execution_count": 15,
   "metadata": {},
   "outputs": [],
   "source": [
    "# 線形回帰 による学習\n",
    "from sklearn.linear_model import LinearRegression\n",
    "\n",
    "# GrLivAreaを参照\n",
    "X_temp = X_train_std[:,0].reshape(1095,1)\n",
    "\n",
    "# 線形モデルの重みを学習\n",
    "lr = LinearRegression().fit(X_temp, Y_train_std)\n"
   ]
  },
  {
   "cell_type": "code",
   "execution_count": 16,
   "metadata": {},
   "outputs": [
    {
     "data": {
      "image/png": "[encoded data removed]",
      "text/plain": [
       "<Figure size 432x288 with 1 Axes>"
      ]
     },
     "metadata": {
      "needs_background": "light"
     },
     "output_type": "display_data"
    }
   ],
   "source": [
    "# 描画\n",
    "\n",
    "plt.scatter(X_temp, Y_train_std, color = 'blue') # 説明変数と目的変数のデータ点の散布図をプロット\n",
    "plt.plot(X_temp, lr.predict(X_temp), color = 'red') # 回帰直線をプロット\n",
    "\n",
    "plt.xlabel(\"GrLivArea\", fontsize=10)\n",
    "plt.ylabel(\"SalePrice\", fontsize=10) \n",
    "\n",
    "plt.grid() # グリッド線を表示\n",
    "\n",
    "plt.show()"
   ]
  },
  {
   "cell_type": "code",
   "execution_count": 17,
   "metadata": {},
   "outputs": [
    {
     "name": "stdout",
     "output_type": "stream",
     "text": [
      "平均二乗誤差（Mean Squared Error, MSE\n",
      "0.5967951236996335\n"
     ]
    }
   ],
   "source": [
    "from sklearn.metrics import mean_squared_error\n",
    "\n",
    "# 検証データを用いて目的変数を予測\n",
    "X_temp = X_test_std[:,0].reshape(365,1)\n",
    "X_pred = lr.predict(X_temp)\n",
    "\n",
    "#print(X_pred)\n",
    "\n",
    "print(\"平均二乗誤差（Mean Squared Error, MSE\")\n",
    "print( mean_squared_error(Y_test_std ,X_pred ))"
   ]
  },
  {
   "cell_type": "markdown",
   "metadata": {},
   "source": [
    "* SVM"
   ]
  },
  {
   "cell_type": "code",
   "execution_count": 18,
   "metadata": {},
   "outputs": [],
   "source": [
    "# SVMによる学習\n",
    "from sklearn.svm import SVR\n",
    "\n",
    "# GrLivAreaを参照\n",
    "X_temp = X_train_std[:,0].reshape(1095,1)\n",
    "\n",
    "# 学習\n",
    "lr = SVR().fit(X_temp, Y_train_std.reshape(1095,))\n"
   ]
  },
  {
   "cell_type": "code",
   "execution_count": 19,
   "metadata": {},
   "outputs": [
    {
     "data": {
      "image/png": "[encoded data removed]",
      "text/plain": [
       "<Figure size 432x288 with 1 Axes>"
      ]
     },
     "metadata": {
      "needs_background": "light"
     },
     "output_type": "display_data"
    }
   ],
   "source": [
    "# 描画\n",
    "\n",
    "# 回帰直線を図示するのに変数を並び替え\n",
    "sort_idx = X_temp.flatten().argsort()\n",
    "\n",
    "plt.scatter(X_temp[sort_idx], Y_train_std[sort_idx], color = 'blue') # 説明変数と目的変数のデータ点の散布図をプロット\n",
    "plt.plot(X_temp[sort_idx], lr.predict(X_temp[sort_idx]), color = 'red') # 回帰直線をプロット\n",
    "\n",
    "plt.xlabel(\"GrLivArea\", fontsize=10)\n",
    "plt.ylabel(\"SalePrice\", fontsize=10) \n",
    "\n",
    "plt.grid() # グリッド線を表示\n",
    "\n",
    "plt.show()"
   ]
  },
  {
   "cell_type": "code",
   "execution_count": 20,
   "metadata": {},
   "outputs": [
    {
     "name": "stdout",
     "output_type": "stream",
     "text": [
      "平均二乗誤差（Mean Squared Error, MSE\n",
      "0.5993354881402361\n"
     ]
    }
   ],
   "source": [
    "# 検証データを用いて目的変数を予測\n",
    "X_temp2 = X_test_std[:,0].reshape(365,1)\n",
    "X_pred = lr.predict(X_temp2)\n",
    "\n",
    "#print(X_pred)\n",
    "\n",
    "print(\"平均二乗誤差（Mean Squared Error, MSE\")\n",
    "print( mean_squared_error(Y_test_std ,X_pred ))"
   ]
  },
  {
   "cell_type": "markdown",
   "metadata": {},
   "source": [
    "* 決定木"
   ]
  },
  {
   "cell_type": "code",
   "execution_count": 21,
   "metadata": {},
   "outputs": [],
   "source": [
    "# 決定木による学習\n",
    "from sklearn.tree import DecisionTreeRegressor\n",
    "\n",
    "# GrLivAreaを参照\n",
    "X_temp = X_train_std[:,0].reshape(1095,1)\n",
    "\n",
    "# 学習\n",
    "lr = DecisionTreeRegressor().fit(X_temp, Y_train_std.reshape(1095,))"
   ]
  },
  {
   "cell_type": "code",
   "execution_count": 22,
   "metadata": {},
   "outputs": [
    {
     "data": {
      "image/png": "[encoded data removed]",
      "text/plain": [
       "<Figure size 432x288 with 1 Axes>"
      ]
     },
     "metadata": {
      "needs_background": "light"
     },
     "output_type": "display_data"
    }
   ],
   "source": [
    "# 描画\n",
    "\n",
    "# 回帰直線を図示するのに変数を並び替え\n",
    "sort_idx = X_temp.flatten().argsort()\n",
    "\n",
    "plt.scatter(X_temp[sort_idx], Y_train_std[sort_idx], color = 'blue') # 説明変数と目的変数のデータ点の散布図をプロット\n",
    "plt.plot(X_temp[sort_idx], lr.predict(X_temp[sort_idx]), color = 'red') # 回帰直線をプロット\n",
    "\n",
    "plt.xlabel(\"GrLivArea\", fontsize=10)\n",
    "plt.ylabel(\"SalePrice\", fontsize=10) \n",
    "\n",
    "plt.grid() # グリッド線を表示\n",
    "\n",
    "plt.show()"
   ]
  },
  {
   "cell_type": "code",
   "execution_count": 23,
   "metadata": {},
   "outputs": [
    {
     "name": "stdout",
     "output_type": "stream",
     "text": [
      "平均二乗誤差（Mean Squared Error, MSE\n",
      "0.7535269085676842\n"
     ]
    }
   ],
   "source": [
    "# 検証データを用いて目的変数を予測\n",
    "X_temp2 = X_test_std[:,0].reshape(365,1)\n",
    "X_pred = lr.predict(X_temp2)\n",
    "\n",
    "#print(X_pred)\n",
    "\n",
    "print(\"平均二乗誤差（Mean Squared Error, MSE\")\n",
    "print( mean_squared_error(Y_test_std ,X_pred ))"
   ]
  },
  {
   "cell_type": "markdown",
   "metadata": {},
   "source": [
    "* ランダムフォレスト"
   ]
  },
  {
   "cell_type": "code",
   "execution_count": 24,
   "metadata": {},
   "outputs": [
    {
     "name": "stderr",
     "output_type": "stream",
     "text": [
      "/Users/mori/.pyenv/versions/anaconda3-5.3.1/lib/python3.7/site-packages/sklearn/ensemble/weight_boosting.py:29: DeprecationWarning: numpy.core.umath_tests is an internal NumPy module and should not be imported. It will be removed in a future NumPy release.\n",
      "  from numpy.core.umath_tests import inner1d\n"
     ]
    }
   ],
   "source": [
    "# ランダムフォレストによる学習\n",
    "from sklearn.ensemble import RandomForestRegressor\n",
    "from sklearn.datasets import make_regression\n",
    "\n",
    "# GrLivAreaを参照\n",
    "X_temp = X_train_std[:,0].reshape(1095,1)\n",
    "\n",
    "# 学習\n",
    "lr = RandomForestRegressor().fit(X_temp, Y_train_std.reshape(1095,))"
   ]
  },
  {
   "cell_type": "code",
   "execution_count": 25,
   "metadata": {},
   "outputs": [
    {
     "data": {
      "image/png": "[encoded data removed]",
      "text/plain": [
       "<Figure size 432x288 with 1 Axes>"
      ]
     },
     "metadata": {
      "needs_background": "light"
     },
     "output_type": "display_data"
    }
   ],
   "source": [
    "# 描画\n",
    "\n",
    "# 回帰直線を図示するのに変数を並び替え\n",
    "sort_idx = X_temp.flatten().argsort()\n",
    "\n",
    "plt.scatter(X_temp[sort_idx], Y_train_std[sort_idx], color = 'blue') # 説明変数と目的変数のデータ点の散布図をプロット\n",
    "plt.plot(X_temp[sort_idx], lr.predict(X_temp[sort_idx]), color = 'red') # 回帰直線をプロット\n",
    "\n",
    "plt.xlabel(\"GrLivArea\", fontsize=10)\n",
    "plt.ylabel(\"SalePrice\", fontsize=10) \n",
    "\n",
    "plt.grid() # グリッド線を表示\n",
    "\n",
    "plt.show()"
   ]
  },
  {
   "cell_type": "code",
   "execution_count": 26,
   "metadata": {},
   "outputs": [
    {
     "name": "stdout",
     "output_type": "stream",
     "text": [
      "平均二乗誤差（Mean Squared Error, MSE\n",
      "0.6296145795369631\n"
     ]
    }
   ],
   "source": [
    "# 検証データを用いて目的変数を予測\n",
    "X_temp2 = X_test_std[:,0].reshape(365,1)\n",
    "X_pred = lr.predict(X_temp2)\n",
    "\n",
    "#print(X_pred)\n",
    "\n",
    "print(\"平均二乗誤差（Mean Squared Error, MSE\")\n",
    "print( mean_squared_error(Y_test_std ,X_pred ))"
   ]
  },
  {
   "cell_type": "markdown",
   "metadata": {},
   "source": [
    "* 指標値を１つの表にまとめてください。  \n",
    "その表と可視化した図を利用して結果を簡単に考察してください。  \n",
    "どの手法がどの指標値が良かったかや、どういった図になっていたかを述べてください。  "
   ]
  },
  {
   "cell_type": "code",
   "execution_count": 28,
   "metadata": {},
   "outputs": [
    {
     "data": {
      "text/html": [
       "<div>\n",
       "<style scoped>\n",
       "    .dataframe tbody tr th:only-of-type {\n",
       "        vertical-align: middle;\n",
       "    }\n",
       "\n",
       "    .dataframe tbody tr th {\n",
       "        vertical-align: top;\n",
       "    }\n",
       "\n",
       "    .dataframe thead th {\n",
       "        text-align: right;\n",
       "    }\n",
       "</style>\n",
       "<table border=\"1\" class=\"dataframe\">\n",
       "  <thead>\n",
       "    <tr style=\"text-align: right;\">\n",
       "      <th></th>\n",
       "      <th>平均二乗誤差（Mean Squared Error, MSE)</th>\n",
       "    </tr>\n",
       "  </thead>\n",
       "  <tbody>\n",
       "    <tr>\n",
       "      <th>線形回帰</th>\n",
       "      <td>0.596795</td>\n",
       "    </tr>\n",
       "    <tr>\n",
       "      <th>SVM</th>\n",
       "      <td>0.599335</td>\n",
       "    </tr>\n",
       "    <tr>\n",
       "      <th>決定木</th>\n",
       "      <td>0.753527</td>\n",
       "    </tr>\n",
       "    <tr>\n",
       "      <th>ランダムフォレスト</th>\n",
       "      <td>0.629615</td>\n",
       "    </tr>\n",
       "  </tbody>\n",
       "</table>\n",
       "</div>"
      ],
      "text/plain": [
       "           平均二乗誤差（Mean Squared Error, MSE)\n",
       "線形回帰                              0.596795\n",
       "SVM                               0.599335\n",
       "決定木                               0.753527\n",
       "ランダムフォレスト                         0.629615"
      ]
     },
     "execution_count": 28,
     "metadata": {},
     "output_type": "execute_result"
    }
   ],
   "source": [
    "list_score = [0.5967951236996335, 0.5993354881402361, 0.7535269085676842, 0.6296145795369631]\n",
    "index1 = [\"線形回帰\", \"SVM\", \"決定木\", \"ランダムフォレスト\"]\n",
    "columns1 =[\"平均二乗誤差（Mean Squared Error, MSE)\"]\n",
    "pd.DataFrame(data=list_score, index=index1, columns=columns1)"
   ]
  },
  {
   "cell_type": "markdown",
   "metadata": {},
   "source": [
    "* 線形回帰とSVMの指標値が良かった。外れ値について考慮に入れてないから？"
   ]
  },
  {
   "cell_type": "code",
   "execution_count": null,
   "metadata": {},
   "outputs": [],
   "source": []
  }
 ],
 "metadata": {
  "kernelspec": {
   "display_name": "Python 3",
   "language": "python",
   "name": "python3"
  },
  "language_info": {
   "codemirror_mode": {
    "name": "ipython",
    "version": 3
   },
   "file_extension": ".py",
   "mimetype": "text/x-python",
   "name": "python",
   "nbconvert_exporter": "python",
   "pygments_lexer": "ipython3",
   "version": "3.7.0"
  }
 },
 "nbformat": 4,
 "nbformat_minor": 2
}
