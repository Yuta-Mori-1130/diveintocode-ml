{
 "cells": [
  {
   "cell_type": "markdown",
   "metadata": {},
   "source": [
    "[課題のURL](https://diver.diveintocode.jp/curriculums/1639)"
   ]
  },
  {
   "cell_type": "markdown",
   "metadata": {},
   "source": [
    "# Week4授業前課題3 オブジェクト指向の活用"
   ]
  },
  {
   "cell_type": "markdown",
   "metadata": {},
   "source": [
    "* 【問題1】これまで利用してきたクラスの列挙"
   ]
  },
  {
   "cell_type": "markdown",
   "metadata": {},
   "source": [
    "Pandas:DataFrameなど\n",
    "matplotlib:figureなど\n",
    "scikit-learn:LogisticRegressionなど"
   ]
  },
  {
   "cell_type": "markdown",
   "metadata": {},
   "source": [
    "# 【問題2】これまで利用してきたメソッドやインスタンス変数の列挙"
   ]
  },
  {
   "cell_type": "markdown",
   "metadata": {},
   "source": [
    "* これまでの課題で利用してきたコードの中でどのようなメソッドやインスタンス変数があったかを答えてください。\n",
    "\n",
    "最低でもそれぞれ5つ以上答えてください。"
   ]
  },
  {
   "cell_type": "markdown",
   "metadata": {},
   "source": [
    "メソッド  \n",
    "*numpyのreshape,    \n",
    "*pandasのsort, read_csv, head, info\n",
    "  \n",
    "インスタンス変数  \n",
    "*numpyのshape, dtype, size  \n",
    "*pandasのcolumns, index, "
   ]
  },
  {
   "cell_type": "markdown",
   "metadata": {},
   "source": [
    "# 【問題3】標準化クラスをスクラッチで作成"
   ]
  },
  {
   "cell_type": "code",
   "execution_count": 41,
   "metadata": {},
   "outputs": [],
   "source": [
    "import numpy as np\n",
    "\n",
    "class ScratchStandardScaler( ):\n",
    "    \"\"\"\n",
    "    標準化のためのクラス\n",
    "\n",
    "    Attributes\n",
    "    ----------\n",
    "    mean_ : 次の形のndarray, shape(n_features,)\n",
    "        平均\n",
    "    var_ : 次の形のndarray, shape(n_features,)\n",
    "        分散\n",
    "    \"\"\"\n",
    "    def fit(self, X):\n",
    "        # 標準化のために平均と標準偏差を計算して、記憶する\n",
    "        # 引数:X : 次の形のndarray, shape (n_samples, n_features)\n",
    "    \n",
    "        self.mean_ = np.mean(X, axis = 0)\n",
    "        self.var_ = np.var(X, axis = 0)\n",
    "        pass\n",
    "    def transform(self, X):\n",
    "        # fitで求めた平均と標準偏差を利用し標準化を行う。\n",
    "        # 引数:X : 次の形のndarray, shape (n_samples, n_features)\n",
    "        # 戻り値:次の形のndarray, shape (n_samples, n_features)  標準化された特緒量\n",
    "        \n",
    "        X = (X - self.mean_)/self.var_\n",
    "        X_scaled = X\n",
    "        \n",
    "        pass\n",
    "        return X_scaled"
   ]
  },
  {
   "cell_type": "code",
   "execution_count": 42,
   "metadata": {},
   "outputs": [
    {
     "name": "stdout",
     "output_type": "stream",
     "text": [
      "平均 : [4.86 3.31 1.45 0.22]\n",
      "分散 : [0.0764 0.0849 0.0105 0.0056]\n",
      "[[  3.14136126   2.23792697  -4.76190476  -3.57142857]\n",
      " [  0.52356021  -3.65135453  -4.76190476  -3.57142857]\n",
      " [ -2.09424084  -1.29564193 -14.28571429  -3.57142857]\n",
      " [ -3.40314136  -2.47349823   4.76190476  -3.57142857]\n",
      " [  1.83246073   3.41578327  -4.76190476  -3.57142857]\n",
      " [  7.06806283   6.94935218  23.80952381  32.14285714]\n",
      " [ -3.40314136   1.06007067  -4.76190476  14.28571429]\n",
      " [  1.83246073   1.06007067   4.76190476  -3.57142857]\n",
      " [ -6.02094241  -4.82921084  -4.76190476  -3.57142857]\n",
      " [  0.52356021  -2.47349823   4.76190476 -21.42857143]]\n"
     ]
    }
   ],
   "source": [
    "import numpy as np\n",
    "from sklearn.datasets import load_iris\n",
    "data = load_iris()\n",
    "X = data.data[:10]\n",
    "scratch_scaler = ScratchStandardScaler()\n",
    "scratch_scaler.fit(X)\n",
    "print(\"平均 : {}\".format(scratch_scaler.mean_))\n",
    "print(\"分散 : {}\".format(scratch_scaler.var_))\n",
    "X_std = scratch_scaler.transform(X)\n",
    "print(X_std)"
   ]
  },
  {
   "cell_type": "code",
   "execution_count": 43,
   "metadata": {},
   "outputs": [
    {
     "name": "stdout",
     "output_type": "stream",
     "text": [
      "平均 : [4.86 3.31 1.45 0.22]\n",
      "分散 : [0.0764 0.0849 0.0105 0.0056]\n",
      "[[  3.14136126   2.23792697  -4.76190476  -3.57142857]\n",
      " [  0.52356021  -3.65135453  -4.76190476  -3.57142857]\n",
      " [ -2.09424084  -1.29564193 -14.28571429  -3.57142857]\n",
      " [ -3.40314136  -2.47349823   4.76190476  -3.57142857]\n",
      " [  1.83246073   3.41578327  -4.76190476  -3.57142857]\n",
      " [  7.06806283   6.94935218  23.80952381  32.14285714]\n",
      " [ -3.40314136   1.06007067  -4.76190476  14.28571429]\n",
      " [  1.83246073   1.06007067   4.76190476  -3.57142857]\n",
      " [ -6.02094241  -4.82921084  -4.76190476  -3.57142857]\n",
      " [  0.52356021  -2.47349823   4.76190476 -21.42857143]]\n"
     ]
    }
   ],
   "source": [
    "# 確認用\n",
    "from sklearn.preprocessing import StandardScaler\n",
    "\n",
    "scaler = StandardScaler()\n",
    "scaler.fit(X)\n",
    "\n",
    "print(\"平均 : {}\".format(scaler.mean_))\n",
    "print(\"分散 : {}\".format(scaler.var_))\n",
    "X_test = scratch_scaler.transform(X)\n",
    "print(X_test)"
   ]
  },
  {
   "cell_type": "markdown",
   "metadata": {},
   "source": [
    "# 【問題4】 四則演算を行うクラスの作成"
   ]
  },
  {
   "cell_type": "markdown",
   "metadata": {},
   "source": [
    "引き算、掛け算、割り算のメソッドを加えてください  \n",
    "コンストラクタに入力されたvalueが文字列や配列など数値以外だった場合にはエラーを出すようにしてください。  \n",
    "クラス名や説明文も適切に書き換えてください。"
   ]
  },
  {
   "cell_type": "code",
   "execution_count": 69,
   "metadata": {},
   "outputs": [],
   "source": [
    "class CalcClass():\n",
    "    \"\"\"\n",
    "    四則演算を行うクラス\n",
    "\n",
    "    Parameters\n",
    "    ----------\n",
    "    value : float or int\n",
    "        初期値\n",
    "\n",
    "    Attributes\n",
    "    ----------\n",
    "    value : float or int\n",
    "        計算結果\n",
    "    \"\"\"\n",
    "    def __init__(self, value):\n",
    "        \n",
    "        if (type(value) is int) or (type(value) is float):\n",
    "            self.value = value\n",
    "            print(\"初期値{}が設定されました\".format(self.value))\n",
    "        else:\n",
    "            print(\"引数の型が違います。\")\n",
    "            print(\"int型かfloat型に変更してください\")\n",
    "                \n",
    "    def add(self, value):\n",
    "        # self.valueと引数を加算\n",
    "        self.value = self.value + value\n",
    "\n",
    "    def sub(self, value):\n",
    "        # self.valueと引数を減算\n",
    "        self.value = self.value - value\n",
    "\n",
    "    def multi(self, value):\n",
    "        # self.valueと引数を乗数\n",
    "        self.value = self.value * value\n",
    "        \n",
    "    def divi(self, value):\n",
    "        # self.valueと引数を除算\n",
    "        self.value = self.value / value"
   ]
  },
  {
   "cell_type": "code",
   "execution_count": 83,
   "metadata": {},
   "outputs": [
    {
     "name": "stdout",
     "output_type": "stream",
     "text": [
      "引数の型が違います。\n",
      "int型かfloat型に変更してください\n",
      "引数の型が違います。\n",
      "int型かfloat型に変更してください\n",
      "初期値0.1が設定されました\n",
      "初期値5が設定されました\n",
      "value : 8\n",
      "value : 7\n",
      "value : 14\n",
      "value : 2.0\n"
     ]
    }
   ],
   "source": [
    "example = CalcClass([1,1])\n",
    "example = CalcClass(\"str\")\n",
    "example = CalcClass(0.1)\n",
    "example = CalcClass(5)\n",
    "\n",
    "example.add(3)\n",
    "print(\"value : {}\".format(example.value))\n",
    "\n",
    "example.sub(1)\n",
    "print(\"value : {}\".format(example.value))\n",
    "\n",
    "example.multi(2)\n",
    "print(\"value : {}\".format(example.value))\n",
    "\n",
    "example.divi(7)\n",
    "print(\"value : {}\".format(example.value))"
   ]
  },
  {
   "cell_type": "code",
   "execution_count": null,
   "metadata": {},
   "outputs": [],
   "source": []
  }
 ],
 "metadata": {
  "kernelspec": {
   "display_name": "Python 3",
   "language": "python",
   "name": "python3"
  },
  "language_info": {
   "codemirror_mode": {
    "name": "ipython",
    "version": 3
   },
   "file_extension": ".py",
   "mimetype": "text/x-python",
   "name": "python",
   "nbconvert_exporter": "python",
   "pygments_lexer": "ipython3",
   "version": "3.7.0"
  }
 },
 "nbformat": 4,
 "nbformat_minor": 2
}
