{
 "cells": [
  {
   "cell_type": "markdown",
   "metadata": {},
   "source": [
    "[課題のURL](https://diver.diveintocode.jp/curriculums/1630)"
   ]
  },
  {
   "cell_type": "markdown",
   "metadata": {},
   "source": [
    "# Week2授業前課題3 行列積のスクラッチ"
   ]
  },
  {
   "cell_type": "markdown",
   "metadata": {},
   "source": [
    "# 【問題1】行列積を手計算する"
   ]
  },
  {
   "cell_type": "code",
   "execution_count": 4,
   "metadata": {},
   "outputs": [],
   "source": [
    "import numpy as np"
   ]
  },
  {
   "cell_type": "markdown",
   "metadata": {},
   "source": [
    "下記の\"通常の行列の積\"を参照\n",
    "\n",
    "[参考情報wiki](https://ja.wikipedia.org/wiki/行列の乗法)"
   ]
  },
  {
   "cell_type": "code",
   "execution_count": 29,
   "metadata": {},
   "outputs": [
    {
     "name": "stdout",
     "output_type": "stream",
     "text": [
      "[[  6  29 -20]\n",
      " [ 12  52  38]\n",
      " [-18 -51 -48]]\n"
     ]
    }
   ],
   "source": [
    "a_ndarray = np.array([[-1, 2, 3], [4, -5, 6], [7, 8, -9]])\n",
    "b_ndarray = np.array([[0, 2, 1], [0, 2, -8], [2, 9, -1]])\n",
    "\n",
    "#print(a_ndarray)\n",
    "#print(b_ndarray)\n",
    "\n",
    "#print( a_ndarray[0] )\n",
    "#print( b_ndarray[:,0] )\n",
    "#print( a_ndarray[0] * b_ndarray[:,0] )\n",
    "#print( sum( a_ndarray[0] * b_ndarray[:,0] ) )\n",
    "\n",
    "a00 = sum( a_ndarray[0] * b_ndarray[:,0] )\n",
    "a01 = sum( a_ndarray[0] * b_ndarray[:,1] )\n",
    "a02 = sum( a_ndarray[0] * b_ndarray[:,2] )\n",
    "a10 = sum( a_ndarray[1] * b_ndarray[:,0] )\n",
    "a11 = sum( a_ndarray[1] * b_ndarray[:,1] )\n",
    "a12 = sum( a_ndarray[1] * b_ndarray[:,2] )\n",
    "a20 = sum( a_ndarray[2] * b_ndarray[:,0] )\n",
    "a21 = sum( a_ndarray[2] * b_ndarray[:,1] )\n",
    "a22 = sum( a_ndarray[2] * b_ndarray[:,2] )\n",
    "\n",
    "ab_ndarray = np.array( np.array([[a00, a01, a02], [a10, a11, a12], [a20, a21, a22]]) )\n",
    "\n",
    "print(ab_ndarray)"
   ]
  },
  {
   "cell_type": "markdown",
   "metadata": {},
   "source": [
    "# 【問題2】NumPyの関数による計算"
   ]
  },
  {
   "cell_type": "markdown",
   "metadata": {},
   "source": [
    "- np.matmul()を使った場合"
   ]
  },
  {
   "cell_type": "code",
   "execution_count": 3,
   "metadata": {},
   "outputs": [
    {
     "name": "stdout",
     "output_type": "stream",
     "text": [
      "[[  6  29 -20]\n",
      " [ 12  52  38]\n",
      " [-18 -51 -48]]\n"
     ]
    }
   ],
   "source": [
    "ab_ndarray = np.matmul(a_ndarray, b_ndarray)\n",
    "\n",
    "print(ab_ndarray)"
   ]
  },
  {
   "cell_type": "markdown",
   "metadata": {},
   "source": [
    "- np.dot()を使った場合"
   ]
  },
  {
   "cell_type": "code",
   "execution_count": 31,
   "metadata": {},
   "outputs": [
    {
     "name": "stdout",
     "output_type": "stream",
     "text": [
      "[[  6  29 -20]\n",
      " [ 12  52  38]\n",
      " [-18 -51 -48]]\n"
     ]
    }
   ],
   "source": [
    "ad_ndarray = np.dot(a_ndarray, b_ndarray)\n",
    "\n",
    "print(ab_ndarray)"
   ]
  },
  {
   "cell_type": "markdown",
   "metadata": {},
   "source": [
    "- @演算子を使った場合"
   ]
  },
  {
   "cell_type": "code",
   "execution_count": 33,
   "metadata": {},
   "outputs": [
    {
     "name": "stdout",
     "output_type": "stream",
     "text": [
      "[[  6  29 -20]\n",
      " [ 12  52  38]\n",
      " [-18 -51 -48]]\n"
     ]
    }
   ],
   "source": [
    "ad_ndarray = a_ndarray @ b_ndarray\n",
    "\n",
    "print(ab_ndarray)"
   ]
  },
  {
   "cell_type": "markdown",
   "metadata": {},
   "source": [
    "# 【問題3】ある要素の計算を実装"
   ]
  },
  {
   "cell_type": "code",
   "execution_count": 81,
   "metadata": {},
   "outputs": [
    {
     "name": "stdout",
     "output_type": "stream",
     "text": [
      "[[  6  29 -20]\n",
      " [ 12  52  38]\n",
      " [-18 -51 -48]]\n"
     ]
    }
   ],
   "source": [
    "a_ndarray = np.array([[-1, 2, 3], [4, -5, 6], [7, 8, -9]])\n",
    "b_ndarray = np.array([[0, 2, 1], [0, 2, -8], [2, 9, -1]])\n",
    "\n",
    "#print(a_ndarray)\n",
    "#print(b_ndarray)\n",
    "\n",
    "#print( a_ndarray[0] )\n",
    "#print( b_ndarray[:,0] )\n",
    "#print( a_ndarray[0] * b_ndarray[:,0] )\n",
    "#print( sum( a_ndarray[0] * b_ndarray[:,0] ) )\n",
    "\n",
    "a00 = sum( a_ndarray[0] * b_ndarray[:,0] )\n",
    "a01 = sum( a_ndarray[0] * b_ndarray[:,1] )\n",
    "a02 = sum( a_ndarray[0] * b_ndarray[:,2] )\n",
    "a10 = sum( a_ndarray[1] * b_ndarray[:,0] )\n",
    "a11 = sum( a_ndarray[1] * b_ndarray[:,1] )\n",
    "a12 = sum( a_ndarray[1] * b_ndarray[:,2] )\n",
    "a20 = sum( a_ndarray[2] * b_ndarray[:,0] )\n",
    "a21 = sum( a_ndarray[2] * b_ndarray[:,1] )\n",
    "a22 = sum( a_ndarray[2] * b_ndarray[:,2] )\n",
    "\n",
    "ab_ndarray = np.array( np.array([[a00, a01, a02], [a10, a11, a12], [a20, a21, a22]]) )\n",
    "\n",
    "print(ab_ndarray)"
   ]
  },
  {
   "cell_type": "markdown",
   "metadata": {},
   "source": [
    "# 【問題4】行列積を行う関数の作成"
   ]
  },
  {
   "cell_type": "code",
   "execution_count": 82,
   "metadata": {},
   "outputs": [
    {
     "name": "stdout",
     "output_type": "stream",
     "text": [
      "[[  6  29 -20]\n",
      " [ 12  52  38]\n",
      " [-18 -51 -48]]\n"
     ]
    }
   ],
   "source": [
    "#  3*3の行列積を算出する\n",
    "def calc_multi( a_ndarray, b_ndarray ):\n",
    "\n",
    "    list_num = []\n",
    "    ab_ndarray = np.array([[0, 0, 0], [0, 0, 0], [0, 0, 0]])\n",
    "    \n",
    "    for i in range(3):\n",
    "        for j in range(3):\n",
    "        \n",
    "            #print(i, j)\n",
    "            list_num.append(sum( a_ndarray[i] * b_ndarray[:,j] ))\n",
    "            \n",
    "    ab_ndarray = np.array(list_num).reshape((3,3))\n",
    "    \n",
    "    return ab_ndarray\n",
    "\n",
    "a_ndarray = np.array([[-1, 2, 3], [4, -5, 6], [7, 8, -9]])\n",
    "b_ndarray = np.array([[0, 2, 1], [0, 2, -8], [2, 9, -1]])\n",
    "\n",
    "ab_ndarray = calc_multi(a_ndarray, b_ndarray)\n",
    "\n",
    "print(ab_ndarray)"
   ]
  },
  {
   "cell_type": "markdown",
   "metadata": {},
   "source": [
    "# 【問題5】計算が定義されない入力を判定する"
   ]
  },
  {
   "cell_type": "code",
   "execution_count": 83,
   "metadata": {},
   "outputs": [
    {
     "name": "stdout",
     "output_type": "stream",
     "text": [
      "行列積は引数1の列数と引数2の行数が等しい場合に定義されます\n",
      "引数を確認してください\n"
     ]
    }
   ],
   "source": [
    "# 3*3の行列積を算出する\n",
    "# 例外処理付き\n",
    "def calc_multi_check( a_ndarray, b_ndarray ):\n",
    "\n",
    "    list_num = []\n",
    "    ab_ndarray = np.array([[0, 0, 0], [0, 0, 0], [0, 0, 0]])\n",
    "    \n",
    "    if len(a_ndarray[0]) != len(b_ndarray[:,0]):\n",
    "        print(\"行列積は引数1の列数と引数2の行数が等しい場合に定義されます\")\n",
    "        print(\"引数を確認してください\")\n",
    "    else:\n",
    "        for i in range(3):\n",
    "            for j in range(3):\n",
    "        \n",
    "                #print(i, j)\n",
    "                list_num.append(sum( a_ndarray[i] * b_ndarray[:,j] ))\n",
    "            \n",
    "        ab_ndarray = np.array(list_num).reshape((3,3))\n",
    "    \n",
    "    return ab_ndarray\n",
    "\n",
    "d_ndarray = np.array([[-1, 2, 3], [4, -5, 6]])\n",
    "e_ndarray = np.array([[-9, 8, 7], [6, -5, 4]])\n",
    "\n",
    "#print(len(d_ndarray[0]))\n",
    "\n",
    "de_ndarray = calc_multi_check(d_ndarray, e_ndarray)\n"
   ]
  },
  {
   "cell_type": "markdown",
   "metadata": {},
   "source": [
    "# 【問題5】転置"
   ]
  },
  {
   "cell_type": "markdown",
   "metadata": {},
   "source": [
    "np.transpose()や.Tアトリビュートを用いて転置し、行列積を計算してください。"
   ]
  },
  {
   "cell_type": "code",
   "execution_count": 109,
   "metadata": {},
   "outputs": [
    {
     "name": "stdout",
     "output_type": "stream",
     "text": [
      "転置の行列積(bt*at)\n",
      "[[  6  12 -18]\n",
      " [ 29  52 -51]\n",
      " [-20  38 -48]]\n",
      "転置の行列積(bt*at)の転置\n",
      "[[  6  29 -20]\n",
      " [ 12  52  38]\n",
      " [-18 -51 -48]]\n",
      "参考:行列積a*b\n",
      "[[  6  29 -20]\n",
      " [ 12  52  38]\n",
      " [-18 -51 -48]]\n"
     ]
    }
   ],
   "source": [
    "a_ndarray = np.array([[-1, 2, 3], [4, -5, 6], [7, 8, -9]])\n",
    "b_ndarray = np.array([[0, 2, 1], [0, 2, -8], [2, 9, -1]])\n",
    "\n",
    "# 転置\n",
    "a_ndarrayT = np.transpose(a_ndarray)\n",
    "b_ndarrayT = b_ndarray.T\n",
    "\n",
    "# 行列積\n",
    "print(\"転置の行列積(bt*at)\")\n",
    "print(b_ndarrayT@a_ndarrayT)\n",
    "\n",
    "print(\"転置の行列積(bt*at)の転置\")\n",
    "print((b_ndarrayT@a_ndarrayT).T)\n",
    "\n",
    "print(\"参考:行列積a*b\")\n",
    "print(a_ndarray@b_ndarray)"
   ]
  },
  {
   "cell_type": "code",
   "execution_count": null,
   "metadata": {},
   "outputs": [],
   "source": []
  }
 ],
 "metadata": {
  "kernelspec": {
   "display_name": "Python 3",
   "language": "python",
   "name": "python3"
  },
  "language_info": {
   "codemirror_mode": {
    "name": "ipython",
    "version": 3
   },
   "file_extension": ".py",
   "mimetype": "text/x-python",
   "name": "python",
   "nbconvert_exporter": "python",
   "pygments_lexer": "ipython3",
   "version": "3.7.0"
  }
 },
 "nbformat": 4,
 "nbformat_minor": 2
}
