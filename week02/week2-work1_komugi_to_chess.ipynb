{
 "cells": [
  {
   "cell_type": "markdown",
   "metadata": {},
   "source": [
    "[課題のURL](https://diver.diveintocode.jp/curriculums/1626)"
   ]
  },
  {
   "cell_type": "markdown",
   "metadata": {},
   "source": [
    "# Week2授業前課題1　小麦とチェス盤問題"
   ]
  },
  {
   "cell_type": "markdown",
   "metadata": {},
   "source": [
    "Pythonのリストとfor文を使い次のように作ることができます。"
   ]
  },
  {
   "cell_type": "code",
   "execution_count": 4,
   "metadata": {},
   "outputs": [
    {
     "name": "stdout",
     "output_type": "stream",
     "text": [
      "4マスの板に小麦を並べる（リスト）：[1, 2, 4, 8]\n"
     ]
    }
   ],
   "source": [
    "n_squares = 4\n",
    "small_board_list = [1]\n",
    "for _ in range(n_squares - 1):\n",
    "    \n",
    "    #print(small_board_list)\n",
    "    \n",
    "    small_board_list.append(2*small_board_list[-1])\n",
    "print(\"4マスの板に小麦を並べる（リスト）：{}\".format(small_board_list))"
   ]
  },
  {
   "cell_type": "code",
   "execution_count": 2,
   "metadata": {},
   "outputs": [
    {
     "name": "stdout",
     "output_type": "stream",
     "text": [
      "4マスの板に小麦を並べる（ndarray）：[1 2 4 8]\n"
     ]
    }
   ],
   "source": [
    "import numpy as np\n",
    "small_board_ndarray = np.array(small_board_list)\n",
    "print(\"4マスの板に小麦を並べる（ndarray）：{}\".format(small_board_ndarray))"
   ]
  },
  {
   "cell_type": "markdown",
   "metadata": {},
   "source": [
    "# 【問題1】2×2マスのチェス盤の小麦の数"
   ]
  },
  {
   "cell_type": "markdown",
   "metadata": {},
   "source": [
    "サンプルコードで作成したndarrayのshapeの変形を行ってください。"
   ]
  },
  {
   "cell_type": "code",
   "execution_count": null,
   "metadata": {},
   "outputs": [],
   "source": [
    "small_board_ndarray.shape = (2,2)"
   ]
  },
  {
   "cell_type": "code",
   "execution_count": 8,
   "metadata": {},
   "outputs": [
    {
     "name": "stdout",
     "output_type": "stream",
     "text": [
      "[[1 2]\n",
      " [4 8]]\n"
     ]
    }
   ],
   "source": [
    "print(small_board_ndarray)"
   ]
  },
  {
   "cell_type": "markdown",
   "metadata": {},
   "source": [
    "# 【問題2】n×mマスへの拡張"
   ]
  },
  {
   "cell_type": "markdown",
   "metadata": {},
   "source": [
    "n×mマスのチェス盤の小麦の数を記したndarrayを返す関数を作成してください。\n",
    "そして、この関数を使い8×8マスのチェス盤の小麦の数を求めてください。"
   ]
  },
  {
   "cell_type": "code",
   "execution_count": 180,
   "metadata": {},
   "outputs": [
    {
     "name": "stdout",
     "output_type": "stream",
     "text": [
      "8 x 8マスのチェス盤の小麦の数\n",
      "9.223372036854776e+18\n"
     ]
    }
   ],
   "source": [
    "# n×mマスのチェス盤の小麦の数を記したndarrayを返す関数\n",
    "def calc_num_komugi(n=1, m=1):\n",
    "    \n",
    "    n_squares = n * m\n",
    "    small_board_list = [1]\n",
    "    \n",
    "    for _ in range(n_squares - 1):\n",
    "        small_board_list.append(2*small_board_list[-1])\n",
    "    #print(small_board_list)\n",
    "    \n",
    "    small_board_ndarray = np.array(small_board_list)\n",
    "    #print(small_board_ndarray)\n",
    "    \n",
    "    small_board_ndarray.shape = (n, m)\n",
    "    #print(small_board_ndarray)\n",
    "    \n",
    "    return small_board_ndarray\n",
    "\n",
    "NUM_M = 8\n",
    "NUM_N = 8\n",
    "\n",
    "num_komgi_ndarray = np.array([])\n",
    "num_komgi_ndarray = calc_num_komugi(NUM_N, NUM_M)\n",
    "\n",
    "print(\"{} x {}マスのチェス盤の小麦の数\".format(NUM_N, NUM_M))\n",
    "#print(num_komgi_ndarray)\n",
    "print(num_komgi_ndarray[NUM_N-1][NUM_M-1])"
   ]
  },
  {
   "cell_type": "markdown",
   "metadata": {},
   "source": [
    "# 【問題3】小麦の数の合計"
   ]
  },
  {
   "cell_type": "markdown",
   "metadata": {},
   "source": [
    "8×8マスのチェス盤の小麦の数の合計を求めてください。\n",
    "また、各列の平均を求め、それを棒グラフで可視化してください。"
   ]
  },
  {
   "cell_type": "code",
   "execution_count": 164,
   "metadata": {},
   "outputs": [
    {
     "name": "stdout",
     "output_type": "stream",
     "text": [
      "8 x 8マスのチェス盤の小麦の数の合計\n",
      "1.8446744073709552e+19\n"
     ]
    }
   ],
   "source": [
    "# n×mマスのチェス盤の小麦の数の合計値を記したndarrayを返す関数\n",
    "def calc_sum_komugi(n=1, m=1):\n",
    "    \n",
    "    n_squares = n * m\n",
    "    small_board_list = [1]\n",
    "    small_board_sum_list = [1]\n",
    "    \n",
    "    for _ in range(n_squares - 1):\n",
    "        small_board_list.append(2*small_board_list[-1])\n",
    "        \n",
    "        # リストの合計値を算出し、新規リストに追加する\n",
    "        small_board_sum_list.append( sum(small_board_list) )\n",
    "#    print(small_board_list)\n",
    "#    print(small_board_sum_list)\n",
    "    \n",
    "    small_board_sum_ndarray = np.array(small_board_sum_list)\n",
    "    #print(small_board_ndarray)\n",
    "    \n",
    "    small_board_sum_ndarray.shape = (n, m)\n",
    "    #print(small_board_ndarray)\n",
    "    \n",
    "    return small_board_sum_ndarray\n",
    "\n",
    "num_komgi_sum_ndarray = np.array([])\n",
    "num_komgi_sum_ndarray = calc_sum_komugi(NUM_M, NUM_N)\n",
    "\n",
    "print(\"{} x {}マスのチェス盤の小麦の数の合計\".format(NUM_N, NUM_M))\n",
    "#print(num_komgi_sum_ndarray)\n",
    "print(num_komgi_sum_ndarray[NUM_N-1][NUM_M-1])"
   ]
  },
  {
   "cell_type": "markdown",
   "metadata": {},
   "source": [
    "また、各列の平均を求め、それを棒グラフで可視化してください。"
   ]
  },
  {
   "cell_type": "code",
   "execution_count": 165,
   "metadata": {},
   "outputs": [
    {
     "name": "stdout",
     "output_type": "stream",
     "text": [
      "各列の平均\n",
      "[502.0, 130552.0, 33423352.0, 8556380152.0, 2190433320952.0, 560750930165752.0, 1.4355223812243456e+17, 3.6749372959343247e+19]\n"
     ]
    },
    {
     "data": {
      "image/png": "[encoded data removed]",
      "text/plain": [
       "<Figure size 432x288 with 1 Axes>"
      ]
     },
     "metadata": {
      "needs_background": "light"
     },
     "output_type": "display_data"
    }
   ],
   "source": [
    "# 二次元配列の列の参照\n",
    "# 1列目の参照\n",
    "# print(num_komgi_sum_ndarray[0, :])\n",
    "\n",
    "# (参考情報)二次元配列の行の参照\n",
    "# 1行目の参照\n",
    "# print(num_komgi_sum_ndarray[:, 0])\n",
    "# [1 3 511 8191.....] *4x4の場合\n",
    "\n",
    "# N列目の合計\n",
    "# print(sum(num_komgi_sum_ndarray[0, :]))\n",
    "\n",
    "# print(np.arange(1,4))\n",
    "# [1 2 3]\n",
    "\n",
    "# print(np.array([1, 2, 3]) )\n",
    "# [1 2 3]\n",
    "\n",
    "# 1から8行目の各列の平均を求め、それをリスト化する。\n",
    "list_num_ave_komugi = []\n",
    "\n",
    "for i in range(0, 8):\n",
    "#    print(i)\n",
    "    list_num_ave_komugi.append( sum(num_komgi_sum_ndarray[i, :]) )\n",
    "\n",
    "print(\"各列の平均\")\n",
    "print(list_num_ave_komugi)\n",
    "\n",
    "import matplotlib.pyplot as plt\n",
    "%matplotlib inline\n",
    "plt.xlabel(\"column\")\n",
    "plt.ylabel(\"number\")\n",
    "plt.title(\"number in each column\")\n",
    "plt.bar(np.arange(1,9), list_num_ave_komugi )\n",
    "plt.show()"
   ]
  },
  {
   "cell_type": "markdown",
   "metadata": {},
   "source": [
    "# 【問題4】小麦の数のヒートマップ"
   ]
  },
  {
   "cell_type": "markdown",
   "metadata": {},
   "source": [
    "8×8マスのチェス盤の小麦の数をヒートマップとして可視化してください。\n",
    "値が小さいところが紫、大きいところが黄色になっています。"
   ]
  },
  {
   "cell_type": "code",
   "execution_count": 137,
   "metadata": {},
   "outputs": [
    {
     "name": "stdout",
     "output_type": "stream",
     "text": [
      "8×8マスのチェス盤の小麦の数\n",
      "[[1.00000000e+00 2.00000000e+00 4.00000000e+00 8.00000000e+00\n",
      "  1.60000000e+01 3.20000000e+01 6.40000000e+01 1.28000000e+02]\n",
      " [2.56000000e+02 5.12000000e+02 1.02400000e+03 2.04800000e+03\n",
      "  4.09600000e+03 8.19200000e+03 1.63840000e+04 3.27680000e+04]\n",
      " [6.55360000e+04 1.31072000e+05 2.62144000e+05 5.24288000e+05\n",
      "  1.04857600e+06 2.09715200e+06 4.19430400e+06 8.38860800e+06]\n",
      " [1.67772160e+07 3.35544320e+07 6.71088640e+07 1.34217728e+08\n",
      "  2.68435456e+08 5.36870912e+08 1.07374182e+09 2.14748365e+09]\n",
      " [4.29496730e+09 8.58993459e+09 1.71798692e+10 3.43597384e+10\n",
      "  6.87194767e+10 1.37438953e+11 2.74877907e+11 5.49755814e+11]\n",
      " [1.09951163e+12 2.19902326e+12 4.39804651e+12 8.79609302e+12\n",
      "  1.75921860e+13 3.51843721e+13 7.03687442e+13 1.40737488e+14]\n",
      " [2.81474977e+14 5.62949953e+14 1.12589991e+15 2.25179981e+15\n",
      "  4.50359963e+15 9.00719925e+15 1.80143985e+16 3.60287970e+16]\n",
      " [7.20575940e+16 1.44115188e+17 2.88230376e+17 5.76460752e+17\n",
      "  1.15292150e+18 2.30584301e+18 4.61168602e+18 9.22337204e+18]]\n"
     ]
    },
    {
     "data": {
      "image/png": "[encoded data removed]",
      "text/plain": [
       "<Figure size 432x288 with 1 Axes>"
      ]
     },
     "metadata": {
      "needs_background": "light"
     },
     "output_type": "display_data"
    }
   ],
   "source": [
    "print(\"8×8マスのチェス盤の小麦の数\")\n",
    "print(num_komgi_ndarray)\n",
    "\n",
    "plt.xlabel(\"column\")\n",
    "plt.ylabel(\"row\")\n",
    "plt.title(\"heatmap\")\n",
    "plt.pcolor(num_komgi_ndarray)\n",
    "plt.show()\n"
   ]
  },
  {
   "cell_type": "markdown",
   "metadata": {},
   "source": [
    "# 【問題5】後半は前半の何倍か"
   ]
  },
  {
   "cell_type": "markdown",
   "metadata": {},
   "source": [
    "チェス盤の後半にある小麦の数は前半にある小麦の数の何倍かを求めてください。\n",
    "前半とは配列の0から3行目、後半は4から7行目です。"
   ]
  },
  {
   "cell_type": "code",
   "execution_count": 147,
   "metadata": {},
   "outputs": [
    {
     "name": "stdout",
     "output_type": "stream",
     "text": [
      "前半 32マス目:2147483648.0\n",
      "後半 64マス目:9.223372036854776e+18\n",
      "後半にある小麦の数は前半にある小麦の数の4294967296.0倍\n"
     ]
    }
   ],
   "source": [
    "# 前半とは配列の0から3行目:32マス目\n",
    "# 後半とは後半は4から7行目:64マス目\n",
    "\n",
    "print(\"前半 32マス目:{}\".format(num_komgi_ndarray[3][7]))\n",
    "print(\"後半 64マス目:{}\".format(num_komgi_ndarray[7][7]))\n",
    "print(\"後半にある小麦の数は前半にある小麦の数の{}倍\".format( num_komgi_ndarray[7][7]/num_komgi_ndarray[3][7] ))"
   ]
  },
  {
   "cell_type": "markdown",
   "metadata": {},
   "source": [
    "# 【問題6】他の計算方法によるn×mマスへの拡張"
   ]
  },
  {
   "cell_type": "markdown",
   "metadata": {},
   "source": [
    "問題2と同様の「n×mマスのチェス盤の小麦の数を記したndarrayを返す関数」を、\n",
    "np.append()を使ったものと、ブロードキャストを使ったもので新たに作成してください。"
   ]
  },
  {
   "cell_type": "markdown",
   "metadata": {},
   "source": [
    "- np.append()を使った場合"
   ]
  },
  {
   "cell_type": "code",
   "execution_count": 189,
   "metadata": {},
   "outputs": [
    {
     "name": "stdout",
     "output_type": "stream",
     "text": [
      "8 x 8マスのチェス盤の小麦の数\n",
      "9.223372036854776e+18\n"
     ]
    }
   ],
   "source": [
    "# n×mマスのチェス盤の小麦の数を記したndarrayを返す関数\n",
    "# np.append()を使った場合\n",
    "def calc_num_komugi_npappend(n=1, m=1):\n",
    "\n",
    "    n_squares = n*m\n",
    "    \n",
    "    board_ndarray = np.array([1]).astype(np.uint64)\n",
    "    \n",
    "    for _ in range(n_squares - 1):\n",
    "        board_ndarray = np.append(board_ndarray, 2*board_ndarray[-1])\n",
    "    \n",
    "    board_ndarray.shape = (n,m)\n",
    "    \n",
    "    #print(board_ndarray)\n",
    "    \n",
    "    return board_ndarray\n",
    "\n",
    "num_komgi_ndarray = np.array([])\n",
    "num_komgi_ndarray = calc_num_komugi_npappend(NUM_N, NUM_M)\n",
    "\n",
    "print(\"{} x {}マスのチェス盤の小麦の数\".format(NUM_N, NUM_M))\n",
    "print(num_komgi_ndarray[-1][-1])\n"
   ]
  },
  {
   "cell_type": "markdown",
   "metadata": {},
   "source": [
    "- ブロードキャストを使った場合"
   ]
  },
  {
   "cell_type": "code",
   "execution_count": 191,
   "metadata": {},
   "outputs": [
    {
     "name": "stdout",
     "output_type": "stream",
     "text": [
      "8 x 8マスのチェス盤の小麦の数\n",
      "9223372036854775808\n"
     ]
    }
   ],
   "source": [
    "# n×mマスのチェス盤の小麦の数を記したndarrayを返す関数\n",
    "# ブロードキャストを使った場合\n",
    "def calc_num_komugi_broadcast(n=1, m=1):\n",
    "\n",
    "    n_squares = n*m\n",
    "\n",
    "    indices_of_squares = np.arange(n_squares).astype(np.uint64)\n",
    "    #print(indices_of_squares)\n",
    "\n",
    "    board_ndarray = 2**indices_of_squares\n",
    "    #print(\"最後のマスの小麦の数：{}\".format(board_ndarray[-1]))\n",
    "    \n",
    "    board_ndarray.shape = (n,m)\n",
    "    \n",
    "    return board_ndarray\n",
    "\n",
    "num_komgi_ndarray = np.array([])\n",
    "num_komgi_ndarray = calc_num_komugi_broadcast(NUM_N, NUM_M)\n",
    "\n",
    "print(\"{} x {}マスのチェス盤の小麦の数\".format(NUM_N, NUM_M))\n",
    "print(num_komgi_ndarray[-1][-1])\n"
   ]
  },
  {
   "cell_type": "markdown",
   "metadata": {},
   "source": [
    "# 【問題7】計算時間の比較"
   ]
  },
  {
   "cell_type": "markdown",
   "metadata": {},
   "source": [
    "3種類の方法を見てきました。\n",
    "それぞれの計算時間をJupyter Notebookの%%timeitを用いて計測し、比較と考察を行ってください。"
   ]
  },
  {
   "cell_type": "markdown",
   "metadata": {},
   "source": [
    "下記の順番で処理速度が速い\n",
    "1. ブロードキャストを使った場合\n",
    "2. Pythonのリストとfor文を使用\n",
    "3. np.append()を使った場合\n",
    "\n",
    "考察  \n",
    "・for文を使用した場合は処理速度が遅いので基本的に、for文は利用しない 1 vs 2と3より  \n",
    "・Pythonとnumpyのappendではpythonの方が速い 2 vs 3より  \n",
    "　→(pythonはappend実施時、静的なメモリ領域を利用しているが、numpyの方ではメモリを動的に確保しているらしい。。。)  "
   ]
  },
  {
   "cell_type": "markdown",
   "metadata": {},
   "source": [
    "-1種類目:Pythonのリストとfor文を使用"
   ]
  },
  {
   "cell_type": "code",
   "execution_count": 195,
   "metadata": {},
   "outputs": [
    {
     "name": "stdout",
     "output_type": "stream",
     "text": [
      "24.2 µs ± 2.39 µs per loop (mean ± std. dev. of 7 runs, 10000 loops each)\n"
     ]
    }
   ],
   "source": [
    "%%timeit\n",
    "num_komgi_ndarray = np.array([])\n",
    "num_komgi_ndarray = calc_num_komugi(NUM_N, NUM_M)\n"
   ]
  },
  {
   "cell_type": "markdown",
   "metadata": {},
   "source": [
    "-2種類目:np.append()を使った場合"
   ]
  },
  {
   "cell_type": "code",
   "execution_count": 196,
   "metadata": {},
   "outputs": [
    {
     "name": "stdout",
     "output_type": "stream",
     "text": [
      "420 µs ± 28.2 µs per loop (mean ± std. dev. of 7 runs, 1000 loops each)\n"
     ]
    }
   ],
   "source": [
    "%%timeit\n",
    "num_komgi_ndarray = np.array([])\n",
    "num_komgi_ndarray = calc_num_komugi_npappend(NUM_N, NUM_M)\n"
   ]
  },
  {
   "cell_type": "markdown",
   "metadata": {},
   "source": [
    "-3種類目:ブロードキャストを使った場合"
   ]
  },
  {
   "cell_type": "code",
   "execution_count": 197,
   "metadata": {},
   "outputs": [
    {
     "name": "stdout",
     "output_type": "stream",
     "text": [
      "8.55 µs ± 367 ns per loop (mean ± std. dev. of 7 runs, 100000 loops each)\n"
     ]
    }
   ],
   "source": [
    "%%timeit\n",
    "num_komgi_ndarray = np.array([])\n",
    "num_komgi_ndarray = calc_num_komugi_broadcast(NUM_N, NUM_M)\n"
   ]
  },
  {
   "cell_type": "code",
   "execution_count": null,
   "metadata": {},
   "outputs": [],
   "source": []
  }
 ],
 "metadata": {
  "kernelspec": {
   "display_name": "Python 3",
   "language": "python",
   "name": "python3"
  },
  "language_info": {
   "codemirror_mode": {
    "name": "ipython",
    "version": 3
   },
   "file_extension": ".py",
   "mimetype": "text/x-python",
   "name": "python",
   "nbconvert_exporter": "python",
   "pygments_lexer": "ipython3",
   "version": "3.7.0"
  }
 },
 "nbformat": 4,
 "nbformat_minor": 2
}
