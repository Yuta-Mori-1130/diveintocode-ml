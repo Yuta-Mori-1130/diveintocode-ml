{
 "cells": [
  {
   "cell_type": "markdown",
   "metadata": {},
   "source": [
    "[課題のURL](https://diver.diveintocode.jp/curriculums/1631)"
   ]
  },
  {
   "cell_type": "markdown",
   "metadata": {},
   "source": [
    "# Week2授業課題1　２次元配列と高配問題"
   ]
  },
  {
   "cell_type": "markdown",
   "metadata": {},
   "source": [
    "# 【問題1】1次関数"
   ]
  },
  {
   "cell_type": "code",
   "execution_count": 3,
   "metadata": {},
   "outputs": [],
   "source": [
    "import numpy as np\n",
    "\n",
    "# print文で省略しないように変更\n",
    "np.set_printoptions(threshold=100)"
   ]
  },
  {
   "cell_type": "code",
   "execution_count": 4,
   "metadata": {},
   "outputs": [
    {
     "name": "stdout",
     "output_type": "stream",
     "text": [
      "(1001,)\n",
      "[-50.  -49.9 -49.8 ...  49.8  49.9  50. ]\n"
     ]
    }
   ],
   "source": [
    "x = np.arange(-50, 50.1, 0.1)\n",
    "\n",
    "print(x.shape)\n",
    "print(x)"
   ]
  },
  {
   "cell_type": "code",
   "execution_count": 5,
   "metadata": {},
   "outputs": [
    {
     "name": "stdout",
     "output_type": "stream",
     "text": [
      "(1001,)\n",
      "[-24.   -23.95 -23.9  ...  25.9   25.95  26.  ]\n"
     ]
    }
   ],
   "source": [
    "y = x/2 + 1\n",
    "\n",
    "print(y.shape)\n",
    "print(y)"
   ]
  },
  {
   "cell_type": "markdown",
   "metadata": {},
   "source": [
    "# 【問題2】配列の結合"
   ]
  },
  {
   "cell_type": "code",
   "execution_count": 6,
   "metadata": {},
   "outputs": [
    {
     "name": "stdout",
     "output_type": "stream",
     "text": [
      "(1001, 2)\n",
      "[[-50.   -24.  ]\n",
      " [-49.9  -23.95]\n",
      " [-49.8  -23.9 ]\n",
      " ...\n",
      " [ 49.8   25.9 ]\n",
      " [ 49.9   25.95]\n",
      " [ 50.    26.  ]]\n"
     ]
    }
   ],
   "source": [
    "pre_xy = np.vstack((x,y))\n",
    "#print(pre_xy.shape)\n",
    "#print(pre_xy)\n",
    "\n",
    "xy = pre_xy.T\n",
    "\n",
    "print(xy.shape)\n",
    "print(xy)"
   ]
  },
  {
   "cell_type": "markdown",
   "metadata": {},
   "source": [
    "\n",
    "# 【問題3】勾配を求める"
   ]
  },
  {
   "cell_type": "code",
   "execution_count": 7,
   "metadata": {},
   "outputs": [
    {
     "name": "stdout",
     "output_type": "stream",
     "text": [
      "1000\n",
      "[0.1 0.1 0.1 ... 0.1 0.1 0.1]\n"
     ]
    }
   ],
   "source": [
    "# 1列目(x)の変化量を求める\n",
    "\n",
    "delta_x = xy[1:,0] - xy[:-1,0]\n",
    "\n",
    "print(len(delta_x))\n",
    "print(delta_x)"
   ]
  },
  {
   "cell_type": "code",
   "execution_count": 8,
   "metadata": {},
   "outputs": [
    {
     "name": "stdout",
     "output_type": "stream",
     "text": [
      "1000\n",
      "[0.05 0.05 0.05 ... 0.05 0.05 0.05]\n"
     ]
    }
   ],
   "source": [
    "# 2列目(y)の変化量を求める\n",
    "\n",
    "delta_y = xy[1:,1] - xy[:-1,1]\n",
    "\n",
    "print(len(delta_y))\n",
    "print(delta_y)"
   ]
  },
  {
   "cell_type": "code",
   "execution_count": 18,
   "metadata": {},
   "outputs": [
    {
     "name": "stdout",
     "output_type": "stream",
     "text": [
      "1000\n",
      "[0.5 0.5 0.5 ... 0.5 0.5 0.5]\n"
     ]
    }
   ],
   "source": [
    "gradient = delta_y/delta_x\n",
    "\n",
    "print(len(gradient))\n",
    "print(gradient)"
   ]
  },
  {
   "cell_type": "markdown",
   "metadata": {},
   "source": [
    "# 【問題4】グラフを描く"
   ]
  },
  {
   "cell_type": "markdown",
   "metadata": {},
   "source": [
    "* 1次関数のグラフをMatplotlibを用いて描いてください。"
   ]
  },
  {
   "cell_type": "code",
   "execution_count": 40,
   "metadata": {},
   "outputs": [
    {
     "data": {
      "image/png": "[encoded data removed]",
      "text/plain": [
       "<Figure size 432x288 with 1 Axes>"
      ]
     },
     "metadata": {
      "needs_background": "light"
     },
     "output_type": "display_data"
    }
   ],
   "source": [
    "import matplotlib.pyplot as plt\n",
    "\n",
    "# 折れ線グラフを出力\n",
    "plt.plot(xy[:, 0], xy[:, 1])\n",
    "\n",
    "plt.title(\"y=x/2+1\")\n",
    "plt.xlabel(\"x\")\n",
    "plt.ylabel(\"y\")\n",
    "\n",
    "plt.show()"
   ]
  },
  {
   "cell_type": "markdown",
   "metadata": {},
   "source": [
    "* 横軸をx、縦軸を勾配としたグラフ"
   ]
  },
  {
   "cell_type": "code",
   "execution_count": 37,
   "metadata": {},
   "outputs": [
    {
     "data": {
      "image/png": "[encoded data removed]",
      "text/plain": [
       "<Figure size 432x288 with 1 Axes>"
      ]
     },
     "metadata": {
      "needs_background": "light"
     },
     "output_type": "display_data"
    }
   ],
   "source": [
    "#print(len(xy[1:,0]))\n",
    "#print(xy[1:,0])\n",
    "\n",
    "#print(len(gradient))\n",
    "#print(gradient)\n",
    "\n",
    "# 折れ線グラフを出力\n",
    "plt.plot(xy[1:,0], gradient)\n",
    "\n",
    "#plt.title(\"y=x/2+1\")\n",
    "plt.xlabel(\"gradient\")\n",
    "plt.ylabel(\"x\")\n",
    "\n",
    "plt.show()"
   ]
  },
  {
   "cell_type": "markdown",
   "metadata": {},
   "source": [
    "# 【問題5】Pythonの関数化, 【問題6】最小値を求める"
   ]
  },
  {
   "cell_type": "markdown",
   "metadata": {},
   "source": [
    "* 問題1から問題3までの範囲をまとめて行うPythonの関数を雛形を参考に作成してください。"
   ]
  },
  {
   "cell_type": "code",
   "execution_count": 98,
   "metadata": {},
   "outputs": [],
   "source": [
    "  \"\"\"\n",
    "  変化量を使い勾配を計算する。\n",
    "\n",
    "  Parameters\n",
    "  ----------------\n",
    "  function : function\n",
    "    求めたい関数、xのndarrayを入れるとyのndarrayを返すもの。\n",
    "  x_range : tuple\n",
    "    np.arange()の引数と同じ方法で範囲を指定する。\n",
    "\n",
    "  Returns\n",
    "  ----------------\n",
    "  array_xy : ndarray, shape(n, 2)\n",
    "    xとyを結合したもの。nはx_rangeに依存する。\n",
    "  gradient : ndarray, shape(n-1,)\n",
    "    関数の勾配。差をとるため要素は1つ減る\n",
    "  \"\"\"\n",
    "def compute_gradient(function, x_range=(-50, 50.1, 0.1)):\n",
    "\n",
    "    # x, yをそれぞれ求める\n",
    "    x = np.arange(x_range[0], x_range[1], x_range[2])\n",
    "    y = function(x)\n",
    "    \n",
    "    # x, yを結合する\n",
    "    pre_xy = np.vstack((x,y))\n",
    "    array_xy = pre_xy.T\n",
    "    \n",
    "    # xyから勾配を求める\n",
    "    delta_x = array_xy[1:,0] - array_xy[:-1,0]\n",
    "    delta_y = array_xy[1:,1] - array_xy[:-1,1]\n",
    "    \n",
    "    gradient = delta_y/delta_x\n",
    "    \n",
    "    return array_xy, gradient"
   ]
  },
  {
   "cell_type": "markdown",
   "metadata": {},
   "source": [
    "* 以下の3式の勾配を0.1間隔で求めてndarrayで出力してください。"
   ]
  },
  {
   "cell_type": "markdown",
   "metadata": {},
   "source": [
    "$\n",
    "y = x^{2} \\quad (-50\\leq x \\leq 50)\\\\\n",
    "y = 2x^{2}+2^{x} \\quad (-50\\leq x \\leq 50)\\\\\n",
    "y = sin(x^{\\frac{1}{2}}) \\quad (0\\leq x \\leq 50)\n",
    "$"
   ]
  },
  {
   "cell_type": "markdown",
   "metadata": {},
   "source": [
    "* 問題5で扱った関数のyの最小値を求めます。xの範囲も問題5と同様とします。  \n",
    "* 最小のyをとる前後の勾配を表示してください。"
   ]
  },
  {
   "cell_type": "code",
   "execution_count": 174,
   "metadata": {},
   "outputs": [
    {
     "name": "stdout",
     "output_type": "stream",
     "text": [
      "y=x^2\n",
      "(1001, 2)\n",
      "[[ -50.   2500.  ]\n",
      " [ -49.9  2490.01]\n",
      " [ -49.8  2480.04]\n",
      " ...\n",
      " [  49.8  2480.04]\n",
      " [  49.9  2490.01]\n",
      " [  50.   2500.  ]]\n"
     ]
    },
    {
     "data": {
      "image/png": "[encoded data removed]",
      "text/plain": [
       "<Figure size 432x288 with 2 Axes>"
      ]
     },
     "metadata": {
      "needs_background": "light"
     },
     "output_type": "display_data"
    },
    {
     "name": "stdout",
     "output_type": "stream",
     "text": [
      "yの最小値\n",
      "0\n",
      "最小のyをとる前後の勾配\n",
      "前-0.1\n",
      "0.1\n",
      "後0.3\n"
     ]
    }
   ],
   "source": [
    "# y=x^2\n",
    "def function1(array_x):\n",
    "    \n",
    "    array_y = array_x**2\n",
    "    \n",
    "    return array_y\n",
    "\n",
    "array_xy, gradient = compute_gradient(function1, x_range=(-50, 50.1, 0.1))\n",
    "print(\"y=x^2\")\n",
    "print(array_xy.shape)\n",
    "print(array_xy)\n",
    "\n",
    "#print(gradient)\n",
    "\n",
    "# x,yの折れ線グラフを出力\n",
    "plt.subplot(1,3,1)\n",
    "plt.plot(array_xy[:, 0], array_xy[:, 1])\n",
    "\n",
    "#plt.title(\"y=x^2\")\n",
    "plt.xlabel(\"x\")\n",
    "plt.ylabel(\"y\")\n",
    "\n",
    "# 勾配,xの折れ線グラフを出力\n",
    "plt.subplot(1,3,3)\n",
    "plt.plot(array_xy[1:,0], gradient)\n",
    "\n",
    "#plt.title(\"y=x/2+1\")\n",
    "plt.xlabel(\"gradient\")\n",
    "plt.ylabel(\"x\")\n",
    "\n",
    "plt.show()\n",
    "\n",
    "#最小値を求める\n",
    "min = np.min(array_xy[:,1])\n",
    "min_arg = np.argmin(array_xy[:,1])\n",
    "\n",
    "print(\"yの最小値\")\n",
    "print('{:}'.format(int(min)))\n",
    "\n",
    "print(\"最小のyをとる前後の勾配\")\n",
    "print('前{:.1}'.format(gradient[min_arg-1]))\n",
    "print('{:.1}'.format(gradient[min_arg]))\n",
    "print('後{:.1}'.format(gradient[min_arg+1]))"
   ]
  },
  {
   "cell_type": "code",
   "execution_count": 171,
   "metadata": {},
   "outputs": [
    {
     "name": "stdout",
     "output_type": "stream",
     "text": [
      "y=2*x^2 + 2^x\n",
      "(1001, 2)\n",
      "[[-5.00000000e+01  5.00000000e+03]\n",
      " [-4.99000000e+01  4.98002000e+03]\n",
      " [-4.98000000e+01  4.96008000e+03]\n",
      " ...\n",
      " [ 4.98000000e+01  9.80152798e+14]\n",
      " [ 4.99000000e+01  1.05050176e+15]\n",
      " [ 5.00000000e+01  1.12589991e+15]]\n"
     ]
    },
    {
     "data": {
      "image/png": "[encoded data removed]",
      "text/plain": [
       "<Figure size 432x288 with 2 Axes>"
      ]
     },
     "metadata": {
      "needs_background": "light"
     },
     "output_type": "display_data"
    },
    {
     "name": "stdout",
     "output_type": "stream",
     "text": [
      "yの最小値\n",
      "0.9505505632959851\n",
      "参考情報 [-0.2         0.95055056]\n",
      "最小のyをとる前後の勾配\n",
      "前-0.4\n",
      "0.02\n",
      "後0.5\n"
     ]
    }
   ],
   "source": [
    "# y=2*x^2 + 2^x\n",
    "def function2(array_x):\n",
    "    \n",
    "    array_y = 2*array_x**2 + 2**array_x\n",
    "    \n",
    "    return array_y\n",
    "\n",
    "array_xy, gradient = compute_gradient(function2, x_range=(-50, 50.1, 0.1))\n",
    "print(\"y=2*x^2 + 2^x\")\n",
    "print(array_xy.shape)\n",
    "print(array_xy)\n",
    "\n",
    "#print(gradient)\n",
    "\n",
    "# x,yの折れ線グラフを出力\n",
    "plt.subplot(1,3,1)\n",
    "plt.plot(array_xy[:, 0], array_xy[:, 1])\n",
    "\n",
    "#plt.title(\"y=2*x^2 + 2^x\")\n",
    "plt.xlabel(\"x\")\n",
    "plt.ylabel(\"y\")\n",
    "\n",
    "# 勾配,xの折れ線グラフを出力\n",
    "plt.subplot(1,3,3)\n",
    "plt.plot(array_xy[1:,0], gradient)\n",
    "\n",
    "#plt.title(\"y=x/2+1\")\n",
    "plt.xlabel(\"gradient\")\n",
    "plt.ylabel(\"x\")\n",
    "\n",
    "plt.show()\n",
    "\n",
    "#最小値を求める\n",
    "#print(array_xy[:,1])\n",
    "\n",
    "min = np.min(array_xy[:,1])\n",
    "min_arg = np.argmin(array_xy[:,1])\n",
    "\n",
    "print(\"yの最小値\")\n",
    "print('{:}'.format((min)))\n",
    "print(\"参考情報\",array_xy[min_arg])\n",
    "\n",
    "print(\"最小のyをとる前後の勾配\")\n",
    "print('前{:.1}'.format(gradient[min_arg-1]))\n",
    "print('{:.1}'.format(gradient[min_arg]))\n",
    "print('後{:.1}'.format(gradient[min_arg+1]))"
   ]
  },
  {
   "cell_type": "code",
   "execution_count": 170,
   "metadata": {},
   "outputs": [
    {
     "name": "stdout",
     "output_type": "stream",
     "text": [
      "y=sin(x**(1/2))\n",
      "(501, 2)\n",
      "[[ 0.          0.        ]\n",
      " [ 0.1         0.31098359]\n",
      " [ 0.2         0.43245484]\n",
      " ...\n",
      " [49.8         0.69880548]\n",
      " [49.9         0.70385354]\n",
      " [50.          0.70886129]]\n"
     ]
    },
    {
     "data": {
      "image/png": "[encoded data removed]",
      "text/plain": [
       "<Figure size 432x288 with 2 Axes>"
      ]
     },
     "metadata": {
      "needs_background": "light"
     },
     "output_type": "display_data"
    },
    {
     "name": "stdout",
     "output_type": "stream",
     "text": [
      "yの最小値\n",
      "-0.9999997540298113\n",
      "参考情報 [22.2        -0.99999975]\n",
      "最小のyをとる前後の勾配\n",
      "前-0.0006\n",
      "0.0005\n",
      "後0.002\n"
     ]
    }
   ],
   "source": [
    "# y=sin(x**(1/2))\n",
    "def function3(array_x):\n",
    "\n",
    "    array_y = np.sin(array_x**(1/2))\n",
    "    \n",
    "    return array_y\n",
    "\n",
    "array_xy, gradient = compute_gradient(function3, x_range=(0, 50.1, 0.1))\n",
    "print(\"y=sin(x**(1/2))\")\n",
    "print(array_xy.shape)\n",
    "print(array_xy)\n",
    "\n",
    "#print(gradient)\n",
    "\n",
    "# x,yの折れ線グラフを出力\n",
    "plt.subplot(1,3,1)\n",
    "plt.plot(array_xy[:, 0], array_xy[:, 1])\n",
    "\n",
    "#plt.title(\"y=2*x^2 + 2^x\")\n",
    "plt.xlabel(\"x\")\n",
    "plt.ylabel(\"y\")\n",
    "\n",
    "# 勾配,xの折れ線グラフを出力\n",
    "plt.subplot(1,3,3)\n",
    "plt.plot(array_xy[1:,0], gradient)\n",
    "\n",
    "#plt.title(\"y=x/2+1\")\n",
    "plt.xlabel(\"gradient\")\n",
    "plt.ylabel(\"x\")\n",
    "\n",
    "plt.show()\n",
    "\n",
    "#最小値を求める\n",
    "#print(array_xy[:,1])\n",
    "\n",
    "min = np.min(array_xy[:,1])\n",
    "min_arg = np.argmin(array_xy[:,1])\n",
    "\n",
    "print(\"yの最小値\")\n",
    "print('{:}'.format((min)))\n",
    "print(\"参考情報\",array_xy[min_arg])\n",
    "\n",
    "print(\"最小のyをとる前後の勾配\")\n",
    "print('前{:.1}'.format(gradient[min_arg-1]))\n",
    "print('{:.1}'.format(gradient[min_arg]))\n",
    "print('後{:.1}'.format(gradient[min_arg+1]))"
   ]
  }
 ],
 "metadata": {
  "kernelspec": {
   "display_name": "Python 3",
   "language": "python",
   "name": "python3"
  },
  "language_info": {
   "codemirror_mode": {
    "name": "ipython",
    "version": 3
   },
   "file_extension": ".py",
   "mimetype": "text/x-python",
   "name": "python",
   "nbconvert_exporter": "python",
   "pygments_lexer": "ipython3",
   "version": "3.7.0"
  }
 },
 "nbformat": 4,
 "nbformat_minor": 2
}
