{
 "cells": [
  {
   "cell_type": "markdown",
   "metadata": {},
   "source": [
    "[課題のURL](https://diver.diveintocode.jp/curriculums/1632)"
   ]
  },
  {
   "cell_type": "markdown",
   "metadata": {},
   "source": [
    "# Week2授業課題2 富士下山問題"
   ]
  },
  {
   "cell_type": "markdown",
   "metadata": {},
   "source": [
    "* 標高データの取得"
   ]
  },
  {
   "cell_type": "code",
   "execution_count": 46,
   "metadata": {},
   "outputs": [],
   "source": [
    "import numpy as np\n",
    "import pandas as pd\n",
    "from decimal import Decimal, ROUND_HALF_UP, ROUND_HALF_EVEN\n",
    "import platform\n",
    "\n",
    "csv_path = \"mtfuji_data.csv\" # ファイル名（パス）を指定する\n",
    "np.set_printoptions(suppress=True) # 指数表示の禁止を設定する\n",
    "fuji = np.loadtxt(csv_path, delimiter=\",\", skiprows=1)"
   ]
  },
  {
   "cell_type": "code",
   "execution_count": 47,
   "metadata": {},
   "outputs": [
    {
     "name": "stdout",
     "output_type": "stream",
     "text": [
      "[[    0.          35.134141   139.132082     0.           0.      ]\n",
      " [    1.          35.135826   139.129202     0.         322.      ]\n",
      " [    2.          35.13751    139.126322     0.         644.      ]\n",
      " ...\n",
      " [  297.          35.631284   138.271368  1973.99     95698.      ]\n",
      " [  298.          35.632947   138.268452  1841.36     96020.      ]\n",
      " [  299.          35.63461    138.265536  1725.8      96343.      ]]\n"
     ]
    }
   ],
   "source": [
    "print(fuji)\n",
    "#　左から順番に  \n",
    "# 「その地点の番号」「緯度」「経度」「標高」「地点0からの距離」となっています。"
   ]
  },
  {
   "cell_type": "markdown",
   "metadata": {},
   "source": [
    "# 【問題1】データの可視化"
   ]
  },
  {
   "cell_type": "markdown",
   "metadata": {},
   "source": [
    "Matplotlibを使い標高データを可視化してください。横軸に「その地点の番号」、縦軸に「標高」を設定すれば、富士山の断面図が描けます。"
   ]
  },
  {
   "cell_type": "code",
   "execution_count": 48,
   "metadata": {},
   "outputs": [
    {
     "data": {
      "image/png": "[encoded data removed]",
      "text/plain": [
       "<Figure size 432x288 with 1 Axes>"
      ]
     },
     "metadata": {
      "needs_background": "light"
     },
     "output_type": "display_data"
    }
   ],
   "source": [
    "import numpy as np\n",
    "import matplotlib.pyplot as plt\n",
    "\n",
    "# 標高\n",
    "#print(fuji[:,3])\n",
    "\n",
    "# 地点0からの距離\n",
    "#print(fuji[:,0])\n",
    "\n",
    "# 折れ線グラフを出力\n",
    "\n",
    "plt.plot(fuji[:,0], fuji[:,3])\n",
    "\n",
    "plt.title(\"Mt. Fuji\")\n",
    "plt.xlabel(\"position\")\n",
    "plt.ylabel(\"elevation[m]\")\n",
    "\n",
    "plt.show()"
   ]
  },
  {
   "cell_type": "markdown",
   "metadata": {},
   "source": [
    "# 【問題2】ある地点の勾配を計算する関数を作成"
   ]
  },
  {
   "cell_type": "markdown",
   "metadata": {},
   "source": [
    "「今いる地点の番号」と「今いる隣の地点の番号（今いる地点の番号-1）」の関係による  \n",
    "勾配を求める関数を作成してください。"
   ]
  },
  {
   "cell_type": "code",
   "execution_count": 102,
   "metadata": {},
   "outputs": [],
   "source": [
    "# x:その地点の番号(1<= x <= 299)\n",
    "# x=0はスタート地点なので\"今いる隣の地点の番号\"が存在しないので勾配0とする\n",
    "\n",
    "def calc_gradient(x=0):\n",
    "\n",
    "    if (1 <= x and x <= 299):\n",
    "        \n",
    "        # x, yの変化量を求める\n",
    "        delta_x = fuji[x, 0] - fuji[(x-1), 0]\n",
    "        delta_y = fuji[x, 3] - fuji[(x-1), 3]\n",
    "        \n",
    "        # 勾配を求める\n",
    "        gradient = delta_y/delta_x\n",
    "    \n",
    "    else:\n",
    "        # print(\"xは1以上から299以下の値です.\")\n",
    "\n",
    "        gradient = 0\n",
    "        \n",
    "    return gradient\n",
    "\n",
    "#gradient = calc_gradient(300)\n",
    "#print(gradient)"
   ]
  },
  {
   "cell_type": "markdown",
   "metadata": {},
   "source": [
    "# 【問題3】移動先の地点を計算する関数を作成"
   ]
  },
  {
   "cell_type": "markdown",
   "metadata": {},
   "source": [
    "今いる地点の勾配の情報を元に、次に移動先の地点を計算する関数を作成してください。\n",
    "\n",
    "数式で表すと 「移動先の地点 = 今いる地点 - α×今いる地点の勾配」 となります。"
   ]
  },
  {
   "cell_type": "code",
   "execution_count": 115,
   "metadata": {},
   "outputs": [],
   "source": [
    "# 移動先の地点 = 今いる地点 - α×今いる地点の勾配(start_point)\n",
    "alpha = 0.2\n",
    "\n",
    "def calc_goal( start_point=1, alpha=0.2):\n",
    "    \n",
    "    # 今いる地点の勾配を求める\n",
    "    gradient = calc_gradient(start_point)\n",
    "    \n",
    "    # 移動先の地点を求める\n",
    "    goal_point = start_point - alpha*gradient\n",
    "    #print(\"goal_point\", goal_point)\n",
    "    \n",
    "    # 移動先の地点が負となる場合は0に丸める\n",
    "    if goal_point < 0:\n",
    "        goal_point = 0\n",
    "    \n",
    "    # 四捨五入\n",
    "    goal_point = Decimal(goal_point).quantize(Decimal('0'), rounding=ROUND_HALF_UP)\n",
    "    \n",
    "    return goal_point\n"
   ]
  },
  {
   "cell_type": "markdown",
   "metadata": {},
   "source": [
    "# 【問題4】山を下る関数を作成"
   ]
  },
  {
   "cell_type": "markdown",
   "metadata": {},
   "source": [
    "山を下る関数を作成してください。最初の地点を受け取り、問題3の関数によって地点を更新していきます。移動毎の地点はリストなどに記録して、これを関数の返り値としてください。"
   ]
  },
  {
   "cell_type": "code",
   "execution_count": 139,
   "metadata": {},
   "outputs": [],
   "source": [
    "def calc_go_goal(start_point = 0):\n",
    "    \n",
    "    next_point = 0\n",
    "    list_point = [start_point] # データ保存用\n",
    "    \n",
    "    # 移動先の地点が更新されなくなるまで、次の地点を更新する。\n",
    "    for i in range(100):\n",
    "        # print(i, start_point)\n",
    "\n",
    "        # 次のポイントを求める\n",
    "        next_point = calc_goal(int(start_point), alpha = 0.2)\n",
    "        list_point.append(int(next_point))\n",
    "    \n",
    "        # ポイントが更新されているか確認する\n",
    "        if start_point == next_point:\n",
    "            # ポイントが更新されないので終了\n",
    "            break\n",
    "        else:\n",
    "            # 求めるポイントを更新する\n",
    "            start_point = next_point\n",
    "    \n",
    "    return list_point"
   ]
  },
  {
   "cell_type": "code",
   "execution_count": 142,
   "metadata": {},
   "outputs": [
    {
     "name": "stdout",
     "output_type": "stream",
     "text": [
      "[136, 102, 98, 95, 93, 89, 85, 82, 79, 73, 70, 78, 77, 75, 75]\n"
     ]
    }
   ],
   "source": [
    "list_point = calc_go_goal( start_point = 136)\n",
    "\n",
    "print(list_point) # 75番で終了"
   ]
  },
  {
   "cell_type": "markdown",
   "metadata": {},
   "source": [
    "# 【問題5】下山過程の可視化"
   ]
  },
  {
   "cell_type": "code",
   "execution_count": 144,
   "metadata": {},
   "outputs": [
    {
     "name": "stdout",
     "output_type": "stream",
     "text": [
      "[3434.59, 817.62, 741.17, 672.36, 631.71, 575.07, 505.1, 458.66, 418.41, 368.91, 412.27, 390.14, 386.64, 371.19, 371.19]\n"
     ]
    },
    {
     "data": {
      "image/png": "[encoded data removed]",
      "text/plain": [
       "<Figure size 432x288 with 1 Axes>"
      ]
     },
     "metadata": {
      "needs_background": "light"
     },
     "output_type": "display_data"
    }
   ],
   "source": [
    "# 散布図の出力\n",
    "list_high = []\n",
    "\n",
    "# 次のポイントとその時の標高を求める。\n",
    "for i in list_point:\n",
    "    #print(i)\n",
    "    list_high.append(fuji[i][3])\n",
    "\n",
    "print(list_high)\n",
    "\n",
    "plt.scatter(list_point, list_high, c=\"red\") \n",
    "plt.plot(list_point, list_high, c=\"red\")\n",
    "\n",
    "# 折れ線グラフを出力\n",
    "plt.plot(fuji[:,0], fuji[:,3])\n",
    "\n",
    "plt.title(\"Mt. Fuji\")\n",
    "plt.xlabel(\"position\")\n",
    "plt.ylabel(\"elevation[m]\")\n",
    "\n",
    "plt.show()"
   ]
  },
  {
   "cell_type": "markdown",
   "metadata": {},
   "source": [
    "# 【問題6】初期値の変更"
   ]
  },
  {
   "cell_type": "markdown",
   "metadata": {},
   "source": [
    "* 問題4では最初の「今いる地点」を136としましたが、これを他の全ての点で計算してください。"
   ]
  },
  {
   "cell_type": "code",
   "execution_count": 146,
   "metadata": {},
   "outputs": [
    {
     "name": "stdout",
     "output_type": "stream",
     "text": [
      "[0]\n",
      "[1.0, 1]\n",
      "[2.0, 2]\n",
      "[3.0, 3]\n",
      "[4.0, 4]\n",
      "[5.0, 5]\n",
      "[6.0, 5, 5]\n",
      "[7.0, 7]\n",
      "[8.0, 7, 7]\n",
      "[9.0, 1, 1]\n",
      "[10.0, 0, 0]\n",
      "[11.0, 10, 0, 0]\n",
      "[12.0, 2, 2]\n",
      "[13.0, 4, 4]\n",
      "[14.0, 0, 0]\n",
      "[15.0, 27, 31, 51, 41, 41]\n",
      "[16.0, 14, 0, 0]\n",
      "[17.0, 0, 0]\n",
      "[18.0, 22, 13, 4, 4]\n",
      "[19.0, 21, 15, 27, 31, 51, 41, 41]\n",
      "[20.0, 0, 0]\n",
      "[21.0, 15, 27, 31, 51, 41, 41]\n",
      "[22.0, 13, 4, 4]\n",
      "[23.0, 28, 0, 0]\n",
      "[24.0, 24]\n",
      "[25.0, 36, 52, 37, 35, 43, 43]\n",
      "[26.0, 0, 0]\n",
      "[27.0, 31, 51, 41, 41]\n",
      "[28.0, 0, 0]\n",
      "[29.0, 10, 0, 0]\n",
      "[30.0, 41, 41]\n",
      "[31.0, 51, 41, 41]\n",
      "[32.0, 47, 47]\n",
      "[33.0, 27, 31, 51, 41, 41]\n",
      "[34.0, 15, 27, 31, 51, 41, 41]\n",
      "[35.0, 43, 43]\n",
      "[36.0, 52, 37, 35, 43, 43]\n",
      "[37.0, 35, 43, 43]\n",
      "[38.0, 44, 44]\n",
      "[39.0, 39]\n",
      "[40.0, 40]\n",
      "[41.0, 41]\n",
      "[42.0, 42]\n",
      "[43.0, 43]\n",
      "[44.0, 44]\n",
      "[45.0, 45]\n",
      "[46.0, 46]\n",
      "[47.0, 47]\n",
      "[48.0, 22, 13, 4, 4]\n",
      "[49.0, 49]\n",
      "[50.0, 54, 58, 80, 80]\n",
      "[51.0, 41, 41]\n",
      "[52.0, 37, 35, 43, 43]\n",
      "[53.0, 74, 74]\n",
      "[54.0, 58, 80, 80]\n",
      "[55.0, 63, 74, 74]\n",
      "[56.0, 66, 74, 74]\n",
      "[57.0, 35, 43, 43]\n",
      "[58.0, 80, 80]\n",
      "[59.0, 59]\n",
      "[60.0, 73, 70, 78, 77, 75, 75]\n",
      "[61.0, 83, 80, 80]\n",
      "[62.0, 64, 52, 37, 35, 43, 43]\n",
      "[63.0, 74, 74]\n",
      "[64.0, 52, 37, 35, 43, 43]\n",
      "[65.0, 76, 75, 75]\n",
      "[66.0, 74, 74]\n",
      "[67.0, 66, 74, 74]\n",
      "[68.0, 76, 75, 75]\n",
      "[69.0, 64, 52, 37, 35, 43, 43]\n",
      "[70.0, 78, 77, 75, 75]\n",
      "[71.0, 81, 77, 75, 75]\n",
      "[72.0, 73, 70, 78, 77, 75, 75]\n",
      "[73.0, 70, 78, 77, 75, 75]\n",
      "[74.0, 74]\n",
      "[75.0, 75]\n",
      "[76.0, 75, 75]\n",
      "[77.0, 75, 75]\n",
      "[78.0, 77, 75, 75]\n",
      "[79.0, 73, 70, 78, 77, 75, 75]\n",
      "[80.0, 80]\n",
      "[81.0, 77, 75, 75]\n",
      "[82.0, 79, 73, 70, 78, 77, 75, 75]\n",
      "[83.0, 80, 80]\n",
      "[84.0, 81, 77, 75, 75]\n",
      "[85.0, 82, 79, 73, 70, 78, 77, 75, 75]\n",
      "[86.0, 83, 80, 80]\n",
      "[87.0, 84, 81, 77, 75, 75]\n",
      "[88.0, 85, 82, 79, 73, 70, 78, 77, 75, 75]\n",
      "[89.0, 85, 82, 79, 73, 70, 78, 77, 75, 75]\n",
      "[90.0, 87, 84, 81, 77, 75, 75]\n",
      "[91.0, 88, 85, 82, 79, 73, 70, 78, 77, 75, 75]\n",
      "[92.0, 90, 87, 84, 81, 77, 75, 75]\n",
      "[93.0, 89, 85, 82, 79, 73, 70, 78, 77, 75, 75]\n",
      "[94.0, 88, 85, 82, 79, 73, 70, 78, 77, 75, 75]\n",
      "[95.0, 93, 89, 85, 82, 79, 73, 70, 78, 77, 75, 75]\n",
      "[96.0, 90, 87, 84, 81, 77, 75, 75]\n",
      "[97.0, 92, 90, 87, 84, 81, 77, 75, 75]\n",
      "[98.0, 95, 93, 89, 85, 82, 79, 73, 70, 78, 77, 75, 75]\n",
      "[99.0, 96, 90, 87, 84, 81, 77, 75, 75]\n",
      "[100.0, 96, 90, 87, 84, 81, 77, 75, 75]\n",
      "[101.0, 96, 90, 87, 84, 81, 77, 75, 75]\n",
      "[102.0, 98, 95, 93, 89, 85, 82, 79, 73, 70, 78, 77, 75, 75]\n",
      "[103.0, 95, 93, 89, 85, 82, 79, 73, 70, 78, 77, 75, 75]\n",
      "[104.0, 99, 96, 90, 87, 84, 81, 77, 75, 75]\n",
      "[105.0, 100, 96, 90, 87, 84, 81, 77, 75, 75]\n",
      "[106.0, 102, 98, 95, 93, 89, 85, 82, 79, 73, 70, 78, 77, 75, 75]\n",
      "[107.0, 99, 96, 90, 87, 84, 81, 77, 75, 75]\n",
      "[108.0, 103, 95, 93, 89, 85, 82, 79, 73, 70, 78, 77, 75, 75]\n",
      "[109.0, 102, 98, 95, 93, 89, 85, 82, 79, 73, 70, 78, 77, 75, 75]\n",
      "[110.0, 105, 100, 96, 90, 87, 84, 81, 77, 75, 75]\n",
      "[111.0, 102, 98, 95, 93, 89, 85, 82, 79, 73, 70, 78, 77, 75, 75]\n",
      "[112.0, 100, 96, 90, 87, 84, 81, 77, 75, 75]\n",
      "[113.0, 102, 98, 95, 93, 89, 85, 82, 79, 73, 70, 78, 77, 75, 75]\n",
      "[114.0, 110, 105, 100, 96, 90, 87, 84, 81, 77, 75, 75]\n",
      "[115.0, 104, 99, 96, 90, 87, 84, 81, 77, 75, 75]\n",
      "[116.0, 102, 98, 95, 93, 89, 85, 82, 79, 73, 70, 78, 77, 75, 75]\n",
      "[117.0, 103, 95, 93, 89, 85, 82, 79, 73, 70, 78, 77, 75, 75]\n",
      "[118.0, 103, 95, 93, 89, 85, 82, 79, 73, 70, 78, 77, 75, 75]\n",
      "[119.0, 108, 103, 95, 93, 89, 85, 82, 79, 73, 70, 78, 77, 75, 75]\n",
      "[120.0, 113, 102, 98, 95, 93, 89, 85, 82, 79, 73, 70, 78, 77, 75, 75]\n",
      "[121.0, 109, 102, 98, 95, 93, 89, 85, 82, 79, 73, 70, 78, 77, 75, 75]\n",
      "[122.0, 109, 102, 98, 95, 93, 89, 85, 82, 79, 73, 70, 78, 77, 75, 75]\n",
      "[123.0, 112, 100, 96, 90, 87, 84, 81, 77, 75, 75]\n",
      "[124.0, 110, 105, 100, 96, 90, 87, 84, 81, 77, 75, 75]\n",
      "[125.0, 104, 99, 96, 90, 87, 84, 81, 77, 75, 75]\n",
      "[126.0, 101, 96, 90, 87, 84, 81, 77, 75, 75]\n",
      "[127.0, 103, 95, 93, 89, 85, 82, 79, 73, 70, 78, 77, 75, 75]\n",
      "[128.0, 106, 102, 98, 95, 93, 89, 85, 82, 79, 73, 70, 78, 77, 75, 75]\n",
      "[129.0, 105, 100, 96, 90, 87, 84, 81, 77, 75, 75]\n",
      "[130.0, 103, 95, 93, 89, 85, 82, 79, 73, 70, 78, 77, 75, 75]\n",
      "[131.0, 103, 95, 93, 89, 85, 82, 79, 73, 70, 78, 77, 75, 75]\n",
      "[132.0, 108, 103, 95, 93, 89, 85, 82, 79, 73, 70, 78, 77, 75, 75]\n",
      "[133.0, 105, 100, 96, 90, 87, 84, 81, 77, 75, 75]\n",
      "[134.0, 110, 105, 100, 96, 90, 87, 84, 81, 77, 75, 75]\n",
      "[135.0, 99, 96, 90, 87, 84, 81, 77, 75, 75]\n",
      "[136.0, 102, 98, 95, 93, 89, 85, 82, 79, 73, 70, 78, 77, 75, 75]\n",
      "[137.0, 104, 99, 96, 90, 87, 84, 81, 77, 75, 75]\n",
      "[138.0, 122, 109, 102, 98, 95, 93, 89, 85, 82, 79, 73, 70, 78, 77, 75, 75]\n",
      "[139.0, 142, 177, 178, 180, 186, 164, 169, 173, 176, 177, 178, 180, 186, 164, 169, 173, 176, 177, 178, 180, 186, 164, 169, 173, 176, 177, 178, 180, 186, 164, 169, 173, 176, 177, 178, 180, 186, 164, 169, 173, 176, 177, 178, 180, 186, 164, 169, 173, 176, 177, 178, 180, 186, 164, 169, 173, 176, 177, 178, 180, 186, 164, 169, 173, 176, 177, 178, 180, 186, 164, 169, 173, 176, 177, 178, 180, 186, 164, 169, 173, 176, 177, 178, 180, 186, 164, 169, 173, 176, 177, 178, 180, 186, 164, 169, 173, 176, 177, 178, 180]\n",
      "[140.0, 159, 172, 178, 180, 186, 164, 169, 173, 176, 177, 178, 180, 186, 164, 169, 173, 176, 177, 178, 180, 186, 164, 169, 173, 176, 177, 178, 180, 186, 164, 169, 173, 176, 177, 178, 180, 186, 164, 169, 173, 176, 177, 178, 180, 186, 164, 169, 173, 176, 177, 178, 180, 186, 164, 169, 173, 176, 177, 178, 180, 186, 164, 169, 173, 176, 177, 178, 180, 186, 164, 169, 173, 176, 177, 178, 180, 186, 164, 169, 173, 176, 177, 178, 180, 186, 164, 169, 173, 176, 177, 178, 180, 186, 164, 169, 173, 176, 177, 178, 180]\n",
      "[141.0, 185, 158, 165, 172, 178, 180, 186, 164, 169, 173, 176, 177, 178, 180, 186, 164, 169, 173, 176, 177, 178, 180, 186, 164, 169, 173, 176, 177, 178, 180, 186, 164, 169, 173, 176, 177, 178, 180, 186, 164, 169, 173, 176, 177, 178, 180, 186, 164, 169, 173, 176, 177, 178, 180, 186, 164, 169, 173, 176, 177, 178, 180, 186, 164, 169, 173, 176, 177, 178, 180, 186, 164, 169, 173, 176, 177, 178, 180, 186, 164, 169, 173, 176, 177, 178, 180, 186, 164, 169, 173, 176, 177, 178, 180, 186, 164, 169, 173, 176, 177]\n",
      "[142.0, 177, 178, 180, 186, 164, 169, 173, 176, 177, 178, 180, 186, 164, 169, 173, 176, 177, 178, 180, 186, 164, 169, 173, 176, 177, 178, 180, 186, 164, 169, 173, 176, 177, 178, 180, 186, 164, 169, 173, 176, 177, 178, 180, 186, 164, 169, 173, 176, 177, 178, 180, 186, 164, 169, 173, 176, 177, 178, 180, 186, 164, 169, 173, 176, 177, 178, 180, 186, 164, 169, 173, 176, 177, 178, 180, 186, 164, 169, 173, 176, 177, 178, 180, 186, 164, 169, 173, 176, 177, 178, 180, 186, 164, 169, 173, 176, 177, 178, 180, 186]\n",
      "[143.0, 173, 176, 177, 178, 180, 186, 164, 169, 173, 176, 177, 178, 180, 186, 164, 169, 173, 176, 177, 178, 180, 186, 164, 169, 173, 176, 177, 178, 180, 186, 164, 169, 173, 176, 177, 178, 180, 186, 164, 169, 173, 176, 177, 178, 180, 186, 164, 169, 173, 176, 177, 178, 180, 186, 164, 169, 173, 176, 177, 178, 180, 186, 164, 169, 173, 176, 177, 178, 180, 186, 164, 169, 173, 176, 177, 178, 180, 186, 164, 169, 173, 176, 177, 178, 180, 186, 164, 169, 173, 176, 177, 178, 180, 186, 164, 169, 173, 176, 177, 178]\n",
      "[144.0, 175, 178, 180, 186, 164, 169, 173, 176, 177, 178, 180, 186, 164, 169, 173, 176, 177, 178, 180, 186, 164, 169, 173, 176, 177, 178, 180, 186, 164, 169, 173, 176, 177, 178, 180, 186, 164, 169, 173, 176, 177, 178, 180, 186, 164, 169, 173, 176, 177, 178, 180, 186, 164, 169, 173, 176, 177, 178, 180, 186, 164, 169, 173, 176, 177, 178, 180, 186, 164, 169, 173, 176, 177, 178, 180, 186, 164, 169, 173, 176, 177, 178, 180, 186, 164, 169, 173, 176, 177, 178, 180, 186, 164, 169, 173, 176, 177, 178, 180, 186]\n",
      "[145.0, 175, 178, 180, 186, 164, 169, 173, 176, 177, 178, 180, 186, 164, 169, 173, 176, 177, 178, 180, 186, 164, 169, 173, 176, 177, 178, 180, 186, 164, 169, 173, 176, 177, 178, 180, 186, 164, 169, 173, 176, 177, 178, 180, 186, 164, 169, 173, 176, 177, 178, 180, 186, 164, 169, 173, 176, 177, 178, 180, 186, 164, 169, 173, 176, 177, 178, 180, 186, 164, 169, 173, 176, 177, 178, 180, 186, 164, 169, 173, 176, 177, 178, 180, 186, 164, 169, 173, 176, 177, 178, 180, 186, 164, 169, 173, 176, 177, 178, 180, 186]\n",
      "[146.0, 175, 178, 180, 186, 164, 169, 173, 176, 177, 178, 180, 186, 164, 169, 173, 176, 177, 178, 180, 186, 164, 169, 173, 176, 177, 178, 180, 186, 164, 169, 173, 176, 177, 178, 180, 186, 164, 169, 173, 176, 177, 178, 180, 186, 164, 169, 173, 176, 177, 178, 180, 186, 164, 169, 173, 176, 177, 178, 180, 186, 164, 169, 173, 176, 177, 178, 180, 186, 164, 169, 173, 176, 177, 178, 180, 186, 164, 169, 173, 176, 177, 178, 180, 186, 164, 169, 173, 176, 177, 178, 180, 186, 164, 169, 173, 176, 177, 178, 180, 186]\n",
      "[147.0, 170, 174, 177, 178, 180, 186, 164, 169, 173, 176, 177, 178, 180, 186, 164, 169, 173, 176, 177, 178, 180, 186, 164, 169, 173, 176, 177, 178, 180, 186, 164, 169, 173, 176, 177, 178, 180, 186, 164, 169, 173, 176, 177, 178, 180, 186, 164, 169, 173, 176, 177, 178, 180, 186, 164, 169, 173, 176, 177, 178, 180, 186, 164, 169, 173, 176, 177, 178, 180, 186, 164, 169, 173, 176, 177, 178, 180, 186, 164, 169, 173, 176, 177, 178, 180, 186, 164, 169, 173, 176, 177, 178, 180, 186, 164, 169, 173, 176, 177, 178]\n",
      "[148.0, 171, 178, 180, 186, 164, 169, 173, 176, 177, 178, 180, 186, 164, 169, 173, 176, 177, 178, 180, 186, 164, 169, 173, 176, 177, 178, 180, 186, 164, 169, 173, 176, 177, 178, 180, 186, 164, 169, 173, 176, 177, 178, 180, 186, 164, 169, 173, 176, 177, 178, 180, 186, 164, 169, 173, 176, 177, 178, 180, 186, 164, 169, 173, 176, 177, 178, 180, 186, 164, 169, 173, 176, 177, 178, 180, 186, 164, 169, 173, 176, 177, 178, 180, 186, 164, 169, 173, 176, 177, 178, 180, 186, 164, 169, 173, 176, 177, 178, 180, 186]\n",
      "[149.0, 168, 172, 178, 180, 186, 164, 169, 173, 176, 177, 178, 180, 186, 164, 169, 173, 176, 177, 178, 180, 186, 164, 169, 173, 176, 177, 178, 180, 186, 164, 169, 173, 176, 177, 178, 180, 186, 164, 169, 173, 176, 177, 178, 180, 186, 164, 169, 173, 176, 177, 178, 180, 186, 164, 169, 173, 176, 177, 178, 180, 186, 164, 169, 173, 176, 177, 178, 180, 186, 164, 169, 173, 176, 177, 178, 180, 186, 164, 169, 173, 176, 177, 178, 180, 186, 164, 169, 173, 176, 177, 178, 180, 186, 164, 169, 173, 176, 177, 178, 180]\n",
      "[150.0, 169, 173, 176, 177, 178, 180, 186, 164, 169, 173, 176, 177, 178, 180, 186, 164, 169, 173, 176, 177, 178, 180, 186, 164, 169, 173, 176, 177, 178, 180, 186, 164, 169, 173, 176, 177, 178, 180, 186, 164, 169, 173, 176, 177, 178, 180, 186, 164, 169, 173, 176, 177, 178, 180, 186, 164, 169, 173, 176, 177, 178, 180, 186, 164, 169, 173, 176, 177, 178, 180, 186, 164, 169, 173, 176, 177, 178, 180, 186, 164, 169, 173, 176, 177, 178, 180, 186, 164, 169, 173, 176, 177, 178, 180, 186, 164, 169, 173, 176, 177]\n",
      "[151.0, 168, 172, 178, 180, 186, 164, 169, 173, 176, 177, 178, 180, 186, 164, 169, 173, 176, 177, 178, 180, 186, 164, 169, 173, 176, 177, 178, 180, 186, 164, 169, 173, 176, 177, 178, 180, 186, 164, 169, 173, 176, 177, 178, 180, 186, 164, 169, 173, 176, 177, 178, 180, 186, 164, 169, 173, 176, 177, 178, 180, 186, 164, 169, 173, 176, 177, 178, 180, 186, 164, 169, 173, 176, 177, 178, 180, 186, 164, 169, 173, 176, 177, 178, 180, 186, 164, 169, 173, 176, 177, 178, 180, 186, 164, 169, 173, 176, 177, 178, 180]\n",
      "[152.0, 172, 178, 180, 186, 164, 169, 173, 176, 177, 178, 180, 186, 164, 169, 173, 176, 177, 178, 180, 186, 164, 169, 173, 176, 177, 178, 180, 186, 164, 169, 173, 176, 177, 178, 180, 186, 164, 169, 173, 176, 177, 178, 180, 186, 164, 169, 173, 176, 177, 178, 180, 186, 164, 169, 173, 176, 177, 178, 180, 186, 164, 169, 173, 176, 177, 178, 180, 186, 164, 169, 173, 176, 177, 178, 180, 186, 164, 169, 173, 176, 177, 178, 180, 186, 164, 169, 173, 176, 177, 178, 180, 186, 164, 169, 173, 176, 177, 178, 180, 186]\n",
      "[153.0, 165, 172, 178, 180, 186, 164, 169, 173, 176, 177, 178, 180, 186, 164, 169, 173, 176, 177, 178, 180, 186, 164, 169, 173, 176, 177, 178, 180, 186, 164, 169, 173, 176, 177, 178, 180, 186, 164, 169, 173, 176, 177, 178, 180, 186, 164, 169, 173, 176, 177, 178, 180, 186, 164, 169, 173, 176, 177, 178, 180, 186, 164, 169, 173, 176, 177, 178, 180, 186, 164, 169, 173, 176, 177, 178, 180, 186, 164, 169, 173, 176, 177, 178, 180, 186, 164, 169, 173, 176, 177, 178, 180, 186, 164, 169, 173, 176, 177, 178, 180]\n",
      "[154.0, 175, 178, 180, 186, 164, 169, 173, 176, 177, 178, 180, 186, 164, 169, 173, 176, 177, 178, 180, 186, 164, 169, 173, 176, 177, 178, 180, 186, 164, 169, 173, 176, 177, 178, 180, 186, 164, 169, 173, 176, 177, 178, 180, 186, 164, 169, 173, 176, 177, 178, 180, 186, 164, 169, 173, 176, 177, 178, 180, 186, 164, 169, 173, 176, 177, 178, 180, 186, 164, 169, 173, 176, 177, 178, 180, 186, 164, 169, 173, 176, 177, 178, 180, 186, 164, 169, 173, 176, 177, 178, 180, 186, 164, 169, 173, 176, 177, 178, 180, 186]\n",
      "[155.0, 165, 172, 178, 180, 186, 164, 169, 173, 176, 177, 178, 180, 186, 164, 169, 173, 176, 177, 178, 180, 186, 164, 169, 173, 176, 177, 178, 180, 186, 164, 169, 173, 176, 177, 178, 180, 186, 164, 169, 173, 176, 177, 178, 180, 186, 164, 169, 173, 176, 177, 178, 180, 186, 164, 169, 173, 176, 177, 178, 180, 186, 164, 169, 173, 176, 177, 178, 180, 186, 164, 169, 173, 176, 177, 178, 180, 186, 164, 169, 173, 176, 177, 178, 180, 186, 164, 169, 173, 176, 177, 178, 180, 186, 164, 169, 173, 176, 177, 178, 180]\n",
      "[156.0, 170, 174, 177, 178, 180, 186, 164, 169, 173, 176, 177, 178, 180, 186, 164, 169, 173, 176, 177, 178, 180, 186, 164, 169, 173, 176, 177, 178, 180, 186, 164, 169, 173, 176, 177, 178, 180, 186, 164, 169, 173, 176, 177, 178, 180, 186, 164, 169, 173, 176, 177, 178, 180, 186, 164, 169, 173, 176, 177, 178, 180, 186, 164, 169, 173, 176, 177, 178, 180, 186, 164, 169, 173, 176, 177, 178, 180, 186, 164, 169, 173, 176, 177, 178, 180, 186, 164, 169, 173, 176, 177, 178, 180, 186, 164, 169, 173, 176, 177, 178]\n",
      "[157.0, 168, 172, 178, 180, 186, 164, 169, 173, 176, 177, 178, 180, 186, 164, 169, 173, 176, 177, 178, 180, 186, 164, 169, 173, 176, 177, 178, 180, 186, 164, 169, 173, 176, 177, 178, 180, 186, 164, 169, 173, 176, 177, 178, 180, 186, 164, 169, 173, 176, 177, 178, 180, 186, 164, 169, 173, 176, 177, 178, 180, 186, 164, 169, 173, 176, 177, 178, 180, 186, 164, 169, 173, 176, 177, 178, 180, 186, 164, 169, 173, 176, 177, 178, 180, 186, 164, 169, 173, 176, 177, 178, 180, 186, 164, 169, 173, 176, 177, 178, 180]\n",
      "[158.0, 165, 172, 178, 180, 186, 164, 169, 173, 176, 177, 178, 180, 186, 164, 169, 173, 176, 177, 178, 180, 186, 164, 169, 173, 176, 177, 178, 180, 186, 164, 169, 173, 176, 177, 178, 180, 186, 164, 169, 173, 176, 177, 178, 180, 186, 164, 169, 173, 176, 177, 178, 180, 186, 164, 169, 173, 176, 177, 178, 180, 186, 164, 169, 173, 176, 177, 178, 180, 186, 164, 169, 173, 176, 177, 178, 180, 186, 164, 169, 173, 176, 177, 178, 180, 186, 164, 169, 173, 176, 177, 178, 180, 186, 164, 169, 173, 176, 177, 178, 180]\n",
      "[159.0, 172, 178, 180, 186, 164, 169, 173, 176, 177, 178, 180, 186, 164, 169, 173, 176, 177, 178, 180, 186, 164, 169, 173, 176, 177, 178, 180, 186, 164, 169, 173, 176, 177, 178, 180, 186, 164, 169, 173, 176, 177, 178, 180, 186, 164, 169, 173, 176, 177, 178, 180, 186, 164, 169, 173, 176, 177, 178, 180, 186, 164, 169, 173, 176, 177, 178, 180, 186, 164, 169, 173, 176, 177, 178, 180, 186, 164, 169, 173, 176, 177, 178, 180, 186, 164, 169, 173, 176, 177, 178, 180, 186, 164, 169, 173, 176, 177, 178, 180, 186]\n",
      "[160.0, 168, 172, 178, 180, 186, 164, 169, 173, 176, 177, 178, 180, 186, 164, 169, 173, 176, 177, 178, 180, 186, 164, 169, 173, 176, 177, 178, 180, 186, 164, 169, 173, 176, 177, 178, 180, 186, 164, 169, 173, 176, 177, 178, 180, 186, 164, 169, 173, 176, 177, 178, 180, 186, 164, 169, 173, 176, 177, 178, 180, 186, 164, 169, 173, 176, 177, 178, 180, 186, 164, 169, 173, 176, 177, 178, 180, 186, 164, 169, 173, 176, 177, 178, 180, 186, 164, 169, 173, 176, 177, 178, 180, 186, 164, 169, 173, 176, 177, 178, 180]\n",
      "[161.0, 172, 178, 180, 186, 164, 169, 173, 176, 177, 178, 180, 186, 164, 169, 173, 176, 177, 178, 180, 186, 164, 169, 173, 176, 177, 178, 180, 186, 164, 169, 173, 176, 177, 178, 180, 186, 164, 169, 173, 176, 177, 178, 180, 186, 164, 169, 173, 176, 177, 178, 180, 186, 164, 169, 173, 176, 177, 178, 180, 186, 164, 169, 173, 176, 177, 178, 180, 186, 164, 169, 173, 176, 177, 178, 180, 186, 164, 169, 173, 176, 177, 178, 180, 186, 164, 169, 173, 176, 177, 178, 180, 186, 164, 169, 173, 176, 177, 178, 180, 186]\n",
      "[162.0, 171, 178, 180, 186, 164, 169, 173, 176, 177, 178, 180, 186, 164, 169, 173, 176, 177, 178, 180, 186, 164, 169, 173, 176, 177, 178, 180, 186, 164, 169, 173, 176, 177, 178, 180, 186, 164, 169, 173, 176, 177, 178, 180, 186, 164, 169, 173, 176, 177, 178, 180, 186, 164, 169, 173, 176, 177, 178, 180, 186, 164, 169, 173, 176, 177, 178, 180, 186, 164, 169, 173, 176, 177, 178, 180, 186, 164, 169, 173, 176, 177, 178, 180, 186, 164, 169, 173, 176, 177, 178, 180, 186, 164, 169, 173, 176, 177, 178, 180, 186]\n",
      "[163.0, 173, 176, 177, 178, 180, 186, 164, 169, 173, 176, 177, 178, 180, 186, 164, 169, 173, 176, 177, 178, 180, 186, 164, 169, 173, 176, 177, 178, 180, 186, 164, 169, 173, 176, 177, 178, 180, 186, 164, 169, 173, 176, 177, 178, 180, 186, 164, 169, 173, 176, 177, 178, 180, 186, 164, 169, 173, 176, 177, 178, 180, 186, 164, 169, 173, 176, 177, 178, 180, 186, 164, 169, 173, 176, 177, 178, 180, 186, 164, 169, 173, 176, 177, 178, 180, 186, 164, 169, 173, 176, 177, 178, 180, 186, 164, 169, 173, 176, 177, 178]\n",
      "[164.0, 169, 173, 176, 177, 178, 180, 186, 164, 169, 173, 176, 177, 178, 180, 186, 164, 169, 173, 176, 177, 178, 180, 186, 164, 169, 173, 176, 177, 178, 180, 186, 164, 169, 173, 176, 177, 178, 180, 186, 164, 169, 173, 176, 177, 178, 180, 186, 164, 169, 173, 176, 177, 178, 180, 186, 164, 169, 173, 176, 177, 178, 180, 186, 164, 169, 173, 176, 177, 178, 180, 186, 164, 169, 173, 176, 177, 178, 180, 186, 164, 169, 173, 176, 177, 178, 180, 186, 164, 169, 173, 176, 177, 178, 180, 186, 164, 169, 173, 176, 177]\n",
      "[165.0, 172, 178, 180, 186, 164, 169, 173, 176, 177, 178, 180, 186, 164, 169, 173, 176, 177, 178, 180, 186, 164, 169, 173, 176, 177, 178, 180, 186, 164, 169, 173, 176, 177, 178, 180, 186, 164, 169, 173, 176, 177, 178, 180, 186, 164, 169, 173, 176, 177, 178, 180, 186, 164, 169, 173, 176, 177, 178, 180, 186, 164, 169, 173, 176, 177, 178, 180, 186, 164, 169, 173, 176, 177, 178, 180, 186, 164, 169, 173, 176, 177, 178, 180, 186, 164, 169, 173, 176, 177, 178, 180, 186, 164, 169, 173, 176, 177, 178, 180, 186]\n",
      "[166.0, 169, 173, 176, 177, 178, 180, 186, 164, 169, 173, 176, 177, 178, 180, 186, 164, 169, 173, 176, 177, 178, 180, 186, 164, 169, 173, 176, 177, 178, 180, 186, 164, 169, 173, 176, 177, 178, 180, 186, 164, 169, 173, 176, 177, 178, 180, 186, 164, 169, 173, 176, 177, 178, 180, 186, 164, 169, 173, 176, 177, 178, 180, 186, 164, 169, 173, 176, 177, 178, 180, 186, 164, 169, 173, 176, 177, 178, 180, 186, 164, 169, 173, 176, 177, 178, 180, 186, 164, 169, 173, 176, 177, 178, 180, 186, 164, 169, 173, 176, 177]\n",
      "[167.0, 174, 177, 178, 180, 186, 164, 169, 173, 176, 177, 178, 180, 186, 164, 169, 173, 176, 177, 178, 180, 186, 164, 169, 173, 176, 177, 178, 180, 186, 164, 169, 173, 176, 177, 178, 180, 186, 164, 169, 173, 176, 177, 178, 180, 186, 164, 169, 173, 176, 177, 178, 180, 186, 164, 169, 173, 176, 177, 178, 180, 186, 164, 169, 173, 176, 177, 178, 180, 186, 164, 169, 173, 176, 177, 178, 180, 186, 164, 169, 173, 176, 177, 178, 180, 186, 164, 169, 173, 176, 177, 178, 180, 186, 164, 169, 173, 176, 177, 178, 180]\n",
      "[168.0, 172, 178, 180, 186, 164, 169, 173, 176, 177, 178, 180, 186, 164, 169, 173, 176, 177, 178, 180, 186, 164, 169, 173, 176, 177, 178, 180, 186, 164, 169, 173, 176, 177, 178, 180, 186, 164, 169, 173, 176, 177, 178, 180, 186, 164, 169, 173, 176, 177, 178, 180, 186, 164, 169, 173, 176, 177, 178, 180, 186, 164, 169, 173, 176, 177, 178, 180, 186, 164, 169, 173, 176, 177, 178, 180, 186, 164, 169, 173, 176, 177, 178, 180, 186, 164, 169, 173, 176, 177, 178, 180, 186, 164, 169, 173, 176, 177, 178, 180, 186]\n",
      "[169.0, 173, 176, 177, 178, 180, 186, 164, 169, 173, 176, 177, 178, 180, 186, 164, 169, 173, 176, 177, 178, 180, 186, 164, 169, 173, 176, 177, 178, 180, 186, 164, 169, 173, 176, 177, 178, 180, 186, 164, 169, 173, 176, 177, 178, 180, 186, 164, 169, 173, 176, 177, 178, 180, 186, 164, 169, 173, 176, 177, 178, 180, 186, 164, 169, 173, 176, 177, 178, 180, 186, 164, 169, 173, 176, 177, 178, 180, 186, 164, 169, 173, 176, 177, 178, 180, 186, 164, 169, 173, 176, 177, 178, 180, 186, 164, 169, 173, 176, 177, 178]\n",
      "[170.0, 174, 177, 178, 180, 186, 164, 169, 173, 176, 177, 178, 180, 186, 164, 169, 173, 176, 177, 178, 180, 186, 164, 169, 173, 176, 177, 178, 180, 186, 164, 169, 173, 176, 177, 178, 180, 186, 164, 169, 173, 176, 177, 178, 180, 186, 164, 169, 173, 176, 177, 178, 180, 186, 164, 169, 173, 176, 177, 178, 180, 186, 164, 169, 173, 176, 177, 178, 180, 186, 164, 169, 173, 176, 177, 178, 180, 186, 164, 169, 173, 176, 177, 178, 180, 186, 164, 169, 173, 176, 177, 178, 180, 186, 164, 169, 173, 176, 177, 178, 180]\n",
      "[171.0, 178, 180, 186, 164, 169, 173, 176, 177, 178, 180, 186, 164, 169, 173, 176, 177, 178, 180, 186, 164, 169, 173, 176, 177, 178, 180, 186, 164, 169, 173, 176, 177, 178, 180, 186, 164, 169, 173, 176, 177, 178, 180, 186, 164, 169, 173, 176, 177, 178, 180, 186, 164, 169, 173, 176, 177, 178, 180, 186, 164, 169, 173, 176, 177, 178, 180, 186, 164, 169, 173, 176, 177, 178, 180, 186, 164, 169, 173, 176, 177, 178, 180, 186, 164, 169, 173, 176, 177, 178, 180, 186, 164, 169, 173, 176, 177, 178, 180, 186, 164]\n",
      "[172.0, 178, 180, 186, 164, 169, 173, 176, 177, 178, 180, 186, 164, 169, 173, 176, 177, 178, 180, 186, 164, 169, 173, 176, 177, 178, 180, 186, 164, 169, 173, 176, 177, 178, 180, 186, 164, 169, 173, 176, 177, 178, 180, 186, 164, 169, 173, 176, 177, 178, 180, 186, 164, 169, 173, 176, 177, 178, 180, 186, 164, 169, 173, 176, 177, 178, 180, 186, 164, 169, 173, 176, 177, 178, 180, 186, 164, 169, 173, 176, 177, 178, 180, 186, 164, 169, 173, 176, 177, 178, 180, 186, 164, 169, 173, 176, 177, 178, 180, 186, 164]\n",
      "[173.0, 176, 177, 178, 180, 186, 164, 169, 173, 176, 177, 178, 180, 186, 164, 169, 173, 176, 177, 178, 180, 186, 164, 169, 173, 176, 177, 178, 180, 186, 164, 169, 173, 176, 177, 178, 180, 186, 164, 169, 173, 176, 177, 178, 180, 186, 164, 169, 173, 176, 177, 178, 180, 186, 164, 169, 173, 176, 177, 178, 180, 186, 164, 169, 173, 176, 177, 178, 180, 186, 164, 169, 173, 176, 177, 178, 180, 186, 164, 169, 173, 176, 177, 178, 180, 186, 164, 169, 173, 176, 177, 178, 180, 186, 164, 169, 173, 176, 177, 178, 180]\n",
      "[174.0, 177, 178, 180, 186, 164, 169, 173, 176, 177, 178, 180, 186, 164, 169, 173, 176, 177, 178, 180, 186, 164, 169, 173, 176, 177, 178, 180, 186, 164, 169, 173, 176, 177, 178, 180, 186, 164, 169, 173, 176, 177, 178, 180, 186, 164, 169, 173, 176, 177, 178, 180, 186, 164, 169, 173, 176, 177, 178, 180, 186, 164, 169, 173, 176, 177, 178, 180, 186, 164, 169, 173, 176, 177, 178, 180, 186, 164, 169, 173, 176, 177, 178, 180, 186, 164, 169, 173, 176, 177, 178, 180, 186, 164, 169, 173, 176, 177, 178, 180, 186]\n",
      "[175.0, 178, 180, 186, 164, 169, 173, 176, 177, 178, 180, 186, 164, 169, 173, 176, 177, 178, 180, 186, 164, 169, 173, 176, 177, 178, 180, 186, 164, 169, 173, 176, 177, 178, 180, 186, 164, 169, 173, 176, 177, 178, 180, 186, 164, 169, 173, 176, 177, 178, 180, 186, 164, 169, 173, 176, 177, 178, 180, 186, 164, 169, 173, 176, 177, 178, 180, 186, 164, 169, 173, 176, 177, 178, 180, 186, 164, 169, 173, 176, 177, 178, 180, 186, 164, 169, 173, 176, 177, 178, 180, 186, 164, 169, 173, 176, 177, 178, 180, 186, 164]\n",
      "[176.0, 177, 178, 180, 186, 164, 169, 173, 176, 177, 178, 180, 186, 164, 169, 173, 176, 177, 178, 180, 186, 164, 169, 173, 176, 177, 178, 180, 186, 164, 169, 173, 176, 177, 178, 180, 186, 164, 169, 173, 176, 177, 178, 180, 186, 164, 169, 173, 176, 177, 178, 180, 186, 164, 169, 173, 176, 177, 178, 180, 186, 164, 169, 173, 176, 177, 178, 180, 186, 164, 169, 173, 176, 177, 178, 180, 186, 164, 169, 173, 176, 177, 178, 180, 186, 164, 169, 173, 176, 177, 178, 180, 186, 164, 169, 173, 176, 177, 178, 180, 186]\n",
      "[177.0, 178, 180, 186, 164, 169, 173, 176, 177, 178, 180, 186, 164, 169, 173, 176, 177, 178, 180, 186, 164, 169, 173, 176, 177, 178, 180, 186, 164, 169, 173, 176, 177, 178, 180, 186, 164, 169, 173, 176, 177, 178, 180, 186, 164, 169, 173, 176, 177, 178, 180, 186, 164, 169, 173, 176, 177, 178, 180, 186, 164, 169, 173, 176, 177, 178, 180, 186, 164, 169, 173, 176, 177, 178, 180, 186, 164, 169, 173, 176, 177, 178, 180, 186, 164, 169, 173, 176, 177, 178, 180, 186, 164, 169, 173, 176, 177, 178, 180, 186, 164]\n",
      "[178.0, 180, 186, 164, 169, 173, 176, 177, 178, 180, 186, 164, 169, 173, 176, 177, 178, 180, 186, 164, 169, 173, 176, 177, 178, 180, 186, 164, 169, 173, 176, 177, 178, 180, 186, 164, 169, 173, 176, 177, 178, 180, 186, 164, 169, 173, 176, 177, 178, 180, 186, 164, 169, 173, 176, 177, 178, 180, 186, 164, 169, 173, 176, 177, 178, 180, 186, 164, 169, 173, 176, 177, 178, 180, 186, 164, 169, 173, 176, 177, 178, 180, 186, 164, 169, 173, 176, 177, 178, 180, 186, 164, 169, 173, 176, 177, 178, 180, 186, 164, 169]\n",
      "[179.0, 181, 183, 185, 158, 165, 172, 178, 180, 186, 164, 169, 173, 176, 177, 178, 180, 186, 164, 169, 173, 176, 177, 178, 180, 186, 164, 169, 173, 176, 177, 178, 180, 186, 164, 169, 173, 176, 177, 178, 180, 186, 164, 169, 173, 176, 177, 178, 180, 186, 164, 169, 173, 176, 177, 178, 180, 186, 164, 169, 173, 176, 177, 178, 180, 186, 164, 169, 173, 176, 177, 178, 180, 186, 164, 169, 173, 176, 177, 178, 180, 186, 164, 169, 173, 176, 177, 178, 180, 186, 164, 169, 173, 176, 177, 178, 180, 186, 164, 169, 173]\n",
      "[180.0, 186, 164, 169, 173, 176, 177, 178, 180, 186, 164, 169, 173, 176, 177, 178, 180, 186, 164, 169, 173, 176, 177, 178, 180, 186, 164, 169, 173, 176, 177, 178, 180, 186, 164, 169, 173, 176, 177, 178, 180, 186, 164, 169, 173, 176, 177, 178, 180, 186, 164, 169, 173, 176, 177, 178, 180, 186, 164, 169, 173, 176, 177, 178, 180, 186, 164, 169, 173, 176, 177, 178, 180, 186, 164, 169, 173, 176, 177, 178, 180, 186, 164, 169, 173, 176, 177, 178, 180, 186, 164, 169, 173, 176, 177, 178, 180, 186, 164, 169, 173]\n",
      "[181.0, 183, 185, 158, 165, 172, 178, 180, 186, 164, 169, 173, 176, 177, 178, 180, 186, 164, 169, 173, 176, 177, 178, 180, 186, 164, 169, 173, 176, 177, 178, 180, 186, 164, 169, 173, 176, 177, 178, 180, 186, 164, 169, 173, 176, 177, 178, 180, 186, 164, 169, 173, 176, 177, 178, 180, 186, 164, 169, 173, 176, 177, 178, 180, 186, 164, 169, 173, 176, 177, 178, 180, 186, 164, 169, 173, 176, 177, 178, 180, 186, 164, 169, 173, 176, 177, 178, 180, 186, 164, 169, 173, 176, 177, 178, 180, 186, 164, 169, 173, 176]\n",
      "[182.0, 185, 158, 165, 172, 178, 180, 186, 164, 169, 173, 176, 177, 178, 180, 186, 164, 169, 173, 176, 177, 178, 180, 186, 164, 169, 173, 176, 177, 178, 180, 186, 164, 169, 173, 176, 177, 178, 180, 186, 164, 169, 173, 176, 177, 178, 180, 186, 164, 169, 173, 176, 177, 178, 180, 186, 164, 169, 173, 176, 177, 178, 180, 186, 164, 169, 173, 176, 177, 178, 180, 186, 164, 169, 173, 176, 177, 178, 180, 186, 164, 169, 173, 176, 177, 178, 180, 186, 164, 169, 173, 176, 177, 178, 180, 186, 164, 169, 173, 176, 177]\n",
      "[183.0, 185, 158, 165, 172, 178, 180, 186, 164, 169, 173, 176, 177, 178, 180, 186, 164, 169, 173, 176, 177, 178, 180, 186, 164, 169, 173, 176, 177, 178, 180, 186, 164, 169, 173, 176, 177, 178, 180, 186, 164, 169, 173, 176, 177, 178, 180, 186, 164, 169, 173, 176, 177, 178, 180, 186, 164, 169, 173, 176, 177, 178, 180, 186, 164, 169, 173, 176, 177, 178, 180, 186, 164, 169, 173, 176, 177, 178, 180, 186, 164, 169, 173, 176, 177, 178, 180, 186, 164, 169, 173, 176, 177, 178, 180, 186, 164, 169, 173, 176, 177]\n",
      "[184.0, 184]\n",
      "[185.0, 158, 165, 172, 178, 180, 186, 164, 169, 173, 176, 177, 178, 180, 186, 164, 169, 173, 176, 177, 178, 180, 186, 164, 169, 173, 176, 177, 178, 180, 186, 164, 169, 173, 176, 177, 178, 180, 186, 164, 169, 173, 176, 177, 178, 180, 186, 164, 169, 173, 176, 177, 178, 180, 186, 164, 169, 173, 176, 177, 178, 180, 186, 164, 169, 173, 176, 177, 178, 180, 186, 164, 169, 173, 176, 177, 178, 180, 186, 164, 169, 173, 176, 177, 178, 180, 186, 164, 169, 173, 176, 177, 178, 180, 186, 164, 169, 173, 176, 177, 178]\n",
      "[186.0, 164, 169, 173, 176, 177, 178, 180, 186, 164, 169, 173, 176, 177, 178, 180, 186, 164, 169, 173, 176, 177, 178, 180, 186, 164, 169, 173, 176, 177, 178, 180, 186, 164, 169, 173, 176, 177, 178, 180, 186, 164, 169, 173, 176, 177, 178, 180, 186, 164, 169, 173, 176, 177, 178, 180, 186, 164, 169, 173, 176, 177, 178, 180, 186, 164, 169, 173, 176, 177, 178, 180, 186, 164, 169, 173, 176, 177, 178, 180, 186, 164, 169, 173, 176, 177, 178, 180, 186, 164, 169, 173, 176, 177, 178, 180, 186, 164, 169, 173, 176]\n",
      "[187.0, 164, 169, 173, 176, 177, 178, 180, 186, 164, 169, 173, 176, 177, 178, 180, 186, 164, 169, 173, 176, 177, 178, 180, 186, 164, 169, 173, 176, 177, 178, 180, 186, 164, 169, 173, 176, 177, 178, 180, 186, 164, 169, 173, 176, 177, 178, 180, 186, 164, 169, 173, 176, 177, 178, 180, 186, 164, 169, 173, 176, 177, 178, 180, 186, 164, 169, 173, 176, 177, 178, 180, 186, 164, 169, 173, 176, 177, 178, 180, 186, 164, 169, 173, 176, 177, 178, 180, 186, 164, 169, 173, 176, 177, 178, 180, 186, 164, 169, 173, 176]\n",
      "[188.0, 182, 185, 158, 165, 172, 178, 180, 186, 164, 169, 173, 176, 177, 178, 180, 186, 164, 169, 173, 176, 177, 178, 180, 186, 164, 169, 173, 176, 177, 178, 180, 186, 164, 169, 173, 176, 177, 178, 180, 186, 164, 169, 173, 176, 177, 178, 180, 186, 164, 169, 173, 176, 177, 178, 180, 186, 164, 169, 173, 176, 177, 178, 180, 186, 164, 169, 173, 176, 177, 178, 180, 186, 164, 169, 173, 176, 177, 178, 180, 186, 164, 169, 173, 176, 177, 178, 180, 186, 164, 169, 173, 176, 177, 178, 180, 186, 164, 169, 173, 176]\n",
      "[189.0, 216, 219, 200, 234, 251, 215, 239, 228, 206, 205, 198, 231, 247, 226, 239, 228, 206, 205, 198, 231, 247, 226, 239, 228, 206, 205, 198, 231, 247, 226, 239, 228, 206, 205, 198, 231, 247, 226, 239, 228, 206, 205, 198, 231, 247, 226, 239, 228, 206, 205, 198, 231, 247, 226, 239, 228, 206, 205, 198, 231, 247, 226, 239, 228, 206, 205, 198, 231, 247, 226, 239, 228, 206, 205, 198, 231, 247, 226, 239, 228, 206, 205, 198, 231, 247, 226, 239, 228, 206, 205, 198, 231, 247, 226, 239, 228, 206, 205, 198, 231]\n",
      "[190.0, 222, 250, 253, 247, 226, 239, 228, 206, 205, 198, 231, 247, 226, 239, 228, 206, 205, 198, 231, 247, 226, 239, 228, 206, 205, 198, 231, 247, 226, 239, 228, 206, 205, 198, 231, 247, 226, 239, 228, 206, 205, 198, 231, 247, 226, 239, 228, 206, 205, 198, 231, 247, 226, 239, 228, 206, 205, 198, 231, 247, 226, 239, 228, 206, 205, 198, 231, 247, 226, 239, 228, 206, 205, 198, 231, 247, 226, 239, 228, 206, 205, 198, 231, 247, 226, 239, 228, 206, 205, 198, 231, 247, 226, 239, 228, 206, 205, 198, 231, 247]\n",
      "[191.0, 208, 238, 232, 216, 219, 200, 234, 251, 215, 239, 228, 206, 205, 198, 231, 247, 226, 239, 228, 206, 205, 198, 231, 247, 226, 239, 228, 206, 205, 198, 231, 247, 226, 239, 228, 206, 205, 198, 231, 247, 226, 239, 228, 206, 205, 198, 231, 247, 226, 239, 228, 206, 205, 198, 231, 247, 226, 239, 228, 206, 205, 198, 231, 247, 226, 239, 228, 206, 205, 198, 231, 247, 226, 239, 228, 206, 205, 198, 231, 247, 226, 239, 228, 206, 205, 198, 231, 247, 226, 239, 228, 206, 205, 198, 231, 247, 226, 239, 228, 206]\n",
      "[192.0, 207, 205, 198, 231, 247, 226, 239, 228, 206, 205, 198, 231, 247, 226, 239, 228, 206, 205, 198, 231, 247, 226, 239, 228, 206, 205, 198, 231, 247, 226, 239, 228, 206, 205, 198, 231, 247, 226, 239, 228, 206, 205, 198, 231, 247, 226, 239, 228, 206, 205, 198, 231, 247, 226, 239, 228, 206, 205, 198, 231, 247, 226, 239, 228, 206, 205, 198, 231, 247, 226, 239, 228, 206, 205, 198, 231, 247, 226, 239, 228, 206, 205, 198, 231, 247, 226, 239, 228, 206, 205, 198, 231, 247, 226, 239, 228, 206, 205, 198, 231]\n",
      "[193.0, 193]\n",
      "[194.0, 194]\n",
      "[195.0, 171, 178, 180, 186, 164, 169, 173, 176, 177, 178, 180, 186, 164, 169, 173, 176, 177, 178, 180, 186, 164, 169, 173, 176, 177, 178, 180, 186, 164, 169, 173, 176, 177, 178, 180, 186, 164, 169, 173, 176, 177, 178, 180, 186, 164, 169, 173, 176, 177, 178, 180, 186, 164, 169, 173, 176, 177, 178, 180, 186, 164, 169, 173, 176, 177, 178, 180, 186, 164, 169, 173, 176, 177, 178, 180, 186, 164, 169, 173, 176, 177, 178, 180, 186, 164, 169, 173, 176, 177, 178, 180, 186, 164, 169, 173, 176, 177, 178, 180, 186]\n",
      "[196.0, 175, 178, 180, 186, 164, 169, 173, 176, 177, 178, 180, 186, 164, 169, 173, 176, 177, 178, 180, 186, 164, 169, 173, 176, 177, 178, 180, 186, 164, 169, 173, 176, 177, 178, 180, 186, 164, 169, 173, 176, 177, 178, 180, 186, 164, 169, 173, 176, 177, 178, 180, 186, 164, 169, 173, 176, 177, 178, 180, 186, 164, 169, 173, 176, 177, 178, 180, 186, 164, 169, 173, 176, 177, 178, 180, 186, 164, 169, 173, 176, 177, 178, 180, 186, 164, 169, 173, 176, 177, 178, 180, 186, 164, 169, 173, 176, 177, 178, 180, 186]\n",
      "[197.0, 191, 208, 238, 232, 216, 219, 200, 234, 251, 215, 239, 228, 206, 205, 198, 231, 247, 226, 239, 228, 206, 205, 198, 231, 247, 226, 239, 228, 206, 205, 198, 231, 247, 226, 239, 228, 206, 205, 198, 231, 247, 226, 239, 228, 206, 205, 198, 231, 247, 226, 239, 228, 206, 205, 198, 231, 247, 226, 239, 228, 206, 205, 198, 231, 247, 226, 239, 228, 206, 205, 198, 231, 247, 226, 239, 228, 206, 205, 198, 231, 247, 226, 239, 228, 206, 205, 198, 231, 247, 226, 239, 228, 206, 205, 198, 231, 247, 226, 239, 228]\n",
      "[198.0, 231, 247, 226, 239, 228, 206, 205, 198, 231, 247, 226, 239, 228, 206, 205, 198, 231, 247, 226, 239, 228, 206, 205, 198, 231, 247, 226, 239, 228, 206, 205, 198, 231, 247, 226, 239, 228, 206, 205, 198, 231, 247, 226, 239, 228, 206, 205, 198, 231, 247, 226, 239, 228, 206, 205, 198, 231, 247, 226, 239, 228, 206, 205, 198, 231, 247, 226, 239, 228, 206, 205, 198, 231, 247, 226, 239, 228, 206, 205, 198, 231, 247, 226, 239, 228, 206, 205, 198, 231, 247, 226, 239, 228, 206, 205, 198, 231, 247, 226, 239]\n",
      "[199.0, 218, 191, 208, 238, 232, 216, 219, 200, 234, 251, 215, 239, 228, 206, 205, 198, 231, 247, 226, 239, 228, 206, 205, 198, 231, 247, 226, 239, 228, 206, 205, 198, 231, 247, 226, 239, 228, 206, 205, 198, 231, 247, 226, 239, 228, 206, 205, 198, 231, 247, 226, 239, 228, 206, 205, 198, 231, 247, 226, 239, 228, 206, 205, 198, 231, 247, 226, 239, 228, 206, 205, 198, 231, 247, 226, 239, 228, 206, 205, 198, 231, 247, 226, 239, 228, 206, 205, 198, 231, 247, 226, 239, 228, 206, 205, 198, 231, 247, 226, 239]\n",
      "[200.0, 234, 251, 215, 239, 228, 206, 205, 198, 231, 247, 226, 239, 228, 206, 205, 198, 231, 247, 226, 239, 228, 206, 205, 198, 231, 247, 226, 239, 228, 206, 205, 198, 231, 247, 226, 239, 228, 206, 205, 198, 231, 247, 226, 239, 228, 206, 205, 198, 231, 247, 226, 239, 228, 206, 205, 198, 231, 247, 226, 239, 228, 206, 205, 198, 231, 247, 226, 239, 228, 206, 205, 198, 231, 247, 226, 239, 228, 206, 205, 198, 231, 247, 226, 239, 228, 206, 205, 198, 231, 247, 226, 239, 228, 206, 205, 198, 231, 247, 226, 239]\n",
      "[201.0, 222, 250, 253, 247, 226, 239, 228, 206, 205, 198, 231, 247, 226, 239, 228, 206, 205, 198, 231, 247, 226, 239, 228, 206, 205, 198, 231, 247, 226, 239, 228, 206, 205, 198, 231, 247, 226, 239, 228, 206, 205, 198, 231, 247, 226, 239, 228, 206, 205, 198, 231, 247, 226, 239, 228, 206, 205, 198, 231, 247, 226, 239, 228, 206, 205, 198, 231, 247, 226, 239, 228, 206, 205, 198, 231, 247, 226, 239, 228, 206, 205, 198, 231, 247, 226, 239, 228, 206, 205, 198, 231, 247, 226, 239, 228, 206, 205, 198, 231, 247]\n",
      "[202.0, 214, 227, 215, 239, 228, 206, 205, 198, 231, 247, 226, 239, 228, 206, 205, 198, 231, 247, 226, 239, 228, 206, 205, 198, 231, 247, 226, 239, 228, 206, 205, 198, 231, 247, 226, 239, 228, 206, 205, 198, 231, 247, 226, 239, 228, 206, 205, 198, 231, 247, 226, 239, 228, 206, 205, 198, 231, 247, 226, 239, 228, 206, 205, 198, 231, 247, 226, 239, 228, 206, 205, 198, 231, 247, 226, 239, 228, 206, 205, 198, 231, 247, 226, 239, 228, 206, 205, 198, 231, 247, 226, 239, 228, 206, 205, 198, 231, 247, 226, 239]\n",
      "[203.0, 214, 227, 215, 239, 228, 206, 205, 198, 231, 247, 226, 239, 228, 206, 205, 198, 231, 247, 226, 239, 228, 206, 205, 198, 231, 247, 226, 239, 228, 206, 205, 198, 231, 247, 226, 239, 228, 206, 205, 198, 231, 247, 226, 239, 228, 206, 205, 198, 231, 247, 226, 239, 228, 206, 205, 198, 231, 247, 226, 239, 228, 206, 205, 198, 231, 247, 226, 239, 228, 206, 205, 198, 231, 247, 226, 239, 228, 206, 205, 198, 231, 247, 226, 239, 228, 206, 205, 198, 231, 247, 226, 239, 228, 206, 205, 198, 231, 247, 226, 239]\n",
      "[204.0, 187, 164, 169, 173, 176, 177, 178, 180, 186, 164, 169, 173, 176, 177, 178, 180, 186, 164, 169, 173, 176, 177, 178, 180, 186, 164, 169, 173, 176, 177, 178, 180, 186, 164, 169, 173, 176, 177, 178, 180, 186, 164, 169, 173, 176, 177, 178, 180, 186, 164, 169, 173, 176, 177, 178, 180, 186, 164, 169, 173, 176, 177, 178, 180, 186, 164, 169, 173, 176, 177, 178, 180, 186, 164, 169, 173, 176, 177, 178, 180, 186, 164, 169, 173, 176, 177, 178, 180, 186, 164, 169, 173, 176, 177, 178, 180, 186, 164, 169, 173]\n",
      "[205.0, 198, 231, 247, 226, 239, 228, 206, 205, 198, 231, 247, 226, 239, 228, 206, 205, 198, 231, 247, 226, 239, 228, 206, 205, 198, 231, 247, 226, 239, 228, 206, 205, 198, 231, 247, 226, 239, 228, 206, 205, 198, 231, 247, 226, 239, 228, 206, 205, 198, 231, 247, 226, 239, 228, 206, 205, 198, 231, 247, 226, 239, 228, 206, 205, 198, 231, 247, 226, 239, 228, 206, 205, 198, 231, 247, 226, 239, 228, 206, 205, 198, 231, 247, 226, 239, 228, 206, 205, 198, 231, 247, 226, 239, 228, 206, 205, 198, 231, 247, 226]\n",
      "[206.0, 205, 198, 231, 247, 226, 239, 228, 206, 205, 198, 231, 247, 226, 239, 228, 206, 205, 198, 231, 247, 226, 239, 228, 206, 205, 198, 231, 247, 226, 239, 228, 206, 205, 198, 231, 247, 226, 239, 228, 206, 205, 198, 231, 247, 226, 239, 228, 206, 205, 198, 231, 247, 226, 239, 228, 206, 205, 198, 231, 247, 226, 239, 228, 206, 205, 198, 231, 247, 226, 239, 228, 206, 205, 198, 231, 247, 226, 239, 228, 206, 205, 198, 231, 247, 226, 239, 228, 206, 205, 198, 231, 247, 226, 239, 228, 206, 205, 198, 231, 247]\n",
      "[207.0, 205, 198, 231, 247, 226, 239, 228, 206, 205, 198, 231, 247, 226, 239, 228, 206, 205, 198, 231, 247, 226, 239, 228, 206, 205, 198, 231, 247, 226, 239, 228, 206, 205, 198, 231, 247, 226, 239, 228, 206, 205, 198, 231, 247, 226, 239, 228, 206, 205, 198, 231, 247, 226, 239, 228, 206, 205, 198, 231, 247, 226, 239, 228, 206, 205, 198, 231, 247, 226, 239, 228, 206, 205, 198, 231, 247, 226, 239, 228, 206, 205, 198, 231, 247, 226, 239, 228, 206, 205, 198, 231, 247, 226, 239, 228, 206, 205, 198, 231, 247]\n",
      "[208.0, 238, 232, 216, 219, 200, 234, 251, 215, 239, 228, 206, 205, 198, 231, 247, 226, 239, 228, 206, 205, 198, 231, 247, 226, 239, 228, 206, 205, 198, 231, 247, 226, 239, 228, 206, 205, 198, 231, 247, 226, 239, 228, 206, 205, 198, 231, 247, 226, 239, 228, 206, 205, 198, 231, 247, 226, 239, 228, 206, 205, 198, 231, 247, 226, 239, 228, 206, 205, 198, 231, 247, 226, 239, 228, 206, 205, 198, 231, 247, 226, 239, 228, 206, 205, 198, 231, 247, 226, 239, 228, 206, 205, 198, 231, 247, 226, 239, 228, 206, 205]\n",
      "[209.0, 220, 217, 224, 229, 214, 227, 215, 239, 228, 206, 205, 198, 231, 247, 226, 239, 228, 206, 205, 198, 231, 247, 226, 239, 228, 206, 205, 198, 231, 247, 226, 239, 228, 206, 205, 198, 231, 247, 226, 239, 228, 206, 205, 198, 231, 247, 226, 239, 228, 206, 205, 198, 231, 247, 226, 239, 228, 206, 205, 198, 231, 247, 226, 239, 228, 206, 205, 198, 231, 247, 226, 239, 228, 206, 205, 198, 231, 247, 226, 239, 228, 206, 205, 198, 231, 247, 226, 239, 228, 206, 205, 198, 231, 247, 226, 239, 228, 206, 205, 198]\n",
      "[210.0, 213, 196, 175, 178, 180, 186, 164, 169, 173, 176, 177, 178, 180, 186, 164, 169, 173, 176, 177, 178, 180, 186, 164, 169, 173, 176, 177, 178, 180, 186, 164, 169, 173, 176, 177, 178, 180, 186, 164, 169, 173, 176, 177, 178, 180, 186, 164, 169, 173, 176, 177, 178, 180, 186, 164, 169, 173, 176, 177, 178, 180, 186, 164, 169, 173, 176, 177, 178, 180, 186, 164, 169, 173, 176, 177, 178, 180, 186, 164, 169, 173, 176, 177, 178, 180, 186, 164, 169, 173, 176, 177, 178, 180, 186, 164, 169, 173, 176, 177, 178]\n",
      "[211.0, 221, 227, 215, 239, 228, 206, 205, 198, 231, 247, 226, 239, 228, 206, 205, 198, 231, 247, 226, 239, 228, 206, 205, 198, 231, 247, 226, 239, 228, 206, 205, 198, 231, 247, 226, 239, 228, 206, 205, 198, 231, 247, 226, 239, 228, 206, 205, 198, 231, 247, 226, 239, 228, 206, 205, 198, 231, 247, 226, 239, 228, 206, 205, 198, 231, 247, 226, 239, 228, 206, 205, 198, 231, 247, 226, 239, 228, 206, 205, 198, 231, 247, 226, 239, 228, 206, 205, 198, 231, 247, 226, 239, 228, 206, 205, 198, 231, 247, 226, 239]\n",
      "[212.0, 183, 185, 158, 165, 172, 178, 180, 186, 164, 169, 173, 176, 177, 178, 180, 186, 164, 169, 173, 176, 177, 178, 180, 186, 164, 169, 173, 176, 177, 178, 180, 186, 164, 169, 173, 176, 177, 178, 180, 186, 164, 169, 173, 176, 177, 178, 180, 186, 164, 169, 173, 176, 177, 178, 180, 186, 164, 169, 173, 176, 177, 178, 180, 186, 164, 169, 173, 176, 177, 178, 180, 186, 164, 169, 173, 176, 177, 178, 180, 186, 164, 169, 173, 176, 177, 178, 180, 186, 164, 169, 173, 176, 177, 178, 180, 186, 164, 169, 173, 176]\n",
      "[213.0, 196, 175, 178, 180, 186, 164, 169, 173, 176, 177, 178, 180, 186, 164, 169, 173, 176, 177, 178, 180, 186, 164, 169, 173, 176, 177, 178, 180, 186, 164, 169, 173, 176, 177, 178, 180, 186, 164, 169, 173, 176, 177, 178, 180, 186, 164, 169, 173, 176, 177, 178, 180, 186, 164, 169, 173, 176, 177, 178, 180, 186, 164, 169, 173, 176, 177, 178, 180, 186, 164, 169, 173, 176, 177, 178, 180, 186, 164, 169, 173, 176, 177, 178, 180, 186, 164, 169, 173, 176, 177, 178, 180, 186, 164, 169, 173, 176, 177, 178, 180]\n",
      "[214.0, 227, 215, 239, 228, 206, 205, 198, 231, 247, 226, 239, 228, 206, 205, 198, 231, 247, 226, 239, 228, 206, 205, 198, 231, 247, 226, 239, 228, 206, 205, 198, 231, 247, 226, 239, 228, 206, 205, 198, 231, 247, 226, 239, 228, 206, 205, 198, 231, 247, 226, 239, 228, 206, 205, 198, 231, 247, 226, 239, 228, 206, 205, 198, 231, 247, 226, 239, 228, 206, 205, 198, 231, 247, 226, 239, 228, 206, 205, 198, 231, 247, 226, 239, 228, 206, 205, 198, 231, 247, 226, 239, 228, 206, 205, 198, 231, 247, 226, 239, 228]\n",
      "[215.0, 239, 228, 206, 205, 198, 231, 247, 226, 239, 228, 206, 205, 198, 231, 247, 226, 239, 228, 206, 205, 198, 231, 247, 226, 239, 228, 206, 205, 198, 231, 247, 226, 239, 228, 206, 205, 198, 231, 247, 226, 239, 228, 206, 205, 198, 231, 247, 226, 239, 228, 206, 205, 198, 231, 247, 226, 239, 228, 206, 205, 198, 231, 247, 226, 239, 228, 206, 205, 198, 231, 247, 226, 239, 228, 206, 205, 198, 231, 247, 226, 239, 228, 206, 205, 198, 231, 247, 226, 239, 228, 206, 205, 198, 231, 247, 226, 239, 228, 206, 205]\n",
      "[216.0, 219, 200, 234, 251, 215, 239, 228, 206, 205, 198, 231, 247, 226, 239, 228, 206, 205, 198, 231, 247, 226, 239, 228, 206, 205, 198, 231, 247, 226, 239, 228, 206, 205, 198, 231, 247, 226, 239, 228, 206, 205, 198, 231, 247, 226, 239, 228, 206, 205, 198, 231, 247, 226, 239, 228, 206, 205, 198, 231, 247, 226, 239, 228, 206, 205, 198, 231, 247, 226, 239, 228, 206, 205, 198, 231, 247, 226, 239, 228, 206, 205, 198, 231, 247, 226, 239, 228, 206, 205, 198, 231, 247, 226, 239, 228, 206, 205, 198, 231, 247]\n",
      "[217.0, 224, 229, 214, 227, 215, 239, 228, 206, 205, 198, 231, 247, 226, 239, 228, 206, 205, 198, 231, 247, 226, 239, 228, 206, 205, 198, 231, 247, 226, 239, 228, 206, 205, 198, 231, 247, 226, 239, 228, 206, 205, 198, 231, 247, 226, 239, 228, 206, 205, 198, 231, 247, 226, 239, 228, 206, 205, 198, 231, 247, 226, 239, 228, 206, 205, 198, 231, 247, 226, 239, 228, 206, 205, 198, 231, 247, 226, 239, 228, 206, 205, 198, 231, 247, 226, 239, 228, 206, 205, 198, 231, 247, 226, 239, 228, 206, 205, 198, 231, 247]\n",
      "[218.0, 191, 208, 238, 232, 216, 219, 200, 234, 251, 215, 239, 228, 206, 205, 198, 231, 247, 226, 239, 228, 206, 205, 198, 231, 247, 226, 239, 228, 206, 205, 198, 231, 247, 226, 239, 228, 206, 205, 198, 231, 247, 226, 239, 228, 206, 205, 198, 231, 247, 226, 239, 228, 206, 205, 198, 231, 247, 226, 239, 228, 206, 205, 198, 231, 247, 226, 239, 228, 206, 205, 198, 231, 247, 226, 239, 228, 206, 205, 198, 231, 247, 226, 239, 228, 206, 205, 198, 231, 247, 226, 239, 228, 206, 205, 198, 231, 247, 226, 239, 228]\n",
      "[219.0, 200, 234, 251, 215, 239, 228, 206, 205, 198, 231, 247, 226, 239, 228, 206, 205, 198, 231, 247, 226, 239, 228, 206, 205, 198, 231, 247, 226, 239, 228, 206, 205, 198, 231, 247, 226, 239, 228, 206, 205, 198, 231, 247, 226, 239, 228, 206, 205, 198, 231, 247, 226, 239, 228, 206, 205, 198, 231, 247, 226, 239, 228, 206, 205, 198, 231, 247, 226, 239, 228, 206, 205, 198, 231, 247, 226, 239, 228, 206, 205, 198, 231, 247, 226, 239, 228, 206, 205, 198, 231, 247, 226, 239, 228, 206, 205, 198, 231, 247, 226]\n",
      "[220.0, 217, 224, 229, 214, 227, 215, 239, 228, 206, 205, 198, 231, 247, 226, 239, 228, 206, 205, 198, 231, 247, 226, 239, 228, 206, 205, 198, 231, 247, 226, 239, 228, 206, 205, 198, 231, 247, 226, 239, 228, 206, 205, 198, 231, 247, 226, 239, 228, 206, 205, 198, 231, 247, 226, 239, 228, 206, 205, 198, 231, 247, 226, 239, 228, 206, 205, 198, 231, 247, 226, 239, 228, 206, 205, 198, 231, 247, 226, 239, 228, 206, 205, 198, 231, 247, 226, 239, 228, 206, 205, 198, 231, 247, 226, 239, 228, 206, 205, 198, 231]\n",
      "[221.0, 227, 215, 239, 228, 206, 205, 198, 231, 247, 226, 239, 228, 206, 205, 198, 231, 247, 226, 239, 228, 206, 205, 198, 231, 247, 226, 239, 228, 206, 205, 198, 231, 247, 226, 239, 228, 206, 205, 198, 231, 247, 226, 239, 228, 206, 205, 198, 231, 247, 226, 239, 228, 206, 205, 198, 231, 247, 226, 239, 228, 206, 205, 198, 231, 247, 226, 239, 228, 206, 205, 198, 231, 247, 226, 239, 228, 206, 205, 198, 231, 247, 226, 239, 228, 206, 205, 198, 231, 247, 226, 239, 228, 206, 205, 198, 231, 247, 226, 239, 228]\n",
      "[222.0, 250, 253, 247, 226, 239, 228, 206, 205, 198, 231, 247, 226, 239, 228, 206, 205, 198, 231, 247, 226, 239, 228, 206, 205, 198, 231, 247, 226, 239, 228, 206, 205, 198, 231, 247, 226, 239, 228, 206, 205, 198, 231, 247, 226, 239, 228, 206, 205, 198, 231, 247, 226, 239, 228, 206, 205, 198, 231, 247, 226, 239, 228, 206, 205, 198, 231, 247, 226, 239, 228, 206, 205, 198, 231, 247, 226, 239, 228, 206, 205, 198, 231, 247, 226, 239, 228, 206, 205, 198, 231, 247, 226, 239, 228, 206, 205, 198, 231, 247, 226]\n",
      "[223.0, 240, 238, 232, 216, 219, 200, 234, 251, 215, 239, 228, 206, 205, 198, 231, 247, 226, 239, 228, 206, 205, 198, 231, 247, 226, 239, 228, 206, 205, 198, 231, 247, 226, 239, 228, 206, 205, 198, 231, 247, 226, 239, 228, 206, 205, 198, 231, 247, 226, 239, 228, 206, 205, 198, 231, 247, 226, 239, 228, 206, 205, 198, 231, 247, 226, 239, 228, 206, 205, 198, 231, 247, 226, 239, 228, 206, 205, 198, 231, 247, 226, 239, 228, 206, 205, 198, 231, 247, 226, 239, 228, 206, 205, 198, 231, 247, 226, 239, 228, 206]\n",
      "[224.0, 229, 214, 227, 215, 239, 228, 206, 205, 198, 231, 247, 226, 239, 228, 206, 205, 198, 231, 247, 226, 239, 228, 206, 205, 198, 231, 247, 226, 239, 228, 206, 205, 198, 231, 247, 226, 239, 228, 206, 205, 198, 231, 247, 226, 239, 228, 206, 205, 198, 231, 247, 226, 239, 228, 206, 205, 198, 231, 247, 226, 239, 228, 206, 205, 198, 231, 247, 226, 239, 228, 206, 205, 198, 231, 247, 226, 239, 228, 206, 205, 198, 231, 247, 226, 239, 228, 206, 205, 198, 231, 247, 226, 239, 228, 206, 205, 198, 231, 247, 226]\n",
      "[225.0, 221, 227, 215, 239, 228, 206, 205, 198, 231, 247, 226, 239, 228, 206, 205, 198, 231, 247, 226, 239, 228, 206, 205, 198, 231, 247, 226, 239, 228, 206, 205, 198, 231, 247, 226, 239, 228, 206, 205, 198, 231, 247, 226, 239, 228, 206, 205, 198, 231, 247, 226, 239, 228, 206, 205, 198, 231, 247, 226, 239, 228, 206, 205, 198, 231, 247, 226, 239, 228, 206, 205, 198, 231, 247, 226, 239, 228, 206, 205, 198, 231, 247, 226, 239, 228, 206, 205, 198, 231, 247, 226, 239, 228, 206, 205, 198, 231, 247, 226, 239]\n",
      "[226.0, 239, 228, 206, 205, 198, 231, 247, 226, 239, 228, 206, 205, 198, 231, 247, 226, 239, 228, 206, 205, 198, 231, 247, 226, 239, 228, 206, 205, 198, 231, 247, 226, 239, 228, 206, 205, 198, 231, 247, 226, 239, 228, 206, 205, 198, 231, 247, 226, 239, 228, 206, 205, 198, 231, 247, 226, 239, 228, 206, 205, 198, 231, 247, 226, 239, 228, 206, 205, 198, 231, 247, 226, 239, 228, 206, 205, 198, 231, 247, 226, 239, 228, 206, 205, 198, 231, 247, 226, 239, 228, 206, 205, 198, 231, 247, 226, 239, 228, 206, 205]\n",
      "[227.0, 215, 239, 228, 206, 205, 198, 231, 247, 226, 239, 228, 206, 205, 198, 231, 247, 226, 239, 228, 206, 205, 198, 231, 247, 226, 239, 228, 206, 205, 198, 231, 247, 226, 239, 228, 206, 205, 198, 231, 247, 226, 239, 228, 206, 205, 198, 231, 247, 226, 239, 228, 206, 205, 198, 231, 247, 226, 239, 228, 206, 205, 198, 231, 247, 226, 239, 228, 206, 205, 198, 231, 247, 226, 239, 228, 206, 205, 198, 231, 247, 226, 239, 228, 206, 205, 198, 231, 247, 226, 239, 228, 206, 205, 198, 231, 247, 226, 239, 228, 206]\n",
      "[228.0, 206, 205, 198, 231, 247, 226, 239, 228, 206, 205, 198, 231, 247, 226, 239, 228, 206, 205, 198, 231, 247, 226, 239, 228, 206, 205, 198, 231, 247, 226, 239, 228, 206, 205, 198, 231, 247, 226, 239, 228, 206, 205, 198, 231, 247, 226, 239, 228, 206, 205, 198, 231, 247, 226, 239, 228, 206, 205, 198, 231, 247, 226, 239, 228, 206, 205, 198, 231, 247, 226, 239, 228, 206, 205, 198, 231, 247, 226, 239, 228, 206, 205, 198, 231, 247, 226, 239, 228, 206, 205, 198, 231, 247, 226, 239, 228, 206, 205, 198, 231]\n",
      "[229.0, 214, 227, 215, 239, 228, 206, 205, 198, 231, 247, 226, 239, 228, 206, 205, 198, 231, 247, 226, 239, 228, 206, 205, 198, 231, 247, 226, 239, 228, 206, 205, 198, 231, 247, 226, 239, 228, 206, 205, 198, 231, 247, 226, 239, 228, 206, 205, 198, 231, 247, 226, 239, 228, 206, 205, 198, 231, 247, 226, 239, 228, 206, 205, 198, 231, 247, 226, 239, 228, 206, 205, 198, 231, 247, 226, 239, 228, 206, 205, 198, 231, 247, 226, 239, 228, 206, 205, 198, 231, 247, 226, 239, 228, 206, 205, 198, 231, 247, 226, 239]\n",
      "[230.0, 249, 230, 249, 230, 249, 230, 249, 230, 249, 230, 249, 230, 249, 230, 249, 230, 249, 230, 249, 230, 249, 230, 249, 230, 249, 230, 249, 230, 249, 230, 249, 230, 249, 230, 249, 230, 249, 230, 249, 230, 249, 230, 249, 230, 249, 230, 249, 230, 249, 230, 249, 230, 249, 230, 249, 230, 249, 230, 249, 230, 249, 230, 249, 230, 249, 230, 249, 230, 249, 230, 249, 230, 249, 230, 249, 230, 249, 230, 249, 230, 249, 230, 249, 230, 249, 230, 249, 230, 249, 230, 249, 230, 249, 230, 249, 230, 249, 230, 249, 230]\n",
      "[231.0, 247, 226, 239, 228, 206, 205, 198, 231, 247, 226, 239, 228, 206, 205, 198, 231, 247, 226, 239, 228, 206, 205, 198, 231, 247, 226, 239, 228, 206, 205, 198, 231, 247, 226, 239, 228, 206, 205, 198, 231, 247, 226, 239, 228, 206, 205, 198, 231, 247, 226, 239, 228, 206, 205, 198, 231, 247, 226, 239, 228, 206, 205, 198, 231, 247, 226, 239, 228, 206, 205, 198, 231, 247, 226, 239, 228, 206, 205, 198, 231, 247, 226, 239, 228, 206, 205, 198, 231, 247, 226, 239, 228, 206, 205, 198, 231, 247, 226, 239, 228]\n",
      "[232.0, 216, 219, 200, 234, 251, 215, 239, 228, 206, 205, 198, 231, 247, 226, 239, 228, 206, 205, 198, 231, 247, 226, 239, 228, 206, 205, 198, 231, 247, 226, 239, 228, 206, 205, 198, 231, 247, 226, 239, 228, 206, 205, 198, 231, 247, 226, 239, 228, 206, 205, 198, 231, 247, 226, 239, 228, 206, 205, 198, 231, 247, 226, 239, 228, 206, 205, 198, 231, 247, 226, 239, 228, 206, 205, 198, 231, 247, 226, 239, 228, 206, 205, 198, 231, 247, 226, 239, 228, 206, 205, 198, 231, 247, 226, 239, 228, 206, 205, 198, 231]\n",
      "[233.0, 245, 237, 215, 239, 228, 206, 205, 198, 231, 247, 226, 239, 228, 206, 205, 198, 231, 247, 226, 239, 228, 206, 205, 198, 231, 247, 226, 239, 228, 206, 205, 198, 231, 247, 226, 239, 228, 206, 205, 198, 231, 247, 226, 239, 228, 206, 205, 198, 231, 247, 226, 239, 228, 206, 205, 198, 231, 247, 226, 239, 228, 206, 205, 198, 231, 247, 226, 239, 228, 206, 205, 198, 231, 247, 226, 239, 228, 206, 205, 198, 231, 247, 226, 239, 228, 206, 205, 198, 231, 247, 226, 239, 228, 206, 205, 198, 231, 247, 226, 239]\n",
      "[234.0, 251, 215, 239, 228, 206, 205, 198, 231, 247, 226, 239, 228, 206, 205, 198, 231, 247, 226, 239, 228, 206, 205, 198, 231, 247, 226, 239, 228, 206, 205, 198, 231, 247, 226, 239, 228, 206, 205, 198, 231, 247, 226, 239, 228, 206, 205, 198, 231, 247, 226, 239, 228, 206, 205, 198, 231, 247, 226, 239, 228, 206, 205, 198, 231, 247, 226, 239, 228, 206, 205, 198, 231, 247, 226, 239, 228, 206, 205, 198, 231, 247, 226, 239, 228, 206, 205, 198, 231, 247, 226, 239, 228, 206, 205, 198, 231, 247, 226, 239, 228]\n",
      "[235.0, 238, 232, 216, 219, 200, 234, 251, 215, 239, 228, 206, 205, 198, 231, 247, 226, 239, 228, 206, 205, 198, 231, 247, 226, 239, 228, 206, 205, 198, 231, 247, 226, 239, 228, 206, 205, 198, 231, 247, 226, 239, 228, 206, 205, 198, 231, 247, 226, 239, 228, 206, 205, 198, 231, 247, 226, 239, 228, 206, 205, 198, 231, 247, 226, 239, 228, 206, 205, 198, 231, 247, 226, 239, 228, 206, 205, 198, 231, 247, 226, 239, 228, 206, 205, 198, 231, 247, 226, 239, 228, 206, 205, 198, 231, 247, 226, 239, 228, 206, 205]\n",
      "[236.0, 228, 206, 205, 198, 231, 247, 226, 239, 228, 206, 205, 198, 231, 247, 226, 239, 228, 206, 205, 198, 231, 247, 226, 239, 228, 206, 205, 198, 231, 247, 226, 239, 228, 206, 205, 198, 231, 247, 226, 239, 228, 206, 205, 198, 231, 247, 226, 239, 228, 206, 205, 198, 231, 247, 226, 239, 228, 206, 205, 198, 231, 247, 226, 239, 228, 206, 205, 198, 231, 247, 226, 239, 228, 206, 205, 198, 231, 247, 226, 239, 228, 206, 205, 198, 231, 247, 226, 239, 228, 206, 205, 198, 231, 247, 226, 239, 228, 206, 205, 198]\n",
      "[237.0, 215, 239, 228, 206, 205, 198, 231, 247, 226, 239, 228, 206, 205, 198, 231, 247, 226, 239, 228, 206, 205, 198, 231, 247, 226, 239, 228, 206, 205, 198, 231, 247, 226, 239, 228, 206, 205, 198, 231, 247, 226, 239, 228, 206, 205, 198, 231, 247, 226, 239, 228, 206, 205, 198, 231, 247, 226, 239, 228, 206, 205, 198, 231, 247, 226, 239, 228, 206, 205, 198, 231, 247, 226, 239, 228, 206, 205, 198, 231, 247, 226, 239, 228, 206, 205, 198, 231, 247, 226, 239, 228, 206, 205, 198, 231, 247, 226, 239, 228, 206]\n",
      "[238.0, 232, 216, 219, 200, 234, 251, 215, 239, 228, 206, 205, 198, 231, 247, 226, 239, 228, 206, 205, 198, 231, 247, 226, 239, 228, 206, 205, 198, 231, 247, 226, 239, 228, 206, 205, 198, 231, 247, 226, 239, 228, 206, 205, 198, 231, 247, 226, 239, 228, 206, 205, 198, 231, 247, 226, 239, 228, 206, 205, 198, 231, 247, 226, 239, 228, 206, 205, 198, 231, 247, 226, 239, 228, 206, 205, 198, 231, 247, 226, 239, 228, 206, 205, 198, 231, 247, 226, 239, 228, 206, 205, 198, 231, 247, 226, 239, 228, 206, 205, 198]\n",
      "[239.0, 228, 206, 205, 198, 231, 247, 226, 239, 228, 206, 205, 198, 231, 247, 226, 239, 228, 206, 205, 198, 231, 247, 226, 239, 228, 206, 205, 198, 231, 247, 226, 239, 228, 206, 205, 198, 231, 247, 226, 239, 228, 206, 205, 198, 231, 247, 226, 239, 228, 206, 205, 198, 231, 247, 226, 239, 228, 206, 205, 198, 231, 247, 226, 239, 228, 206, 205, 198, 231, 247, 226, 239, 228, 206, 205, 198, 231, 247, 226, 239, 228, 206, 205, 198, 231, 247, 226, 239, 228, 206, 205, 198, 231, 247, 226, 239, 228, 206, 205, 198]\n",
      "[240.0, 238, 232, 216, 219, 200, 234, 251, 215, 239, 228, 206, 205, 198, 231, 247, 226, 239, 228, 206, 205, 198, 231, 247, 226, 239, 228, 206, 205, 198, 231, 247, 226, 239, 228, 206, 205, 198, 231, 247, 226, 239, 228, 206, 205, 198, 231, 247, 226, 239, 228, 206, 205, 198, 231, 247, 226, 239, 228, 206, 205, 198, 231, 247, 226, 239, 228, 206, 205, 198, 231, 247, 226, 239, 228, 206, 205, 198, 231, 247, 226, 239, 228, 206, 205, 198, 231, 247, 226, 239, 228, 206, 205, 198, 231, 247, 226, 239, 228, 206, 205]\n",
      "[241.0, 255, 287, 259, 225, 221, 227, 215, 239, 228, 206, 205, 198, 231, 247, 226, 239, 228, 206, 205, 198, 231, 247, 226, 239, 228, 206, 205, 198, 231, 247, 226, 239, 228, 206, 205, 198, 231, 247, 226, 239, 228, 206, 205, 198, 231, 247, 226, 239, 228, 206, 205, 198, 231, 247, 226, 239, 228, 206, 205, 198, 231, 247, 226, 239, 228, 206, 205, 198, 231, 247, 226, 239, 228, 206, 205, 198, 231, 247, 226, 239, 228, 206, 205, 198, 231, 247, 226, 239, 228, 206, 205, 198, 231, 247, 226, 239, 228, 206, 205, 198]\n",
      "[242.0, 236, 228, 206, 205, 198, 231, 247, 226, 239, 228, 206, 205, 198, 231, 247, 226, 239, 228, 206, 205, 198, 231, 247, 226, 239, 228, 206, 205, 198, 231, 247, 226, 239, 228, 206, 205, 198, 231, 247, 226, 239, 228, 206, 205, 198, 231, 247, 226, 239, 228, 206, 205, 198, 231, 247, 226, 239, 228, 206, 205, 198, 231, 247, 226, 239, 228, 206, 205, 198, 231, 247, 226, 239, 228, 206, 205, 198, 231, 247, 226, 239, 228, 206, 205, 198, 231, 247, 226, 239, 228, 206, 205, 198, 231, 247, 226, 239, 228, 206, 205]\n",
      "[243.0, 244, 235, 238, 232, 216, 219, 200, 234, 251, 215, 239, 228, 206, 205, 198, 231, 247, 226, 239, 228, 206, 205, 198, 231, 247, 226, 239, 228, 206, 205, 198, 231, 247, 226, 239, 228, 206, 205, 198, 231, 247, 226, 239, 228, 206, 205, 198, 231, 247, 226, 239, 228, 206, 205, 198, 231, 247, 226, 239, 228, 206, 205, 198, 231, 247, 226, 239, 228, 206, 205, 198, 231, 247, 226, 239, 228, 206, 205, 198, 231, 247, 226, 239, 228, 206, 205, 198, 231, 247, 226, 239, 228, 206, 205, 198, 231, 247, 226, 239, 228]\n",
      "[244.0, 235, 238, 232, 216, 219, 200, 234, 251, 215, 239, 228, 206, 205, 198, 231, 247, 226, 239, 228, 206, 205, 198, 231, 247, 226, 239, 228, 206, 205, 198, 231, 247, 226, 239, 228, 206, 205, 198, 231, 247, 226, 239, 228, 206, 205, 198, 231, 247, 226, 239, 228, 206, 205, 198, 231, 247, 226, 239, 228, 206, 205, 198, 231, 247, 226, 239, 228, 206, 205, 198, 231, 247, 226, 239, 228, 206, 205, 198, 231, 247, 226, 239, 228, 206, 205, 198, 231, 247, 226, 239, 228, 206, 205, 198, 231, 247, 226, 239, 228, 206]\n",
      "[245.0, 237, 215, 239, 228, 206, 205, 198, 231, 247, 226, 239, 228, 206, 205, 198, 231, 247, 226, 239, 228, 206, 205, 198, 231, 247, 226, 239, 228, 206, 205, 198, 231, 247, 226, 239, 228, 206, 205, 198, 231, 247, 226, 239, 228, 206, 205, 198, 231, 247, 226, 239, 228, 206, 205, 198, 231, 247, 226, 239, 228, 206, 205, 198, 231, 247, 226, 239, 228, 206, 205, 198, 231, 247, 226, 239, 228, 206, 205, 198, 231, 247, 226, 239, 228, 206, 205, 198, 231, 247, 226, 239, 228, 206, 205, 198, 231, 247, 226, 239, 228]\n",
      "[246.0, 205, 198, 231, 247, 226, 239, 228, 206, 205, 198, 231, 247, 226, 239, 228, 206, 205, 198, 231, 247, 226, 239, 228, 206, 205, 198, 231, 247, 226, 239, 228, 206, 205, 198, 231, 247, 226, 239, 228, 206, 205, 198, 231, 247, 226, 239, 228, 206, 205, 198, 231, 247, 226, 239, 228, 206, 205, 198, 231, 247, 226, 239, 228, 206, 205, 198, 231, 247, 226, 239, 228, 206, 205, 198, 231, 247, 226, 239, 228, 206, 205, 198, 231, 247, 226, 239, 228, 206, 205, 198, 231, 247, 226, 239, 228, 206, 205, 198, 231, 247]\n",
      "[247.0, 226, 239, 228, 206, 205, 198, 231, 247, 226, 239, 228, 206, 205, 198, 231, 247, 226, 239, 228, 206, 205, 198, 231, 247, 226, 239, 228, 206, 205, 198, 231, 247, 226, 239, 228, 206, 205, 198, 231, 247, 226, 239, 228, 206, 205, 198, 231, 247, 226, 239, 228, 206, 205, 198, 231, 247, 226, 239, 228, 206, 205, 198, 231, 247, 226, 239, 228, 206, 205, 198, 231, 247, 226, 239, 228, 206, 205, 198, 231, 247, 226, 239, 228, 206, 205, 198, 231, 247, 226, 239, 228, 206, 205, 198, 231, 247, 226, 239, 228, 206]\n",
      "[248.0, 255, 287, 259, 225, 221, 227, 215, 239, 228, 206, 205, 198, 231, 247, 226, 239, 228, 206, 205, 198, 231, 247, 226, 239, 228, 206, 205, 198, 231, 247, 226, 239, 228, 206, 205, 198, 231, 247, 226, 239, 228, 206, 205, 198, 231, 247, 226, 239, 228, 206, 205, 198, 231, 247, 226, 239, 228, 206, 205, 198, 231, 247, 226, 239, 228, 206, 205, 198, 231, 247, 226, 239, 228, 206, 205, 198, 231, 247, 226, 239, 228, 206, 205, 198, 231, 247, 226, 239, 228, 206, 205, 198, 231, 247, 226, 239, 228, 206, 205, 198]\n",
      "[249.0, 230, 249, 230, 249, 230, 249, 230, 249, 230, 249, 230, 249, 230, 249, 230, 249, 230, 249, 230, 249, 230, 249, 230, 249, 230, 249, 230, 249, 230, 249, 230, 249, 230, 249, 230, 249, 230, 249, 230, 249, 230, 249, 230, 249, 230, 249, 230, 249, 230, 249, 230, 249, 230, 249, 230, 249, 230, 249, 230, 249, 230, 249, 230, 249, 230, 249, 230, 249, 230, 249, 230, 249, 230, 249, 230, 249, 230, 249, 230, 249, 230, 249, 230, 249, 230, 249, 230, 249, 230, 249, 230, 249, 230, 249, 230, 249, 230, 249, 230, 249]\n",
      "[250.0, 253, 247, 226, 239, 228, 206, 205, 198, 231, 247, 226, 239, 228, 206, 205, 198, 231, 247, 226, 239, 228, 206, 205, 198, 231, 247, 226, 239, 228, 206, 205, 198, 231, 247, 226, 239, 228, 206, 205, 198, 231, 247, 226, 239, 228, 206, 205, 198, 231, 247, 226, 239, 228, 206, 205, 198, 231, 247, 226, 239, 228, 206, 205, 198, 231, 247, 226, 239, 228, 206, 205, 198, 231, 247, 226, 239, 228, 206, 205, 198, 231, 247, 226, 239, 228, 206, 205, 198, 231, 247, 226, 239, 228, 206, 205, 198, 231, 247, 226, 239]\n",
      "[251.0, 215, 239, 228, 206, 205, 198, 231, 247, 226, 239, 228, 206, 205, 198, 231, 247, 226, 239, 228, 206, 205, 198, 231, 247, 226, 239, 228, 206, 205, 198, 231, 247, 226, 239, 228, 206, 205, 198, 231, 247, 226, 239, 228, 206, 205, 198, 231, 247, 226, 239, 228, 206, 205, 198, 231, 247, 226, 239, 228, 206, 205, 198, 231, 247, 226, 239, 228, 206, 205, 198, 231, 247, 226, 239, 228, 206, 205, 198, 231, 247, 226, 239, 228, 206, 205, 198, 231, 247, 226, 239, 228, 206, 205, 198, 231, 247, 226, 239, 228, 206]\n",
      "[252.0, 236, 228, 206, 205, 198, 231, 247, 226, 239, 228, 206, 205, 198, 231, 247, 226, 239, 228, 206, 205, 198, 231, 247, 226, 239, 228, 206, 205, 198, 231, 247, 226, 239, 228, 206, 205, 198, 231, 247, 226, 239, 228, 206, 205, 198, 231, 247, 226, 239, 228, 206, 205, 198, 231, 247, 226, 239, 228, 206, 205, 198, 231, 247, 226, 239, 228, 206, 205, 198, 231, 247, 226, 239, 228, 206, 205, 198, 231, 247, 226, 239, 228, 206, 205, 198, 231, 247, 226, 239, 228, 206, 205, 198, 231, 247, 226, 239, 228, 206, 205]\n",
      "[253.0, 247, 226, 239, 228, 206, 205, 198, 231, 247, 226, 239, 228, 206, 205, 198, 231, 247, 226, 239, 228, 206, 205, 198, 231, 247, 226, 239, 228, 206, 205, 198, 231, 247, 226, 239, 228, 206, 205, 198, 231, 247, 226, 239, 228, 206, 205, 198, 231, 247, 226, 239, 228, 206, 205, 198, 231, 247, 226, 239, 228, 206, 205, 198, 231, 247, 226, 239, 228, 206, 205, 198, 231, 247, 226, 239, 228, 206, 205, 198, 231, 247, 226, 239, 228, 206, 205, 198, 231, 247, 226, 239, 228, 206, 205, 198, 231, 247, 226, 239, 228]\n",
      "[254.0, 263, 249, 230, 249, 230, 249, 230, 249, 230, 249, 230, 249, 230, 249, 230, 249, 230, 249, 230, 249, 230, 249, 230, 249, 230, 249, 230, 249, 230, 249, 230, 249, 230, 249, 230, 249, 230, 249, 230, 249, 230, 249, 230, 249, 230, 249, 230, 249, 230, 249, 230, 249, 230, 249, 230, 249, 230, 249, 230, 249, 230, 249, 230, 249, 230, 249, 230, 249, 230, 249, 230, 249, 230, 249, 230, 249, 230, 249, 230, 249, 230, 249, 230, 249, 230, 249, 230, 249, 230, 249, 230, 249, 230, 249, 230, 249, 230, 249, 230, 249]\n",
      "[255.0, 287, 259, 225, 221, 227, 215, 239, 228, 206, 205, 198, 231, 247, 226, 239, 228, 206, 205, 198, 231, 247, 226, 239, 228, 206, 205, 198, 231, 247, 226, 239, 228, 206, 205, 198, 231, 247, 226, 239, 228, 206, 205, 198, 231, 247, 226, 239, 228, 206, 205, 198, 231, 247, 226, 239, 228, 206, 205, 198, 231, 247, 226, 239, 228, 206, 205, 198, 231, 247, 226, 239, 228, 206, 205, 198, 231, 247, 226, 239, 228, 206, 205, 198, 231, 247, 226, 239, 228, 206, 205, 198, 231, 247, 226, 239, 228, 206, 205, 198, 231]\n",
      "[256.0, 267, 299, 322, 322]\n",
      "[257.0, 261, 239, 228, 206, 205, 198, 231, 247, 226, 239, 228, 206, 205, 198, 231, 247, 226, 239, 228, 206, 205, 198, 231, 247, 226, 239, 228, 206, 205, 198, 231, 247, 226, 239, 228, 206, 205, 198, 231, 247, 226, 239, 228, 206, 205, 198, 231, 247, 226, 239, 228, 206, 205, 198, 231, 247, 226, 239, 228, 206, 205, 198, 231, 247, 226, 239, 228, 206, 205, 198, 231, 247, 226, 239, 228, 206, 205, 198, 231, 247, 226, 239, 228, 206, 205, 198, 231, 247, 226, 239, 228, 206, 205, 198, 231, 247, 226, 239, 228, 206]\n",
      "[258.0, 245, 237, 215, 239, 228, 206, 205, 198, 231, 247, 226, 239, 228, 206, 205, 198, 231, 247, 226, 239, 228, 206, 205, 198, 231, 247, 226, 239, 228, 206, 205, 198, 231, 247, 226, 239, 228, 206, 205, 198, 231, 247, 226, 239, 228, 206, 205, 198, 231, 247, 226, 239, 228, 206, 205, 198, 231, 247, 226, 239, 228, 206, 205, 198, 231, 247, 226, 239, 228, 206, 205, 198, 231, 247, 226, 239, 228, 206, 205, 198, 231, 247, 226, 239, 228, 206, 205, 198, 231, 247, 226, 239, 228, 206, 205, 198, 231, 247, 226, 239]\n",
      "[259.0, 225, 221, 227, 215, 239, 228, 206, 205, 198, 231, 247, 226, 239, 228, 206, 205, 198, 231, 247, 226, 239, 228, 206, 205, 198, 231, 247, 226, 239, 228, 206, 205, 198, 231, 247, 226, 239, 228, 206, 205, 198, 231, 247, 226, 239, 228, 206, 205, 198, 231, 247, 226, 239, 228, 206, 205, 198, 231, 247, 226, 239, 228, 206, 205, 198, 231, 247, 226, 239, 228, 206, 205, 198, 231, 247, 226, 239, 228, 206, 205, 198, 231, 247, 226, 239, 228, 206, 205, 198, 231, 247, 226, 239, 228, 206, 205, 198, 231, 247, 226]\n",
      "[260.0, 240, 238, 232, 216, 219, 200, 234, 251, 215, 239, 228, 206, 205, 198, 231, 247, 226, 239, 228, 206, 205, 198, 231, 247, 226, 239, 228, 206, 205, 198, 231, 247, 226, 239, 228, 206, 205, 198, 231, 247, 226, 239, 228, 206, 205, 198, 231, 247, 226, 239, 228, 206, 205, 198, 231, 247, 226, 239, 228, 206, 205, 198, 231, 247, 226, 239, 228, 206, 205, 198, 231, 247, 226, 239, 228, 206, 205, 198, 231, 247, 226, 239, 228, 206, 205, 198, 231, 247, 226, 239, 228, 206, 205, 198, 231, 247, 226, 239, 228, 206]\n",
      "[261.0, 239, 228, 206, 205, 198, 231, 247, 226, 239, 228, 206, 205, 198, 231, 247, 226, 239, 228, 206, 205, 198, 231, 247, 226, 239, 228, 206, 205, 198, 231, 247, 226, 239, 228, 206, 205, 198, 231, 247, 226, 239, 228, 206, 205, 198, 231, 247, 226, 239, 228, 206, 205, 198, 231, 247, 226, 239, 228, 206, 205, 198, 231, 247, 226, 239, 228, 206, 205, 198, 231, 247, 226, 239, 228, 206, 205, 198, 231, 247, 226, 239, 228, 206, 205, 198, 231, 247, 226, 239, 228, 206, 205, 198, 231, 247, 226, 239, 228, 206, 205]\n",
      "[262.0, 227, 215, 239, 228, 206, 205, 198, 231, 247, 226, 239, 228, 206, 205, 198, 231, 247, 226, 239, 228, 206, 205, 198, 231, 247, 226, 239, 228, 206, 205, 198, 231, 247, 226, 239, 228, 206, 205, 198, 231, 247, 226, 239, 228, 206, 205, 198, 231, 247, 226, 239, 228, 206, 205, 198, 231, 247, 226, 239, 228, 206, 205, 198, 231, 247, 226, 239, 228, 206, 205, 198, 231, 247, 226, 239, 228, 206, 205, 198, 231, 247, 226, 239, 228, 206, 205, 198, 231, 247, 226, 239, 228, 206, 205, 198, 231, 247, 226, 239, 228]\n",
      "[263.0, 249, 230, 249, 230, 249, 230, 249, 230, 249, 230, 249, 230, 249, 230, 249, 230, 249, 230, 249, 230, 249, 230, 249, 230, 249, 230, 249, 230, 249, 230, 249, 230, 249, 230, 249, 230, 249, 230, 249, 230, 249, 230, 249, 230, 249, 230, 249, 230, 249, 230, 249, 230, 249, 230, 249, 230, 249, 230, 249, 230, 249, 230, 249, 230, 249, 230, 249, 230, 249, 230, 249, 230, 249, 230, 249, 230, 249, 230, 249, 230, 249, 230, 249, 230, 249, 230, 249, 230, 249, 230, 249, 230, 249, 230, 249, 230, 249, 230, 249, 230]\n",
      "[264.0, 237, 215, 239, 228, 206, 205, 198, 231, 247, 226, 239, 228, 206, 205, 198, 231, 247, 226, 239, 228, 206, 205, 198, 231, 247, 226, 239, 228, 206, 205, 198, 231, 247, 226, 239, 228, 206, 205, 198, 231, 247, 226, 239, 228, 206, 205, 198, 231, 247, 226, 239, 228, 206, 205, 198, 231, 247, 226, 239, 228, 206, 205, 198, 231, 247, 226, 239, 228, 206, 205, 198, 231, 247, 226, 239, 228, 206, 205, 198, 231, 247, 226, 239, 228, 206, 205, 198, 231, 247, 226, 239, 228, 206, 205, 198, 231, 247, 226, 239, 228]\n",
      "[265.0, 261, 239, 228, 206, 205, 198, 231, 247, 226, 239, 228, 206, 205, 198, 231, 247, 226, 239, 228, 206, 205, 198, 231, 247, 226, 239, 228, 206, 205, 198, 231, 247, 226, 239, 228, 206, 205, 198, 231, 247, 226, 239, 228, 206, 205, 198, 231, 247, 226, 239, 228, 206, 205, 198, 231, 247, 226, 239, 228, 206, 205, 198, 231, 247, 226, 239, 228, 206, 205, 198, 231, 247, 226, 239, 228, 206, 205, 198, 231, 247, 226, 239, 228, 206, 205, 198, 231, 247, 226, 239, 228, 206, 205, 198, 231, 247, 226, 239, 228, 206]\n",
      "[266.0, 241, 255, 287, 259, 225, 221, 227, 215, 239, 228, 206, 205, 198, 231, 247, 226, 239, 228, 206, 205, 198, 231, 247, 226, 239, 228, 206, 205, 198, 231, 247, 226, 239, 228, 206, 205, 198, 231, 247, 226, 239, 228, 206, 205, 198, 231, 247, 226, 239, 228, 206, 205, 198, 231, 247, 226, 239, 228, 206, 205, 198, 231, 247, 226, 239, 228, 206, 205, 198, 231, 247, 226, 239, 228, 206, 205, 198, 231, 247, 226, 239, 228, 206, 205, 198, 231, 247, 226, 239, 228, 206, 205, 198, 231, 247, 226, 239, 228, 206, 205]\n",
      "[267.0, 299, 322, 322]\n",
      "[268.0, 263, 249, 230, 249, 230, 249, 230, 249, 230, 249, 230, 249, 230, 249, 230, 249, 230, 249, 230, 249, 230, 249, 230, 249, 230, 249, 230, 249, 230, 249, 230, 249, 230, 249, 230, 249, 230, 249, 230, 249, 230, 249, 230, 249, 230, 249, 230, 249, 230, 249, 230, 249, 230, 249, 230, 249, 230, 249, 230, 249, 230, 249, 230, 249, 230, 249, 230, 249, 230, 249, 230, 249, 230, 249, 230, 249, 230, 249, 230, 249, 230, 249, 230, 249, 230, 249, 230, 249, 230, 249, 230, 249, 230, 249, 230, 249, 230, 249, 230, 249]\n",
      "[269.0, 263, 249, 230, 249, 230, 249, 230, 249, 230, 249, 230, 249, 230, 249, 230, 249, 230, 249, 230, 249, 230, 249, 230, 249, 230, 249, 230, 249, 230, 249, 230, 249, 230, 249, 230, 249, 230, 249, 230, 249, 230, 249, 230, 249, 230, 249, 230, 249, 230, 249, 230, 249, 230, 249, 230, 249, 230, 249, 230, 249, 230, 249, 230, 249, 230, 249, 230, 249, 230, 249, 230, 249, 230, 249, 230, 249, 230, 249, 230, 249, 230, 249, 230, 249, 230, 249, 230, 249, 230, 249, 230, 249, 230, 249, 230, 249, 230, 249, 230, 249]\n",
      "[270.0, 302, 302]\n",
      "[271.0, 258, 245, 237, 215, 239, 228, 206, 205, 198, 231, 247, 226, 239, 228, 206, 205, 198, 231, 247, 226, 239, 228, 206, 205, 198, 231, 247, 226, 239, 228, 206, 205, 198, 231, 247, 226, 239, 228, 206, 205, 198, 231, 247, 226, 239, 228, 206, 205, 198, 231, 247, 226, 239, 228, 206, 205, 198, 231, 247, 226, 239, 228, 206, 205, 198, 231, 247, 226, 239, 228, 206, 205, 198, 231, 247, 226, 239, 228, 206, 205, 198, 231, 247, 226, 239, 228, 206, 205, 198, 231, 247, 226, 239, 228, 206, 205, 198, 231, 247, 226]\n",
      "[272.0, 279, 274, 288, 254, 263, 249, 230, 249, 230, 249, 230, 249, 230, 249, 230, 249, 230, 249, 230, 249, 230, 249, 230, 249, 230, 249, 230, 249, 230, 249, 230, 249, 230, 249, 230, 249, 230, 249, 230, 249, 230, 249, 230, 249, 230, 249, 230, 249, 230, 249, 230, 249, 230, 249, 230, 249, 230, 249, 230, 249, 230, 249, 230, 249, 230, 249, 230, 249, 230, 249, 230, 249, 230, 249, 230, 249, 230, 249, 230, 249, 230, 249, 230, 249, 230, 249, 230, 249, 230, 249, 230, 249, 230, 249, 230, 249, 230, 249, 230, 249]\n",
      "[273.0, 275, 301, 301]\n",
      "[274.0, 288, 254, 263, 249, 230, 249, 230, 249, 230, 249, 230, 249, 230, 249, 230, 249, 230, 249, 230, 249, 230, 249, 230, 249, 230, 249, 230, 249, 230, 249, 230, 249, 230, 249, 230, 249, 230, 249, 230, 249, 230, 249, 230, 249, 230, 249, 230, 249, 230, 249, 230, 249, 230, 249, 230, 249, 230, 249, 230, 249, 230, 249, 230, 249, 230, 249, 230, 249, 230, 249, 230, 249, 230, 249, 230, 249, 230, 249, 230, 249, 230, 249, 230, 249, 230, 249, 230, 249, 230, 249, 230, 249, 230, 249, 230, 249, 230, 249, 230, 249]\n",
      "[275.0, 301, 301]\n",
      "[276.0, 285, 262, 227, 215, 239, 228, 206, 205, 198, 231, 247, 226, 239, 228, 206, 205, 198, 231, 247, 226, 239, 228, 206, 205, 198, 231, 247, 226, 239, 228, 206, 205, 198, 231, 247, 226, 239, 228, 206, 205, 198, 231, 247, 226, 239, 228, 206, 205, 198, 231, 247, 226, 239, 228, 206, 205, 198, 231, 247, 226, 239, 228, 206, 205, 198, 231, 247, 226, 239, 228, 206, 205, 198, 231, 247, 226, 239, 228, 206, 205, 198, 231, 247, 226, 239, 228, 206, 205, 198, 231, 247, 226, 239, 228, 206, 205, 198, 231, 247, 226]\n",
      "[277.0, 299, 322, 322]\n",
      "[278.0, 265, 261, 239, 228, 206, 205, 198, 231, 247, 226, 239, 228, 206, 205, 198, 231, 247, 226, 239, 228, 206, 205, 198, 231, 247, 226, 239, 228, 206, 205, 198, 231, 247, 226, 239, 228, 206, 205, 198, 231, 247, 226, 239, 228, 206, 205, 198, 231, 247, 226, 239, 228, 206, 205, 198, 231, 247, 226, 239, 228, 206, 205, 198, 231, 247, 226, 239, 228, 206, 205, 198, 231, 247, 226, 239, 228, 206, 205, 198, 231, 247, 226, 239, 228, 206, 205, 198, 231, 247, 226, 239, 228, 206, 205, 198, 231, 247, 226, 239, 228]\n",
      "[279.0, 274, 288, 254, 263, 249, 230, 249, 230, 249, 230, 249, 230, 249, 230, 249, 230, 249, 230, 249, 230, 249, 230, 249, 230, 249, 230, 249, 230, 249, 230, 249, 230, 249, 230, 249, 230, 249, 230, 249, 230, 249, 230, 249, 230, 249, 230, 249, 230, 249, 230, 249, 230, 249, 230, 249, 230, 249, 230, 249, 230, 249, 230, 249, 230, 249, 230, 249, 230, 249, 230, 249, 230, 249, 230, 249, 230, 249, 230, 249, 230, 249, 230, 249, 230, 249, 230, 249, 230, 249, 230, 249, 230, 249, 230, 249, 230, 249, 230, 249, 230]\n",
      "[280.0, 293, 304, 304]\n",
      "[281.0, 275, 301, 301]\n",
      "[282.0, 309, 309]\n",
      "[283.0, 340, 340]\n",
      "[284.0, 260, 240, 238, 232, 216, 219, 200, 234, 251, 215, 239, 228, 206, 205, 198, 231, 247, 226, 239, 228, 206, 205, 198, 231, 247, 226, 239, 228, 206, 205, 198, 231, 247, 226, 239, 228, 206, 205, 198, 231, 247, 226, 239, 228, 206, 205, 198, 231, 247, 226, 239, 228, 206, 205, 198, 231, 247, 226, 239, 228, 206, 205, 198, 231, 247, 226, 239, 228, 206, 205, 198, 231, 247, 226, 239, 228, 206, 205, 198, 231, 247, 226, 239, 228, 206, 205, 198, 231, 247, 226, 239, 228, 206, 205, 198, 231, 247, 226, 239, 228]\n",
      "[285.0, 262, 227, 215, 239, 228, 206, 205, 198, 231, 247, 226, 239, 228, 206, 205, 198, 231, 247, 226, 239, 228, 206, 205, 198, 231, 247, 226, 239, 228, 206, 205, 198, 231, 247, 226, 239, 228, 206, 205, 198, 231, 247, 226, 239, 228, 206, 205, 198, 231, 247, 226, 239, 228, 206, 205, 198, 231, 247, 226, 239, 228, 206, 205, 198, 231, 247, 226, 239, 228, 206, 205, 198, 231, 247, 226, 239, 228, 206, 205, 198, 231, 247, 226, 239, 228, 206, 205, 198, 231, 247, 226, 239, 228, 206, 205, 198, 231, 247, 226, 239]\n",
      "[286.0, 242, 236, 228, 206, 205, 198, 231, 247, 226, 239, 228, 206, 205, 198, 231, 247, 226, 239, 228, 206, 205, 198, 231, 247, 226, 239, 228, 206, 205, 198, 231, 247, 226, 239, 228, 206, 205, 198, 231, 247, 226, 239, 228, 206, 205, 198, 231, 247, 226, 239, 228, 206, 205, 198, 231, 247, 226, 239, 228, 206, 205, 198, 231, 247, 226, 239, 228, 206, 205, 198, 231, 247, 226, 239, 228, 206, 205, 198, 231, 247, 226, 239, 228, 206, 205, 198, 231, 247, 226, 239, 228, 206, 205, 198, 231, 247, 226, 239, 228, 206]\n",
      "[287.0, 259, 225, 221, 227, 215, 239, 228, 206, 205, 198, 231, 247, 226, 239, 228, 206, 205, 198, 231, 247, 226, 239, 228, 206, 205, 198, 231, 247, 226, 239, 228, 206, 205, 198, 231, 247, 226, 239, 228, 206, 205, 198, 231, 247, 226, 239, 228, 206, 205, 198, 231, 247, 226, 239, 228, 206, 205, 198, 231, 247, 226, 239, 228, 206, 205, 198, 231, 247, 226, 239, 228, 206, 205, 198, 231, 247, 226, 239, 228, 206, 205, 198, 231, 247, 226, 239, 228, 206, 205, 198, 231, 247, 226, 239, 228, 206, 205, 198, 231, 247]\n",
      "[288.0, 254, 263, 249, 230, 249, 230, 249, 230, 249, 230, 249, 230, 249, 230, 249, 230, 249, 230, 249, 230, 249, 230, 249, 230, 249, 230, 249, 230, 249, 230, 249, 230, 249, 230, 249, 230, 249, 230, 249, 230, 249, 230, 249, 230, 249, 230, 249, 230, 249, 230, 249, 230, 249, 230, 249, 230, 249, 230, 249, 230, 249, 230, 249, 230, 249, 230, 249, 230, 249, 230, 249, 230, 249, 230, 249, 230, 249, 230, 249, 230, 249, 230, 249, 230, 249, 230, 249, 230, 249, 230, 249, 230, 249, 230, 249, 230, 249, 230, 249, 230]\n",
      "[289.0, 279, 274, 288, 254, 263, 249, 230, 249, 230, 249, 230, 249, 230, 249, 230, 249, 230, 249, 230, 249, 230, 249, 230, 249, 230, 249, 230, 249, 230, 249, 230, 249, 230, 249, 230, 249, 230, 249, 230, 249, 230, 249, 230, 249, 230, 249, 230, 249, 230, 249, 230, 249, 230, 249, 230, 249, 230, 249, 230, 249, 230, 249, 230, 249, 230, 249, 230, 249, 230, 249, 230, 249, 230, 249, 230, 249, 230, 249, 230, 249, 230, 249, 230, 249, 230, 249, 230, 249, 230, 249, 230, 249, 230, 249, 230, 249, 230, 249, 230, 249]\n",
      "[290.0, 253, 247, 226, 239, 228, 206, 205, 198, 231, 247, 226, 239, 228, 206, 205, 198, 231, 247, 226, 239, 228, 206, 205, 198, 231, 247, 226, 239, 228, 206, 205, 198, 231, 247, 226, 239, 228, 206, 205, 198, 231, 247, 226, 239, 228, 206, 205, 198, 231, 247, 226, 239, 228, 206, 205, 198, 231, 247, 226, 239, 228, 206, 205, 198, 231, 247, 226, 239, 228, 206, 205, 198, 231, 247, 226, 239, 228, 206, 205, 198, 231, 247, 226, 239, 228, 206, 205, 198, 231, 247, 226, 239, 228, 206, 205, 198, 231, 247, 226, 239]\n",
      "[291.0, 254, 263, 249, 230, 249, 230, 249, 230, 249, 230, 249, 230, 249, 230, 249, 230, 249, 230, 249, 230, 249, 230, 249, 230, 249, 230, 249, 230, 249, 230, 249, 230, 249, 230, 249, 230, 249, 230, 249, 230, 249, 230, 249, 230, 249, 230, 249, 230, 249, 230, 249, 230, 249, 230, 249, 230, 249, 230, 249, 230, 249, 230, 249, 230, 249, 230, 249, 230, 249, 230, 249, 230, 249, 230, 249, 230, 249, 230, 249, 230, 249, 230, 249, 230, 249, 230, 249, 230, 249, 230, 249, 230, 249, 230, 249, 230, 249, 230, 249, 230]\n",
      "[292.0, 270, 302, 302]\n",
      "[293.0, 304, 304]\n",
      "[294.0, 309, 309]\n",
      "[295.0, 328, 328]\n",
      "[296.0, 291, 254, 263, 249, 230, 249, 230, 249, 230, 249, 230, 249, 230, 249, 230, 249, 230, 249, 230, 249, 230, 249, 230, 249, 230, 249, 230, 249, 230, 249, 230, 249, 230, 249, 230, 249, 230, 249, 230, 249, 230, 249, 230, 249, 230, 249, 230, 249, 230, 249, 230, 249, 230, 249, 230, 249, 230, 249, 230, 249, 230, 249, 230, 249, 230, 249, 230, 249, 230, 249, 230, 249, 230, 249, 230, 249, 230, 249, 230, 249, 230, 249, 230, 249, 230, 249, 230, 249, 230, 249, 230, 249, 230, 249, 230, 249, 230, 249, 230, 249]\n",
      "[297.0, 291, 254, 263, 249, 230, 249, 230, 249, 230, 249, 230, 249, 230, 249, 230, 249, 230, 249, 230, 249, 230, 249, 230, 249, 230, 249, 230, 249, 230, 249, 230, 249, 230, 249, 230, 249, 230, 249, 230, 249, 230, 249, 230, 249, 230, 249, 230, 249, 230, 249, 230, 249, 230, 249, 230, 249, 230, 249, 230, 249, 230, 249, 230, 249, 230, 249, 230, 249, 230, 249, 230, 249, 230, 249, 230, 249, 230, 249, 230, 249, 230, 249, 230, 249, 230, 249, 230, 249, 230, 249, 230, 249, 230, 249, 230, 249, 230, 249, 230, 249]\n",
      "[298.0, 325, 325]\n",
      "[299.0, 322, 322]\n"
     ]
    }
   ],
   "source": [
    "# x:その地点の番号(1<= x <= 299)\n",
    "alpha = 0.2\n",
    "start_point = 0\n",
    "list_point = []\n",
    "\n",
    "for i in fuji[:,0]:\n",
    "    \n",
    "    start_point = i\n",
    "    list_point = [int(start_point)]\n",
    "    \n",
    "    if start_point == 0:\n",
    "        # スタート地点0はすでにgoalに到達しているので何もしない\n",
    "        pass\n",
    "    else:\n",
    "        list_point = calc_go_goal( start_point )\n",
    "    \n",
    "    print(list_point)"
   ]
  },
  {
   "cell_type": "markdown",
   "metadata": {},
   "source": [
    "* いくつかの初期値に対してどのような下山過程となるか、問題5のように可視化してください。  \n",
    "機械学習においては 初期値 をどう設定するかが結果に影響を与えることが確認できます。"
   ]
  },
  {
   "cell_type": "code",
   "execution_count": null,
   "metadata": {},
   "outputs": [],
   "source": []
  }
 ],
 "metadata": {
  "kernelspec": {
   "display_name": "Python 3",
   "language": "python",
   "name": "python3"
  },
  "language_info": {
   "codemirror_mode": {
    "name": "ipython",
    "version": 3
   },
   "file_extension": ".py",
   "mimetype": "text/x-python",
   "name": "python",
   "nbconvert_exporter": "python",
   "pygments_lexer": "ipython3",
   "version": "3.7.0"
  }
 },
 "nbformat": 4,
 "nbformat_minor": 2
}
