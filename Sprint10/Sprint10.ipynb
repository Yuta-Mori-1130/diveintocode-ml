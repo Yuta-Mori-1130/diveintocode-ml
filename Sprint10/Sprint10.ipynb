{
 "cells": [
  {
   "cell_type": "markdown",
   "metadata": {},
   "source": [
    "[課題のURL](https://diver.diveintocode.jp/curriculums/1877)"
   ]
  },
  {
   "cell_type": "markdown",
   "metadata": {},
   "source": [
    "# Sprint 深層学習スクラッチ ディープニューラルネットワーク"
   ]
  },
  {
   "cell_type": "code",
   "execution_count": 1,
   "metadata": {},
   "outputs": [],
   "source": [
    "import numpy as np\n",
    "import time\n",
    "\n",
    "from sklearn.model_selection import train_test_split\n",
    "from sklearn.metrics import accuracy_score"
   ]
  },
  {
   "cell_type": "markdown",
   "metadata": {},
   "source": [
    "* データセットをダウンロード"
   ]
  },
  {
   "cell_type": "code",
   "execution_count": 2,
   "metadata": {},
   "outputs": [
    {
     "name": "stderr",
     "output_type": "stream",
     "text": [
      "Using TensorFlow backend.\n"
     ]
    }
   ],
   "source": [
    "from keras.datasets import mnist\n",
    "\n",
    "(X_train, y_train), (X_test, y_test) = mnist.load_data()"
   ]
  },
  {
   "cell_type": "code",
   "execution_count": 3,
   "metadata": {},
   "outputs": [
    {
     "name": "stdout",
     "output_type": "stream",
     "text": [
      "(60000, 28, 28)\n",
      "(10000, 28, 28)\n"
     ]
    }
   ],
   "source": [
    "print(X_train.shape) # (60000, 28, 28)\n",
    "print(X_test.shape) # (10000, 28, 28)\n",
    "#print(X_train[0].dtype) # uint8\n",
    "#print(X_train[0])"
   ]
  },
  {
   "cell_type": "markdown",
   "metadata": {},
   "source": [
    "* 平滑化"
   ]
  },
  {
   "cell_type": "code",
   "execution_count": 4,
   "metadata": {},
   "outputs": [],
   "source": [
    "X_train = X_train.reshape(-1, 784)\n",
    "X_test = X_test.reshape(-1, 784)"
   ]
  },
  {
   "cell_type": "markdown",
   "metadata": {},
   "source": [
    "* 前処理"
   ]
  },
  {
   "cell_type": "markdown",
   "metadata": {},
   "source": [
    "画像は0から255のuint8型で表されますが、機械学習をする上では0から1のfloat型で扱うことになります。"
   ]
  },
  {
   "cell_type": "code",
   "execution_count": 7,
   "metadata": {},
   "outputs": [
    {
     "name": "stdout",
     "output_type": "stream",
     "text": [
      "1.0\n",
      "0.0\n"
     ]
    }
   ],
   "source": [
    "X_train = X_train.astype(np.float)\n",
    "X_test = X_test.astype(np.float)\n",
    "X_train /= 255\n",
    "X_test /= 255\n",
    "print(X_train.max()) # 1.0\n",
    "print(X_train.min()) # 0.0"
   ]
  },
  {
   "cell_type": "markdown",
   "metadata": {},
   "source": [
    "正解ラベルは0から9の整数ですが、ニューラルネットワークで多クラス分類を行う際には one-hot表現 に変換します。  \n",
    "scikit-learnのOneHotEncoderを使用したコードが以下です。  \n",
    "このone-hot表現による値はそのラベルである確率を示していることになるため、float型で扱います。  "
   ]
  },
  {
   "cell_type": "code",
   "execution_count": 8,
   "metadata": {},
   "outputs": [
    {
     "name": "stdout",
     "output_type": "stream",
     "text": [
      "(60000,)\n",
      "(60000, 10)\n",
      "float64\n"
     ]
    }
   ],
   "source": [
    "from sklearn.preprocessing import OneHotEncoder\n",
    "enc = OneHotEncoder(handle_unknown='ignore', sparse=False)\n",
    "y_train_one_hot = enc.fit_transform(y_train[:, np.newaxis])\n",
    "y_test_one_hot = enc.transform(y_test[:, np.newaxis])\n",
    "print(y_train.shape) # (60000,)\n",
    "print(y_train_one_hot.shape) # (60000, 10)\n",
    "print(y_train_one_hot.dtype) # float64"
   ]
  },
  {
   "cell_type": "markdown",
   "metadata": {},
   "source": [
    "さらに、訓練データ6万枚の内2割を検証データとして分割してください。  \n",
    "訓練データが48000枚、検証データが12000枚となります。  "
   ]
  },
  {
   "cell_type": "code",
   "execution_count": 9,
   "metadata": {},
   "outputs": [
    {
     "name": "stdout",
     "output_type": "stream",
     "text": [
      "(48000, 784)\n",
      "(12000, 784)\n"
     ]
    }
   ],
   "source": [
    "X_train, X_val, y_train, y_val = train_test_split(X_train, y_train, test_size=0.2)\n",
    "print(X_train.shape) # (48000, 784)\n",
    "print(X_val.shape) # (12000, 784)"
   ]
  },
  {
   "cell_type": "code",
   "execution_count": 10,
   "metadata": {},
   "outputs": [],
   "source": [
    "y_train_one_hot = enc.fit_transform(y_train[:, np.newaxis])\n",
    "y_test_one_hot = enc.transform(y_test[:, np.newaxis])"
   ]
  },
  {
   "cell_type": "code",
   "execution_count": 11,
   "metadata": {},
   "outputs": [
    {
     "data": {
      "text/plain": [
       "array([9, 4, 0, ..., 7, 9, 0], dtype=uint8)"
      ]
     },
     "execution_count": 11,
     "metadata": {},
     "output_type": "execute_result"
    }
   ],
   "source": [
    "y_train"
   ]
  },
  {
   "cell_type": "code",
   "execution_count": 12,
   "metadata": {},
   "outputs": [
    {
     "name": "stdout",
     "output_type": "stream",
     "text": [
      "[0. 0. 0. 0. 0. 0. 0. 0. 0. 1.]\n",
      "[0. 0. 0. 0. 1. 0. 0. 0. 0. 0.]\n"
     ]
    }
   ],
   "source": [
    "print(y_train_one_hot[0])\n",
    "print(y_train_one_hot[1])"
   ]
  },
  {
   "cell_type": "markdown",
   "metadata": {},
   "source": [
    "# ディープニューラルネットワークスクラッチ"
   ]
  },
  {
   "cell_type": "markdown",
   "metadata": {},
   "source": [
    "今回はこれを任意の層数に拡張しやすいものに書き換えていきます。  \n",
    "その上で、活性化関数や初期値、最適化手法について発展的なものを扱えるようにしていきます。  "
   ]
  },
  {
   "cell_type": "markdown",
   "metadata": {},
   "source": [
    "* ミニバッチ処理"
   ]
  },
  {
   "cell_type": "markdown",
   "metadata": {},
   "source": [
    "ニューラルネットワークではデータを分割して入力する 確率的勾配降下法 が一般的です。  \n",
    "分割した際のひとかたまりを ミニバッチ 、そのサンプル数を バッチサイズ と呼びます。  "
   ]
  },
  {
   "cell_type": "code",
   "execution_count": 13,
   "metadata": {},
   "outputs": [],
   "source": [
    "class GetMiniBatch:\n",
    "    \"\"\"\n",
    "    ミニバッチを取得するイテレータ\n",
    "\n",
    "    Parameters\n",
    "    ----------\n",
    "    X : 次の形のndarray, shape (n_samples, n_features)\n",
    "      訓練データ\n",
    "    y : 次の形のndarray, shape (n_samples, 1)\n",
    "      正解値\n",
    "    batch_size : int\n",
    "      バッチサイズ\n",
    "    seed : int\n",
    "      NumPyの乱数のシード\n",
    "    \"\"\"\n",
    "    def __init__(self, X, y, batch_size = 20, seed=0):\n",
    "        self.batch_size = batch_size\n",
    "        np.random.seed(seed)\n",
    "        shuffle_index = np.random.permutation(np.arange(X.shape[0]))\n",
    "        self._X = X[shuffle_index]\n",
    "        self._y = y[shuffle_index]\n",
    "        self._stop = np.ceil(X.shape[0]/self.batch_size).astype(np.int)\n",
    "    def __len__(self):\n",
    "        return self._stop\n",
    "    def __getitem__(self,item):\n",
    "        p0 = item*self.batch_size\n",
    "        p1 = item*self.batch_size + self.batch_size\n",
    "        return self._X[p0:p1], self._y[p0:p1]        \n",
    "    def __iter__(self):\n",
    "        self._counter = 0\n",
    "        return self\n",
    "    def __next__(self):\n",
    "        if self._counter >= self._stop:\n",
    "            raise StopIteration()\n",
    "        p0 = self._counter*self.batch_size\n",
    "        p1 = self._counter*self.batch_size + self.batch_size\n",
    "        self._counter += 1\n",
    "        return self._X[p0:p1], self._y[p0:p1]"
   ]
  },
  {
   "cell_type": "code",
   "execution_count": 14,
   "metadata": {},
   "outputs": [
    {
     "name": "stdout",
     "output_type": "stream",
     "text": [
      "2400\n",
      "(array([[0., 0., 0., ..., 0., 0., 0.],\n",
      "       [0., 0., 0., ..., 0., 0., 0.],\n",
      "       [0., 0., 0., ..., 0., 0., 0.],\n",
      "       ...,\n",
      "       [0., 0., 0., ..., 0., 0., 0.],\n",
      "       [0., 0., 0., ..., 0., 0., 0.],\n",
      "       [0., 0., 0., ..., 0., 0., 0.]]), array([0, 3, 1, 3, 8, 2, 1, 7, 1, 2, 6, 0, 3, 5, 6, 4, 9, 0, 6, 1],\n",
      "      dtype=uint8))\n"
     ]
    }
   ],
   "source": [
    "get_mini_batch = GetMiniBatch(X_train, y_train, batch_size=20)\n",
    "print(len(get_mini_batch)) # 2400\n",
    "print(get_mini_batch[5]) # 5番目のミニバッチが取得できる\n",
    "for mini_X_train, mini_y_train in get_mini_batch:\n",
    "    # このfor文内でミニバッチが使える\n",
    "    pass"
   ]
  },
  {
   "cell_type": "markdown",
   "metadata": {},
   "source": [
    "# 【問題1】全結合層のクラス化"
   ]
  },
  {
   "cell_type": "markdown",
   "metadata": {},
   "source": [
    "~~~\n",
    "    class FC:\n",
    "        def __init__(self, n_nodes1, n_nodes2, initializer, optimizer):\n",
    "            self.optimizer = optimizer\n",
    "            \n",
    "            self.W = initializer.W(n_nodes1, n_nodes2)\n",
    "            self.B = initializer.B(n_nodes1, n_nodes2)\n",
    "            self.x = None\n",
    "            self.dw = None\n",
    "            self.db = None\n",
    "            \n",
    "        def forward(self, x):\n",
    "            self.x = x\n",
    "            return (np.dot(x, self.W) + self.B )\n",
    "\n",
    "        def backward(self, dout):\n",
    "            dw = np.dot((self.x).T, dout)\n",
    "            db = np.sum(dout, axis=0)\n",
    "            \n",
    "            # パラメータを更新\n",
    "            self = self.optimizer.update(self, dw, db)\n",
    "            \n",
    "            # 前の層に渡す\n",
    "            dZ = np.dot(dout, (self.W).T)\n",
    "            \n",
    "            return dZ\n",
    "~~~"
   ]
  },
  {
   "cell_type": "markdown",
   "metadata": {},
   "source": [
    "# 【問題2】初期化方法のクラス化"
   ]
  },
  {
   "cell_type": "markdown",
   "metadata": {},
   "source": [
    "~~~\n",
    "    class SimpleInitializer:\n",
    "        def __init__(self, sigma):\n",
    "            self.sigma = sigma\n",
    "        def W(self, n_nodes1, n_nodes2):\n",
    "            np.random.seed(1)\n",
    "            W = self.sigma * np.random.randn(n_nodes1, n_nodes2)\n",
    "            return W\n",
    "        \n",
    "        def B(self, n_nodes1, n_nodes2):\n",
    "            # n_nodes2は使用しないが、他の初期化関数とIFを合わせる\n",
    "            np.random.seed(1)\n",
    "            b = self.sigma * np.random.randn(n_nodes2)\n",
    "            return b\n",
    "~~~"
   ]
  },
  {
   "cell_type": "markdown",
   "metadata": {},
   "source": [
    "# 【問題3】最適化手法のクラス化"
   ]
  },
  {
   "cell_type": "markdown",
   "metadata": {},
   "source": [
    "~~~\n",
    "    class SGD:\n",
    "        def __init__(self, lr):\n",
    "            self.lr = lr\n",
    "        def update(self, layer, dw, db):\n",
    "            layer.W = layer.W - self.lr*dw\n",
    "            layer.B = layer.B - self.lr*db\n",
    "            \n",
    "            return layer\n",
    "~~~"
   ]
  },
  {
   "cell_type": "markdown",
   "metadata": {},
   "source": [
    "# 【問題4】活性化関数のクラス化"
   ]
  },
  {
   "cell_type": "markdown",
   "metadata": {},
   "source": [
    "~~~\n",
    "    class sigmoid:\n",
    "        def __init__(self):\n",
    "            self.out = None\n",
    "        \n",
    "        def _sigmoid(self, x):\n",
    "            sigmoid_range = 34.538776394910684\n",
    "            x = np.clip(x, -sigmoid_range, sigmoid_range)\n",
    "            return 1.0/(1.0+np.exp(-x))\n",
    "        \n",
    "        def forward(self, x):\n",
    "            y = self._sigmoid(x)\n",
    "            self.out = y\n",
    "            \n",
    "            return y\n",
    "\n",
    "        def backward(self, dz):\n",
    "            dA = dz*(1 - self.out)*(self.out)\n",
    "            \n",
    "            return dA\n",
    "    \n",
    "    class activation_softmax:\n",
    "        def __init__(self):\n",
    "            self.y = None\n",
    "            self.t = None # one-hot\n",
    "            \n",
    "        def _softmax(self, x):\n",
    "            n = x.shape[0]\n",
    "\n",
    "            for i in range(n):\n",
    "                exp_x = np.exp(x[i])\n",
    "                sum_exp_x = np.sum(exp_x)\n",
    "                x[i] = exp_x/sum_exp_x\n",
    "\n",
    "            return x\n",
    "        \n",
    "        def forward(self, x):\n",
    "            self.y = self._softmax(x)\n",
    "            \n",
    "            return self.y\n",
    "\n",
    "        def backward(self, z, t):\n",
    "            d = z - t\n",
    "            \n",
    "            return d\n",
    "~~~"
   ]
  },
  {
   "cell_type": "markdown",
   "metadata": {},
   "source": [
    "# 【問題5】ReLUクラスの作成"
   ]
  },
  {
   "cell_type": "markdown",
   "metadata": {},
   "source": [
    "~~~\n",
    "class ReLU():\n",
    "    \n",
    "    def __init__(self):\n",
    "        self.mask = None\n",
    "        \n",
    "    def forward(self, x):\n",
    "        self.mask = (x <= 0)\n",
    "        x_out = x.copy()\n",
    "        x_out[self.mask] = 0\n",
    "        \n",
    "        return x_out\n",
    "        \n",
    "    def backward(self, x):\n",
    "        x[self.mask] = 0\n",
    "        dx = x\n",
    "        \n",
    "        return dx\n",
    "~~~"
   ]
  },
  {
   "cell_type": "markdown",
   "metadata": {},
   "source": [
    "# 【問題6】重みの初期値"
   ]
  },
  {
   "cell_type": "markdown",
   "metadata": {},
   "source": [
    "ここまでは重みやバイアスの初期値は単純にガウス分布で、標準偏差をハイパーパラメータとして扱ってきました。  \n",
    "しかし、どのような値にすると良いかが知られています。  \n",
    "シグモイド関数やハイパボリックタンジェント関数のときは Xavierの初期値 （またはGlorotの初期値）、ReLUのときは Heの初期値 が使われます。  \n",
    "\n",
    "XavierInitializerクラスと、HeInitializerクラスを作成してください。  "
   ]
  },
  {
   "cell_type": "markdown",
   "metadata": {},
   "source": [
    "* XavierInitializerクラス"
   ]
  },
  {
   "cell_type": "markdown",
   "metadata": {},
   "source": [
    "~~~\n",
    "class XavierInitializer:\n",
    "    def __init_(self):\n",
    "        # 何もしない\n",
    "        pass\n",
    "    \n",
    "    def W(self, n_nodes1, n_nodes2):\n",
    "        W = (1/np.sqrt(n_nodes1)) * np.random.randn(n_nodes1, n_nodes2)\n",
    "        return W\n",
    "        \n",
    "    def B(self, n_nodes1, n_nodes2):\n",
    "        np.random.seed(1)\n",
    "        b = (1/np.sqrt(n_nodes1)) * np.random.randn(n_nodes2)\n",
    "        return b\n",
    "~~~"
   ]
  },
  {
   "cell_type": "markdown",
   "metadata": {},
   "source": [
    "* HeInitializerクラス"
   ]
  },
  {
   "cell_type": "markdown",
   "metadata": {},
   "source": [
    "~~~\n",
    "class HeInitializer:\n",
    "    def __init_(self):\n",
    "        # 何もしない\n",
    "        pass\n",
    "\n",
    "    def W(self, n_nodes1, n_nodes2):\n",
    "        W = np.sqrt(2/n_nodes1) * np.random.randn(n_nodes1, n_nodes2)\n",
    "        return W\n",
    "\n",
    "    def B(self, n_nodes1, n_nodes2):\n",
    "        np.random.seed(1)\n",
    "        b = np.sqrt(2/n_nodes1) * np.random.randn(n_nodes2)\n",
    "        return b\n",
    "~~~"
   ]
  },
  {
   "cell_type": "markdown",
   "metadata": {},
   "source": [
    "# 【問題7】最適化手法"
   ]
  },
  {
   "cell_type": "markdown",
   "metadata": {},
   "source": [
    "学習率は学習過程で変化させていく方法が一般的です。基本的な手法である AdaGrad のクラスを作成してください。"
   ]
  },
  {
   "cell_type": "markdown",
   "metadata": {},
   "source": [
    "~~~\n",
    "class AdaGrad:\n",
    "    def __init__(self, lr=0.01):\n",
    "        self.lr = lr\n",
    "        self.hw = None\n",
    "        self.hb = None\n",
    "        \n",
    "    def update(self, layer, dw, db):\n",
    "        if (self.hw is None) or (self.hb is None):\n",
    "            self.hw = np.zeros_like(dw)\n",
    "            self.hb = np.zeros_like(db)\n",
    "        \n",
    "        self.hw = self.h + (dw*dw)\n",
    "        layer.W = layer.W - self.lr*dw/(np.sqrt(self.hw) + 1e-7)\n",
    "        \n",
    "        self.wb = self.wb + (db*db)\n",
    "        layer.B = layer.B - self.lr*db/(np.sqrt(self.hb) + 1e-7)\n",
    "         \n",
    "        return layer\n",
    "~~~"
   ]
  },
  {
   "cell_type": "code",
   "execution_count": null,
   "metadata": {},
   "outputs": [],
   "source": []
  },
  {
   "cell_type": "markdown",
   "metadata": {},
   "source": [
    "# 【問題8】クラスの完成"
   ]
  },
  {
   "cell_type": "code",
   "execution_count": 181,
   "metadata": {},
   "outputs": [],
   "source": [
    "class ScratchDeepNeuralNetrowkClassifier():\n",
    "    \"\"\"\n",
    "    N層ニューラルネットワーク分類器\n",
    "\n",
    "    Parameters\n",
    "    ----------\n",
    "\n",
    "    Attributes\n",
    "    ----------\n",
    "    \"\"\"\n",
    "    def __init__(self, epoch = 5, alpha = 0.001, activation='sigmoid', optimizer=\"SGD\", init=\"simple\" ,verbose = True):\n",
    "        self.verbose = verbose\n",
    "        \n",
    "        self.epoch = epoch\n",
    "        self.batch_size = 20 # バッチサイズ\n",
    "        \n",
    "        self.n_features = 784 # 特徴量の数\n",
    "        self.n_nodes1 = 400 # 1層目のノード数\n",
    "        self.n_nodes2 = 200 # 2層目のノード数\n",
    "        self.n_nodes3 = 100\n",
    "        self.n_output = 10 # 出力のクラス数（3層目のノード数）\n",
    "        \n",
    "        self.init_type = init # 初期化方法\n",
    "        self.activation_type = activation # 活性化関数\n",
    "        self.optimizer_type = optimizer # 最適化方法\n",
    "        \n",
    "        self.sigma = 1 # ガウス分布の標準偏差\n",
    "        self.lr = alpha\n",
    "\n",
    "    def _encode_10(self, data):\n",
    "        t = np.zeros((data.size, 10))\n",
    "        for i in range(data.size):\n",
    "            t[i, data[i]] = 1\n",
    "        return t\n",
    "\n",
    "    def _calc_loss(self, y, z):\n",
    "        # エントロピー誤差を求める\n",
    "        # 0割回避のため(z=0を防ぐため)\n",
    "        delta = 1e-7\n",
    "        n = y.shape[0]\n",
    "\n",
    "        l = -1/n*np.sum(y*np.log(z+delta))\n",
    "\n",
    "        return l\n",
    "    \n",
    "    class sigmoid:\n",
    "        def __init__(self):\n",
    "            self.out = None\n",
    "        \n",
    "        def _sigmoid(self, x):\n",
    "            sigmoid_range = 34.538776394910684\n",
    "            x = np.clip(x, -sigmoid_range, sigmoid_range)\n",
    "            return 1.0/(1.0+np.exp(-x))\n",
    "        \n",
    "        def forward(self, x):\n",
    "            y = self._sigmoid(x)\n",
    "            self.out = y\n",
    "            \n",
    "            return y\n",
    "\n",
    "        def backward(self, dz):\n",
    "            dA = dz*(1 - self.out)*(self.out)\n",
    "            \n",
    "            return dA\n",
    "    \n",
    "    class ReLU:\n",
    "        def __init__(self):\n",
    "            self.mask = None\n",
    "\n",
    "        def forward(self, x):\n",
    "            self.mask = (x <= 0)\n",
    "            x_out = x.copy()\n",
    "            x_out[self.mask] = 0\n",
    "\n",
    "            return x_out\n",
    "\n",
    "        def backward(self, x):\n",
    "            x[self.mask] = 0\n",
    "            dx = x\n",
    "\n",
    "            return dx\n",
    "    \n",
    "    class activation_softmax:\n",
    "        def __init__(self):\n",
    "            self.y = None\n",
    "            self.t = None # one-hot\n",
    "            \n",
    "        def _softmax(self, x):\n",
    "            n = x.shape[0]\n",
    "\n",
    "            sigmoid_range = 34.538776394910684\n",
    "            x = np.clip(x, -sigmoid_range, sigmoid_range)\n",
    "            \n",
    "            for i in range(n):\n",
    "                exp_x = np.exp(x[i])\n",
    "                sum_exp_x = np.sum(exp_x)\n",
    "                x[i] = exp_x/sum_exp_x\n",
    "\n",
    "            return x\n",
    "        \n",
    "        def forward(self, x):\n",
    "            self.y = self._softmax(x)\n",
    "            \n",
    "            return self.y\n",
    "\n",
    "        def backward(self, z, t):\n",
    "            d = z - t\n",
    "            \n",
    "            return d\n",
    "    \n",
    "    class SimpleInitializer:\n",
    "        def __init__(self, sigma):\n",
    "            self.sigma = sigma\n",
    "        def W(self, n_nodes1, n_nodes2):\n",
    "            np.random.seed(1)\n",
    "            W = self.sigma * np.random.randn(n_nodes1, n_nodes2)\n",
    "            return W\n",
    "        \n",
    "        def B(self, n_nodes1, n_nodes2):\n",
    "            # n_nodes2は使用しないが、他の初期化関数とIFを合わせる\n",
    "            np.random.seed(1)\n",
    "            b = self.sigma * np.random.randn(n_nodes2)\n",
    "            return b\n",
    "\n",
    "    class XavierInitializer:\n",
    "        def __init_(self):\n",
    "        # 何もしない\n",
    "            pass\n",
    "    \n",
    "        def W(self, n_nodes1, n_nodes2):\n",
    "            np.random.seed(1)\n",
    "            W = (1/np.sqrt(n_nodes1)) * np.random.randn(n_nodes1, n_nodes2)\n",
    "            return W\n",
    "        \n",
    "        def B(self, n_nodes1, n_nodes2):\n",
    "            np.random.seed(1)\n",
    "            b = (1/np.sqrt(n_nodes1)) * np.random.randn(n_nodes2)\n",
    "            return b\n",
    "    \n",
    "    class HeInitializer:\n",
    "        def __init_(self):\n",
    "            # 何もしない\n",
    "            pass\n",
    "\n",
    "        def W(self, n_nodes1, n_nodes2):\n",
    "            W = np.sqrt(2/n_nodes1) * np.random.randn(n_nodes1, n_nodes2)\n",
    "            return W\n",
    "\n",
    "        def B(self, n_nodes1, n_nodes2):\n",
    "            np.random.seed(1)\n",
    "            b = np.sqrt(2/n_nodes1) * np.random.randn(n_nodes2)\n",
    "            return b\n",
    "    \n",
    "    class SGD:\n",
    "        def __init__(self, lr=0.01):\n",
    "            self.lr = lr\n",
    "        def update(self, layer, dw, db):\n",
    "            layer.W = layer.W - self.lr*dw\n",
    "            layer.B = layer.B - self.lr*db\n",
    "            \n",
    "            return layer\n",
    "    \n",
    "    class AdaGrad:\n",
    "        def __init__(self, lr=0.01):\n",
    "            self.lr = lr\n",
    "            self.hw = None\n",
    "            self.hb = None\n",
    "\n",
    "        def update(self, layer, dw, db):\n",
    "            if (self.hw is None) or (self.hb is None):\n",
    "                self.hw = np.zeros_like(dw)\n",
    "                self.hb = np.zeros_like(db)\n",
    "\n",
    "            self.hw = self.hw + (dw*dw)\n",
    "            layer.W = layer.W - self.lr*dw/(np.sqrt(self.hw) + 1e-7)\n",
    "\n",
    "            self.hb = self.hb + (db*db)\n",
    "            layer.B = layer.B - self.lr*db/(np.sqrt(self.hb) + 1e-7)\n",
    "         \n",
    "            return layer\n",
    "    \n",
    "    class FC:\n",
    "        def __init__(self, n_nodes1, n_nodes2, initializer, optimizer):\n",
    "            self.optimizer = optimizer\n",
    "            \n",
    "            self.W = initializer.W(n_nodes1, n_nodes2)\n",
    "            self.B = initializer.B(n_nodes1, n_nodes2)\n",
    "            self.x = None\n",
    "            self.dw = None\n",
    "            self.db = None\n",
    "            \n",
    "        def forward(self, x):\n",
    "            self.x = x\n",
    "            return (np.dot(x, self.W) + self.B )\n",
    "\n",
    "        def backward(self, dout):\n",
    "            dw = np.dot((self.x).T, dout)\n",
    "            db = np.sum(dout, axis=0)\n",
    "            \n",
    "            # パラメータを更新\n",
    "            self = self.optimizer.update(self, dw, db)\n",
    "            \n",
    "            # 前の層に渡す\n",
    "            dZ = np.dot(dout, (self.W).T)\n",
    "            \n",
    "            return dZ\n",
    "\n",
    "    def fit(self, X, y, X_val=None, y_val=None):\n",
    "        # 検証データ(X_val, y_val)の有無を確認\n",
    "        flag_val = True\n",
    "        if (X_val is None) and (y_val is None):\n",
    "            # 検証データが入力されなかった場合、検証データの保存と学習過程を表示しない\n",
    "            flag_val = False\n",
    "\n",
    "        # self.sigma : ガウス分布の標準偏差\n",
    "        # self.lr : 学習率\n",
    "        # self.n_nodes1 : 1層目のノード数\n",
    "        # self.n_nodes2 : 2層目のノード数\n",
    "        # self.n_output : 出力層のノード数\n",
    "        sigma = self.sigma\n",
    "        alpha = self.lr\n",
    "        epoch = self.epoch\n",
    "        batch_size = self.batch_size\n",
    "        \n",
    "        # 初期化\n",
    "        score = np.zeros(epoch)\n",
    "        accuracy = np.zeros(epoch)\n",
    "        score_val = np.zeros(epoch)\n",
    "        accuracy_val = np.zeros(epoch)\n",
    "        \n",
    "        # 初期化関数, 活性化関数、最適化手法の設定\n",
    "        # 初期化方法\n",
    "        # func_init = self.SimpleInitializer(sigma)\n",
    "        # func_init = self.XavierInitializer()\n",
    "        # func_init = self.HeInitializer()\n",
    "        \n",
    "        # 活性化関数\n",
    "        # activation = self.sigmoid()\n",
    "        # activation = self.ReLU()\n",
    "        # activation = self.sigmoid()\n",
    "        \n",
    "        # 最適化方法\n",
    "        # optimizer = self.SGD(alpha)\n",
    "        # optimizer = self.AdaGrad(alpha)\n",
    "        \n",
    "        # ノード設定\n",
    "        self.FC1 = self.FC(self.n_features, self.n_nodes1, self.HeInitializer(), self.AdaGrad(alpha))\n",
    "        self.activation1 = self.ReLU()\n",
    "        \n",
    "        self.FC2 = self.FC(self.n_nodes1, self.n_nodes2, self.HeInitializer(), self.AdaGrad(alpha))\n",
    "        self.activation2 = self.ReLU()\n",
    "        \n",
    "        self.FC3 = self.FC(self.n_nodes2, self.n_nodes3, self.HeInitializer(), self.AdaGrad(alpha))\n",
    "        self.activation3 = self.ReLU()\n",
    "        \n",
    "        self.FC4 = self.FC(self.n_nodes3, self.n_output, self.HeInitializer(), self.AdaGrad(alpha))\n",
    "        self.activation4 = self.activation_softmax()\n",
    "        \n",
    "        for count_epoch in range(epoch):\n",
    "            get_mini_batch = GetMiniBatch(X, y, batch_size, seed=epoch)\n",
    "\n",
    "            # @@@debug\n",
    "            start = time.time()\n",
    "            \n",
    "            # 1 epoch\n",
    "            for mini_X_train, mini_y_train in get_mini_batch:\n",
    "                mini_y_train_one_hot = self._encode_10(mini_y_train)\n",
    "                \n",
    "                # イテレーションごとのフォワード\n",
    "                A1 = self.FC1.forward(mini_X_train) \n",
    "                Z1 = self.activation1.forward(A1)\n",
    "                A2 = self.FC2.forward(Z1)                \n",
    "                Z2 = self.activation2.forward(A2)\n",
    "                A3 = self.FC3.forward(Z2)\n",
    "                Z3 = self.activation3.forward(A3)\n",
    "                A4 = self.FC4.forward(Z3)\n",
    "                Z4 = self.activation4.forward(A4)\n",
    "                \n",
    "                dA4 = self.activation4.backward(Z4, mini_y_train_one_hot)\n",
    "                dZ3 = self.FC4.backward(dA4)\n",
    "                dA3 = self.activation3.backward(dZ3)\n",
    "                dZ2 = self.FC3.backward(dA3)\n",
    "                dA2 = self.activation2.backward(dZ2)\n",
    "                dZ1 = self.FC2.backward(dA2)\n",
    "                dA1 = self.activation1.backward(dZ1)\n",
    "                dZ0 = self.FC1.backward(dA1) # dZ0は使用しないがw,bの更新で利用\n",
    "            \n",
    "            # エポックごとの損失\n",
    "            y_pred, y_pred_portion = self.predict(X)\n",
    "            \n",
    "            # 交差エントロピー誤差(1 epoch)\n",
    "            score[count_epoch] = self._calc_loss(self._encode_10(y), y_pred_portion)\n",
    "            \n",
    "            # 正解率\n",
    "            accuracy[count_epoch] = accuracy_score(y_pred, y)\n",
    "            \n",
    "            if flag_val == True:\n",
    "                y_pred_val, y_pred_val_portion = self.predict(X_val)\n",
    "                score_val[count_epoch] = self._calc_loss(self._encode_10(y_val), y_pred_val_portion)\n",
    "                accuracy_val[count_epoch] = accuracy_score(y_pred_val, y_val)\n",
    "\n",
    "            if self.verbose:\n",
    "                #verboseをTrueにした際は学習過程などを出力する\n",
    "                # @@@debug\n",
    "                elapsed_time = time.time() - start\n",
    "                print (\"elapsed_time:{0}\".format(elapsed_time) + \"[sec]\")\n",
    "                \n",
    "                if flag_val == True:\n",
    "                    print(\"epoch:\",(count_epoch+1),\"accuracy:\",accuracy[count_epoch], \"loss:\", score[count_epoch])\n",
    "                    print(\"epoch:\",(count_epoch+1),\"accuracy_val:\",accuracy_val[count_epoch], \"loss_val:\", score_val[count_epoch])\n",
    "                else:\n",
    "                    print(\"epoch:\",(count_epoch+1),\"accuracy:\",accuracy[count_epoch], \"loss:\", score[count_epoch])\n",
    "        \n",
    "            # 学習データの保存\n",
    "            self._score = score\n",
    "            self._accuracy = accuracy\n",
    "            self._score_val = score_val\n",
    "            self._accuracy_val = accuracy_val\n",
    "        \n",
    "        return\n",
    "\n",
    "    def predict(self, X):\n",
    "        # イテレーションごとのフォワード\n",
    "        A1 = self.FC1.forward(X) \n",
    "        Z1 = self.activation1.forward(A1)\n",
    "                \n",
    "        A2 = self.FC2.forward(Z1)                \n",
    "        Z2 = self.activation2.forward(A2)\n",
    "                \n",
    "        A3 = self.FC3.forward(Z2)\n",
    "        Z3 = self.activation3.forward(A3)\n",
    "        \n",
    "        A4 = self.FC4.forward(Z3)\n",
    "        Z4 = self.activation4.forward(A4)\n",
    "        \n",
    "        portion = Z4\n",
    "        label = np.argmax(portion, axis = 1)\n",
    "        \n",
    "        return label, portion"
   ]
  },
  {
   "cell_type": "code",
   "execution_count": 178,
   "metadata": {},
   "outputs": [
    {
     "name": "stdout",
     "output_type": "stream",
     "text": [
      "elapsed_time:36.21893882751465[sec]\n",
      "epoch: 1 accuracy: 0.8717916666666666 loss: 0.588490303453302\n",
      "epoch: 1 accuracy_val: 0.8673333333333333 loss_val: 0.5906639542416382\n"
     ]
    }
   ],
   "source": [
    "clf_test = ScratchDeepNeuralNetrowkClassifier(epoch = 1, alpha = 0.01, activation='sigmoid', optimizer=\"SGD\", init=\"simple\", verbose = True)\n",
    "clf_test.fit(X_train, y_train, X_val, y_val)"
   ]
  },
  {
   "cell_type": "code",
   "execution_count": 179,
   "metadata": {},
   "outputs": [
    {
     "name": "stdout",
     "output_type": "stream",
     "text": [
      "Accuracy（正解率） 0.8759\n"
     ]
    }
   ],
   "source": [
    "y_pred, y_pred_portion = clf_test.predict(X_test)\n",
    "\n",
    "print(\"Accuracy（正解率）\", accuracy_score(y_test, y_pred))"
   ]
  },
  {
   "cell_type": "code",
   "execution_count": null,
   "metadata": {},
   "outputs": [],
   "source": []
  },
  {
   "cell_type": "markdown",
   "metadata": {},
   "source": [
    "# 【問題9】学習と推定"
   ]
  },
  {
   "cell_type": "markdown",
   "metadata": {},
   "source": [
    "層の数や活性化関数を変えたいくつかのネットワークを作成してください。  \n",
    "そして、MNISTのデータを学習・推定し、Accuracyを計算してください。  "
   ]
  },
  {
   "cell_type": "markdown",
   "metadata": {},
   "source": [
    "* 3層(784, 400, 200)  epoch = 20  \n",
    "  \n",
    "No1, activation='sigmoid', optimizer=\"SGD\", init=\"simple\"  alpha = 0.01, Accuracy（正解率） 0.9351 \n",
    "  \n",
    "No2, activation='sigmoid', optimizer=\"SGD\", init=\"XavierInitializer\"  alpha = 0.001, Accuracy（正解率） 0.9334  \n",
    "→No1から初期化の方法を\"XavierInitializer\"に変更した。また、alpha = 0.001にした場合、収束しなかったため、alpha = 0.01に変更。  \n",
    "No1と正解率に差異はなかったが、No2は過学習をしていないことがわかった。  \n",
    "初期化の方法などを変えた場合は、alphaの方法も見直す必要あり?  \n",
    "  \n",
    "No3, activation='ReLU', optimizer=\"ReLU\", init=\"HeInitializer\", alpah = 0.001, Accuracy（正解率） 0.9672  \n",
    "→No2、からactivation='ReLU', init=\"HeInitializer\"に変更した。正解率が改善された。 \n",
    "\n",
    "No4, activation='ReLU', optimizer=\"ReLU\", init=\"HeInitializer\", alpah = 0.01, Accuracy（正解率） 0.9584  \n",
    "→No3、からoptimizer=\"AdaGrad\"に変更した。alpha = 0.001で実施したが精度がでなかったのでalpah = 0.01に変更した。  \n",
    "→alphaが小さすぎ? そもそも、epochが少なすぎ?\n",
    "\n",
    "* 4層(784, 400, 200, 100) epoch = 20\n",
    "No5, activation='ReLU', optimizer=\"ReLU\", init=\"HeInitializer\", alpah = 0.001, Accuracy（正解率） 0.9668\n",
    "→NO4, からノード数とalphaを変更した。No4からノード数を増やしたので精度が向上した?\n"
   ]
  },
  {
   "cell_type": "code",
   "execution_count": 131,
   "metadata": {
    "collapsed": true,
    "jupyter": {
     "outputs_hidden": true
    }
   },
   "outputs": [
    {
     "name": "stdout",
     "output_type": "stream",
     "text": [
      "elapsed_time:22.71927285194397[sec]\n",
      "epoch: 1 accuracy: 0.8894375 loss: 0.3734581055556131\n",
      "epoch: 1 accuracy_val: 0.8768333333333334 loss_val: 0.4273989618900114\n",
      "elapsed_time:28.453667879104614[sec]\n",
      "epoch: 2 accuracy: 0.9195625 loss: 0.2618067039345965\n",
      "epoch: 2 accuracy_val: 0.8995833333333333 loss_val: 0.34219123920102096\n",
      "elapsed_time:27.290560007095337[sec]\n",
      "epoch: 3 accuracy: 0.9334166666666667 loss: 0.2118208368514956\n",
      "epoch: 3 accuracy_val: 0.9084166666666667 loss_val: 0.3124532712973039\n",
      "elapsed_time:23.686200618743896[sec]\n",
      "epoch: 4 accuracy: 0.9434791666666666 loss: 0.17848418166029162\n",
      "epoch: 4 accuracy_val: 0.9160833333333334 loss_val: 0.29522965694681125\n",
      "elapsed_time:23.819780826568604[sec]\n",
      "epoch: 5 accuracy: 0.9489791666666667 loss: 0.15714946209506836\n",
      "epoch: 5 accuracy_val: 0.9173333333333333 loss_val: 0.2867447487579595\n",
      "elapsed_time:24.782721042633057[sec]\n",
      "epoch: 6 accuracy: 0.9558125 loss: 0.1356623124656966\n",
      "epoch: 6 accuracy_val: 0.92025 loss_val: 0.2780547871380823\n",
      "elapsed_time:25.205792903900146[sec]\n",
      "epoch: 7 accuracy: 0.9615416666666666 loss: 0.11613111637761153\n",
      "epoch: 7 accuracy_val: 0.9229166666666667 loss_val: 0.2708137940987943\n",
      "elapsed_time:26.398269176483154[sec]\n",
      "epoch: 8 accuracy: 0.9667708333333334 loss: 0.10076576370632845\n",
      "epoch: 8 accuracy_val: 0.9249166666666667 loss_val: 0.26650626770069313\n",
      "elapsed_time:24.48024320602417[sec]\n",
      "epoch: 9 accuracy: 0.9713125 loss: 0.08767437726387206\n",
      "epoch: 9 accuracy_val: 0.926 loss_val: 0.2632262433247369\n",
      "elapsed_time:25.583062887191772[sec]\n",
      "epoch: 10 accuracy: 0.974625 loss: 0.0772323445788775\n",
      "epoch: 10 accuracy_val: 0.9283333333333333 loss_val: 0.2614249679055051\n",
      "elapsed_time:23.862455129623413[sec]\n",
      "epoch: 11 accuracy: 0.9773541666666666 loss: 0.06808042122229757\n",
      "epoch: 11 accuracy_val: 0.9301666666666667 loss_val: 0.25974370420398973\n",
      "elapsed_time:23.375408172607422[sec]\n",
      "epoch: 12 accuracy: 0.98025 loss: 0.06003725553765545\n",
      "epoch: 12 accuracy_val: 0.9310833333333334 loss_val: 0.2584011098866965\n",
      "elapsed_time:25.38450312614441[sec]\n",
      "epoch: 13 accuracy: 0.983 loss: 0.05343169383179139\n",
      "epoch: 13 accuracy_val: 0.93175 loss_val: 0.2580181665467012\n",
      "elapsed_time:27.12658667564392[sec]\n",
      "epoch: 14 accuracy: 0.9851666666666666 loss: 0.04774296239658539\n",
      "epoch: 14 accuracy_val: 0.9328333333333333 loss_val: 0.25804182566762346\n",
      "elapsed_time:25.61189913749695[sec]\n",
      "epoch: 15 accuracy: 0.9869583333333334 loss: 0.04277809954062469\n",
      "epoch: 15 accuracy_val: 0.93275 loss_val: 0.2583375174845098\n",
      "elapsed_time:24.54872488975525[sec]\n",
      "epoch: 16 accuracy: 0.9885625 loss: 0.038471058607495806\n",
      "epoch: 16 accuracy_val: 0.9335833333333333 loss_val: 0.25890850960096834\n",
      "elapsed_time:24.09902596473694[sec]\n",
      "epoch: 17 accuracy: 0.9899375 loss: 0.034491388044352436\n",
      "epoch: 17 accuracy_val: 0.93425 loss_val: 0.2596091276528529\n",
      "elapsed_time:23.10660195350647[sec]\n",
      "epoch: 18 accuracy: 0.9911458333333333 loss: 0.030918979006131407\n",
      "epoch: 18 accuracy_val: 0.9345 loss_val: 0.26051157713138035\n",
      "elapsed_time:23.376646041870117[sec]\n",
      "epoch: 19 accuracy: 0.9926041666666666 loss: 0.02763280271796439\n",
      "epoch: 19 accuracy_val: 0.935 loss_val: 0.2613175061792035\n",
      "elapsed_time:27.09775400161743[sec]\n",
      "epoch: 20 accuracy: 0.9938125 loss: 0.024667156523181192\n",
      "epoch: 20 accuracy_val: 0.9360833333333334 loss_val: 0.2619984801690939\n"
     ]
    }
   ],
   "source": [
    "clf_test = ScratchDeepNeuralNetrowkClassifier(epoch = 20, alpha = 0.01, activation='sigmoid', optimizer=\"SGD\", init=\"simple\", verbose = True)\n",
    "clf_test.fit(X_train, y_train, X_val, y_val)"
   ]
  },
  {
   "cell_type": "code",
   "execution_count": 134,
   "metadata": {},
   "outputs": [
    {
     "name": "stdout",
     "output_type": "stream",
     "text": [
      "Accuracy（正解率） 0.9351\n"
     ]
    }
   ],
   "source": [
    "y_pred, y_pred_portion = clf_test.predict(X_test)\n",
    "print(\"Accuracy（正解率）\", accuracy_score(y_test, y_pred))"
   ]
  },
  {
   "cell_type": "code",
   "execution_count": 132,
   "metadata": {},
   "outputs": [
    {
     "name": "stdout",
     "output_type": "stream",
     "text": [
      "オレンジ:X_val, 青:X_train\n"
     ]
    },
    {
     "data": {
      "image/png": "[encoded data removed]",
      "text/plain": [
       "<Figure size 432x288 with 1 Axes>"
      ]
     },
     "metadata": {
      "needs_background": "light"
     },
     "output_type": "display_data"
    }
   ],
   "source": [
    "plt.plot(clf_test._score)\n",
    "plt.plot(clf_test._score_val)\n",
    "\n",
    "plt.xlabel(\"epoch\")\n",
    "plt.ylabel(\"Cross-entropy Loss\")\n",
    "\n",
    "# Visualize\n",
    "print(\"オレンジ:X_val, 青:X_train\")\n",
    "plt.show()"
   ]
  },
  {
   "cell_type": "code",
   "execution_count": 133,
   "metadata": {},
   "outputs": [
    {
     "name": "stdout",
     "output_type": "stream",
     "text": [
      "オレンジ:X_val, 青:X_train\n"
     ]
    },
    {
     "data": {
      "image/png": "[encoded data removed]",
      "text/plain": [
       "<Figure size 432x288 with 1 Axes>"
      ]
     },
     "metadata": {
      "needs_background": "light"
     },
     "output_type": "display_data"
    }
   ],
   "source": [
    "plt.plot(clf_test._accuracy)\n",
    "plt.plot(clf_test._accuracy_val)\n",
    "\n",
    "plt.xlabel(\"epoch\")\n",
    "plt.ylabel(\"Accuracy\")\n",
    "\n",
    "# Visualize\n",
    "print(\"オレンジ:X_val, 青:X_train\")\n",
    "plt.show()"
   ]
  },
  {
   "cell_type": "code",
   "execution_count": 142,
   "metadata": {
    "collapsed": true,
    "jupyter": {
     "outputs_hidden": true
    }
   },
   "outputs": [
    {
     "name": "stdout",
     "output_type": "stream",
     "text": [
      "elapsed_time:23.690749883651733[sec]\n",
      "epoch: 1 accuracy: 0.7378541666666667 loss: 1.0653870635185831\n",
      "epoch: 1 accuracy_val: 0.73775 loss_val: 1.0702585572013552\n",
      "elapsed_time:23.663273811340332[sec]\n",
      "epoch: 2 accuracy: 0.85175 loss: 0.5556354265283907\n",
      "epoch: 2 accuracy_val: 0.8490833333333333 loss_val: 0.5587083757287458\n",
      "elapsed_time:22.887027978897095[sec]\n",
      "epoch: 3 accuracy: 0.8807916666666666 loss: 0.42743327040107504\n",
      "epoch: 3 accuracy_val: 0.8825 loss_val: 0.42878585391800633\n",
      "elapsed_time:22.524601936340332[sec]\n",
      "epoch: 4 accuracy: 0.893 loss: 0.3763587448979041\n",
      "epoch: 4 accuracy_val: 0.8945833333333333 loss_val: 0.3771638286877785\n",
      "elapsed_time:22.90741515159607[sec]\n",
      "epoch: 5 accuracy: 0.9002291666666666 loss: 0.3483700024933593\n",
      "epoch: 5 accuracy_val: 0.902 loss_val: 0.34932580873063657\n",
      "elapsed_time:22.959046125411987[sec]\n",
      "epoch: 6 accuracy: 0.9052916666666667 loss: 0.32931038566352805\n",
      "epoch: 6 accuracy_val: 0.9065 loss_val: 0.33077095759679753\n",
      "elapsed_time:23.109108924865723[sec]\n",
      "epoch: 7 accuracy: 0.9094166666666667 loss: 0.31473995172513514\n",
      "epoch: 7 accuracy_val: 0.9091666666666667 loss_val: 0.31688653428862734\n",
      "elapsed_time:23.03647017478943[sec]\n",
      "epoch: 8 accuracy: 0.9123541666666667 loss: 0.3028566844637889\n",
      "epoch: 8 accuracy_val: 0.9118333333333334 loss_val: 0.3057751903762527\n",
      "elapsed_time:22.718803882598877[sec]\n",
      "epoch: 9 accuracy: 0.9154583333333334 loss: 0.2927238308521268\n",
      "epoch: 9 accuracy_val: 0.9146666666666666 loss_val: 0.2964452394963409\n",
      "elapsed_time:23.703689098358154[sec]\n",
      "epoch: 10 accuracy: 0.9175833333333333 loss: 0.2837762238100056\n",
      "epoch: 10 accuracy_val: 0.91725 loss_val: 0.2882998071269754\n",
      "elapsed_time:23.367799043655396[sec]\n",
      "epoch: 11 accuracy: 0.9199791666666667 loss: 0.2756458323265032\n",
      "epoch: 11 accuracy_val: 0.9191666666666667 loss_val: 0.28095362742166774\n",
      "elapsed_time:23.069275856018066[sec]\n",
      "epoch: 12 accuracy: 0.9219791666666667 loss: 0.2680839516327666\n",
      "epoch: 12 accuracy_val: 0.9205833333333333 loss_val: 0.2741494475885222\n",
      "elapsed_time:23.155473947525024[sec]\n",
      "epoch: 13 accuracy: 0.923875 loss: 0.2609212602387435\n",
      "epoch: 13 accuracy_val: 0.9218333333333333 loss_val: 0.2677143465378599\n",
      "elapsed_time:24.269125938415527[sec]\n",
      "epoch: 14 accuracy: 0.925625 loss: 0.2540446726762705\n",
      "epoch: 14 accuracy_val: 0.9233333333333333 loss_val: 0.2615345069520678\n",
      "elapsed_time:23.542627811431885[sec]\n",
      "epoch: 15 accuracy: 0.9274375 loss: 0.24738215225163168\n",
      "epoch: 15 accuracy_val: 0.9253333333333333 loss_val: 0.25553888179219675\n",
      "elapsed_time:23.279629230499268[sec]\n",
      "epoch: 16 accuracy: 0.9295416666666667 loss: 0.2408917690929161\n",
      "epoch: 16 accuracy_val: 0.9280833333333334 loss_val: 0.2496875216413414\n",
      "elapsed_time:23.39699411392212[sec]\n",
      "epoch: 17 accuracy: 0.9314791666666666 loss: 0.234553349628187\n",
      "epoch: 17 accuracy_val: 0.92975 loss_val: 0.2439626996401774\n",
      "elapsed_time:23.234806060791016[sec]\n",
      "epoch: 18 accuracy: 0.9335 loss: 0.22836188012136738\n",
      "epoch: 18 accuracy_val: 0.9319166666666666 loss_val: 0.23836193147613138\n",
      "elapsed_time:23.3069429397583[sec]\n",
      "epoch: 19 accuracy: 0.9353541666666667 loss: 0.22232214381910692\n",
      "epoch: 19 accuracy_val: 0.9335 loss_val: 0.23289234946342907\n",
      "elapsed_time:23.50386691093445[sec]\n",
      "epoch: 20 accuracy: 0.9371666666666667 loss: 0.21644424108431554\n",
      "epoch: 20 accuracy_val: 0.9345 loss_val: 0.22756608681043\n"
     ]
    }
   ],
   "source": [
    "clf_test1 = ScratchDeepNeuralNetrowkClassifier(epoch = 20, alpha = 0.001, activation='sigmoid', optimizer=\"SGD\", init=\"XavierInitializer\", verbose = True)\n",
    "clf_test1.fit(X_train, y_train, X_val, y_val)"
   ]
  },
  {
   "cell_type": "code",
   "execution_count": 146,
   "metadata": {},
   "outputs": [
    {
     "name": "stdout",
     "output_type": "stream",
     "text": [
      "Accuracy（正解率） 0.9334\n"
     ]
    }
   ],
   "source": [
    "y_pred, y_pred_portion = clf_test1.predict(X_test)\n",
    "print(\"Accuracy（正解率）\", accuracy_score(y_test, y_pred))"
   ]
  },
  {
   "cell_type": "code",
   "execution_count": 147,
   "metadata": {},
   "outputs": [
    {
     "name": "stdout",
     "output_type": "stream",
     "text": [
      "オレンジ:X_val, 青:X_train\n"
     ]
    },
    {
     "data": {
      "image/png": "[encoded data removed]",
      "text/plain": [
       "<Figure size 432x288 with 1 Axes>"
      ]
     },
     "metadata": {
      "needs_background": "light"
     },
     "output_type": "display_data"
    }
   ],
   "source": [
    "plt.plot(clf_test1._score)\n",
    "plt.plot(clf_test1._score_val)\n",
    "\n",
    "plt.xlabel(\"epoch\")\n",
    "plt.ylabel(\"Cross-entropy Loss\")\n",
    "\n",
    "# Visualize\n",
    "print(\"オレンジ:X_val, 青:X_train\")\n",
    "plt.show()"
   ]
  },
  {
   "cell_type": "code",
   "execution_count": 148,
   "metadata": {},
   "outputs": [
    {
     "name": "stdout",
     "output_type": "stream",
     "text": [
      "オレンジ:X_val, 青:X_train\n"
     ]
    },
    {
     "data": {
      "image/png": "[encoded data removed]",
      "text/plain": [
       "<Figure size 432x288 with 1 Axes>"
      ]
     },
     "metadata": {
      "needs_background": "light"
     },
     "output_type": "display_data"
    }
   ],
   "source": [
    "plt.plot(clf_test1._accuracy)\n",
    "plt.plot(clf_test1._accuracy_val)\n",
    "\n",
    "plt.xlabel(\"epoch\")\n",
    "plt.ylabel(\"Accuracy\")\n",
    "\n",
    "# Visualize\n",
    "print(\"オレンジ:X_val, 青:X_train\")\n",
    "plt.show()"
   ]
  },
  {
   "cell_type": "code",
   "execution_count": 164,
   "metadata": {
    "collapsed": true,
    "jupyter": {
     "outputs_hidden": true
    }
   },
   "outputs": [
    {
     "name": "stdout",
     "output_type": "stream",
     "text": [
      "elapsed_time:37.32060885429382[sec]\n",
      "epoch: 1 accuracy: 0.926375 loss: 0.2546342915835059\n",
      "epoch: 1 accuracy_val: 0.9264166666666667 loss_val: 0.2597644049550845\n",
      "elapsed_time:37.266287088394165[sec]\n",
      "epoch: 2 accuracy: 0.9370625 loss: 0.21474091251952532\n",
      "epoch: 2 accuracy_val: 0.9363333333333334 loss_val: 0.22359613211623564\n",
      "elapsed_time:36.50170016288757[sec]\n",
      "epoch: 3 accuracy: 0.9437708333333333 loss: 0.19177395286113746\n",
      "epoch: 3 accuracy_val: 0.9418333333333333 loss_val: 0.20338624369954905\n",
      "elapsed_time:36.33437490463257[sec]\n",
      "epoch: 4 accuracy: 0.9487916666666667 loss: 0.17529159435901587\n",
      "epoch: 4 accuracy_val: 0.9463333333333334 loss_val: 0.18909403042981704\n",
      "elapsed_time:36.42819809913635[sec]\n",
      "epoch: 5 accuracy: 0.952625 loss: 0.16238784345110982\n",
      "epoch: 5 accuracy_val: 0.9489166666666666 loss_val: 0.17798453838710573\n",
      "elapsed_time:35.7667179107666[sec]\n",
      "epoch: 6 accuracy: 0.9553958333333333 loss: 0.15183439910654756\n",
      "epoch: 6 accuracy_val: 0.9515 loss_val: 0.16896372237607246\n",
      "elapsed_time:38.76724410057068[sec]\n",
      "epoch: 7 accuracy: 0.958 loss: 0.142953083136083\n",
      "epoch: 7 accuracy_val: 0.9533333333333334 loss_val: 0.16141964890856553\n",
      "elapsed_time:38.87120819091797[sec]\n",
      "epoch: 8 accuracy: 0.9605 loss: 0.13528544219204489\n",
      "epoch: 8 accuracy_val: 0.9549166666666666 loss_val: 0.15493201261100503\n",
      "elapsed_time:37.049336194992065[sec]\n",
      "epoch: 9 accuracy: 0.9627083333333334 loss: 0.12854700862035429\n",
      "epoch: 9 accuracy_val: 0.95675 loss_val: 0.1492514872557711\n",
      "elapsed_time:39.27946591377258[sec]\n",
      "epoch: 10 accuracy: 0.9641666666666666 loss: 0.12254513433676256\n",
      "epoch: 10 accuracy_val: 0.9578333333333333 loss_val: 0.14421160108156136\n",
      "elapsed_time:37.09437012672424[sec]\n",
      "epoch: 11 accuracy: 0.9659166666666666 loss: 0.11714263372971337\n",
      "epoch: 11 accuracy_val: 0.9588333333333333 loss_val: 0.13969468273236896\n",
      "elapsed_time:36.93844509124756[sec]\n",
      "epoch: 12 accuracy: 0.9676041666666667 loss: 0.11223842693178226\n",
      "epoch: 12 accuracy_val: 0.96025 loss_val: 0.13561444310702528\n",
      "elapsed_time:35.827812910079956[sec]\n",
      "epoch: 13 accuracy: 0.9688541666666667 loss: 0.10775594857000688\n",
      "epoch: 13 accuracy_val: 0.9614166666666667 loss_val: 0.13190559626286577\n",
      "elapsed_time:35.441051959991455[sec]\n",
      "epoch: 14 accuracy: 0.9702708333333333 loss: 0.1036357302412577\n",
      "epoch: 14 accuracy_val: 0.9625 loss_val: 0.1285172856012866\n",
      "elapsed_time:36.86649799346924[sec]\n",
      "epoch: 15 accuracy: 0.9714791666666667 loss: 0.09983044433816263\n",
      "epoch: 15 accuracy_val: 0.9630833333333333 loss_val: 0.1254087911007551\n",
      "elapsed_time:35.73842191696167[sec]\n",
      "epoch: 16 accuracy: 0.9724791666666667 loss: 0.09630153460097676\n",
      "epoch: 16 accuracy_val: 0.96425 loss_val: 0.1225466910940939\n",
      "elapsed_time:36.90464782714844[sec]\n",
      "epoch: 17 accuracy: 0.9736041666666667 loss: 0.0930169375616627\n",
      "epoch: 17 accuracy_val: 0.9655833333333333 loss_val: 0.11990299045713838\n",
      "elapsed_time:35.85081601142883[sec]\n",
      "epoch: 18 accuracy: 0.9744375 loss: 0.08994955620395322\n",
      "epoch: 18 accuracy_val: 0.96625 loss_val: 0.11745388981286847\n",
      "elapsed_time:36.22183012962341[sec]\n",
      "epoch: 19 accuracy: 0.9753541666666666 loss: 0.08707622964243525\n",
      "epoch: 19 accuracy_val: 0.96675 loss_val: 0.11517896049852307\n",
      "elapsed_time:37.722797870635986[sec]\n",
      "epoch: 20 accuracy: 0.9761458333333334 loss: 0.08437701303090638\n",
      "epoch: 20 accuracy_val: 0.96725 loss_val: 0.11306056098525467\n"
     ]
    }
   ],
   "source": [
    "clf_test2 = ScratchDeepNeuralNetrowkClassifier(epoch = 20, alpha = 0.01, activation='ReLU', optimizer=\"SGD\", init=\"HeInitializer\", verbose = True)\n",
    "clf_test2.fit(X_train, y_train, X_val, y_val)"
   ]
  },
  {
   "cell_type": "code",
   "execution_count": 165,
   "metadata": {},
   "outputs": [
    {
     "name": "stdout",
     "output_type": "stream",
     "text": [
      "Accuracy（正解率） 0.9672\n"
     ]
    }
   ],
   "source": [
    "y_pred, y_pred_portion = clf_test2.predict(X_test)\n",
    "print(\"Accuracy（正解率）\", accuracy_score(y_test, y_pred))"
   ]
  },
  {
   "cell_type": "code",
   "execution_count": 166,
   "metadata": {},
   "outputs": [
    {
     "name": "stdout",
     "output_type": "stream",
     "text": [
      "オレンジ:X_val, 青:X_train\n"
     ]
    },
    {
     "data": {
      "image/png": "[encoded data removed]",
      "text/plain": [
       "<Figure size 432x288 with 1 Axes>"
      ]
     },
     "metadata": {
      "needs_background": "light"
     },
     "output_type": "display_data"
    }
   ],
   "source": [
    "plt.plot(clf_test2._score)\n",
    "plt.plot(clf_test2._score_val)\n",
    "\n",
    "plt.xlabel(\"epoch\")\n",
    "plt.ylabel(\"Cross-entropy Loss\")\n",
    "\n",
    "# Visualize\n",
    "print(\"オレンジ:X_val, 青:X_train\")\n",
    "plt.show()"
   ]
  },
  {
   "cell_type": "code",
   "execution_count": 167,
   "metadata": {},
   "outputs": [
    {
     "name": "stdout",
     "output_type": "stream",
     "text": [
      "オレンジ:X_val, 青:X_train\n"
     ]
    },
    {
     "data": {
      "image/png": "[encoded data removed]",
      "text/plain": [
       "<Figure size 432x288 with 1 Axes>"
      ]
     },
     "metadata": {
      "needs_background": "light"
     },
     "output_type": "display_data"
    }
   ],
   "source": [
    "plt.plot(clf_test2._accuracy)\n",
    "plt.plot(clf_test2._accuracy_val)\n",
    "\n",
    "plt.xlabel(\"epoch\")\n",
    "plt.ylabel(\"Accuracy\"\n",
    "# Visualize\n",
    "print(\"オレンジ:X_val, 青:X_train\")\n",
    "plt.show()"
   ]
  },
  {
   "cell_type": "code",
   "execution_count": 169,
   "metadata": {
    "collapsed": true,
    "jupyter": {
     "outputs_hidden": true
    }
   },
   "outputs": [
    {
     "name": "stdout",
     "output_type": "stream",
     "text": [
      "elapsed_time:34.37991213798523[sec]\n",
      "epoch: 1 accuracy: 0.926375 loss: 0.2627931902930804\n",
      "epoch: 1 accuracy_val: 0.9235833333333333 loss_val: 0.2718944756400574\n",
      "elapsed_time:33.96354007720947[sec]\n",
      "epoch: 2 accuracy: 0.9373958333333333 loss: 0.22373999052829968\n",
      "epoch: 2 accuracy_val: 0.9333333333333333 loss_val: 0.23837877449992004\n",
      "elapsed_time:33.288159132003784[sec]\n",
      "epoch: 3 accuracy: 0.944375 loss: 0.1971622050704699\n",
      "epoch: 3 accuracy_val: 0.9401666666666667 loss_val: 0.21556246299456355\n",
      "elapsed_time:33.3585569858551[sec]\n",
      "epoch: 4 accuracy: 0.9496666666666667 loss: 0.17770059768409924\n",
      "epoch: 4 accuracy_val: 0.9449166666666666 loss_val: 0.19867404648505285\n",
      "elapsed_time:33.56186103820801[sec]\n",
      "epoch: 5 accuracy: 0.9540833333333333 loss: 0.16405318615803913\n",
      "epoch: 5 accuracy_val: 0.94875 loss_val: 0.186891018305195\n",
      "elapsed_time:35.484336137771606[sec]\n",
      "epoch: 6 accuracy: 0.9565 loss: 0.15353512513641981\n",
      "epoch: 6 accuracy_val: 0.952 loss_val: 0.17816492672905296\n",
      "elapsed_time:37.52744770050049[sec]\n",
      "epoch: 7 accuracy: 0.9588333333333333 loss: 0.14483678898551805\n",
      "epoch: 7 accuracy_val: 0.95325 loss_val: 0.17118723938778782\n",
      "elapsed_time:34.224828004837036[sec]\n",
      "epoch: 8 accuracy: 0.960125 loss: 0.13845748697986976\n",
      "epoch: 8 accuracy_val: 0.9545833333333333 loss_val: 0.1663039074621234\n",
      "elapsed_time:34.46395707130432[sec]\n",
      "epoch: 9 accuracy: 0.96125 loss: 0.13367248179070249\n",
      "epoch: 9 accuracy_val: 0.9545833333333333 loss_val: 0.16250400080100397\n",
      "elapsed_time:34.00146508216858[sec]\n",
      "epoch: 10 accuracy: 0.9618333333333333 loss: 0.12965482160214292\n",
      "epoch: 10 accuracy_val: 0.95525 loss_val: 0.1597349100710957\n",
      "elapsed_time:33.77983808517456[sec]\n",
      "epoch: 11 accuracy: 0.9629375 loss: 0.1257664886475167\n",
      "epoch: 11 accuracy_val: 0.9563333333333334 loss_val: 0.15713203974800227\n",
      "elapsed_time:33.92808389663696[sec]\n",
      "epoch: 12 accuracy: 0.9640833333333333 loss: 0.12235701992180059\n",
      "epoch: 12 accuracy_val: 0.9564166666666667 loss_val: 0.15475362177032795\n",
      "elapsed_time:33.93118095397949[sec]\n",
      "epoch: 13 accuracy: 0.9648125 loss: 0.1192191462316058\n",
      "epoch: 13 accuracy_val: 0.95725 loss_val: 0.15272253230047603\n",
      "elapsed_time:34.36834192276001[sec]\n",
      "epoch: 14 accuracy: 0.9653125 loss: 0.11637427481863706\n",
      "epoch: 14 accuracy_val: 0.9571666666666667 loss_val: 0.15096760828661343\n",
      "elapsed_time:34.35394597053528[sec]\n",
      "epoch: 15 accuracy: 0.9658541666666667 loss: 0.11414594639783689\n",
      "epoch: 15 accuracy_val: 0.9581666666666667 loss_val: 0.14983896520093826\n",
      "elapsed_time:34.17180109024048[sec]\n",
      "epoch: 16 accuracy: 0.9667083333333333 loss: 0.11190682457523149\n",
      "epoch: 16 accuracy_val: 0.9578333333333333 loss_val: 0.14866506942438995\n",
      "elapsed_time:33.32960510253906[sec]\n",
      "epoch: 17 accuracy: 0.9675416666666666 loss: 0.10916117862950987\n",
      "epoch: 17 accuracy_val: 0.9581666666666667 loss_val: 0.1469396175524364\n",
      "elapsed_time:35.493228912353516[sec]\n",
      "epoch: 18 accuracy: 0.9681875 loss: 0.10675965377208947\n",
      "epoch: 18 accuracy_val: 0.9585 loss_val: 0.14547184352910514\n",
      "elapsed_time:34.45956611633301[sec]\n",
      "epoch: 19 accuracy: 0.9687291666666666 loss: 0.10435429970938294\n",
      "epoch: 19 accuracy_val: 0.95925 loss_val: 0.14408272032379804\n",
      "elapsed_time:33.12273669242859[sec]\n",
      "epoch: 20 accuracy: 0.969375 loss: 0.10212624080425467\n",
      "epoch: 20 accuracy_val: 0.95975 loss_val: 0.14290945689317786\n"
     ]
    }
   ],
   "source": [
    "clf_test3 = ScratchDeepNeuralNetrowkClassifier(epoch = 20, alpha = 0.01, activation='ReLU', optimizer=\"AdaGrad\", init=\"HeInitializer\", verbose = True)\n",
    "clf_test3.fit(X_train, y_train, X_val, y_val)"
   ]
  },
  {
   "cell_type": "code",
   "execution_count": 170,
   "metadata": {},
   "outputs": [
    {
     "name": "stdout",
     "output_type": "stream",
     "text": [
      "Accuracy（正解率） 0.9584\n"
     ]
    }
   ],
   "source": [
    "y_pred, y_pred_portion = clf_test3.predict(X_test)\n",
    "print(\"Accuracy（正解率）\", accuracy_score(y_test, y_pred))"
   ]
  },
  {
   "cell_type": "code",
   "execution_count": 171,
   "metadata": {},
   "outputs": [
    {
     "name": "stdout",
     "output_type": "stream",
     "text": [
      "オレンジ:X_val, 青:X_train\n"
     ]
    },
    {
     "data": {
      "image/png": "[encoded data removed]",
      "text/plain": [
       "<Figure size 432x288 with 1 Axes>"
      ]
     },
     "metadata": {
      "needs_background": "light"
     },
     "output_type": "display_data"
    }
   ],
   "source": [
    "plt.plot(clf_test3._score)\n",
    "plt.plot(clf_test3._score_val)\n",
    "\n",
    "plt.xlabel(\"epoch\")\n",
    "plt.ylabel(\"Cross-entropy Loss\")\n",
    "\n",
    "# Visualize\n",
    "print(\"オレンジ:X_val, 青:X_train\")\n",
    "plt.show()"
   ]
  },
  {
   "cell_type": "code",
   "execution_count": 172,
   "metadata": {},
   "outputs": [
    {
     "name": "stdout",
     "output_type": "stream",
     "text": [
      "オレンジ:X_val, 青:X_train\n"
     ]
    },
    {
     "data": {
      "image/png": "[encoded data removed]",
      "text/plain": [
       "<Figure size 432x288 with 1 Axes>"
      ]
     },
     "metadata": {
      "needs_background": "light"
     },
     "output_type": "display_data"
    }
   ],
   "source": [
    "plt.plot(clf_test3._accuracy)\n",
    "plt.plot(clf_test3._accuracy_val)\n",
    "\n",
    "plt.xlabel(\"epoch\")\n",
    "plt.ylabel(\"Accuracy\")\n",
    "\n",
    "# Visualize\n",
    "print(\"オレンジ:X_val, 青:X_train\")\n",
    "plt.show()"
   ]
  },
  {
   "cell_type": "code",
   "execution_count": 183,
   "metadata": {
    "collapsed": true,
    "jupyter": {
     "outputs_hidden": true
    }
   },
   "outputs": [
    {
     "name": "stdout",
     "output_type": "stream",
     "text": [
      "elapsed_time:36.02968978881836[sec]\n",
      "epoch: 1 accuracy: 0.931875 loss: 0.2451563714728658\n",
      "epoch: 1 accuracy_val: 0.9313333333333333 loss_val: 0.2530102335253839\n",
      "elapsed_time:36.43267321586609[sec]\n",
      "epoch: 2 accuracy: 0.9422291666666667 loss: 0.2050995680788994\n",
      "epoch: 2 accuracy_val: 0.9399166666666666 loss_val: 0.2163911916983263\n",
      "elapsed_time:36.4906542301178[sec]\n",
      "epoch: 3 accuracy: 0.9480208333333333 loss: 0.18349168979441635\n",
      "epoch: 3 accuracy_val: 0.9450833333333334 loss_val: 0.19721726444266247\n",
      "elapsed_time:36.86022996902466[sec]\n",
      "epoch: 4 accuracy: 0.9519791666666667 loss: 0.16878595718523867\n",
      "epoch: 4 accuracy_val: 0.9485833333333333 loss_val: 0.18445264869347974\n",
      "elapsed_time:36.69039177894592[sec]\n",
      "epoch: 5 accuracy: 0.955 loss: 0.15768369115113234\n",
      "epoch: 5 accuracy_val: 0.95125 loss_val: 0.1749612632532014\n",
      "elapsed_time:36.23253870010376[sec]\n",
      "epoch: 6 accuracy: 0.9576041666666667 loss: 0.14883473840725428\n",
      "epoch: 6 accuracy_val: 0.953 loss_val: 0.16750766681641202\n",
      "elapsed_time:36.341474771499634[sec]\n",
      "epoch: 7 accuracy: 0.9598541666666667 loss: 0.14147348184481928\n",
      "epoch: 7 accuracy_val: 0.9545833333333333 loss_val: 0.16135782528426668\n",
      "elapsed_time:36.46413779258728[sec]\n",
      "epoch: 8 accuracy: 0.962 loss: 0.13520773081172233\n",
      "epoch: 8 accuracy_val: 0.956 loss_val: 0.15619783707032203\n",
      "elapsed_time:37.99988412857056[sec]\n",
      "epoch: 9 accuracy: 0.963625 loss: 0.12977886768735686\n",
      "epoch: 9 accuracy_val: 0.9569166666666666 loss_val: 0.15171187321457175\n",
      "elapsed_time:38.584712982177734[sec]\n",
      "epoch: 10 accuracy: 0.9652916666666667 loss: 0.1250259287509411\n",
      "epoch: 10 accuracy_val: 0.95875 loss_val: 0.14784223987312115\n",
      "elapsed_time:38.18804097175598[sec]\n",
      "epoch: 11 accuracy: 0.9665625 loss: 0.12076231630418577\n",
      "epoch: 11 accuracy_val: 0.9596666666666667 loss_val: 0.14440266273463376\n",
      "elapsed_time:38.20444416999817[sec]\n",
      "epoch: 12 accuracy: 0.9674166666666667 loss: 0.11691025395514998\n",
      "epoch: 12 accuracy_val: 0.961 loss_val: 0.14129981278483664\n",
      "elapsed_time:37.11397695541382[sec]\n",
      "epoch: 13 accuracy: 0.9683125 loss: 0.11340708989324341\n",
      "epoch: 13 accuracy_val: 0.9616666666666667 loss_val: 0.1385150682549374\n",
      "elapsed_time:37.36583495140076[sec]\n",
      "epoch: 14 accuracy: 0.96925 loss: 0.11018781068388853\n",
      "epoch: 14 accuracy_val: 0.9624166666666667 loss_val: 0.13598441797418354\n",
      "elapsed_time:36.776103258132935[sec]\n",
      "epoch: 15 accuracy: 0.9700416666666667 loss: 0.1072101306157923\n",
      "epoch: 15 accuracy_val: 0.9634166666666667 loss_val: 0.13365346438668366\n",
      "elapsed_time:36.48825120925903[sec]\n",
      "epoch: 16 accuracy: 0.9711666666666666 loss: 0.1044491249914024\n",
      "epoch: 16 accuracy_val: 0.96375 loss_val: 0.1315128174113642\n",
      "elapsed_time:36.25461220741272[sec]\n",
      "epoch: 17 accuracy: 0.9720833333333333 loss: 0.1018769121976413\n",
      "epoch: 17 accuracy_val: 0.9649166666666666 loss_val: 0.12954054404078136\n",
      "elapsed_time:36.088618993759155[sec]\n",
      "epoch: 18 accuracy: 0.9728125 loss: 0.09947551411565025\n",
      "epoch: 18 accuracy_val: 0.9653333333333334 loss_val: 0.12772936794468806\n",
      "elapsed_time:36.382479190826416[sec]\n",
      "epoch: 19 accuracy: 0.9735833333333334 loss: 0.09721472474896578\n",
      "epoch: 19 accuracy_val: 0.9656666666666667 loss_val: 0.12603865331303973\n",
      "elapsed_time:36.42072892189026[sec]\n",
      "epoch: 20 accuracy: 0.9744166666666667 loss: 0.09507321830771193\n",
      "epoch: 20 accuracy_val: 0.966 loss_val: 0.12445862994775284\n"
     ]
    }
   ],
   "source": [
    "clf_test4 = ScratchDeepNeuralNetrowkClassifier(epoch = 20, alpha = 0.001, activation='ReLU', optimizer=\"AdaGrad\", init=\"HeInitializer\", verbose = True)\n",
    "clf_test4.fit(X_train, y_train, X_val, y_val)"
   ]
  },
  {
   "cell_type": "code",
   "execution_count": 184,
   "metadata": {},
   "outputs": [
    {
     "name": "stdout",
     "output_type": "stream",
     "text": [
      "Accuracy（正解率） 0.9668\n"
     ]
    }
   ],
   "source": [
    "y_pred, y_pred_portion = clf_test4.predict(X_test)\n",
    "print(\"Accuracy（正解率）\", accuracy_score(y_test, y_pred))"
   ]
  },
  {
   "cell_type": "code",
   "execution_count": 185,
   "metadata": {},
   "outputs": [
    {
     "name": "stdout",
     "output_type": "stream",
     "text": [
      "オレンジ:X_val, 青:X_train\n"
     ]
    },
    {
     "data": {
      "image/png": "[encoded data removed]",
      "text/plain": [
       "<Figure size 432x288 with 1 Axes>"
      ]
     },
     "metadata": {
      "needs_background": "light"
     },
     "output_type": "display_data"
    }
   ],
   "source": [
    "plt.plot(clf_test4._score)\n",
    "plt.plot(clf_test4._score_val)\n",
    "\n",
    "plt.xlabel(\"epoch\")\n",
    "plt.ylabel(\"Cross-entropy Loss\")\n",
    "\n",
    "# Visualize\n",
    "print(\"オレンジ:X_val, 青:X_train\")\n",
    "plt.show()"
   ]
  },
  {
   "cell_type": "code",
   "execution_count": 186,
   "metadata": {},
   "outputs": [
    {
     "name": "stdout",
     "output_type": "stream",
     "text": [
      "オレンジ:X_val, 青:X_train\n"
     ]
    },
    {
     "data": {
      "image/png": "[encoded data removed]",
      "text/plain": [
       "<Figure size 432x288 with 1 Axes>"
      ]
     },
     "metadata": {
      "needs_background": "light"
     },
     "output_type": "display_data"
    }
   ],
   "source": [
    "plt.plot(clf_test4._accuracy)\n",
    "plt.plot(clf_test4._accuracy_val)\n",
    "\n",
    "plt.xlabel(\"epoch\")\n",
    "plt.ylabel(\"Accuracy\")\n",
    "\n",
    "# Visualize\n",
    "print(\"オレンジ:X_val, 青:X_train\")\n",
    "plt.show()"
   ]
  },
  {
   "cell_type": "code",
   "execution_count": null,
   "metadata": {},
   "outputs": [],
   "source": []
  }
 ],
 "metadata": {
  "kernelspec": {
   "display_name": "Python 3",
   "language": "python",
   "name": "python3"
  },
  "language_info": {
   "codemirror_mode": {
    "name": "ipython",
    "version": 3
   },
   "file_extension": ".py",
   "mimetype": "text/x-python",
   "name": "python",
   "nbconvert_exporter": "python",
   "pygments_lexer": "ipython3",
   "version": "3.7.0"
  }
 },
 "nbformat": 4,
 "nbformat_minor": 4
}
